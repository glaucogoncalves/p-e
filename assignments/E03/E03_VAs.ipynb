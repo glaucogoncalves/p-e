{
  "nbformat": 4,
  "nbformat_minor": 0,
  "metadata": {
    "colab": {
      "provenance": []
    },
    "kernelspec": {
      "name": "python3",
      "display_name": "Python 3"
    },
    "language_info": {
      "name": "python"
    }
  },
  "cells": [
    {
      "cell_type": "markdown",
      "source": [
        "# Variáveis aleatórias"
      ],
      "metadata": {
        "id": "eet9ziyGHFmT"
      }
    },
    {
      "cell_type": "markdown",
      "source": [
        "## **Questão 1 - Tempo de Vida de Componentes**  \n",
        "Um componente eletrônico tem tempo de vida útil (em horas) modelado pela seguinte função densidade de probabilidade:  \n",
        "\n",
        "$$\n",
        "f(x) =\n",
        "\\begin{cases}\n",
        "\\frac{1}{500}e^{-x/500} & x \\geq 0 \\\\\n",
        "0 & \\text{caso contrário}\n",
        "\\end{cases}\n",
        "$$  \n",
        "\n",
        "**a)** Verifique se \\( f(x) \\) é uma PDF válida.  \n",
        "**b)** Calcule a probabilidade de um componente durar entre 200 e 600 horas.  \n",
        "**c)** Determine o tempo de vida esperado \\( E(X) \\)."
      ],
      "metadata": {
        "id": "LFWxDAB6HFvj"
      }
    },
    {
      "cell_type": "markdown",
      "source": [
        "Solução:"
      ],
      "metadata": {
        "id": "nua8DMFSICqH"
      }
    },
    {
      "cell_type": "markdown",
      "source": [
        "## **Questão 2 - Controle de Qualidade**  \n",
        "Uma fábrica produz chips, e 5% deles são defeituosos. Se inspecionarmos 20 chips aleatoriamente:  \n",
        "\n",
        "**a)** Qual a probabilidade de exatamente 2 serem defeituosos?  \n",
        "**b)** Calcule $ E(X) $ e $ Var(X)$, onde $X$ é o número de chips defeituosos.  \n",
        "**c)** Se o custo de reposição por chip defeituoso é R$ 10,00, qual o custo esperado total?"
      ],
      "metadata": {
        "id": "qdKKtGLtICyk"
      }
    },
    {
      "cell_type": "markdown",
      "source": [
        "Solução:"
      ],
      "metadata": {
        "id": "wC6sON4kIFnc"
      }
    },
    {
      "cell_type": "markdown",
      "source": [
        "## **Questão 3 - Variáveis Discretas**  \n",
        "Seja \\( X \\) uma VA com distribuição:  \n",
        "\n",
        "$$\n",
        "P(X = -1) = 0,3; \\quad P(X = 2) = 0,5; \\quad P(X = 5) = 0,2\n",
        "$$\n",
        "\n",
        "**a)** Calcule $E(X)$ e $Var(X)$.  \n",
        "**b)** Se $Y = 2X^2 - 3$, encontre $E(Y$."
      ],
      "metadata": {
        "id": "WA7Af0PRILRB"
      }
    },
    {
      "cell_type": "markdown",
      "source": [
        "Solução:"
      ],
      "metadata": {
        "id": "_rqDP-6LIG1i"
      }
    },
    {
      "cell_type": "markdown",
      "source": [
        "## **Questão 4 - Exemplo das Moedas**  \n",
        "Uma moeda justa é lançada 3 vezes. Seja $X$ o número de caras.  \n",
        "\n",
        "**a)** Construa a distribuição de probabilidade de $X$.  \n",
        "**b)** Calcule $E(X)$ e $Var(X)$.  \n"
      ],
      "metadata": {
        "id": "y_Dsd0NKJuO7"
      }
    },
    {
      "cell_type": "markdown",
      "source": [
        "Solução:"
      ],
      "metadata": {
        "id": "8S5wFcnWIHhR"
      }
    },
    {
      "cell_type": "markdown",
      "source": [
        "## **Questão 5 - Corrente Elétrica**  \n",
        "A corrente em um fio segue a PDF:  \n",
        "\n",
        "$$\n",
        "f(x) =\n",
        "\\begin{cases}\n",
        "kx & 0 \\leq x \\leq 10 \\, \\text{mA} \\\\\n",
        "0 & \\text{caso contrário}\n",
        "\\end{cases}\n",
        "$$\n",
        "\n",
        "**a)** Determine $k$.  \n",
        "**b)** Calcule $ P(2 \\leq X \\leq 5) $.  \n",
        "**c)** Encontre $ E(X) $.  "
      ],
      "metadata": {
        "id": "eo-tnKf3J6if"
      }
    },
    {
      "cell_type": "markdown",
      "source": [
        "Solução:"
      ],
      "metadata": {
        "id": "sUFmw5tjIIHM"
      }
    },
    {
      "cell_type": "markdown",
      "source": [
        "## **Questão 6 - Variável Transformada**  \n",
        "Se $ Y = 3X + 2 $, onde $X$ tem $E(X) = 4$ e $Var(X) = 9$, calcule:  \n",
        "**a)** $E(Y)$.  \n",
        "**b)** $Var(Y)$.  "
      ],
      "metadata": {
        "id": "kIHTwbKDKHc1"
      }
    },
    {
      "cell_type": "markdown",
      "source": [
        "Solução:"
      ],
      "metadata": {
        "id": "lrlv5ZihIIpG"
      }
    },
    {
      "cell_type": "markdown",
      "source": [
        "## **Questão 7 - Discreta vs. Contínua**  \n",
        "Suponha que um par de dados honestos avi ser lançado e considere a variável aleatória $X =$ soma dos valores dos dois dados. Obtenha a distribuição da probabilidade de $X$."
      ],
      "metadata": {
        "id": "XvVW7XHhKnRh"
      }
    },
    {
      "cell_type": "markdown",
      "source": [
        "Solução:"
      ],
      "metadata": {
        "id": "mSvdJcilIJHh"
      }
    },
    {
      "cell_type": "markdown",
      "source": [
        "## **Questão 8 - VAs contínuas**\n",
        "Uma variável aleatório $X$ tem a função de densidade\n",
        "\n",
        "$$f(x) = \\frac{c}{(x² + 1)}$$\n",
        "\n",
        "onde $ -∞ \\leq x \\leq ∞$. Encontre:\n",
        "\n",
        "**a)** O valor da constante $c$;\n",
        "\n",
        "**b)** A probabilidade de que $X²$ esteja entre 1/3 e 1;\n",
        "\n",
        "**c)** A função de distribuição acumulada de $X$."
      ],
      "metadata": {
        "id": "v_DjGHX4d-Ev"
      }
    },
    {
      "cell_type": "markdown",
      "source": [
        "Solução:"
      ],
      "metadata": {
        "id": "xMhrUR6RIJmU"
      }
    },
    {
      "cell_type": "markdown",
      "source": [
        "## **Questão 9 - VAs contínuas**\n",
        "\n",
        "A função de distribuição dpara uma variável aleatória $X$ é\n",
        "\n",
        "$$\n",
        "F(x) =\n",
        "\\begin{cases}\n",
        "1 - e^{-2x} & x \\geq 0 \\\\\n",
        "0 & \\text{caso contrário}\n",
        "\\end{cases}\n",
        "$$\n",
        "\n",
        "Encontre:\n",
        "\n",
        "**a)** A função de densidade de probabilidade;\n",
        "\n",
        "**b)** A probabilidade de que $X \\gt 2$;\n",
        "\n",
        "**c)** A probabilidade de que $3 < X ≤ 4$."
      ],
      "metadata": {
        "id": "FTAltaLlfP1E"
      }
    },
    {
      "cell_type": "markdown",
      "source": [
        "Solução:"
      ],
      "metadata": {
        "id": "bcEka1iHIKPN"
      }
    },
    {
      "cell_type": "markdown",
      "source": [
        "### **Questão 10 - Transformação de Variáveis Aleatórias**\n",
        "\n",
        "Considere $X$ com a seguinte função densidade de probabilidade:\n",
        "\n",
        "$$\n",
        "f(x) =\n",
        "\\begin{cases}\n",
        "6x(1 - x), & 0 < x < 1 \\\\\n",
        "0, & \\text{caso contrário}\n",
        "\\end{cases}\n",
        "$$\n",
        "\n",
        "Encontre a função $ Y = h(X) $ tal que a variável aleatória $ Y $ tenha a seguinte função de densidade:\n",
        "\n",
        "$$\n",
        "g(y) =\n",
        "\\begin{cases}\n",
        "12y^3(1 - y^2), & 0 < y < 1 \\\\\n",
        "0, & \\text{caso contrário}\n",
        "\\end{cases}\n",
        "$$"
      ],
      "metadata": {
        "id": "NWOtcOjMi3Df"
      }
    },
    {
      "cell_type": "markdown",
      "source": [
        "Solução:"
      ],
      "metadata": {
        "id": "a3tN9eQDIKs3"
      }
    }
  ]
}