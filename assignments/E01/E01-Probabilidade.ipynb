{
 "cells": [
  {
   "cell_type": "markdown",
   "metadata": {},
   "source": [
    "<a target=\"_blank\" href=\"https://colab.research.google.com/github/glaucogoncalves/p-e/blob/main/assignments/E01/E01-Probabilidade.ipynb\">\n",
    "<img src=\"https://colab.research.google.com/assets/colab-badge.svg\" alt=\"Open In Colab\"/>\n",
    "</a>"
   ]
  },
  {
   "cell_type": "markdown",
   "metadata": {
    "id": "_cl9TCm77OPg"
   },
   "source": [
    "#Combinatória e Probabilidade"
   ]
  },
  {
   "cell_type": "markdown",
   "metadata": {
    "id": "aydlSKgV7QN-"
   },
   "source": [
    "#Questão 1\n",
    "O circuito a seguir opera se, e somente se, houver um caminho de dispositivos funcionais da esquerda para a direita. Considere que dispositivos possam falhar e que a probabilidade de cada dispositivo é o valor mostrado no diagrama. Calcule a probabilidade do circuito operar?\n",
    "\n",
    "![imagem_2024-12-10_014638573.png](data:image/png;base64,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)\n",
    "\n"
   ]
  },
  {
   "cell_type": "markdown",
   "metadata": {
    "id": "ssjtIsVO8IHY"
   },
   "source": [
    "**Solução**:"
   ]
  },
  {
   "cell_type": "markdown",
   "metadata": {
    "id": "egNzkv0R8LqU"
   },
   "source": [
    "#Questão 2\n",
    "\n",
    "Suponha que em um processo de compilação de software, algumas compilações envolvem código originado de múltiplos branches. A probabilidade de uma compilação incluir código de múltiplos branches é de 3%. Isso acontece quando os branches ativos precisam ser integrados para completar a compilação.\n",
    "\n",
    "Compilações originadas de um único branch têm uma chance de 5% de apresentar erros críticos que exigem reprocessamento. Entretanto, compilações originadas de múltiplos branches são mais complexas e têm 40% de chance de apresentar erros críticos.\n",
    "\n",
    "Seja:\n",
    "\n",
    "$A$: O evento de que uma compilação envolve código de múltiplos branches.\n",
    "\n",
    "$B$: O evento de que uma compilação apresenta erros críticos e precisa ser reprocessada.\n",
    "\n",
    "Agora queremos determinar as seguintes probabilidades:\n",
    "\n",
    "a. Qual a probabilidade de uma compilação qualquer precisar de reprocessamento?\n",
    "\n",
    "b. Se uma compilação precisou de reprocessamento, qual a probabilidade de que ela tenha sido originada de múltiplos branches?\n"
   ]
  },
  {
   "cell_type": "markdown",
   "metadata": {
    "id": "pSVEhnFF8LqV"
   },
   "source": [
    "**Solução**:"
   ]
  },
  {
   "cell_type": "markdown",
   "metadata": {
    "id": "pSA_WMmepPo4"
   },
   "source": [
    "#Questão 3\n",
    "\n",
    "Uma empresa de tecnologia lançou uma campanha para educar engenheiros de software sobre como lidar com vulnerabilidades críticas de segurança. A campanha distribuiu materiais informativos por e-mail para profissionais da área.\n",
    "Estima-se que 99% dos engenheiros que receberam o material possuem informação suficiente para lidar com essas vulnerabilidades. Por outro lado, 90% daqueles que não receberam o material têm essa mesma capacidade. Após três meses de campanha, constatou-se que 95% dos engenheiros já haviam recebido o material informativo.\n",
    "Dado esse cenário, calcule a probabilidade de que um engenheiro selecionado aleatoriamente tenha informação suficiente para lidar com vulnerabilidades críticas."
   ]
  },
  {
   "cell_type": "markdown",
   "metadata": {
    "id": "T-qgXVyhpuwP"
   },
   "source": [
    "**Solução**:"
   ]
  },
  {
   "cell_type": "markdown",
   "metadata": {
    "id": "FelwAF_Mqdw_"
   },
   "source": [
    "#Questão 4\n",
    "\n",
    "\n",
    "**Contexto**: Centros de dados utilizam lasers semicondutores em sistemas de comunicação óptica para transmitir informações entre servidores. Esses lasers operam em diferentes modos, dependendo da aplicação. Lasers usados para transmissões de alta velocidade (alta potência) em conexões de longa distância desgastam mais rapidamente, enquanto lasers usados em conexões locais, com menor potência, têm uma vida útil maior.\n",
    "\n",
    "- Lasers em sistemas de alta potência têm 95% de probabilidade de durar mais de cinco anos.\n",
    "- Lasers em sistemas de baixa potência têm 99,5% de probabilidade de durar mais de cinco anos.\n",
    "- 25% dos lasers são usados em sistemas de alta potência, enquanto 75% são usados em sistemas de baixa potência.\n",
    "\n",
    "Com base nessas informações, resolva as seguintes questões:\n",
    "\n",
    "a. Qual é a probabilidade de que um laser seja usado em um sistema de alta potência?\n",
    "\n",
    "b. Qual é a probabilidade de que a vida útil de um laser exceda cinco anos, dado que ele é usado em um sistema de alta potência?\n",
    "\n",
    "c. Qual é a probabilidade de que a vida útil de um laser exceda cinco anos, dado que ele é usado em um sistema de baixa potência?\n",
    "\n",
    "d. Qual é a probabilidade de que a vida útil de um laser exceda cinco anos?\n",
    "\n",
    "e. Qual é a probabilidade de que um laser, que falhou antes de cinco anos, tenha sido usado em um sistema de alta potência?"
   ]
  },
  {
   "cell_type": "markdown",
   "metadata": {
    "id": "_V_DWXC4qdxA"
   },
   "source": [
    "**Solução**:"
   ]
  },
  {
   "cell_type": "markdown",
   "metadata": {
    "id": "gYtO8pu4vMI3"
   },
   "source": [
    "#Questão 5\n",
    "\n",
    "No Mercado do Ver-o-Peso, 50% dos feirantes vendem peixe, 30% vendem frutas regionais, e 20% vendem ambos. Entre os feirantes que vendem peixe, 70% também vendem tacacá. Entre os feirantes que vendem frutas regionais, 50% vendem tacacá, e entre os que vendem ambos, 90% vendem tacacá.\n",
    "\n",
    "Um feirante é escolhido aleatoriamente e sabe-se que ele vende tacacá. Qual é a probabilidade de que ele seja apenas um vendedor de frutas regionais?"
   ]
  },
  {
   "cell_type": "markdown",
   "metadata": {
    "id": "nc1uue-8t4fg"
   },
   "source": [
    "**Solução**:"
   ]
  },
  {
   "cell_type": "markdown",
   "metadata": {
    "id": "LIykQtDieyLJ"
   },
   "source": [
    "# Questão 6\n",
    "\n",
    "Uma empresa de tecnologia monitora a qualidade de pacotes enviados por sua rede de servidores. Existem três servidores principais: **Servidor A**, **Servidor B**, e **Servidor C**. Durante um período de operação, sabe-se que:\n",
    "\n",
    "1. **Distribuição de pacotes enviados pelos servidores**:\n",
    "   - 40% dos pacotes são enviados pelo **Servidor A**.\n",
    "   - 35% dos pacotes são enviados pelo **Servidor B**.\n",
    "   - 25% dos pacotes são enviados pelo **Servidor C**.\n",
    "\n",
    "2. **Taxas de sucesso no envio de pacotes**:\n",
    "   - 96% dos pacotes enviados pelo **Servidor A** são entregues com sucesso.\n",
    "   - 92% dos pacotes enviados pelo **Servidor B** são entregues com sucesso.\n",
    "   - 80% dos pacotes enviados pelo **Servidor C** são entregues com sucesso.\n",
    "\n",
    "Com base nisso, resolva as seguintes questões:\n",
    "\n",
    "**Questões:**\n",
    "\n",
    "a. Qual é a probabilidade de que um pacote enviado aleatoriamente pela rede seja entregue com sucesso?\n",
    "\n",
    "b. Se um pacote foi entregue com sucesso, qual é a probabilidade de que ele tenha sido enviado pelo **Servidor B**?\n",
    "\n",
    "c. Se um pacote falhou na entrega, qual é a probabilidade de que ele tenha sido enviado pelo **Servidor C**?"
   ]
  },
  {
   "cell_type": "markdown",
   "metadata": {
    "id": "CxpeYRloHCg4"
   },
   "source": [
    "**Solução**:"
   ]
  }
 ],
 "metadata": {
  "colab": {
   "collapsed_sections": [
    "aydlSKgV7QN-",
    "egNzkv0R8LqU",
    "pSA_WMmepPo4",
    "FelwAF_Mqdw_",
    "gYtO8pu4vMI3",
    "LIykQtDieyLJ"
   ],
   "provenance": [
    {
     "file_id": "1duxJQSLUuFe5GBPj4YvQZNvxPdB9ef4w",
     "timestamp": 1733960103070
    },
    {
     "file_id": "14WLdnoVF_HFB3kNmHMQ58gi9aXD_JJRW",
     "timestamp": 1733804190792
    }
   ]
  },
  "kernelspec": {
   "display_name": "Python 3",
   "name": "python3"
  },
  "language_info": {
   "name": "python"
  }
 },
 "nbformat": 4,
 "nbformat_minor": 0
}
