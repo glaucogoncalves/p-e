{
 "cells": [
  {
   "cell_type": "markdown",
   "metadata": {
    "id": "_cl9TCm77OPg"
   },
   "source": [
    "# Lista de exercícios sobre teste de hipótese\n",
    "\n",
    "Escolha uma das questões para fazer em dupla. Apresente sua resposta ao professor em sala."
   ]
  },
  {
   "cell_type": "markdown",
   "metadata": {
    "id": "aydlSKgV7QN-"
   },
   "source": [
    "#Questão 1\n",
    "Semeadura de nuvens, um processo em que químicos, tais\n",
    "como iodeto de prata e dióxido de carbono congelado, são introduzidos nas nuvens por avião para provocar chuva, foi amplamente usada no século XX. A pesquisa \n",
    "[“Reassessment of Rain Enhancement Experiments and Operations in Israel Including Synoptic Considerations”, Journal of Atmospheric Research (2010, Vol. 97(4), pp. 513-525)] questiona a eficiência deste método. Um experimento foi feito estabelecendo aleatoriamente que 52 nuvens seriam semeadas ou não. A quantidade de chuva gerada foi então medida em acre-pé. A seguir, os dados de nuvens semeadas e não semeadas:\n",
    "\n",
    "Categoria | Quantidade de Chuva |\n",
    "---|---|\n",
    "**Não semeadas** | 81,2 26,1 95,0 41,1 28,6 21,7 11,5 68,5 345,5 321,2 1202,6 1,0 4,9 163,0 372,4 244,3 47,3 87,0 26,3 24,4 830,1 4,9 36,6 147,8 17,3 29,0 |\n",
    "**Semeadas** | 274,7 302,8 242,5 255,0 17,5 115,3 31,4 703,4 334,1 1697,8 118,3 198,6 129,6 274,7 119,0 1656,0 7,7 430,0 40,6 92,4 200,7 32,7 4,1 978,0 489,1 2745,6 |\n",
    "\n",
    "Com base em seus conhecimentos estatísticos, discuta se a semeadura de nuvens afeta a quantidade de chuva."
   ]
  },
  {
   "cell_type": "markdown",
   "metadata": {
    "id": "fTnmlZDF6Fig"
   },
   "source": [
    "# Questão 2\n",
    "\n",
    "As pesquisas para a eleição presidencial de 2018 do estado de São Paulo forneceram os seguintes resultados. Havia 2020 pessoas consultadas nas pesquisas e 768 eram graduadas em faculdades. Das pessoas graduadas em faculdades, 412 votaram em Haddad. Das pessoas não graduadas 536 votaram em Haddad. Assim, ter ou não graduação influencia no voto em Haddad?"
   ]
  },
  {
   "cell_type": "markdown",
   "metadata": {
    "id": "QTx4QviabvJT"
   },
   "source": [
    "# Questão 3\n",
    "\n",
    "Um artigo publicado em *Growth: A Journal Devoted to Problems of Normal and Abnormal Growth* [“Comparison of Measured and Estimated Fat-Free Weight, Fat, Potassium and Nitrogen of Growing Guinea Pigs” (1982, Vol. 46(4), pp. 306-321)] mediu o peso (em gramas) do corpo dos leitões em seu nascimento.\n",
    "\n",
    "421,0 452,6 456,1 494,6 373,8 90,5 110,7 96,4 81,7 102,4\n",
    "241,0 296,0 317,0 290,9 256,5 447,8 687,6 705,7 879,0 88,8 296,0 273,0 268,0 227,5 279,3 258,5 296,0\n",
    "\n",
    "a. Teste a hipótese de que o peso médio do corpo é de 300 gramas. Use $\\alpha = 0.05$.\n",
    "\n",
    "b. Qual é o menor nível de significância ao qual você rejeitar a hipótese nula?"
   ]
  },
  {
   "cell_type": "markdown",
   "metadata": {
    "id": "5MXKlYWAcUl0"
   },
   "source": [
    "# Questão 4\n",
    "\n",
    "Um artigo em *Fortune* (21 de setembro de 1992) afirmou que aproximadamente metade de todos os engenheiros continua seus estudos acadêmicos além do grau de bacharelado, recebendo no final o grau de mestre ou doutor. Dados de um artigo em *Engineering Horizons* (primavera de 1990) indicaram que 117 de 484 novos engenheiros graduados estavam planejando fazer pós-graduação.\n",
    "\n",
    "Os dados da *Engineering Horizons* são consistentes com a afirmação reportada pela *Fortune*? Use $\\alpha = 0.05$ para alcançar as suas conclusões. Encontre o valor P para o teste."
   ]
  },
  {
   "cell_type": "markdown",
   "metadata": {
    "id": "0hlOGPD4c1kr"
   },
   "source": [
    "# Questão 5\n",
    "\n",
    "Um artigo em *Biological Trace Element Research* [“Interaction of Dietary Calcium, Manganese, and Manganese Source (Mn Oxide or Mn Methionine Complex) or Chick Performance and Manganese Utilization” (1991, Vol. 29(3), pp. 217-228)] mostrou os seguintes\n",
    "resultados de ensaio de manganês em tecidos do fígado de pintos alimentados com dietas ricas em Ca.\n",
    "\n",
    "6,02 6,08 7,11 5,73 5,32 7,10 5,29 5,84 6,03 5,99 4,53 6,81\n",
    "\n",
    "a. Teste a hipótese $H_0: \\sigma^2 = 0.6$ versus $H_a: \\sigma^2 \\neq 0.6$, usando $\\alpha = 0.01$.\n",
    "\n",
    "b. Qual é o valor P para esse teste?"
   ]
  },
  {
   "cell_type": "markdown",
   "metadata": {
    "id": "v1_hWtXWem51"
   },
   "source": [
    "# Questão 6\n",
    "\n",
    "Um engenheiro da computação está investigando o desempenho de duas diferentes linguagens de programação na melhoria de tarefas computacionais. Doze programadores experientes, familiarizados\n",
    "com ambas as linguagens, codificaram uma função‐padrão nas duas linguagens. O tempo (em minutos) foi registrado, e os dados são mostrados a seguir.\n",
    "\n",
    "Programador|Tempo da LP1|Tempo da LP2|\n",
    "---|---|---|\n",
    "1|17|18\n",
    "2|16|14\n",
    "3|21|19\n",
    "4|14|11\n",
    "5|18|23\n",
    "6|24|21\n",
    "7|16|10\n",
    "8|14|13\n",
    "9|21|19\n",
    "10|23|24\n",
    "11|13|15\n",
    "12|18|20\n",
    "\n",
    "a. A suposição de a diferença no tempo de codificação ser normalmente distribuída é razoável?\n",
    "\n",
    "b. Existe evidência estatística de que uma linguagem de programação seja preferível?"
   ]
  },
  {
   "cell_type": "markdown",
   "metadata": {
    "id": "C5v-lANnwJ3H"
   },
   "source": [
    "# Questão 7\n",
    "\n",
    "Um plano de saúde monitora o número de cateterismos feitos por mês em cada uma de suas clínicas. A seguir, são apresentados os dados do ano mais recente para uma clínica particular (a variável reportada é o número de cateterismos por mês expresso como o número\n",
    "de cateterismos por mil membros do plano de saúde):\n",
    "2,31, 2,09, 2,36, 1,95, 1,98, 2,25, 2,16, 2,07, 1,88, 1,94, 1,97, 2,02. Com base nisto:\n",
    "\n",
    "Historicamente, o número médio de exames por mês feitos por todas as clínicas no sistema tem sido 1,95. Existe evidência estatística de que essa clínica particular faça em média mais cateterismos do que a média de todo o sistema?"
   ]
  },
  {
   "cell_type": "markdown",
   "metadata": {
    "id": "HzDLfW7ZbV7i"
   },
   "source": [
    "# Questão 8\n",
    "\n",
    "Sabe-se que a vida, em horas, de uma bateria é aproximadamente distribuída normalmente, com desvio-padrão $\\sigma = 1.25$ hora. Uma amostra aleatória de dez baterias tem uma vida média de $\\bar{x} = 40.5$ horas. Há evidência estatística que suporte a alegação de que a vida da bateria excede 40 horas? Use $\\alpha = 0.05$."
   ]
  },
  {
   "cell_type": "markdown",
   "metadata": {
    "id": "PEv9fopKdUjV"
   },
   "source": [
    "# Questão 9\n",
    "\n",
    "O gerente de uma frota de carros está testando duas marcas de pneus radiais. Ele coloca, ao acaso, um pneu de cada marca nas duas rodas traseiras de oito carros e anda com os carros até que os pneus se desgastem. Os dados da vida (em quilômetros) de cada pneu são mostrados a seguir. \n",
    "\n",
    "Qual marca de pneu você prefere? Justifique sua resposta com base estatística.\n",
    "\n",
    "Carro| Marca 1| Marca 2|\n",
    "---|---|---|\n",
    "1|36.925|34.318\n",
    "2|45.300|42.280\n",
    "3|36.240|35.500\n",
    "4|32.100|31.950\n",
    "5|37.210|38.015\n",
    "6|48.360|47.800\n",
    "7|38.200|37.810\n",
    "8|33.500|33.215"
   ]
  },
  {
   "cell_type": "markdown",
   "metadata": {
    "id": "N9bfJyZ0MIsr"
   },
   "source": [
    "# Questão 10\n",
    "\n",
    "A poluição do ar tem sido relacionada com os menores pesos observados em recém-nascidos. Em um estudo reportado no Journal of the\n",
    "*American Medical Association*, pesquisadores examinaram a proporção de bebês com baixo peso nascidos de mães expostas a elevadas doses de fuligem e cinzas durante o ataque ao World Trade Center em 11 de setembro de 2001. Dos 182 bebês nascidos dessas mães, 15 foram classificados como apresentando baixo peso. Dos 2300 bebês nascidos no mesmo período em Nova York, em outro hospital, 92\n",
    "foram classificados como presentando baixo peso. Com base nisso, **podemos dizer que existe evidência estatística para sugerir que as mães expostas tenham\n",
    "<u>maior</u> incidência de bebês nascidos abaixo do peso**? Use $\\alpha = 0.05$."
   ]
  },
  {
   "cell_type": "markdown",
   "metadata": {
    "id": "sxXQM9VFLKf_"
   },
   "source": [
    "# Questão 11\n",
    "\n",
    "A dose diária de zinco recomendada entre homens com mais de 50 anos é de 15 mg/dia. Um artigo científico apresenta as seguintes estatísticas sobre ingestão de zinco para homens com 65-74 anos: $n=115$, $\\bar{x}=11.3$ e $s=6.43$. Esses dados indicam que a ingestão de zinco diária média na população dos homens entre 65-74 anos cai abaixo da dose diária recomendada?"
   ]
  },
  {
   "cell_type": "markdown",
   "metadata": {
    "id": "oOEe5KSYOogl"
   },
   "source": [
    "#Questão 12\n",
    "\n",
    "Uma amostra aleatória de 12 resistores de 100 $\\Omega$ foi obtida em uma loja. Em laboratório, a resistividade destes resistores foi medida obtendo os seguintes valores:\n",
    "\n",
    "104.3 89.6 89.9 95.6 95.2 90.0 98.8 103.7 98.3 106.4 102.0 91.1\n",
    "\n",
    "Estes dados sugerem que a média populacional difere de 100 $\\Omega$? Use $\\alpha  = 0.05$."
   ]
  },
  {
   "cell_type": "markdown",
   "metadata": {
    "id": "L_F0L3Y_P3HR"
   },
   "source": [
    "# Questão 13\n",
    "\n",
    "Uma biblioteca faz um inventário completo de seus livros uma vez por ano, para detecção de livros em mau estado. Este é um processo custoso e o diretor da biblioteca deseja evitar estes gastos este ano. Para tanto o diretor seleciona uma amostra aleatória de 1000 livros da biblioteca e faz a inspeção destes livros. Caso a evidência estatística mostre que a verdadeira proporção de livros em mau estado seja menor do que 2%, então o inventário não será feito este ano.\n",
    "\n",
    "Sabendo que 15 dos 1000 livros foram encontrados em mau estado, aconselhe o diretor da biblioteca acerca do que fazer (use $\\alpha = 0.05$)."
   ]
  },
  {
   "cell_type": "markdown",
   "metadata": {
    "id": "OHlEXSoJSp7o"
   },
   "source": [
    "# Questão 14\n",
    "\n",
    "Uma empresa alega que 90% de seus consumidores são satisfeitos com seu produto. Uma amostra aleatória de 1000 consumidores foi selecionada para entrevista e 850\n",
    "destes declararam estar satisfeitos ou muito satisfeitos com o produto. Há evidência estatística para suportar a alegação da empresa?"
   ]
  },
  {
   "cell_type": "markdown",
   "metadata": {
    "id": "yNXUSpZETdN3"
   },
   "source": [
    "#Questão 15\n",
    "\n",
    "Considere a seguinte tabela de frequências de observações para a variável aleatória $X$:\n",
    "\n",
    "|Valores| 0 | 1 | 2 | 3 | 4 ou mais |\n",
    "---|---|---|---|---|---|\n",
    "Frequência| 4| 21| 10| 13| 2|\n",
    "\n",
    "Com base nessas 50 observações, a distribuição binomial, com $n = 6$ e $p = 0.25$, é um modelo apropriado? Faça um teste de aderência com $\\alpha=0.05$."
   ]
  },
  {
   "cell_type": "markdown",
   "metadata": {
    "id": "lmPrTv5sT8_k"
   },
   "source": [
    "#Questão 16\n",
    "\n",
    "Uma companhia opera quatro máquinas em três turnos todo\n",
    "dia. Dos registros de produção, são coletados os seguintes dados do número de interrupções:\n",
    "\n",
    "Turno\\Máquinas|A |B |C |D\n",
    "---|---|---|---|---|\n",
    "1 | 41 | 20 |12 |16|\n",
    "2 |31 |11 |9 |14|\n",
    "3 |15 |17 |16 |10|\n",
    "\n",
    "Teste a hipótese (usando $\\alpha=0.05$) de que as interrupções são independentes do turno."
   ]
  },
  {
   "cell_type": "markdown",
   "metadata": {
    "id": "C4cuAj6CUyEj"
   },
   "source": [
    "#Questão 17\n",
    "\n",
    "O teor de titânio em uma liga de um avião é um fator determinante da resistência. Uma amostra de 20 corpos de prova revela o seguinte teor (em percentagem) de titânio:\n",
    "\n",
    "8,32; 8,05; 8,93; 8,65; 8,25; 8,46; 8,52; 8,35; 8,36; 8,41; 8,42; 8,30; 8,71; 8,75; 8,60; 8,83; 8,50; 8,38; 8,29; 8,46\n",
    "\n",
    "Sabendo que para haver segurança a mediana do teor de titânio deve ser 8,5 %, há evidência estatística que indique que esta liga difere do nível de segurança?"
   ]
  },
  {
   "cell_type": "markdown",
   "metadata": {
    "id": "BObeOj7tXFaK"
   },
   "source": [
    "# Questão 18\n",
    "\n",
    "Um engenheiro elétrico tem de projetar um circuito para operar com uma quantidade máxima de corrente em um tubo de imagem, de modo a encontrar uma imagem com brilho suficiente. Dentro de suas restrições de projeto, ele desenvolveu dois circuitos candidatos e testou protótipos de cada um. Os dados resultantes (em microampères) são apresentados a seguir:\n",
    "\n",
    "**Circuito 1**: 251, 255, 258, 257, 250, 251, 254, 250, 248\n",
    "\n",
    "**Circuito 2**: 250, 253, 249, 256, 259, 252, 260, 251\n",
    "\n",
    "Podemos dizer que as correntes médias dos circuitos são estatisticamente diferentes? Use $\\alpha = 0.05$"
   ]
  },
  {
   "cell_type": "markdown",
   "metadata": {
    "id": "DzzHci65X25v"
   },
   "source": [
    "# Questão 19\n",
    "\n",
    "De uma amostra aleatória de 500 adultos residentes em um município, 385 foram favoráveis ao aumento do limite de velocidade de 60 km/h para 80 km/h em uma rodovia, enquanto em outra amostra de 400 adultos, residentes em outra vila, 267 foram favoráveis a esse aumento do limite de velocidade. Esses dados indicam que há uma diferença entre os residentes das duas vilas no tocante ao apoio para aumentar o limite de velocidade? Use $\\alpha = 0.05$"
   ]
  },
  {
   "cell_type": "markdown",
   "metadata": {
    "id": "rdzbu8bBY0Se"
   },
   "source": [
    "#Questão 20\n",
    "\n",
    "Estão sendo estudadas as taxas de queima de dois diferentes propelentes sólidos usados no sistema de escape da tripulação de aeronaves. Sabe‑se que ambos os propelentes têm aproximadamente o mesmo desvio‑padrão de taxa de queima; ou seja, $\\sigma_1= \\sigma_2=3$ centímetros por segundo. Duas amostras aleatórias de $n_1 = 20$ e $n_2 = 20$ espécimes são testadas; as taxas médias de queima das amostras são $\\bar{x}_1 = 18$ centímetros por segundo e $\\bar{x}_2 = 24$ centímetros por segundo. Teste a hipótese de que ambos os propelentes têm a mesma taxa média de queima. Use $\\alpha=0.05$."
   ]
  }
 ],
 "metadata": {
  "colab": {
   "authorship_tag": "ABX9TyMzezVJa9f+r4U2HMQme0jH",
   "provenance": [
    {
     "file_id": "14WLdnoVF_HFB3kNmHMQ58gi9aXD_JJRW",
     "timestamp": 1642076015353
    }
   ],
   "toc_visible": true
  },
  "kernelspec": {
   "display_name": "Python 3",
   "name": "python3"
  },
  "language_info": {
   "name": "python"
  }
 },
 "nbformat": 4,
 "nbformat_minor": 0
}
