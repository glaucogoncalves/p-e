{
 "cells": [
  {
   "cell_type": "markdown",
   "id": "29ed1d4b",
   "metadata": {},
   "source": [
    "# Lista de exercícios sobre teste de hipóteses"
   ]
  },
  {
   "cell_type": "markdown",
   "id": "34a67bfd",
   "metadata": {},
   "source": [
    "Aluno(a)(s): "
   ]
  },
  {
   "cell_type": "markdown",
   "id": "78069714",
   "metadata": {},
   "source": [
    "# Questão 1\n",
    "\n",
    "\n",
    "Um fabricante de semicondutores coleta dados provenientes de uma nova ferramenta e conduz um teste de hipóteses, com a hipótese nula sendo a largura média de uma dimensão crítica igual a 100 nm. A conclusão é de não rejeitar a hipótese nula. Esse resultado fornece\n",
    "uma evidência forte de que a média da dimensão crítica é igual a 100 nm? Explique."
   ]
  },
  {
   "cell_type": "markdown",
   "id": "c1d84fed",
   "metadata": {},
   "source": [
    "# Questão 2\n",
    "\n",
    "\n",
    "Um artigo publicado em *Growth: A Journal Devoted to Problems of Normal and Abnormal Growth* [“Comparison of Measured and Estimated Fat-Free Weight, Fat, Potassium and Nitrogen of Growing Guinea Pigs” (1982, Vol. 46(4), pp. 306-321)] mediu o peso (em gramas) do corpo dos leitões em seu nascimento.\n",
    "\n",
    "421,0 452,6 456,1 494,6 373,8 90,5 110,7 96,4 81,7 102,4\n",
    "241,0 296,0 317,0 290,9 256,5 447,8 687,6 705,7 879,0 88,8 296,0 273,0 268,0 227,5 279,3 258,5 296,0\n",
    "\n",
    "a. Teste a hipótese de que o peso médio do corpo é de 300 gramas. Use $\\alpha = 0.05$.\n",
    "\n",
    "b. Qual é o menor nível de significância ao qual você rejeitar a hipótese nula?\n",
    "\n",
    "c. Explique como você responderia à pergunta do item (a)\n",
    "com um intervalo bilateral de confiança para o peso médio do corpo."
   ]
  },
  {
   "cell_type": "markdown",
   "id": "ef3b09aa",
   "metadata": {},
   "source": [
    "# Questão 3\n",
    "\n",
    "Um artigo em *Fortune* (21 de setembro de 1992) afirmou que aproximadamente metade de todos os engenheiros continua seus estudos acadêmicos além do grau de bacharelado, recebendo no final o grau de mestre ou doutor. Dados de um artigo em *Engineering Horizons* (primavera de 1990) indicaram que 117 de 484 novos engenheiros graduados estavam planejando fazer pós-graduação.\n",
    "\n",
    "a. Os dados da *Engineering Horizons* são consistentes com a afirmação reportada pela *Fortune*? Use $\\alpha = 0.05$ para alcançar as suas conclusões. Encontre o valor P para o teste.\n",
    "\n",
    "b. Discuta como a questão do item (a) poderia ser respondida pela construção de um intervalo bilateral de confiança para $\\hat{p}$."
   ]
  },
  {
   "cell_type": "markdown",
   "id": "bd45975e",
   "metadata": {},
   "source": [
    "# Questão 4\n",
    "\n",
    "Um artigo em *Biological Trace Element Research* [“Interaction of Dietary Calcium, Manganese, and Manganese Source (Mn Oxide or Mn Methionine Complex) or Chick Performance and Manganese Utilization” (1991, Vol. 29(3), pp. 217-228)] mostrou os seguintes\n",
    "resultados de ensaio de manganês em tecidos do fígado de pintos alimentados com dietas ricas em Ca.\n",
    "\n",
    "6,02 6,08 7,11 5,73 5,32 7,10 5,29 5,84 6,03 5,99 4,53 6,81\n",
    "\n",
    "a. Teste a hipótese $H_0: \\sigma^2 = 0.6$ versus $H_a: \\sigma^2 \\neq 0.6$, usando $\\alpha = 0.01$.\n",
    "\n",
    "b. Qual é o valor P para esse teste?"
   ]
  },
  {
   "cell_type": "markdown",
   "id": "24fbfa0a",
   "metadata": {},
   "source": [
    "# Questão 5\n",
    "\n",
    "Um engenheiro da computação está investigando o desempenho de duas diferentes linguagens de programação na melhoria de tarefas computacionais. Doze programadores experientes, familiarizados\n",
    "com ambas as linguagens, codificaram uma função‐padrão nas duas linguagens. O tempo (em minutos) foi registrado, e os dados são mostrados a seguir.\n",
    "\n",
    "Programador|Tempo da LP1|Tempo da LP2|\n",
    "---|---|---|\n",
    "1|17|18\n",
    "2|16|14\n",
    "3|21|19\n",
    "4|14|11\n",
    "5|18|23\n",
    "6|24|21\n",
    "7|16|10\n",
    "8|14|13\n",
    "9|21|19\n",
    "10|23|24\n",
    "11|13|15\n",
    "12|18|20\n",
    "\n",
    "a. A suposição de a diferença no tempo de codificação ser normalmente distribuída é razoável?\n",
    "\n",
    "b. Existe evidência estatística de que uma linguagem de programação seja preferível?"
   ]
  },
  {
   "cell_type": "markdown",
   "id": "c3bf5cc4",
   "metadata": {},
   "source": [
    "# Questão 6\n",
    "\n",
    "Um plano de saúde monitora o número de cateterismos feitos por mês em cada uma de suas clínicas. A seguir, são apresentados os dados do ano mais recente para uma clínica particular (a variável reportada é o número de cateterismos por mês expresso como o número\n",
    "de cateterismos por mil membros do plano de saúde):\n",
    "2,31, 2,09, 2,36, 1,95, 1,98, 2,25, 2,16, 2,07, 1,88, 1,94, 1,97, 2,02. Com base nisto:\n",
    "\n",
    "Historicamente, o número médio de exames por mês feitos por todas as clínicas no sistema tem sido 1,95. Existe evidência estatística de que essa clínica particular faça em média mais cateterismos do que a média de todo o sistema?"
   ]
  },
  {
   "cell_type": "markdown",
   "id": "7e02753c",
   "metadata": {},
   "source": [
    "# Questão 7\n",
    "\n",
    "Sabe-se que a vida, em horas, de uma bateria é aproximadamente distribuída normalmente, com desvio-padrão $\\sigma = 1.25$ hora. Uma amostra aleatória de dez baterias tem uma vida média de $\\bar{x} = 40.5$ horas. Há evidência estatística que suporte a alegação de que a vida da bateria excede 40 horas? Use $\\alpha = 0.05$."
   ]
  },
  {
   "cell_type": "markdown",
   "id": "c33cd646",
   "metadata": {},
   "source": [
    "# Questão 8\n",
    "\n",
    "A poluição do ar tem sido relacionada com os menores pesos observados em recém-nascidos. Em um estudo reportado no Journal of the\n",
    "*American Medical Association*, pesquisadores examinaram a proporção de bebês com baixo peso nascidos de mães expostas a elevadas doses de fuligem e cinzas durante o ataque ao World Trade Center em 11 de setembro de 2001. Dos 182 bebês nascidos dessas mães, 15 foram classificados como apresentando baixo peso. Dos 2300 bebês nascidos no mesmo período em Nova York, em outro hospital, 92\n",
    "foram classificados como presentando baixo peso. Com base nisso, **podemos dizer que existe evidência estatística para sugerir que as mães expostas tenham\n",
    "<u>maior</u> incidência de bebês nascidos abaixo do peso**? Use $\\alpha = 0.05$."
   ]
  },
  {
   "cell_type": "markdown",
   "id": "a769c90a",
   "metadata": {},
   "source": [
    "# Questão 9\n",
    "\n",
    "A dose diária de zinco recomendada entre homens com mais de 50 anos é de 15 mg/dia. Um artigo científico apresenta as seguintes estatísticas sobre ingestão de zinco para homens com 65-74 anos: $n=115$, $\\bar{x}=11.3$ e $s=6.43$. Esses dados indicam que a ingestão de zinco diária média na população dos homens entre 65-74 anos cai abaixo da dose diária recomendada?"
   ]
  },
  {
   "cell_type": "markdown",
   "id": "a7789400",
   "metadata": {},
   "source": [
    "# Questão 10\n",
    "\n",
    "Uma companhia opera quatro máquinas em três turnos todo\n",
    "dia. Dos registros de produção, são coletados os seguintes dados do número de interrupções:\n",
    "\n",
    "Turno\\Máquinas|A |B |C |D\n",
    "---|---|---|---|---|\n",
    "1 | 41 | 20 |12 |16|\n",
    "2 |31 |11 |9 |14|\n",
    "3 |15 |17 |16 |10|\n",
    "\n",
    "Teste a hipótese (usando $\\alpha=0.05$) de que as interrupções são independentes do turno."
   ]
  },
  {
   "cell_type": "markdown",
   "id": "261ad063",
   "metadata": {},
   "source": [
    "# Questão 11\n",
    "\n",
    "Um engenheiro eletricista tem de projetar um circuito para operar com uma quantidade máxima de corrente em um tubo de imagem, de modo a encontrar uma imagem com brilho suficiente. Dentro de suas restrições de projeto, ele desenvolveu dois circuitos candidatos e testou protótipos de cada um. Os dados resultantes (em microampères) são apresentados a seguir:\n",
    "\n",
    "**Circuito 1**: 251, 255, 258, 257, 250, 251, 254, 250, 248\n",
    "\n",
    "**Circuito 2**: 250, 253, 249, 256, 259, 252, 260, 251\n",
    "\n",
    "Podemos dizer que as correntes médias dos circuitos são estatisticamente diferentes? Use $\\alpha = 0.05$"
   ]
  },
  {
   "cell_type": "markdown",
   "id": "f3fd1403",
   "metadata": {},
   "source": [
    "# Questão 12\n",
    "\n",
    "\n",
    "De uma amostra aleatória de 500 adultos residentes em um município, 385 foram favoráveis ao aumento do limite de velocidade de 60 km/h para 80 km/h em uma rodovia, enquanto em outra amostra de 400 adultos, residentes em outra vila, 267 foram favoráveis a esse aumento do limite de velocidade. Esses dados indicam que há uma diferença entre os residentes das duas vilas no tocante ao apoio para aumentar o limite de velocidade? Use $\\alpha = 0.05$"
   ]
  },
  {
   "cell_type": "markdown",
   "id": "6f65b6c1",
   "metadata": {},
   "source": [
    "# Questão 13\n",
    "\n",
    "Estão sendo estudadas as taxas de queima de dois diferentes propelentes sólidos usados no sistema de escape da tripulação de aeronaves. Sabe‑se que ambos os propelentes têm aproximadamente o mesmo desvio‑padrão de taxa de queima; ou seja, $\\sigma_1= \\sigma_2=3$ centímetros por segundo. Duas amostras aleatórias de $n_1 = 20$ e $n_2 = 20$ espécimes são testadas; as taxas médias de queima das amostras são $\\bar{x}_1 = 18$ centímetros por segundo e $\\bar{x}_2 = 24$ centímetros por segundo. Teste a hipótese de que ambos os propelentes têm a mesma taxa média de queima. Use $\\alpha=0.05$."
   ]
  }
 ],
 "metadata": {
  "language_info": {
   "name": "python"
  }
 },
 "nbformat": 4,
 "nbformat_minor": 5
}
