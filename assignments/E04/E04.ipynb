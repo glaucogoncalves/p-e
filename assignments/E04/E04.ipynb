{
  "cells": [
    {
      "cell_type": "markdown",
      "metadata": {
        "id": "_cl9TCm77OPg"
      },
      "source": [
        "<a target=\"_blank\" href=\"https://colab.research.google.com/github/glaucogoncalves/p-e/blob/main/assignments/E04/E04.ipynb\">\n",
        "  <img src=\"https://colab.research.google.com/assets/colab-badge.svg\" alt=\"Open In Colab\"/>\n",
        "</a>\n",
        "\n",
        "# Exercícios sobre VAs em mais de uma dimensão"
      ]
    },
    {
      "cell_type": "markdown",
      "metadata": {
        "id": "aydlSKgV7QN-"
      },
      "source": [
        "#Questão 1\n",
        "Seis switches óticos, incluindo os switches A e B, estão ligados em uma rede em anel de modo completamente aleatório, i.e., não sabemos em que posição A e B foram ligados e todas as possibilidades são equiprováveis. Sabemos apenas que cada switch na rede está ligado a outros dois switches. Desta forma A e B podem estar um ligado ao outro ou separados por até 2 outros switches. Suponha que as posições dos switches na rede sejam numeradas de 1 a 6. Assuma que $X$ é o número da posição ocupada pelo switch A e $Y$ é o número da posição ocupada pelo switch B. Se A envia uma mensagem na rede para B pelo enlace de menor caminho, por quantos switches você **espera** que a mensagem passe?\n"
      ]
    },
    {
      "cell_type": "markdown",
      "metadata": {
        "id": "ssjtIsVO8IHY"
      },
      "source": [
        "**Solução**:"
      ]
    },
    {
      "cell_type": "markdown",
      "metadata": {
        "id": "egNzkv0R8LqU"
      },
      "source": [
        "#Questão 2\n",
        "Em uma rede sem fio há apenas dois hospedeiros A e B e estes transmitem para um mesmo ponto de acesso. Como o canal de transmissão é compartilhado, caso as transmissões ocorram ao mesmo tempo ocorre uma colisão, e ambas as transmissões são perdidas. Estes hospedeiros usam um algoritmo em que eles escolhem aleatoriamente o tempo de transmissão (início da transmissão) dentro de uma janela de tempo de 1 segundo. Observe que para que não haja colisão, as transmissões não devem se sobrepor de forma alguma. Ainda que seja por uma pequena fração de tempo.\n",
        "\n",
        "Assuma que ambas as estações transmitem apenas um pequeno pacote de mesmo tamanho, de modo que o tempo de transmissão do pacote é de 100ms. Seja $X$ a variável aleatória do tempo em que a estação A transmite, cuja função de densidade é dada por\n",
        "\n",
        "$f_{X}(x) =\n",
        "\\begin{cases}\n",
        "      3x^2 & 0 \\leq x \\leq 1 \\\\\n",
        "      0 & \\text{outros casos}\n",
        "\\end{cases}\n",
        "$\n",
        "\n",
        "Assuma que $Y$ é a variável aleatória do tempo em que a estação B transmite, e que a função de densidade é dada por\n",
        "\n",
        "$f_{Y}(y) =\n",
        "\\begin{cases}\n",
        "      2y & 0 \\leq y \\leq 1 \\\\\n",
        "      0 & \\text{outros casos}\n",
        "\\end{cases}\n",
        "$\n",
        "\n",
        "Assuma ainda que $X$ e $Y$ são independentes. Com base nisso, calcule a chance das transmissões não colidirem."
      ]
    },
    {
      "cell_type": "markdown",
      "metadata": {
        "id": "pSVEhnFF8LqV"
      },
      "source": [
        "**Solução**:"
      ]
    },
    {
      "cell_type": "markdown",
      "metadata": {
        "id": "pSA_WMmepPo4"
      },
      "source": [
        "#Questão 3\n",
        "\n",
        "Considere uma pequena balsa que faz a travessia de carros e ônibus. O pedágio para carros é de \\$3 e para ônibus \\$10. Considere que $X$ e $Y$ como o número de carros e ônibus, respectivamente, que fazem a travessia em um dia. Suponha que a distribuição conjunta de $X$ e $Y$ seja dada na tabela abaixo.\n",
        "\n",
        "\n",
        "X\\Y| 0  | 1  | 2  |\n",
        "----|----|----|----|\n",
        "**0**   |$0.025$|$0.015$|$0.010$|\n",
        "**1**   |$0.050$|$0.030$|$0.020$|\n",
        "**2**   |$0.125$|$0.075$|$0.050$|\n",
        "**3**   |$0.150$|$0.090$|$0.060$|\n",
        "**4**   |$0.100$|$0.060$|$0.040$|\n",
        "**5**   |$0.050$|$0.030$|$0.020$|\n",
        "\n",
        "\n",
        "Com base nisso, calcule a receita esperada de um dia."
      ]
    },
    {
      "cell_type": "markdown",
      "metadata": {
        "id": "T-qgXVyhpuwP"
      },
      "source": [
        "**Solução**:"
      ]
    },
    {
      "cell_type": "markdown",
      "metadata": {
        "id": "cTa8Iw61p9DG"
      },
      "source": [
        "#Questão 4\n",
        "\n",
        "Em um circuito há dois componentes de maior importância. A função de densidade conjunta abaixo modela o tempo de vida útil (em anos) dos dois componentes $X$ e $Y$.\n",
        "\n",
        "$f_{XY}(x,y) =\n",
        "\\begin{cases}\n",
        "      xe^{-x(1+y)} & x \\geq 0 \\text{ e } y \\geq 0 \\\\\n",
        "      0 & \\text{outros casos}\n",
        "\\end{cases}\n",
        "$\n",
        "\n",
        "a. Qual é a probabilidade do circuito durar até 2 anos?\n",
        "\n",
        "b. Qual a probabilidade da vida útil $X$ do primeiro componente exceder 3 anos?\n",
        "\n",
        "c. Os períodos de vida útil são independentes? Explique."
      ]
    },
    {
      "cell_type": "markdown",
      "metadata": {
        "id": "ygMv9djFp9DH"
      },
      "source": [
        "**Solução**:"
      ]
    }
  ],
  "metadata": {
    "colab": {
      "provenance": []
    },
    "kernelspec": {
      "display_name": "Python 3",
      "name": "python3"
    },
    "language_info": {
      "name": "python"
    }
  },
  "nbformat": 4,
  "nbformat_minor": 0
}
