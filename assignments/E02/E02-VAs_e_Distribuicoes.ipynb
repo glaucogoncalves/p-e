{
  "cells": [
    {
      "cell_type": "markdown",
      "metadata": {
        "id": "_cl9TCm77OPg"
      },
      "source": [
        "# Lista de exercícios sobre distribuições de probabilidade\n",
        "\n",
        "<a target=\"_blank\" href=\"https://colab.research.google.com/github/glaucogoncalves/p-e/blob/main/assignments/E02/E02-VAs_e_Distribuicoes.ipynb\"> <img src=\"https://colab.research.google.com/assets/colab-badge.svg\" alt=\"Open In Colab\"/></a>"
      ]
    },
    {
      "cell_type": "markdown",
      "metadata": {
        "id": "aydlSKgV7QN-"
      },
      "source": [
        "# Questão 1\n",
        "Suponha que o tempo que uma célula leva para se dividir (mitose) é normalmente distribuído, com um tempo médio de uma hora e um desvio-padrão de cinco minutos. Calcule:\n",
        "\n",
        "a. Qual é a probabilidade de uma célula se dividir em menos de 45 minutos?\n",
        "\n",
        "b. Qual é a probabilidade de uma célula levar mais de 65 minutos para se dividir?\n",
        "\n",
        "c. Em que tempo, aproximadamente, 99% de todas as células completam a mitose?\n"
      ]
    },
    {
      "cell_type": "markdown",
      "metadata": {
        "id": "egNzkv0R8LqU"
      },
      "source": [
        "# Questão 2\n",
        "\n",
        "Uma companhia aérea tem um voo regular com 10 assentos nele. A probabilidade de um passageiro comparecer ao voo é de 0,95. A companhia deseja fazer *overbooking* (vender mais assentos do que possui), para aumentar as chances de todos os assentos serem preenchidos. Qual é o menor número de passagens que a companhia aérea deveria vender para assegurar que a probabilidade de que o voo estará cheio é maior que 0,99?"
      ]
    },
    {
      "cell_type": "markdown",
      "metadata": {
        "id": "pSA_WMmepPo4"
      },
      "source": [
        "# Questão 3\n",
        "\n",
        "A porcentagem de pessoas expostas à bactéria que ficam doentes é 20%. Considere que pessoas sejam independentes. Considere que 1000 pessoas sejam expostas à bactéria. Aproxime cada uma das\n",
        "seguintes questões:\n",
        "\n",
        "a. Probabilidade de mais de 225 pessoas ficarem doentes.\n",
        "\n",
        "b. Probabilidade de entre 175 e 225 pessoas ficarem doentes.\n",
        "\n",
        "c. Valor tal que seja de 0,01 a probabilidade do número de pessoas que se tornam doentes exceder tal valor?"
      ]
    },
    {
      "cell_type": "markdown",
      "metadata": {
        "id": "cTa8Iw61p9DG"
      },
      "source": [
        "# Questão 4\n",
        "\n",
        "O tempo (em horas) até uma falha de um laser em uma máquina de citometria é modelado por uma distribuição exponencial com $\\lambda = 0.00004$. Qual é a  probabilidade de o tempo até a falha ser\n",
        "\n",
        "a. No mínimo 20.000 horas?\n",
        "\n",
        "b. No máximo 30.000 horas?\n",
        "\n",
        "c. Entre 20.000 e 30.000 horas?"
      ]
    },
    {
      "cell_type": "markdown",
      "metadata": {
        "id": "FelwAF_Mqdw_"
      },
      "source": [
        "# Questão 5\n",
        "\n",
        "Quando o Uber reduz tarifas, uma viagem particular da Marambaia para Nazaré torna-se muito popular. Um carro pode transportar quatro passageiros compartilhando a corrida. O número de chamadas quando ocorre a redução é uma VA Poisson, com $\\lambda=2$ chamadas por hora. Considere que cada chamada ocupe um assento apenas. Qual é a probabilidade de o carro lotar em menos de três\n",
        "horas a partir do momento da redução da tarifa?"
      ]
    },
    {
      "cell_type": "markdown",
      "metadata": {
        "id": "ybL_syg6t4ff"
      },
      "source": [
        "# Questão 6\n",
        "\n",
        "Suponha que a função de densidade de uma VA $X$ é $f(x) = 0.5x – 1$ para $2 \\lt x \\lt 4$. Determine o seguinte:\n",
        "\n",
        "a. $P(X \\lt 2,5)$\n",
        "\n",
        "b. $P(X \\gt 3)$\n",
        "\n",
        "c. $P(2,5 \\lt X \\lt 3,5)$\n",
        "\n",
        "d. Determine a função de distribuição acumulada da VA.\n",
        "\n",
        "e. Determine a esperança e a variância da VA."
      ]
    },
    {
      "cell_type": "markdown",
      "metadata": {
        "id": "gYtO8pu4vMI3"
      },
      "source": [
        "# Questão 7\n",
        "\n",
        "Considere que a variável aleatória X tem uma distribuição discreta uniforme nos inteiros $0 \\leq x \\leq 99$. Determine a média e a variância de $X$."
      ]
    },
    {
      "cell_type": "markdown",
      "metadata": {
        "id": "C5v-lANnwJ3H"
      },
      "source": [
        "# Questão 8\n",
        "\n",
        "Um sistema de computadores usa senhas, que são exatamente seis caracteres, sendo cada caractere uma das 26 letras (a-z) ou dez inteiros (0-9). Suponha que haja 10.000 usuários do sistema com senhas únicas. Um invasor seleciona aleatoriamente (com reposição) 1.000.000.000 senhas do potencial conjunto e testa contra todos os usuário do sistema, e a coincidência com a senha de um usuário é chamada de <u>êxito</u>.\n",
        "\n",
        "a. Qual é a distribuição do número de êxitos?\n",
        "\n",
        "b. Qual é a probabilidade de nenhum êxito?\n",
        "\n",
        "c. Quais são a média e o desvio-padrão do número de êxitos?"
      ]
    },
    {
      "cell_type": "markdown",
      "metadata": {
        "id": "fTnmlZDF6Fig"
      },
      "source": [
        "# Questão 9\n",
        "\n",
        "Considere a VA $X$ a seguir:\n",
        "\n",
        "x  |  0 | 1 | 2 |\n",
        "---|----|---|---|\n",
        "p(X=x)|0,2|0,5|0,3|\n",
        "\n",
        "Calcule a variância de $X$."
      ]
    },
    {
      "cell_type": "markdown",
      "metadata": {
        "id": "oMVGUL9kALv8"
      },
      "source": [
        "# Questão 10\n",
        "\n",
        "A pressão interna adequada dos pneus frontais de um certo veículo é de 26 psi. Suponha que a pressão interna de cada pneu é uma VA, sendo $X$ para a direita e $Y$ para a esquerda. A função de distribuição conjunta é dada por\n",
        "\n",
        "$f(x,y) = \\begin{cases}\n",
        "K(x^2+y^2) & 20 \\leq x \\leq 30, \\, 20 \\leq y \\leq 30\\\\\n",
        "0 & \\text{outros casos}\n",
        "\\end{cases}$\n",
        "\n",
        "Com base nisso responda:\n",
        "\n",
        "a. Qual o valor de K?\n",
        "\n",
        "b. Qual a probabilidade de ambos os pneus estarem abaixo da pressão adequada?\n",
        "\n",
        "c. Determine a distribuição marginal da pressão interna do pneu direito.\n",
        "\n",
        "d. Mostre que $X$ e $Y$ não são independentes."
      ]
    },
    {
      "cell_type": "markdown",
      "metadata": {
        "id": "UoB5_IGkUOwm"
      },
      "source": [
        "# Questão 11\n",
        "\n",
        "Colesterol é uma substância gordurosa que é uma parte importante da ligação (membrana) externa das células no corpo de animais. Sua faixa normal para um adulto é de 120-240 mg/dL. O Instituto de Alimentos e Nutrição das Filipinas encontrou que o nível de colesterol total para adultos filipinos tem uma média de 159,2 mg/dL, e\n",
        "84,1 % de adultos têm um nível de colesterol abaixo de 200 mg/dL (www.fnri.dost.gov.ph/). Suponha que o nível de colesterol total seja distribuído normalmente.\n",
        "\n",
        "a. Determine o desvio-padrão dessa distribuição.\n",
        "\n",
        "b. Quais são os quartis 25 % e 75 % dessa distribuição?\n",
        "\n",
        "c. Qual é o valor do nível de colesterol que excede 90 % da população?\n",
        "\n",
        "d. Um adulto tem um nível moderado de risco, se o nível de colesterol é mais de um, porém menos de dois desvios-padrão acima da média. Qual é a percentagem da população que tem risco moderado de acordo com esse critério?\n",
        "\n",
        "e. Um adulto tem alto risco, se seu nível de colesterol é mais de dois desvios-padrão acima da média. Qual é a percentagem da população que tem alto risco?\n",
        "\n",
        "f. Um adulto tem baixo risco, se seu nível de colesterol é menor do que um desvio-padrão abaixo da média. Qual é a percentagem da população que tem baixo risco?"
      ]
    },
    {
      "cell_type": "markdown",
      "metadata": {
        "id": "0Y2hHUnAPjfU"
      },
      "source": [
        "# Questão 12\n",
        "\n",
        "Um professor aplicou um teste com duas partes. A primeira parte é composta de 3 questões valendo 2 pontos cada, e a segunda é formada por 2 questões valendo 2 pontos cada. Para um estudante escolhido aleatoriamente, seja $X$ o número de pontos obtidos na primeira parte do teste e $Y$ o número de pontos obtidos na segunda parte do teste. Suponha que a distribuição de massa conjunta de $X$ e $Y$ é dada pela tabela abaixo.\n",
        "\n",
        "\n",
        "|X/Y|0|2|4|6|\n",
        "|---|---|---|---|---|\n",
        "|0|0.02|0.06|0.02|0.1|\n",
        "|2|0.04|0.15|0.2|0.1|\n",
        "|4|0.01|0.15|0.14|0.01|\n",
        "\n",
        "Se a nota final é dada por $X+Y$, calcule o valor esperado da nota de um estudante?"
      ]
    }
  ],
  "metadata": {
    "colab": {
      "collapsed_sections": [
        "_cl9TCm77OPg",
        "aydlSKgV7QN-",
        "egNzkv0R8LqU",
        "pSA_WMmepPo4",
        "cTa8Iw61p9DG",
        "ybL_syg6t4ff",
        "gYtO8pu4vMI3",
        "C5v-lANnwJ3H",
        "fTnmlZDF6Fig",
        "oMVGUL9kALv8"
      ],
      "provenance": []
    },
    "kernelspec": {
      "display_name": "Python 3",
      "name": "python3"
    },
    "language_info": {
      "name": "python"
    }
  },
  "nbformat": 4,
  "nbformat_minor": 0
}
