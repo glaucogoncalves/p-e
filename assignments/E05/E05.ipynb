{
 "cells": [
  {
   "cell_type": "markdown",
   "metadata": {
    "id": "_cl9TCm77OPg"
   },
   "source": [
    "<a target=\"_blank\" href=\"https://colab.research.google.com/github/glaucogoncalves/p-e/blob/main/assignments/E05/E05.ipynb\">\n",
    "  <img src=\"https://colab.research.google.com/assets/colab-badge.svg\" alt=\"Open In Colab\"/>\n",
    "</a>\n",
    "\n",
    "# Lista de exercícios sobre estatística\n",
    "\n",
    "**Estudante**: *preencher nome completo*\n",
    "\n",
    "---\n",
    "\n",
    "Faça uma cópia deste colab e entregue-o via SIGAA.\n",
    "\n",
    "**Atenção**: Procure responder as questões abaixo com atenção. Uma boa resposta não deve conter apenas fórmulas e cálculos, mas boas explicações que permitam identificar que você compreendeu a teoria e a prática do assunto. Você pode mesclar suas respostas com trechos de código, se desejar.\n"
   ]
  },
  {
   "cell_type": "markdown",
   "metadata": {
    "id": "aydlSKgV7QN-"
   },
   "source": [
    "#Questão 1\n",
    "Semeadura de nuvens, um processo em que químicos, tais\n",
    "como iodeto de prata e dióxido de carbono congelado, são introduzidos nas nuvens por avião para provocar chuva, foi amplamente usada no século XX. A pesquisa \n",
    "[“Reassessment of Rain Enhancement Experiments and Operations in Israel Including Synoptic Considerations”, Journal of Atmospheric Research (2010, Vol. 97(4), pp. 513-525)] questiona a eficiência deste método. Um experimento foi feito estabelecendo aleatoriamente que 52 nuvens seriam semeadas ou não. A quantidade de chuva gerada foi então medida em acre-pé. A seguir, os dados de nuvens semeadas e não semeadas:\n",
    "\n",
    "Categoria | Quantidade de Chuva |\n",
    "---|---|\n",
    "**Não semeadas** | 81,2 26,1 95,0 41,1 28,6 21,7 11,5 68,5 345,5 321,2 1202,6 1,0 4,9 163,0 372,4 244,3 47,3 87,0 26,3 24,4 830,1 4,9 36,6 147,8 17,3 29,0 |\n",
    "**Semeadas** | 274,7 302,8 242,5 255,0 17,5 115,3 31,4 703,4 334,1 1697,8 118,3 198,6 129,6 274,7 119,0 1656,0 7,7 430,0 40,6 92,4 200,7 32,7 4,1 978,0 489,1 2745,6 |\n",
    "\n",
    "Com base em seus conhecimentos estatísticos, discuta se a semeadura de nuvens afeta a quantidade de chuva."
   ]
  },
  {
   "cell_type": "markdown",
   "metadata": {
    "id": "ssjtIsVO8IHY"
   },
   "source": [
    "**Solução**:"
   ]
  },
  {
   "cell_type": "markdown",
   "metadata": {
    "id": "egNzkv0R8LqU"
   },
   "source": [
    "#Questão 2\n",
    "Os seguintes dados são os números de ciclos, até falhar, de corpos de prova de alumínio, sujeitos a uma tensão alternada repetida, de 21.000 psi e 18 ciclos por segundo.\n",
    "\n",
    "1115\n",
    "1310\n",
    "1540\n",
    "1502\n",
    "1258\n",
    "1315\n",
    "1085\n",
    "798\n",
    "1020\n",
    "865\n",
    "2130\n",
    "1421\n",
    "1109\n",
    "1481\n",
    "1567\n",
    "1883\n",
    "1203\n",
    "1270\n",
    "1015\n",
    "845\n",
    "1674\n",
    "1016\n",
    "1102\n",
    "1605\n",
    "706\n",
    "2215\n",
    "785\n",
    "885\n",
    "1223\n",
    "375\n",
    "2265\n",
    "1910\n",
    "1018\n",
    "1452\n",
    "1890\n",
    "2100\n",
    "1594\n",
    "2023\n",
    "1315\n",
    "1269\n",
    "1260\n",
    "1888\n",
    "1782\n",
    "1522\n",
    "1792\n",
    "1000\n",
    "1820\n",
    "1940\n",
    "1120\n",
    "910\n",
    "1730\n",
    "1102\n",
    "1578\n",
    "758\n",
    "1416\n",
    "1560\n",
    "1055\n",
    "1764\n",
    "1330\n",
    "1608\n",
    "1535\n",
    "1781\n",
    "1750\n",
    "1501\n",
    "1238\n",
    "990\n",
    "1468\n",
    "1512\n",
    "1750\n",
    "1642\n",
    "\n",
    "Com base em seus conhecimentos de estatística, calcule a probabilidade de que um corpo de prova “sobreviverá” além de 2000 ciclos? Justifique sua resposta.\n"
   ]
  },
  {
   "cell_type": "markdown",
   "metadata": {
    "id": "pSVEhnFF8LqV"
   },
   "source": [
    "**Solução**:"
   ]
  },
  {
   "cell_type": "markdown",
   "metadata": {
    "id": "pSA_WMmepPo4"
   },
   "source": [
    "#Questão 3\n",
    "\n",
    "Uma amostra com seis resistores resultou nas seguintes resistências (ohms): $x_1 = 45$, $x_2 = 38$, $x_3 = 47$, $x_4 = 41$, $x_5 = 35$ e $x_6 = 43$.\n",
    "\n",
    "a. Calcule a variância ($s^2$) e o desvio-padrão ($s$) da amostra.\n",
    "\n",
    "b. Subtraia 35 de cada uma das medidas originais de resistências e calcule $s^2$ e $s$. Compare seus resultados com aqueles obtidos no item (a) e explique sua resposta.\n",
    "\n",
    "c. Se as resistências fossem 450; 380; 470; 410; 350 e 430 ohms, você poderia usar os resultados dos itens anteriores deste problema para encontrar $s^2$ e $s$?\n"
   ]
  },
  {
   "cell_type": "markdown",
   "metadata": {
    "id": "T-qgXVyhpuwP"
   },
   "source": [
    "**Solução**:"
   ]
  },
  {
   "cell_type": "markdown",
   "metadata": {
    "id": "cTa8Iw61p9DG"
   },
   "source": [
    "#Questão 4\n",
    "\n",
    "Em alguns conjuntos de dados, uma transformação por alguma função matemática aplicada aos dados originais, tais como $\\sqrt{y}$ ou $\\log{y}$, pode resultar em dados que sejam mais fáceis de trabalhar, estatisticamente, do que os dados originais. Para\n",
    "ilustrar o efeito de uma transformação, considere os seguintes dados, que representam ciclos de falhas de um tecido: 675; 3650; 175; 1150; 290; 2000; 100; 375.\n",
    "\n",
    "a. Construa um histograma, um diagrama de caixa e um gráfico de quantis e comente sobre a forma da distribuição dos dados.\n",
    "\n",
    "b. Transforme os dados usando logaritmos; isto é, seja $y*$ (novo valor) $= \\log{y}$ (log natural do valor valor antigo). Construa os três gráficos novamente para os dados transformados e faça comentários a respeito\n",
    "do efeito da transformação."
   ]
  },
  {
   "cell_type": "markdown",
   "metadata": {
    "id": "ygMv9djFp9DH"
   },
   "source": [
    "**Solução**:"
   ]
  },
  {
   "cell_type": "markdown",
   "metadata": {
    "id": "FelwAF_Mqdw_"
   },
   "source": [
    "#Questão 5\n",
    "\n",
    "A quantidade de tempo que um consumidor gasta esperando\n",
    "no balcão de check-in de um aeroporto é uma variável aleatória, com média de 8,2 minutos e desvio-padrão de 1,5 minuto. Suponha que uma amostra aleatória de n = 49 consumidores seja observada. Encontre a probabilidade de que o tempo médio de espera na fila para\n",
    "esses consumidores seja:\n",
    "\n",
    "a. Menor do que dez minutos\n",
    "\n",
    "b. Entre cinco e dez minutos\n",
    "\n",
    "c. Menor do que seis minutos"
   ]
  },
  {
   "cell_type": "markdown",
   "metadata": {
    "id": "_V_DWXC4qdxA"
   },
   "source": [
    "**Solução**:"
   ]
  },
  {
   "cell_type": "markdown",
   "metadata": {
    "id": "ybL_syg6t4ff"
   },
   "source": [
    "#Questão 6\n",
    "\n",
    "Uma população normal tem média igual a 100 e variância igual a 25. Quão grande tem de ser a amostra aleatória, se quisermos que o erro-padrão da média amostral seja igual a 1,5?"
   ]
  },
  {
   "cell_type": "markdown",
   "metadata": {
    "id": "CXMIZrXVvMJD"
   },
   "source": [
    "**Solução**:"
   ]
  },
  {
   "cell_type": "markdown",
   "metadata": {
    "id": "gYtO8pu4vMI3"
   },
   "source": [
    "#Questão 7\n",
    "\n",
    "Uma amostra aleatória foi retirada de uma distribuição normal e os seguintes intervalos de confiança construídos usando os mesmos dados: $(38.02; 61.98)$ e $(39.95; 60.05)$.\n",
    "\n",
    "a. Qual é o valor da média da amostra?\n",
    "\n",
    "b. Sabendo que um desses intervalos é de 95% de confiança e o outro é de 90% de confiança, indique qual deles é o de 95 % de confiança e por quê?"
   ]
  },
  {
   "cell_type": "markdown",
   "metadata": {
    "id": "nc1uue-8t4fg"
   },
   "source": [
    "**Solução**:"
   ]
  },
  {
   "cell_type": "markdown",
   "metadata": {
    "id": "fTnmlZDF6Fig"
   },
   "source": [
    "#Questão 8\n",
    "\n",
    "As pesquisas para a eleição presidencial de 2018 do estado de São Paulo forneceram os seguintes resultados. Havia 2020 pessoas consultadas nas pesquisas e 768 eram graduadas em faculdades. Das pessoas graduadas em faculdades, 412 votaram em Haddad. Das pessoas não graduadas 536 votaram em Haddad. Assim:\n",
    "\n",
    "a. Calcule um intervalo de confiança de 95% para a proporção de pessoas graduadas em São Paulo que votaram em Haddad.\n",
    "\n",
    "b. Ter ou não graduação influencia no voto em Haddad?"
   ]
  },
  {
   "cell_type": "markdown",
   "metadata": {
    "id": "BKdmR91R6knJ"
   },
   "source": [
    "**Solução**:"
   ]
  },
  {
   "cell_type": "markdown",
   "metadata": {
    "id": "oMVGUL9kALv8"
   },
   "source": [
    "#Questão 9\n",
    "\n",
    "Uma empresa de eletricidade instalou medidores especiais\n",
    "em dez casas de uma subdivisão que mede o consumo de energia a cada hora do dia. A companhia está interessada na demanda de energia em uma hora específica – a hora em que o sistema experimenta o pico de consumo. Os dados (em kW) desses dez medidores são: 23,1; 15,6; 17,4; 20,1; 19,8; 26,4; 25,1; 20,5;\n",
    "21,9 e 28,7. \n",
    "\n",
    "Se $\\mu$ for o verdadeiro pico médio da demanda para as\n",
    "dez casas nesse grupo tendo medidores especiais, estime $\\mu$. Agora, suponha que a empresa queira estimar a demanda na hora do pico para todas as 5000 casas nessa subdivisão. Seja $\\theta$ essa grandeza. **Estime $\\theta$ usando os dados fornecidos anteriormente**.\n",
    "\n",
    "**Estime ainda a proporção de casas na subdivisão que demanda no mínimo 20 kW na hora de pico do sistema**."
   ]
  },
  {
   "cell_type": "markdown",
   "metadata": {
    "id": "6g0endd2ALv9"
   },
   "source": [
    "**Solução**:"
   ]
  },
  {
   "cell_type": "markdown",
   "metadata": {
    "id": "UoB5_IGkUOwm"
   },
   "source": [
    "#Questão 10\n",
    "\n",
    "Um fabricante de semicondutores coleta dados provenientes de uma nova ferramenta e conduz um teste de hipóteses, com a hipótese nula sendo a largura média de uma dimensão crítica igual a 100 nm. A conclusão é de não rejeitar a hipótese nula. Esse resultado fornece\n",
    "uma evidência forte de que a média da dimensão crítica é igual a 100 nm? Explique."
   ]
  },
  {
   "cell_type": "markdown",
   "metadata": {
    "id": "NpPi38EWUSW1"
   },
   "source": [
    "**Solução**:"
   ]
  },
  {
   "cell_type": "markdown",
   "metadata": {
    "id": "QTx4QviabvJT"
   },
   "source": [
    "# Questão 11\n",
    "\n",
    "Um artigo publicado em *Growth: A Journal Devoted to Problems of Normal and Abnormal Growth* [“Comparison of Measured and Estimated Fat-Free Weight, Fat, Potassium and Nitrogen of Growing Guinea Pigs” (1982, Vol. 46(4), pp. 306-321)] mediu o peso (em gramas) do corpo dos leitões em seu nascimento.\n",
    "\n",
    "421,0 452,6 456,1 494,6 373,8 90,5 110,7 96,4 81,7 102,4\n",
    "241,0 296,0 317,0 290,9 256,5 447,8 687,6 705,7 879,0 88,8 296,0 273,0 268,0 227,5 279,3 258,5 296,0\n",
    "\n",
    "a. Teste a hipótese de que o peso médio do corpo é de 300 gramas. Use $\\alpha = 0.05$.\n",
    "\n",
    "b. Qual é o menor nível de significância ao qual você rejeitar a hipótese nula?\n",
    "\n",
    "c. Explique como você responderia à pergunta do item (a)\n",
    "com um intervalo bilateral de confiança para o peso médio do corpo."
   ]
  },
  {
   "cell_type": "markdown",
   "metadata": {
    "id": "d0EVt79_bwlS"
   },
   "source": [
    "**Solução**:"
   ]
  },
  {
   "cell_type": "markdown",
   "metadata": {
    "id": "5MXKlYWAcUl0"
   },
   "source": [
    "#Questão 12\n",
    "\n",
    "Um artigo em *Fortune* (21 de setembro de 1992) afirmou que aproximadamente metade de todos os engenheiros continua seus estudos acadêmicos além do grau de bacharelado, recebendo no final o grau de mestre ou doutor. Dados de um artigo em *Engineering Horizons* (primavera de 1990) indicaram que 117 de 484 novos engenheiros graduados estavam planejando fazer pós-graduação.\n",
    "\n",
    "a. Os dados da *Engineering Horizons* são consistentes com a afirmação reportada pela *Fortune*? Use $\\alpha = 0.05$ para alcançar as suas conclusões. Encontre o valor P para o teste.\n",
    "\n",
    "b. Discuta como a questão do item (a) poderia ser respondida pela construção de um intervalo bilateral de confiança para $\\hat{p}$."
   ]
  },
  {
   "cell_type": "markdown",
   "metadata": {
    "id": "Z_lHEWqoct9e"
   },
   "source": [
    "**Solução**:"
   ]
  },
  {
   "cell_type": "markdown",
   "metadata": {
    "id": "0hlOGPD4c1kr"
   },
   "source": [
    "#Questão 13\n",
    "\n",
    "Um artigo em *Biological Trace Element Research* [“Interaction of Dietary Calcium, Manganese, and Manganese Source (Mn Oxide or Mn Methionine Complex) or Chick Performance and Manganese Utilization” (1991, Vol. 29(3), pp. 217-228)] mostrou os seguintes\n",
    "resultados de ensaio de manganês em tecidos do fígado de pintos alimentados com dietas ricas em Ca.\n",
    "\n",
    "6,02 6,08 7,11 5,73 5,32 7,10 5,29 5,84 6,03 5,99 4,53 6,81\n",
    "\n",
    "a. Teste a hipótese $H_0: \\sigma^2 = 0.6$ versus $H_a: \\sigma^2 \\neq 0.6$, usando $\\alpha = 0.01$.\n",
    "\n",
    "b. Qual é o valor P para esse teste?"
   ]
  },
  {
   "cell_type": "markdown",
   "metadata": {
    "id": "8mqKFaCldXNG"
   },
   "source": [
    "**Solução**:"
   ]
  },
  {
   "cell_type": "markdown",
   "metadata": {
    "id": "v1_hWtXWem51"
   },
   "source": [
    "#Questão 14\n",
    "\n",
    "Um engenheiro da computação está investigando o desempenho de duas diferentes linguagens de programação na melhoria de tarefas computacionais. Doze programadores experientes, familiarizados\n",
    "com ambas as linguagens, codificaram uma função‐padrão nas duas linguagens. O tempo (em minutos) foi registrado, e os dados são mostrados a seguir.\n",
    "\n",
    "Programador|Tempo da LP1|Tempo da LP2|\n",
    "---|---|---|\n",
    "1|17|18\n",
    "2|16|14\n",
    "3|21|19\n",
    "4|14|11\n",
    "5|18|23\n",
    "6|24|21\n",
    "7|16|10\n",
    "8|14|13\n",
    "9|21|19\n",
    "10|23|24\n",
    "11|13|15\n",
    "12|18|20\n",
    "\n",
    "a. A suposição de a diferença no tempo de codificação ser normalmente distribuída é razoável?\n",
    "\n",
    "b. Existe evidência estatística de que uma linguagem de programação seja preferível?"
   ]
  },
  {
   "cell_type": "markdown",
   "metadata": {
    "id": "BRERxxeaffNu"
   },
   "source": [
    "**Solução**:"
   ]
  }
 ],
 "metadata": {
  "colab": {
   "authorship_tag": "ABX9TyPJgyGub1ZEwuPBh3HYYS8A",
   "collapsed_sections": [
    "aydlSKgV7QN-",
    "egNzkv0R8LqU",
    "pSA_WMmepPo4",
    "cTa8Iw61p9DG",
    "FelwAF_Mqdw_",
    "ybL_syg6t4ff",
    "gYtO8pu4vMI3",
    "fTnmlZDF6Fig",
    "oMVGUL9kALv8",
    "UoB5_IGkUOwm",
    "QTx4QviabvJT",
    "5MXKlYWAcUl0",
    "0hlOGPD4c1kr",
    "v1_hWtXWem51"
   ],
   "name": "Lista 02.ipynb",
   "provenance": [
    {
     "file_id": "14WLdnoVF_HFB3kNmHMQ58gi9aXD_JJRW",
     "timestamp": 1642076015353
    }
   ],
   "toc_visible": true
  },
  "kernelspec": {
   "display_name": "Python 3",
   "name": "python3"
  },
  "language_info": {
   "name": "python"
  }
 },
 "nbformat": 4,
 "nbformat_minor": 0
}
