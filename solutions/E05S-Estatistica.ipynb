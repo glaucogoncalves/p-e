{
 "cells": [
  {
   "cell_type": "markdown",
   "metadata": {
    "id": "_cl9TCm77OPg"
   },
   "source": [
    "# Lista de exercícios sobre estatística\n",
    "\n",
    "**Estudante**: *SOLUÇÃO*\n",
    "\n",
    "---\n",
    "\n",
    "Faça uma cópia deste colab e entregue-o via SIGAA.\n",
    "\n",
    "**Atenção**: Procure responder as questões abaixo com atenção. Uma boa resposta não deve conter apenas fórmulas e cálculos, mas boas explicações que permitam identificar que você compreendeu a teoria e a prática do assunto. Você pode mesclar suas respostas com trechos de código, se desejar.\n"
   ]
  },
  {
   "cell_type": "markdown",
   "metadata": {
    "id": "aydlSKgV7QN-"
   },
   "source": [
    "#Questão 1\n",
    "Semeadura de nuvens, um processo em que químicos, tais\n",
    "como iodeto de prata e dióxido de carbono congelado, são introduzidos nas nuvens por avião para provocar chuva, foi amplamente usada no século XX. A pesquisa \n",
    "[“Reassessment of Rain Enhancement Experiments and Operations in Israel Including Synoptic Considerations”, Journal of Atmospheric Research (2010, Vol. 97(4), pp. 513-525)] questiona a eficiência deste método. Um experimento foi feito estabelecendo aleatoriamente que 52 nuvens seriam semeadas ou não. A quantidade de chuva gerada foi então medida em acre-pé. A seguir, os dados de nuvens semeadas e não semeadas:\n",
    "\n",
    "Categoria | Quantidade de Chuva |\n",
    "---|---|\n",
    "**Não semeadas** | 81,2 26,1 95,0 41,1 28,6 21,7 11,5 68,5 345,5 321,2 1202,6 1,0 4,9 163,0 372,4 244,3 47,3 87,0 26,3 24,4 830,1 4,9 36,6 147,8 17,3 29,0 |\n",
    "**Semeadas** | 274,7 302,8 242,5 255,0 17,5 115,3 31,4 703,4 334,1 1697,8 118,3 198,6 129,6 274,7 119,0 1656,0 7,7 430,0 40,6 92,4 200,7 32,7 4,1 978,0 489,1 2745,6 |\n",
    "\n",
    "Com base em seus conhecimentos estatísticos, discuta se a semeadura de nuvens afeta a quantidade de chuva."
   ]
  },
  {
   "cell_type": "markdown",
   "metadata": {
    "id": "ssjtIsVO8IHY"
   },
   "source": [
    "**Solução**: Para saber se a semeadura afeta a quantidade de chuva iremos comparar isso faremos um teste de hipótese para diferenças individuais com seguintes as hipóteses:\n",
    "$H_0: \\mu_{SEM} = \\mu_{NSEM} \\\\\n",
    "H_a: \\mu_{SEM} \\gt \\mu_{NSEM}$. \n",
    "\n",
    "Começaremos construindo os dados das nuvens semeadas e não semeadas, para conhecê-los melhor."
   ]
  },
  {
   "cell_type": "code",
   "execution_count": null,
   "metadata": {
    "colab": {
     "base_uri": "https://localhost:8080/",
     "height": 568
    },
    "executionInfo": {
     "elapsed": 801,
     "status": "ok",
     "timestamp": 1643299038032,
     "user": {
      "displayName": "GLAUCO ESTACIO GONCALVES",
      "photoUrl": "https://lh3.googleusercontent.com/a-/AOh14Gii6rFq02e0Is_p2OM1leqzTRl7krqppVTFNHCC=s64",
      "userId": "05760174406921703324"
     },
     "user_tz": 180
    },
    "id": "K17jrPuzGb-x",
    "outputId": "331ebb0b-78d8-4bf7-a1dc-8f07ab55e01d"
   },
   "outputs": [
    {
     "name": "stdout",
     "output_type": "stream",
     "text": [
      "44.2 DescribeResult(nobs=26, minmax=(1.0, 1202.6), mean=164.58846153846156, variance=77521.26266153844, skewness=2.6256238268217693, kurtosis=6.461547010268017)\n",
      "221.6 DescribeResult(nobs=26, minmax=(4.1, 2745.6), mean=441.9846153846154, variance=423523.94215384615, skewness=2.2924315752347404, kurtosis=4.691325607619277)\n"
     ]
    },
    {
     "data": {
      "image/png": "[encoded data removed]",
      "text/plain": [
       "<Figure size 432x288 with 1 Axes>"
      ]
     },
     "metadata": {
      "needs_background": "light"
     },
     "output_type": "display_data"
    },
    {
     "data": {
      "image/png": "[encoded data removed]",
      "text/plain": [
       "<Figure size 432x288 with 1 Axes>"
      ]
     },
     "metadata": {
      "needs_background": "light"
     },
     "output_type": "display_data"
    }
   ],
   "source": [
    "import numpy as np\n",
    "import scipy.stats as st\n",
    "import matplotlib.pyplot as plt\n",
    "\n",
    "nsem = np.array([81.2,26.1,95.0,41.1,28.6,21.7,11.5,68.5,345.5,321.2,1202.6,\n",
    "                 1.0,4.9,163.0,372.4,244.3,47.3,87.0,26.3,24.4,830.1,4.9,36.6,\n",
    "                 147.8,17.3,29.0])\n",
    "sem = np.array([274.7,302.8,242.5,255.0,17.5,115.3,31.4,703.4,334.1,1697.8,118.3,198.6,\n",
    "       129.6,274.7,119.0,1656.0,7.7,430.0,40.6,92.4,200.7,32.7,4.1,978.0,489.1,\n",
    "       2745.6])\n",
    "\n",
    "print(np.median(nsem),st.describe(nsem))\n",
    "print(np.median(sem),st.describe(sem))\n",
    "plt.hist(nsem,label='nsem')\n",
    "plt.hist(sem,label='sem')\n",
    "plt.legend()\n",
    "plt.show()\n",
    "plt.boxplot([nsem,sem],labels=['nsem','sem'])\n",
    "plt.show()"
   ]
  },
  {
   "cell_type": "markdown",
   "metadata": {
    "id": "ogSzvz6oJZrC"
   },
   "source": [
    "A **forte assimetria** nos dados nos impede de usar testes de hipóteses cuja suposição de normalidade é presumida (Teste T). Além disso, sabemos que **a média não é representativa nestes casos**, sendo aconselhável o uso da mediana.\n",
    "\n",
    "Podemos então usar um `Teste U de Mann-Whitney` para mediana."
   ]
  },
  {
   "cell_type": "code",
   "execution_count": null,
   "metadata": {
    "colab": {
     "base_uri": "https://localhost:8080/"
    },
    "executionInfo": {
     "elapsed": 424,
     "status": "ok",
     "timestamp": 1643298381511,
     "user": {
      "displayName": "GLAUCO ESTACIO GONCALVES",
      "photoUrl": "https://lh3.googleusercontent.com/a-/AOh14Gii6rFq02e0Is_p2OM1leqzTRl7krqppVTFNHCC=s64",
      "userId": "05760174406921703324"
     },
     "user_tz": 180
    },
    "id": "M2AGYjjhLD5c",
    "outputId": "56ae4813-9787-4256-fe2e-603f7d0dd855"
   },
   "outputs": [
    {
     "data": {
      "text/plain": [
       "MannwhitneyuResult(statistic=473.0, pvalue=0.0069156486351175175)"
      ]
     },
     "execution_count": 18,
     "metadata": {},
     "output_type": "execute_result"
    }
   ],
   "source": [
    "st.mannwhitneyu(sem,nsem,alternative='greater')"
   ]
  },
  {
   "cell_type": "markdown",
   "metadata": {
    "id": "lKpc-9iIMM1I"
   },
   "source": [
    "Abaixo também construíremos um teste bootstrap para verificar este resultado. O teste parte do entendimento de que **se $H_0$ é válida**, **então podemos considerar os dados todos como de uma mesma população**. Assim, as diferenças de repetidas subamostras destes dados podem ser usadas para construir a distribuição empírica da mediana sob $H_0$ e assim observar quão \"estranho\" é a diferença de medianas observada entre os tratamentos."
   ]
  },
  {
   "cell_type": "code",
   "execution_count": null,
   "metadata": {
    "colab": {
     "base_uri": "https://localhost:8080/",
     "height": 300
    },
    "executionInfo": {
     "elapsed": 833,
     "status": "ok",
     "timestamp": 1643299058927,
     "user": {
      "displayName": "GLAUCO ESTACIO GONCALVES",
      "photoUrl": "https://lh3.googleusercontent.com/a-/AOh14Gii6rFq02e0Is_p2OM1leqzTRl7krqppVTFNHCC=s64",
      "userId": "05760174406921703324"
     },
     "user_tz": 180
    },
    "id": "rjzTdVc6MRnq",
    "outputId": "943a44b2-0089-4136-91d3-c70767314d69"
   },
   "outputs": [
    {
     "data": {
      "image/png": "[encoded data removed]",
      "text/plain": [
       "<Figure size 432x288 with 1 Axes>"
      ]
     },
     "metadata": {
      "needs_background": "light"
     },
     "output_type": "display_data"
    },
    {
     "name": "stdout",
     "output_type": "stream",
     "text": [
      "T0 =  177.39999999999998\n",
      "p-valor =  0.015\n"
     ]
    }
   ],
   "source": [
    "import random\n",
    "\n",
    "def reamostra(dados,n1,n2):\n",
    " pageA = random.choices(dados,k=n1)\n",
    " pageB = random.choices(dados,k=n2)\n",
    " return np.median(pageA) - np.median(pageB)\n",
    "\n",
    "def boot(dados,n1,n2,t0,R=10000):\n",
    " Td = []\n",
    " for i in range(R):\n",
    "   Td.append(reamostra(dados,n1,n2))\n",
    " plt.hist(Td)\n",
    " plt.plot([t0,t0],[0,200])\n",
    " plt.show()\n",
    " pvalor = sum(i > t0 for i in Td)/R\n",
    " print(\"T0 = \",t0)\n",
    " print(\"p-valor = \",pvalor)\n",
    "\n",
    "t0 = np.median(sem) - np.median(nsem)\n",
    "total = np.concatenate([sem,nsem])\n",
    "boot(total,26,26,t0,R=1000)"
   ]
  },
  {
   "cell_type": "markdown",
   "metadata": {
    "id": "aSzmyXK9OEyc"
   },
   "source": [
    "Por ambos os testes concluímos à 95% de confiança que este processo de semeadura é eficaz."
   ]
  },
  {
   "cell_type": "markdown",
   "metadata": {
    "id": "egNzkv0R8LqU"
   },
   "source": [
    "#Questão 2\n",
    "Os seguintes dados são os números de ciclos, até falhar, de corpos de prova de alumínio, sujeitos a uma tensão alternada repetida, de 21.000 psi e 18 ciclos por segundo.\n",
    "\n",
    "1115\n",
    "1310\n",
    "1540\n",
    "1502\n",
    "1258\n",
    "1315\n",
    "1085\n",
    "798\n",
    "1020\n",
    "865\n",
    "2130\n",
    "1421\n",
    "1109\n",
    "1481\n",
    "1567\n",
    "1883\n",
    "1203\n",
    "1270\n",
    "1015\n",
    "845\n",
    "1674\n",
    "1016\n",
    "1102\n",
    "1605\n",
    "706\n",
    "2215\n",
    "785\n",
    "885\n",
    "1223\n",
    "375\n",
    "2265\n",
    "1910\n",
    "1018\n",
    "1452\n",
    "1890\n",
    "2100\n",
    "1594\n",
    "2023\n",
    "1315\n",
    "1269\n",
    "1260\n",
    "1888\n",
    "1782\n",
    "1522\n",
    "1792\n",
    "1000\n",
    "1820\n",
    "1940\n",
    "1120\n",
    "910\n",
    "1730\n",
    "1102\n",
    "1578\n",
    "758\n",
    "1416\n",
    "1560\n",
    "1055\n",
    "1764\n",
    "1330\n",
    "1608\n",
    "1535\n",
    "1781\n",
    "1750\n",
    "1501\n",
    "1238\n",
    "990\n",
    "1468\n",
    "1512\n",
    "1750\n",
    "1642\n",
    "\n",
    "Com base em seus conhecimentos de estatística, calcule a probabilidade de que um corpo de prova “sobreviverá” além de 2000 ciclos? Justifique sua resposta.\n"
   ]
  },
  {
   "cell_type": "markdown",
   "metadata": {
    "id": "pSVEhnFF8LqV"
   },
   "source": [
    "**Solução**: Um estimador não-viesado desta probabilidade é a proporção de valores maior que 2000 no conjunto de dados. Podemos ainda calcular um intervalo de confiança para esta proporção usando a distribuição Normal Padrão e via bootstrap. Abaixo analisamos os dados e calculamos estas estatísticas."
   ]
  },
  {
   "cell_type": "code",
   "execution_count": null,
   "metadata": {
    "colab": {
     "base_uri": "https://localhost:8080/",
     "height": 849
    },
    "executionInfo": {
     "elapsed": 932,
     "status": "ok",
     "timestamp": 1643302458467,
     "user": {
      "displayName": "GLAUCO ESTACIO GONCALVES",
      "photoUrl": "https://lh3.googleusercontent.com/a-/AOh14Gii6rFq02e0Is_p2OM1leqzTRl7krqppVTFNHCC=s64",
      "userId": "05760174406921703324"
     },
     "user_tz": 180
    },
    "id": "v24Q3ueGRiS3",
    "outputId": "94676a29-11e8-44e3-b58e-645030302e38"
   },
   "outputs": [
    {
     "name": "stdout",
     "output_type": "stream",
     "text": [
      "1436.5 DescribeResult(nobs=70, minmax=(375, 2265), mean=1403.6571428571428, variance=161913.88074534162, skewness=-0.02454458285732448, kurtosis=-0.49790800072237174)\n"
     ]
    },
    {
     "data": {
      "image/png": "[encoded data removed]",
      "text/plain": [
       "<Figure size 432x288 with 1 Axes>"
      ]
     },
     "metadata": {
      "needs_background": "light"
     },
     "output_type": "display_data"
    },
    {
     "data": {
      "image/png": "[encoded data removed]",
      "text/plain": [
       "<Figure size 432x288 with 1 Axes>"
      ]
     },
     "metadata": {
      "needs_background": "light"
     },
     "output_type": "display_data"
    },
    {
     "data": {
      "image/png": "[encoded data removed]",
      "text/plain": [
       "<Figure size 432x288 with 1 Axes>"
      ]
     },
     "metadata": {
      "needs_background": "light"
     },
     "output_type": "display_data"
    },
    {
     "name": "stdout",
     "output_type": "stream",
     "text": [
      "Chance de sobreviver a mais de 2000 ciclos (bootstrap) 0.07178571428571395 ± 0.043214285714285386\n",
      "Chance de sobreviver a mais de 2000 ciclos (IC para proporção) 0.07142857142857142 ± 0.060332412515993424\n"
     ]
    }
   ],
   "source": [
    "import numpy as np\n",
    "import scipy.stats as st\n",
    "import matplotlib.pyplot as plt\n",
    "\n",
    "vida = np.array([1115,1310,1540,1502,1258,1315,1085,798,1020,865,2130,1421,1109,\n",
    "                 1481,1567,1883,1203,1270,1015,845,1674,1016,1102,1605,706,2215,\n",
    "                 785,885,1223,375,2265,1910,1018,1452,1890,2100,1594,2023,1315,\n",
    "                 1269,1260,1888,1782,1522,1792,1000,1820,1940,1120,910,1730,1102,\n",
    "                 1578,758,1416,1560,1055,1764,1330,1608,1535,1781,1750,1501,1238,\n",
    "                 990,1468,1512,1750,1642])\n",
    "\n",
    "print(np.median(vida),st.describe(vida))\n",
    "plt.hist(vida)\n",
    "plt.show()\n",
    "plt.boxplot([vida],labels=['vida'])\n",
    "plt.show()\n",
    "\n",
    "p = (vida>2000).sum()/len(vida)\n",
    "se = 1.96*np.sqrt(p*(1-p)/len(vida))\n",
    "\n",
    "def boot(dados,r):\n",
    "  #lista para armazenar o parametro de interesse (P(V>2000))\n",
    "  theta = []\n",
    "  n = len(dados)\n",
    "  #obtendo as réplicas e calculando a mediana\n",
    "  for i in range(r):\n",
    "    Si = np.array(random.choices(list(dados),k=n))\n",
    "    theta.append((Si>2000).sum()/len(Si))\n",
    "  \n",
    "  CIinf = np.quantile(theta,0.05)\n",
    "  CIsup = np.quantile(theta,0.95)\n",
    "  plt.hist(theta)\n",
    "  plt.title(\"Distribuição via bootstrap\")\n",
    "  plt.show()\n",
    "  centro = (CIinf+CIsup)/2\n",
    "  fator = CIsup - centro\n",
    "  return str(centro)+\" ± \"+str(fator)\n",
    "\n",
    "print(\"Chance de sobreviver a mais de 2000 ciclos (bootstrap)\",boot(vida,1000))\n",
    "print(\"Chance de sobreviver a mais de 2000 ciclos (IC para proporção)\",p,\"±\",se)"
   ]
  },
  {
   "cell_type": "markdown",
   "metadata": {
    "id": "I8AonxV_XwRD"
   },
   "source": [
    "A despeito de algumas variações, destes resultados estimamos que há uma chance de aproximadamente 7% de que um corpo de prova sobreviva 2000 ciclos. \n",
    "\n",
    "Podemos ainda **assumir que esta amostra é representativa da forma da distribuição da população** e estimar a partir destes dados os parâmetros de uma distribuição de probabilidade. Assim, poderemos estimar a chance de que um corpo de prova sobreviva 2000 ciclos a partir da distribuição.\n",
    "\n",
    "Embora o histograma revele duas modas, vemos que os dados são razoavelmente simétricos. Portanto iremos usar a distribuição normal neste caso. Abaixo fazemos a estimativa dos parâmetros $\\mu$ e $\\sigma$ da Distribuição Normal via MLE e mostramos a qualidade do ajuste via teste de aderência $\\chi^2$."
   ]
  },
  {
   "cell_type": "code",
   "execution_count": null,
   "metadata": {
    "colab": {
     "base_uri": "https://localhost:8080/",
     "height": 389
    },
    "executionInfo": {
     "elapsed": 944,
     "status": "ok",
     "timestamp": 1643302363280,
     "user": {
      "displayName": "GLAUCO ESTACIO GONCALVES",
      "photoUrl": "https://lh3.googleusercontent.com/a-/AOh14Gii6rFq02e0Is_p2OM1leqzTRl7krqppVTFNHCC=s64",
      "userId": "05760174406921703324"
     },
     "user_tz": 180
    },
    "id": "ONUVj5rAZmxN",
    "outputId": "b5cdfad0-ee5f-4a12-9d3e-8c1d271f59f8"
   },
   "outputs": [
    {
     "name": "stdout",
     "output_type": "stream",
     "text": [
      "Parâmetros (1403.6571428571428, 399.500720032045)\n"
     ]
    },
    {
     "data": {
      "image/png": "[encoded data removed]",
      "text/plain": [
       "<Figure size 432x288 with 1 Axes>"
      ]
     },
     "metadata": {
      "needs_background": "light"
     },
     "output_type": "display_data"
    },
    {
     "name": "stdout",
     "output_type": "stream",
     "text": [
      "[375, 800, 1000, 1100, 1250, 1350, 1500, 1600, 1750, 2000, 2265]\n",
      "[5, 6, 6, 8, 8, 5, 10, 7, 10, 5]\n",
      "[4.226352276155034, 6.353223433858625, 4.721432794596687, 8.866093659358677, 6.742408921396842, 10.409364416011318, 6.521861379703685, 8.299142276330354, 8.766271161901894, 3.6550678651603663]\n",
      "6.364502831456642\n",
      "0.497890027953114\n"
     ]
    }
   ],
   "source": [
    "params = st.norm.fit(vida)\n",
    "\n",
    "sup = np.linspace(min(vida),max(vida),1000)\n",
    "plt.hist(vida,label=\"dados\",density=True)\n",
    "plt.plot(sup,st.norm.pdf(sup,params[0],params[1]),label=\"norm\")\n",
    "print(\"Parâmetros\",params)\n",
    "plt.legend()\n",
    "plt.show()\n",
    "\n",
    "mu = params[0]\n",
    "sigma = params[1]\n",
    "\n",
    "X = vida\n",
    "\n",
    "X.sort()\n",
    "splitarray = [min(X),800,1000,1100,1250,1350,1500,1600,1750,2000,max(X)]\n",
    "print(splitarray)\n",
    "\n",
    "obs=[0]*(len(splitarray)-1)\n",
    "esp=[0]*(len(splitarray)-1)\n",
    "\n",
    "for x in X:\n",
    "  for i in range(len(obs)):\n",
    "    if x <= splitarray[i+1]:\n",
    "      obs[i] += 1\n",
    "      break\n",
    "\n",
    "for i in range(len(obs)):\n",
    "  sup = st.norm.cdf(splitarray[i+1],mu,sigma)\n",
    "  inf = st.norm.cdf(splitarray[i],mu,sigma)\n",
    "  p = sup-inf\n",
    "  esp[i] = len(X)*p\n",
    "\n",
    "print(obs)\n",
    "print(esp)\n",
    "(chi_stat, p_value) = st.chisquare(obs,esp,ddof=len(params))\n",
    "print(chi_stat)\n",
    "print(p_value)"
   ]
  },
  {
   "cell_type": "markdown",
   "metadata": {
    "id": "oZeY2ZUlctYU"
   },
   "source": [
    "Com base nisso, podemos estimar a $P(\\text{Vida}\\gt 2000) = 1 - F_{\\text{N(1403.66,399.50)}}(2000)$"
   ]
  },
  {
   "cell_type": "code",
   "execution_count": null,
   "metadata": {
    "colab": {
     "base_uri": "https://localhost:8080/"
    },
    "executionInfo": {
     "elapsed": 300,
     "status": "ok",
     "timestamp": 1643302509616,
     "user": {
      "displayName": "GLAUCO ESTACIO GONCALVES",
      "photoUrl": "https://lh3.googleusercontent.com/a-/AOh14Gii6rFq02e0Is_p2OM1leqzTRl7krqppVTFNHCC=s64",
      "userId": "05760174406921703324"
     },
     "user_tz": 180
    },
    "id": "R_wfnL6pdNIp",
    "outputId": "e2bf9fd6-5ce9-470e-da09-620b1e429a9f"
   },
   "outputs": [
    {
     "name": "stdout",
     "output_type": "stream",
     "text": [
      "Chance de sobreviver a mais de 2000 ciclos (distr Normal) 0.06775520127711976\n"
     ]
    }
   ],
   "source": [
    "p = 1 - st.norm.cdf(2000,params[0],params[1])\n",
    "print(\"Chance de sobreviver a mais de 2000 ciclos (distr Normal)\",p)"
   ]
  },
  {
   "cell_type": "markdown",
   "metadata": {
    "id": "pSA_WMmepPo4"
   },
   "source": [
    "#Questão 3\n",
    "\n",
    "Uma amostra com seis resistores resultou nas seguintes resistências (ohms): $x_1 = 45$, $x_2 = 38$, $x_3 = 47$, $x_4 = 41$, $x_5 = 35$ e $x_6 = 43$.\n",
    "\n",
    "a. Calcule a variância ($s^2$) e o desvio-padrão ($s$) da amostra.\n",
    "\n",
    "b. Subtraia 35 de cada uma das medidas originais de resistências e calcule $s^2$ e $s$. Compare seus resultados com aqueles obtidos no item (a) e explique sua resposta.\n",
    "\n",
    "c. Se as resistências fossem 450; 380; 470; 410; 350 e 430 ohms, você poderia usar os resultados dos itens anteriores deste problema para encontrar $s^2$ e $s$?\n"
   ]
  },
  {
   "cell_type": "markdown",
   "metadata": {
    "id": "T-qgXVyhpuwP"
   },
   "source": [
    "**Solução**: Para o item (a) devemos observar que se trata dos valores amostrais e **portanto devemos subtrair 1 do denominador**. \n",
    "\n",
    "No item (b) sabemos que ao **subtrairmos uma constante de uma VA sua variância não muda**, consequentemente seu desvio-padrão não muda também. \n",
    "\n",
    "No item (c), vemos que os valores oferecidos, são os valores originais multiplicados por 10. Assim sabemos que a variância será 100 vezes maior e que o desvio-padrão será 10 vezes maior.\n",
    "\n",
    "Abaixo mostramos códigos para suportar estas respostas."
   ]
  },
  {
   "cell_type": "code",
   "execution_count": null,
   "metadata": {
    "colab": {
     "base_uri": "https://localhost:8080/"
    },
    "executionInfo": {
     "elapsed": 766,
     "status": "ok",
     "timestamp": 1643809241879,
     "user": {
      "displayName": "GLAUCO ESTACIO GONCALVES",
      "photoUrl": "https://lh3.googleusercontent.com/a-/AOh14Gii6rFq02e0Is_p2OM1leqzTRl7krqppVTFNHCC=s64",
      "userId": "05760174406921703324"
     },
     "user_tz": 180
    },
    "id": "nAQHw-Ubd6Nj",
    "outputId": "418cfe8e-09cd-4497-fd81-8405720d38b0"
   },
   "outputs": [
    {
     "name": "stdout",
     "output_type": "stream",
     "text": [
      "Variância 19.9\n",
      "Desvio padrão 4.460941604639093\n",
      "Variância 19.9\n",
      "Desvio padrão 4.460941604639093\n",
      "Variância 1990.0\n",
      "Desvio padrão 44.609416046390926\n"
     ]
    }
   ],
   "source": [
    "import numpy as np\n",
    "\n",
    "dados = np.array([45,38,47,41,35,43])\n",
    "#a\n",
    "print(\"Variância\",np.var(dados,ddof=1))\n",
    "print(\"Desvio padrão\",np.std(dados,ddof=1))\n",
    "\n",
    "#b\n",
    "dados35 = dados-35\n",
    "print(\"Variância\",np.var(dados35,ddof=1))\n",
    "print(\"Desvio padrão\",np.std(dados35,ddof=1))\n",
    "\n",
    "#c\n",
    "dados10 = dados*10\n",
    "print(\"Variância\",np.var(dados10,ddof=1))\n",
    "print(\"Desvio padrão\",np.std(dados10,ddof=1))"
   ]
  },
  {
   "cell_type": "markdown",
   "metadata": {
    "id": "cTa8Iw61p9DG"
   },
   "source": [
    "#Questão 4\n",
    "\n",
    "Em alguns conjuntos de dados, uma transformação por alguma função matemática aplicada aos dados originais, tais como $\\sqrt{y}$ ou $\\log{y}$, pode resultar em dados que sejam mais fáceis de trabalhar, estatisticamente, do que os dados originais. Para\n",
    "ilustrar o efeito de uma transformação, considere os seguintes dados, que representam ciclos de falhas de um tecido: 675; 3650; 175; 1150; 290; 2000; 100; 375.\n",
    "\n",
    "a. Construa um histograma, um diagrama de caixa e um gráfico de quantis e comente sobre a forma da distribuição dos dados.\n",
    "\n",
    "b. Transforme os dados usando logaritmos; isto é, seja $y*$ (novo valor) $= \\log{y}$ (log natural do valor valor antigo). Construa os três gráficos novamente para os dados transformados e faça comentários a respeito\n",
    "do efeito da transformação."
   ]
  },
  {
   "cell_type": "markdown",
   "metadata": {
    "id": "ygMv9djFp9DH"
   },
   "source": [
    "**Solução**: Abaixo mostramos os gráficos solicitados para os dados originais (primeira linha de 3 gráficos) e para os dados transformados (segunda linha de 3 gráficos). \n",
    "\n",
    "Observa-se que esta transformação modificou os dados sobremaneira da seguinte forma:\n",
    "* Um dos dados (3650) que estava indicado como *outlier* (boxplot) deixou de sê-lo\n",
    "* Os dados passaram a apresentar uma distribuição uniforme entre 4.5 e 8.0 (histograma), mas também não pode ser descartada a aproximação com a distribuição normal."
   ]
  },
  {
   "cell_type": "code",
   "execution_count": null,
   "metadata": {
    "colab": {
     "base_uri": "https://localhost:8080/",
     "height": 573
    },
    "executionInfo": {
     "elapsed": 1647,
     "status": "ok",
     "timestamp": 1643303508547,
     "user": {
      "displayName": "GLAUCO ESTACIO GONCALVES",
      "photoUrl": "https://lh3.googleusercontent.com/a-/AOh14Gii6rFq02e0Is_p2OM1leqzTRl7krqppVTFNHCC=s64",
      "userId": "05760174406921703324"
     },
     "user_tz": 180
    },
    "id": "dmpPI2shgDyl",
    "outputId": "3dd9ca78-4765-4e77-fd32-0c86040a6f49"
   },
   "outputs": [
    {
     "data": {
      "image/png": "[encoded data removed]",
      "text/plain": [
       "<Figure size 1080x288 with 3 Axes>"
      ]
     },
     "metadata": {
      "needs_background": "light"
     },
     "output_type": "display_data"
    },
    {
     "data": {
      "image/png": "[encoded data removed]",
      "text/plain": [
       "<Figure size 1080x288 with 3 Axes>"
      ]
     },
     "metadata": {
      "needs_background": "light"
     },
     "output_type": "display_data"
    }
   ],
   "source": [
    "import numpy as np\n",
    "import matplotlib.pyplot as plt\n",
    "import scipy.stats as st\n",
    "\n",
    "\n",
    "def graficos(d):\n",
    "  plt.figure(figsize=(15,4))\n",
    "  plt.subplot(1,3,1)\n",
    "  plt.hist(d)\n",
    "  plt.subplot(1,3,2)\n",
    "  plt.boxplot(d)\n",
    "  plt.subplot(1,3,3)\n",
    "  st.probplot(d,dist='norm',plot=plt)\n",
    "  plt.show()\n",
    "\n",
    "dados = np.array([675, 3650, 175, 1150, 290, 2000, 100, 375])\n",
    "dadoslog = np.log(dados)\n",
    "graficos(dados)\n",
    "graficos(dadoslog)"
   ]
  },
  {
   "cell_type": "markdown",
   "metadata": {
    "id": "FelwAF_Mqdw_"
   },
   "source": [
    "#Questão 5\n",
    "\n",
    "A quantidade de tempo que um consumidor gasta esperando\n",
    "no balcão de check-in de um aeroporto é uma variável aleatória, com média de 8,2 minutos e desvio-padrão de 1,5 minuto. Suponha que uma amostra aleatória de n = 49 consumidores seja observada. Encontre a probabilidade de que o tempo médio de espera na fila para\n",
    "esses consumidores seja:\n",
    "\n",
    "a. Menor do que dez minutos\n",
    "\n",
    "b. Entre cinco e dez minutos\n",
    "\n",
    "c. Menor do que seis minutos"
   ]
  },
  {
   "cell_type": "markdown",
   "metadata": {
    "id": "_V_DWXC4qdxA"
   },
   "source": [
    "**Solução**: Como estamos falando de analisar <u>probabilidades a respeito do tempo médio</u> ($\\bar{X}$), podemos empregar o teorema do limite central para inferir que a distribuição do tempo médio é normalmente distribuída com média $E(\\bar{X})=8.2$ e $std(\\bar{X}) = 1.5/\\sqrt{49} = 0.2143$.\n",
    "\n",
    "De posse destes dados, aplicamos probabilidade básica para resolver as questões como mostrado abaixo."
   ]
  },
  {
   "cell_type": "code",
   "execution_count": null,
   "metadata": {
    "colab": {
     "base_uri": "https://localhost:8080/"
    },
    "executionInfo": {
     "elapsed": 300,
     "status": "ok",
     "timestamp": 1643304490440,
     "user": {
      "displayName": "GLAUCO ESTACIO GONCALVES",
      "photoUrl": "https://lh3.googleusercontent.com/a-/AOh14Gii6rFq02e0Is_p2OM1leqzTRl7krqppVTFNHCC=s64",
      "userId": "05760174406921703324"
     },
     "user_tz": 180
    },
    "id": "anvz7GIdkQgi",
    "outputId": "85ffdf8e-be6f-4b2a-a519-fdbed52569ee"
   },
   "outputs": [
    {
     "name": "stdout",
     "output_type": "stream",
     "text": [
      "Menor que 10 min 1.0\n",
      "Entre 5 e 10 min 1.0\n",
      "Menor que 6 min 4.979313594150204e-25\n"
     ]
    }
   ],
   "source": [
    "import numpy as np\n",
    "import scipy.stats as st\n",
    "\n",
    "mu = 8.2\n",
    "sigma = 1.5/np.sqrt(49)\n",
    "#a\n",
    "print(\"Menor que 10 min\",st.norm.cdf(10,mu,sigma))\n",
    "#b\n",
    "print(\"Entre 5 e 10 min\",st.norm.cdf(10,mu,sigma)-st.norm.cdf(5,mu,sigma))\n",
    "#c\n",
    "print(\"Menor que 6 min\",st.norm.cdf(6,mu,sigma))"
   ]
  },
  {
   "cell_type": "markdown",
   "metadata": {
    "id": "ybL_syg6t4ff"
   },
   "source": [
    "#Questão 6\n",
    "\n",
    "Uma população normal tem média igual a 100 e variância igual a 25. Quão grande tem de ser a amostra aleatória, se quisermos que o erro-padrão da média amostral seja igual a 1,5?"
   ]
  },
  {
   "cell_type": "markdown",
   "metadata": {
    "id": "CXMIZrXVvMJD"
   },
   "source": [
    "**Solução**: Sabemos que o erro padrão de $\\bar{X}$ é dado por $std(\\bar{X}) = \\frac{\\sigma}{\\sqrt{n}}$, logo \n",
    "\n",
    "$n = \\frac{\\sigma^2}{std(\\bar{X})^2} = \\frac{25}{2.25} = 11.11 \\sim 12$"
   ]
  },
  {
   "cell_type": "markdown",
   "metadata": {
    "id": "gYtO8pu4vMI3"
   },
   "source": [
    "#Questão 7\n",
    "\n",
    "Uma amostra aleatória foi retirada de uma distribuição normal e os seguintes intervalos de confiança construídos usando os mesmos dados: $(38.02; 61.98)$ e $(39.95; 60.05)$.\n",
    "\n",
    "a. Qual é o valor da média da amostra?\n",
    "\n",
    "b. Sabendo que um desses intervalos é de 95% de confiança e o outro é de 90% de confiança, indique qual deles é o de 95 % de confiança e por quê?"
   ]
  },
  {
   "cell_type": "markdown",
   "metadata": {
    "id": "nc1uue-8t4fg"
   },
   "source": [
    "**Solução**: \n",
    "\n",
    "a) Obtemos a média da amostra, encontrando o ponto médio do intervalo de confiança, que é igual à 50, sendo o mesmo para as duas amostras, visto se tratar de IC para a média sobre a mesma amostra."
   ]
  },
  {
   "cell_type": "code",
   "execution_count": null,
   "metadata": {
    "colab": {
     "base_uri": "https://localhost:8080/"
    },
    "executionInfo": {
     "elapsed": 8,
     "status": "ok",
     "timestamp": 1643304941891,
     "user": {
      "displayName": "GLAUCO ESTACIO GONCALVES",
      "photoUrl": "https://lh3.googleusercontent.com/a-/AOh14Gii6rFq02e0Is_p2OM1leqzTRl7krqppVTFNHCC=s64",
      "userId": "05760174406921703324"
     },
     "user_tz": 180
    },
    "id": "2hLsHuaumtbx",
    "outputId": "8ab6c46c-071a-472d-f2ae-274f07722d08"
   },
   "outputs": [
    {
     "name": "stdout",
     "output_type": "stream",
     "text": [
      "50.0 50.0\n"
     ]
    }
   ],
   "source": [
    "pm1 = (61.98+38.02)/2\n",
    "pm2 = (60.05+39.95)/2\n",
    "print(pm1,pm2)"
   ]
  },
  {
   "cell_type": "markdown",
   "metadata": {
    "id": "fF7CbqyjnPyj"
   },
   "source": [
    "b) O intervalo de menor amplitude ($(39.95;60.05)$) é o intervalo de 90% de confiança, visto que quanto maior o nível de confiança, mais largo é o IC."
   ]
  },
  {
   "cell_type": "markdown",
   "metadata": {
    "id": "fTnmlZDF6Fig"
   },
   "source": [
    "#Questão 8\n",
    "\n",
    "As pesquisas para a eleição presidencial de 2018 do estado de São Paulo forneceram os seguintes resultados. Havia 2020 pessoas consultadas nas pesquisas e 768 eram graduadas em faculdades. Das pessoas graduadas em faculdades, 412 votaram em Haddad. Das pessoas não graduadas 536 votaram em Haddad. Assim:\n",
    "\n",
    "a. Calcule um intervalo de confiança de 95% para a proporção de pessoas graduadas em São Paulo que votaram em Haddad.\n",
    "\n",
    "b. Ter ou não graduação influencia no voto em Haddad?"
   ]
  },
  {
   "cell_type": "markdown",
   "metadata": {
    "id": "BKdmR91R6knJ"
   },
   "source": [
    "**Solução**: \n",
    "\n",
    "a) Para o cálculo do IC primeiramente estimamos $\\hat{p}=\\frac{412}{768}=0.5365$ que é uma boa estimativa do proporção na população. Para o IC, precisamos calcular o erro padrão $\\sqrt{\\frac{p(1-p)}{n}} = \\sqrt{\\frac{0.5365 \\times 0,4635}{768}} \\cong 0.018$ e assim fazemos $0.5365 \\pm 1.96 \\times 0.018 = 0.5365 \\pm 0.0353$, ou $(0.5012;0.5718)$\n",
    "\n",
    "b) Para isto, podemos elaborar uma tabela de contigência e usar um teste qui-quadrado para este caso. Abaixo montamos a tabela e executamos o teste.\n",
    "\n",
    "Cont| graduado | não-graduado |\n",
    "---|---|---|\n",
    "Haddad | 412 | 536 |\n",
    "não-Haddad | 356 | 716 |\n"
   ]
  },
  {
   "cell_type": "code",
   "execution_count": null,
   "metadata": {
    "colab": {
     "base_uri": "https://localhost:8080/"
    },
    "executionInfo": {
     "elapsed": 485,
     "status": "ok",
     "timestamp": 1643976441472,
     "user": {
      "displayName": "GLAUCO ESTACIO GONCALVES",
      "photoUrl": "https://lh3.googleusercontent.com/a-/AOh14Gii6rFq02e0Is_p2OM1leqzTRl7krqppVTFNHCC=s64",
      "userId": "05760174406921703324"
     },
     "user_tz": 180
    },
    "id": "NIKrK8bGqu9N",
    "outputId": "1d601d28-be42-4678-d954-c793314817b4"
   },
   "outputs": [
    {
     "name": "stdout",
     "output_type": "stream",
     "text": [
      "22.001681944666025\n",
      "2.7241164037320984e-06\n",
      "1\n",
      "[[360.42772277 587.57227723]\n",
      " [407.57227723 664.42772277]]\n"
     ]
    }
   ],
   "source": [
    "import scipy.stats as st\n",
    "import numpy as np\n",
    "\n",
    "tabela = np.array([\n",
    "  # votos em Haddad\n",
    "  [412,536], #graduados / não-graduados\n",
    "  # votos não Haddad\n",
    "  [356,716] #graduados / não-graduados\n",
    "])\n",
    "\n",
    "########################\n",
    "(chi_stat, p_value, degrees_of_freedom, expected) = st.chi2_contingency(tabela)\n",
    "print(chi_stat)\n",
    "print(p_value)\n",
    "print(degrees_of_freedom)\n",
    "print(expected)"
   ]
  },
  {
   "cell_type": "markdown",
   "metadata": {
    "id": "AdlbtovIsKbP"
   },
   "source": [
    "O valor p obtido no teste nos permite rejeitar a hipótese de independência (à 95% de confiança), indicando que há evidência estatística suficiente para atestar que a graduação influencia no voto."
   ]
  },
  {
   "cell_type": "markdown",
   "metadata": {
    "id": "oMVGUL9kALv8"
   },
   "source": [
    "#Questão 9\n",
    "\n",
    "Uma empresa de eletricidade instalou medidores especiais\n",
    "em dez casas de uma subdivisão que mede o consumo de energia a cada hora do dia. A companhia está interessada na demanda de energia em uma hora específica – a hora em que o sistema experimenta o pico de consumo. Os dados (em kW) desses dez medidores são: 23,1; 15,6; 17,4; 20,1; 19,8; 26,4; 25,1; 20,5;\n",
    "21,9 e 28,7. \n",
    "\n",
    "Se $\\mu$ for o verdadeiro pico médio da demanda para as\n",
    "dez casas nesse grupo tendo medidores especiais, estime $\\mu$. Agora, suponha que a empresa queira estimar a demanda na hora do pico para todas as 5000 casas nessa subdivisão. Seja $\\theta$ essa grandeza. **Estime $\\theta$ usando os dados fornecidos anteriormente**.\n",
    "\n",
    "**Estime ainda a proporção de casas na subdivisão que demanda no mínimo 20 kW na hora de pico do sistema**."
   ]
  },
  {
   "cell_type": "markdown",
   "metadata": {
    "id": "6g0endd2ALv9"
   },
   "source": [
    "**Solução**: O melhor estimador para $\\mu$ é $\\bar{x} =21.86$. \n",
    "\n",
    "Para estimar $\\theta$, sabemos que cada casa tem consumo em média $\\mu$, portanto a demanda média das casas somadas será $\\theta = \\sum_{i} \\mu = 5000 \\bar{x} = 109300$ kW.\n",
    "\n",
    "A melhor estimativa para a proporção é de 0.7"
   ]
  },
  {
   "cell_type": "code",
   "execution_count": null,
   "metadata": {
    "colab": {
     "base_uri": "https://localhost:8080/"
    },
    "executionInfo": {
     "elapsed": 358,
     "status": "ok",
     "timestamp": 1643307332604,
     "user": {
      "displayName": "GLAUCO ESTACIO GONCALVES",
      "photoUrl": "https://lh3.googleusercontent.com/a-/AOh14Gii6rFq02e0Is_p2OM1leqzTRl7krqppVTFNHCC=s64",
      "userId": "05760174406921703324"
     },
     "user_tz": 180
    },
    "id": "55IIvS2kt8uO",
    "outputId": "273c2622-48f6-44fd-d807-72e2a7eae251"
   },
   "outputs": [
    {
     "name": "stdout",
     "output_type": "stream",
     "text": [
      "media de consumo de uma casa 21.86\n",
      "media de consumo de 5000 casas 109300.0\n",
      "proporção da demanda de 20+ kW 0.7\n"
     ]
    }
   ],
   "source": [
    "import numpy as np\n",
    "\n",
    "dados = [23.1,15.6,17.4,20.1,19.8,26.4,25.1,20.5,21.9,28.7]\n",
    "print(\"media de consumo de uma casa\", np.mean(dados))\n",
    "print(\"media de consumo de 5000 casas\", np.mean(dados)*5000)\n",
    "print(\"proporção da demanda de 20+ kW\", (np.array(dados)>20).sum()/len(dados))"
   ]
  },
  {
   "cell_type": "markdown",
   "metadata": {
    "id": "UoB5_IGkUOwm"
   },
   "source": [
    "#Questão 10\n",
    "\n",
    "Um fabricante de semicondutores coleta dados provenientes de uma nova ferramenta e conduz um teste de hipóteses, com a hipótese nula sendo a largura média de uma dimensão crítica igual a 100 nm. A conclusão é de não rejeitar a hipótese nula. Esse resultado fornece\n",
    "uma evidência forte de que a média da dimensão crítica é igual a 100 nm? Explique."
   ]
  },
  {
   "cell_type": "markdown",
   "metadata": {
    "id": "NpPi38EWUSW1"
   },
   "source": [
    "**Solução**: \n",
    "\n",
    "**Rejeitar a hipótese nula, não significa aceitar a hipótese nula**. \n",
    "\n",
    "A estrutura básica de todo teste de hipótese envolve assumir que $H_0$ é verdadeira e, diante disso, buscar por evidências nos dados que contradigam $H_0$. \n",
    "\n",
    "Portanto, quando não rejeitamos $H_0$ não temos como saber se ela é verdadeira ou não, apenas podemos dizer que não encontramos as evidências para contradizê-la."
   ]
  },
  {
   "cell_type": "markdown",
   "metadata": {
    "id": "QTx4QviabvJT"
   },
   "source": [
    "# Questão 11\n",
    "\n",
    "Um artigo publicado em *Growth: A Journal Devoted to Problems of Normal and Abnormal Growth* [“Comparison of Measured and Estimated Fat-Free Weight, Fat, Potassium and Nitrogen of Growing Guinea Pigs” (1982, Vol. 46(4), pp. 306-321)] mediu o peso (em gramas) do corpo dos leitões em seu nascimento.\n",
    "\n",
    "421,0 452,6 456,1 494,6 373,8 90,5 110,7 96,4 81,7 102,4\n",
    "241,0 296,0 317,0 290,9 256,5 447,8 687,6 705,7 879,0 88,8 296,0 273,0 268,0 227,5 279,3 258,5 296,0\n",
    "\n",
    "a. Teste a hipótese de que o peso médio do corpo é de 300 gramas. Use $\\alpha = 0.05$.\n",
    "\n",
    "b. Qual é o menor nível de significância ao qual você estará sujeito para rejeitar a hipótese nula?\n",
    "\n",
    "c. Explique como você responderia à pergunta do item (a)\n",
    "com um intervalo bilateral de confiança para o peso médio do corpo."
   ]
  },
  {
   "cell_type": "markdown",
   "metadata": {
    "id": "d0EVt79_bwlS"
   },
   "source": [
    "**Solução**: Primeiro carregaremos os dados e checaremos suas propriedades."
   ]
  },
  {
   "cell_type": "code",
   "execution_count": null,
   "metadata": {
    "colab": {
     "base_uri": "https://localhost:8080/",
     "height": 568
    },
    "executionInfo": {
     "elapsed": 633,
     "status": "ok",
     "timestamp": 1643975587637,
     "user": {
      "displayName": "GLAUCO ESTACIO GONCALVES",
      "photoUrl": "https://lh3.googleusercontent.com/a-/AOh14Gii6rFq02e0Is_p2OM1leqzTRl7krqppVTFNHCC=s64",
      "userId": "05760174406921703324"
     },
     "user_tz": 180
    },
    "id": "DX7kVtlv5Mra",
    "outputId": "75182dda-1554-4a9b-f569-32eac12681c3"
   },
   "outputs": [
    {
     "name": "stdout",
     "output_type": "stream",
     "text": [
      "290.9 DescribeResult(nobs=27, minmax=(81.7, 879.0), mean=325.4962962962963, variance=39515.68652421652, skewness=1.0351031557205745, kurtosis=0.8604677917909553)\n",
      "(0.8933743834495544, 0.009465028531849384)\n"
     ]
    },
    {
     "data": {
      "image/png": "[encoded data removed]",
      "text/plain": [
       "<Figure size 432x288 with 1 Axes>"
      ]
     },
     "metadata": {
      "needs_background": "light"
     },
     "output_type": "display_data"
    },
    {
     "data": {
      "image/png": "[encoded data removed]",
      "text/plain": [
       "<Figure size 432x288 with 1 Axes>"
      ]
     },
     "metadata": {
      "needs_background": "light"
     },
     "output_type": "display_data"
    }
   ],
   "source": [
    "import numpy as np\n",
    "import scipy.stats as st\n",
    "import matplotlib.pyplot as plt\n",
    "\n",
    "porcos = np.array([421.0,452.6,456.1,494.6,373.8,90.5,110.7,96.4,81.7,102.4,241.0,\n",
    "                 296.0,317.0,290.9,256.5,447.8,687.6,705.7,879.0,88.8,296.0,\n",
    "                 273.0,268.0,227.5,279.3,258.5,296.0])\n",
    "\n",
    "print(np.median(porcos),st.describe(porcos))\n",
    "print(st.shapiro(porcos))\n",
    "plt.hist(porcos)\n",
    "plt.show()\n",
    "plt.boxplot([porcos],labels=['porcos'])\n",
    "plt.show()"
   ]
  },
  {
   "cell_type": "markdown",
   "metadata": {
    "id": "IP9l7ltL5xLm"
   },
   "source": [
    "Os dados aparentam desvio em relação à normalidade (múltiplas modas no histograma, 1 outlier no boxplot, assimetria elevada). Por estas razões deveríamos usar um teste não-paramétrico. Contudo, o Teste dos postos sinalizados de Wilcoxon é adequado para o teste de médias (exigido no item (a)) apenas quando não há assimetria nos dados, o que não é o caso.\n",
    "\n",
    "Portanto, para validar a hipótese do item a) entendemos que é melhor usar um teste T com $H_0: \\mu = 300$ e $H_a: \\mu \\neq 300$. O teste abaixo mostra que não podemos rejeitar a hipótese de que a média dos dados é 300.\n",
    "\n",
    "O p valor obtido nos permite responder o item (b), indicando que o menor nível de significância par rejeitar $H_0$ é $0.51$."
   ]
  },
  {
   "cell_type": "code",
   "execution_count": null,
   "metadata": {
    "colab": {
     "base_uri": "https://localhost:8080/"
    },
    "executionInfo": {
     "elapsed": 352,
     "status": "ok",
     "timestamp": 1643310466717,
     "user": {
      "displayName": "GLAUCO ESTACIO GONCALVES",
      "photoUrl": "https://lh3.googleusercontent.com/a-/AOh14Gii6rFq02e0Is_p2OM1leqzTRl7krqppVTFNHCC=s64",
      "userId": "05760174406921703324"
     },
     "user_tz": 180
    },
    "id": "udcUjbWY70mi",
    "outputId": "ea74c76c-b8c0-43db-c2f8-4bde77e3bfab"
   },
   "outputs": [
    {
     "name": "stdout",
     "output_type": "stream",
     "text": [
      "Ttest_1sampResult(statistic=0.6664601918592659, pvalue=0.510988070884212)\n"
     ]
    }
   ],
   "source": [
    "import scipy.stats as st\n",
    "\n",
    "print(st.ttest_1samp(porcos,300))"
   ]
  },
  {
   "cell_type": "markdown",
   "metadata": {
    "id": "dDw-PAWJ9L7C"
   },
   "source": [
    "Também poderíamos responder os itens (a) e (b) realizando um teste de hipótese via bootstrap para uma amostra. \n",
    "\n",
    "Para este teste, considere que podemos construir a VA $Y = \\bar{X}-\\bar{x}+\\mu_0$, onde $X$ é a VA da média amostral dos pesos dos leitões (população), $\\bar{x}$ é média amostral dos pesos dos leitões e $\\mu_0$ é a média que acreditamos ser a da população. Sabemos que $E(Y) = E(\\bar{X}-\\bar{x}+\\mu_0) = E(\\bar{X})-E(\\bar{x})+E(\\mu_0) = \\mu_0$.\n",
    "\n",
    "Assumindo que $H_0: \\mu = \\mu_0$ é verdadeira, então $E(Y)=E(\\bar{Y})=\\mu_0=\\mu=E(X)$. Nós podemos usar o método bootstrap para construir a distribuição empírica de $\\bar{Y}$ e daí calculamos $P(\\bar{Y} \\gt \\bar{x})$, que será nosso valor p."
   ]
  },
  {
   "cell_type": "code",
   "execution_count": null,
   "metadata": {
    "colab": {
     "base_uri": "https://localhost:8080/",
     "height": 282
    },
    "executionInfo": {
     "elapsed": 954,
     "status": "ok",
     "timestamp": 1643315087851,
     "user": {
      "displayName": "GLAUCO ESTACIO GONCALVES",
      "photoUrl": "https://lh3.googleusercontent.com/a-/AOh14Gii6rFq02e0Is_p2OM1leqzTRl7krqppVTFNHCC=s64",
      "userId": "05760174406921703324"
     },
     "user_tz": 180
    },
    "id": "DAE6PN75FQ_w",
    "outputId": "5ba55b3b-4723-4ff3-9ad2-c93868ffad2f"
   },
   "outputs": [
    {
     "name": "stdout",
     "output_type": "stream",
     "text": [
      "P valor 0.258\n"
     ]
    },
    {
     "data": {
      "image/png": "[encoded data removed]",
      "text/plain": [
       "<Figure size 432x288 with 1 Axes>"
      ]
     },
     "metadata": {
      "needs_background": "light"
     },
     "output_type": "display_data"
    }
   ],
   "source": [
    "import random\n",
    "\n",
    "x = porcos\n",
    "xbar = np.mean(x)\n",
    "mu0 = 300\n",
    "y = x-xbar+mu0\n",
    "\n",
    "r = 1000\n",
    "ybar = []\n",
    "n = len(y)\n",
    "for i in range(r):\n",
    "  amostra = np.array(random.choices(list(y),k=n))\n",
    "  ybar.append(np.mean(amostra))\n",
    "\n",
    "print(\"P valor\",(ybar>xbar).sum()/len(ybar))\n",
    "plt.hist(ybar)\n",
    "plt.plot([xbar,xbar],[0,250],'r--')\n",
    "plt.show()"
   ]
  },
  {
   "cell_type": "markdown",
   "metadata": {
    "id": "8WGd1YLmNmPA"
   },
   "source": [
    "Por este teste, não podemos rejeitar a hipótese de igualdade também, contudo, reduzimos pela metade aproximadamente o nível de significância requerido para rejeitar $H_0$ (item (b)).\n",
    "\n",
    "Para o item (c), podemos usar um intervalo de confiança para a média. Como $n = 27 \\lt 30$ usaremos a distribuição T de Student com 26 ($n-1$) graus de liberdade. Portanto calculamos o IC para média será dado por $\\bar{x} \\pm t_{\\frac{\\alpha}{2}}std(\\bar{x})$, onde $std(\\bar{x})$ é o erro padrão amostral e  $\\alpha = 0.05$.\n",
    "\n",
    "Abaixo mostramos que o intervalo de confiança inclui o valor de 300 gramas, portanto não rejeitamos a hipótese nula."
   ]
  },
  {
   "cell_type": "code",
   "execution_count": null,
   "metadata": {
    "colab": {
     "base_uri": "https://localhost:8080/"
    },
    "executionInfo": {
     "elapsed": 491,
     "status": "ok",
     "timestamp": 1643975600175,
     "user": {
      "displayName": "GLAUCO ESTACIO GONCALVES",
      "photoUrl": "https://lh3.googleusercontent.com/a-/AOh14Gii6rFq02e0Is_p2OM1leqzTRl7krqppVTFNHCC=s64",
      "userId": "05760174406921703324"
     },
     "user_tz": 180
    },
    "id": "1rYFLTlkQoI1",
    "outputId": "44c090d0-1924-40fb-c17f-96b3f52256ac"
   },
   "outputs": [
    {
     "name": "stdout",
     "output_type": "stream",
     "text": [
      "325.4962962962963 38.256292885502546 2.0555294386428713\n",
      "IC para média 95% de confiança 246.85936005680196 404.1332325357906\n"
     ]
    }
   ],
   "source": [
    "import scipy.stats as st\n",
    "import numpy as np\n",
    "\n",
    "alpha = 0.05\n",
    "n = len(porcos)\n",
    "xbar = np.mean(porcos)\n",
    "se = np.std(porcos,ddof=1)/np.sqrt(n)\n",
    "t = abs(st.t.ppf(alpha/2,n-1))\n",
    "print(xbar,se,t)\n",
    "print(\"IC para média 95% de confiança\",xbar-se*t,xbar+se*t)"
   ]
  },
  {
   "cell_type": "markdown",
   "metadata": {
    "id": "5MXKlYWAcUl0"
   },
   "source": [
    "#Questão 12\n",
    "\n",
    "Um artigo em *Fortune* (21 de setembro de 1992) afirmou que aproximadamente metade de todos os engenheiros continua seus estudos acadêmicos além do grau de bacharelado, recebendo no final o grau de mestre ou doutor. Dados de um artigo em *Engineering Horizons* (primavera de 1990) indicaram que 117 de 484 novos engenheiros graduados estavam planejando fazer pós-graduação.\n",
    "\n",
    "a. Os dados da *Engineering Horizons* são consistentes com a afirmação reportada pela *Fortune*? Use $\\alpha = 0.05$ para alcançar as suas conclusões. Encontre o valor P para o teste.\n",
    "\n",
    "b. Discuta como a questão do item (a) poderia ser respondida pela construção de um intervalo bilateral de confiança para $\\hat{p}$."
   ]
  },
  {
   "cell_type": "markdown",
   "metadata": {
    "id": "Z_lHEWqoct9e"
   },
   "source": [
    "**Solução**: Para responder à pergunta assumimos que os dados da *Fortune* são nossa população e portanto nossa hipótese nula será $H_0: p = p_0 = 0.5$. Assumindo normalidade da população, aplicaremos um teste Z para proporção.\n",
    "\n",
    "O teste Z para proporção, parte do princípio de que uma amostragem da qual deriva uma proporção é essencialmente um experimento binomial com $n$ observações e com probabilidade de sucesso (\"fazer pós-graduação\", no exemplo) $p$. Neste caso, se $X$ é a VA do número de sucessos então $X \\sim Binom(n,p)$ e, se $np \\lt 5$ e $n(1-p) \\lt 5$, podemos aproximar esta binomial por uma normal de modo que $X \\sim N(np,np(1-p))$.\n",
    "\n",
    "Tomando $H_0$ como verdadeira, então $X \\sim N(np_0,np_0(1-p_0))$ e a estatística abaixo \n",
    "\n",
    "$z_0 = \\frac{\\hat{x}-np_0}{\\sqrt{np_0(1-p_0)}}$\n",
    "\n",
    "onde $\\hat{x}$ é o valor observado de $X$ e se distribui como uma normal com média 0 e desvio padrão 1.\n",
    "\n",
    "Assim, podemos calcular o valor p da seguinte forma:\n",
    "\n",
    "$H_a : p \\neq p_0 \\Rightarrow \\text{valor p} = 2\\times (1-F_{N(0,1)}(|z_0|))\\\\\n",
    "H_a : p \\gt p_0 \\Rightarrow \\text{valor p} = 1-F_{N(0,1)}(|z_0|)\\\\\n",
    "H_a : p \\lt p_0 \\Rightarrow \\text{valor p} = F_{N(0,1)}(|z_0|)$"
   ]
  },
  {
   "cell_type": "code",
   "execution_count": null,
   "metadata": {
    "colab": {
     "base_uri": "https://localhost:8080/"
    },
    "executionInfo": {
     "elapsed": 322,
     "status": "ok",
     "timestamp": 1643404337991,
     "user": {
      "displayName": "GLAUCO ESTACIO GONCALVES",
      "photoUrl": "https://lh3.googleusercontent.com/a-/AOh14Gii6rFq02e0Is_p2OM1leqzTRl7krqppVTFNHCC=s64",
      "userId": "05760174406921703324"
     },
     "user_tz": 180
    },
    "id": "Lm3B368CX3dY",
    "outputId": "9be70a4f-e5e0-403c-eb98-eea0233a67e0"
   },
   "outputs": [
    {
     "name": "stdout",
     "output_type": "stream",
     "text": [
      "z0 -11.363636363636363 valor p 0.0\n"
     ]
    }
   ],
   "source": [
    "import scipy.stats as st\n",
    "import numpy as np\n",
    "\n",
    "xhat = 117\n",
    "n = 484\n",
    "p0 = 0.5\n",
    "z0 = (xhat-n*p0)/(np.sqrt(n*p0*(1-p0)))\n",
    "\n",
    "print(\"z0\",z0,\"valor p\",2*(1-st.norm.cdf(abs(z0))))"
   ]
  },
  {
   "cell_type": "markdown",
   "metadata": {
    "id": "fC4Bs0BbiDo7"
   },
   "source": [
    "No caso acima consideramos a hipótese alternativa de diferença e com isso rejeitamos a hipótese nula.\n",
    "\n",
    "b) Poderíamos ver se o intervalo de confiança para $\\hat{p}$ inclui o 0. O intervalo de confiança para a proporção é calculado por\n",
    "\n",
    "$p \\pm z_{\\frac{\\alpha}{2}}\\sqrt{\\frac{p(1-p)}{n}}$.\n",
    "\n",
    "Para 95% de confiança ($\\alpha = 0.05$) temos que $z_{\\frac{\\alpha}{2}} = 1.96$ e então podemos calcular o intervalo de confiança, como abaixo."
   ]
  },
  {
   "cell_type": "code",
   "execution_count": null,
   "metadata": {
    "colab": {
     "base_uri": "https://localhost:8080/"
    },
    "executionInfo": {
     "elapsed": 338,
     "status": "ok",
     "timestamp": 1643628362108,
     "user": {
      "displayName": "GLAUCO ESTACIO GONCALVES",
      "photoUrl": "https://lh3.googleusercontent.com/a-/AOh14Gii6rFq02e0Is_p2OM1leqzTRl7krqppVTFNHCC=s64",
      "userId": "05760174406921703324"
     },
     "user_tz": 180
    },
    "id": "dun2ZXYe3vjs",
    "outputId": "ac7ac408-1603-42bf-fca9-a2100367746c"
   },
   "outputs": [
    {
     "name": "stdout",
     "output_type": "stream",
     "text": [
      "O IC à 95% de confiança é dado por 0.20359331325812627 0.279877761122039\n"
     ]
    }
   ],
   "source": [
    "import scipy.stats as st\n",
    "import numpy as np\n",
    "\n",
    "alpha = 0.05\n",
    "n = 484\n",
    "p = 117/n\n",
    "\n",
    "z = abs(st.norm.ppf(alpha/2))\n",
    "se = np.sqrt(p*(1-p)/n)\n",
    "\n",
    "print(\"O IC à 95% de confiança é dado por\",p-z*se,p+z*se)"
   ]
  },
  {
   "cell_type": "markdown",
   "metadata": {
    "id": "d_tenB_h5HbF"
   },
   "source": [
    "Uma vez que o intervalo de confiança de 95 % não contém o valor\n",
    "0,5, concluímos que a proporção verdadeira de estudantes de\n",
    "engenharia que planejam estudos de pós-graduação difere de 0,5."
   ]
  },
  {
   "cell_type": "markdown",
   "metadata": {
    "id": "0hlOGPD4c1kr"
   },
   "source": [
    "#Questão 13\n",
    "\n",
    "Um artigo em *Biological Trace Element Research* [“Interaction of Dietary Calcium, Manganese, and Manganese Source (Mn Oxide or Mn Methionine Complex) or Chick Performance and Manganese Utilization” (1991, Vol. 29(3), pp. 217-228)] mostrou os seguintes\n",
    "resultados de ensaio de manganês em tecidos do fígado de pintos alimentados com dietas ricas em Ca.\n",
    "\n",
    "6,02 6,08 7,11 5,73 5,32 7,10 5,29 5,84 6,03 5,99 4,53 6,81\n",
    "\n",
    "a. Teste a hipótese $H_0: \\sigma^2 = 0.6$ versus $H_a: \\sigma^2 \\neq 0.6$, usando $\\alpha = 0.01$.\n",
    "\n",
    "b. Qual é o valor P para esse teste?"
   ]
  },
  {
   "cell_type": "markdown",
   "metadata": {
    "id": "8mqKFaCldXNG"
   },
   "source": [
    "**Solução**: Para realizar este teste, faremos uso do teste qui-quadrado para variância bicaudal, o qual fazemos abaixo."
   ]
  },
  {
   "cell_type": "code",
   "execution_count": null,
   "metadata": {
    "colab": {
     "base_uri": "https://localhost:8080/"
    },
    "executionInfo": {
     "elapsed": 339,
     "status": "ok",
     "timestamp": 1643628992793,
     "user": {
      "displayName": "GLAUCO ESTACIO GONCALVES",
      "photoUrl": "https://lh3.googleusercontent.com/a-/AOh14Gii6rFq02e0Is_p2OM1leqzTRl7krqppVTFNHCC=s64",
      "userId": "05760174406921703324"
     },
     "user_tz": 180
    },
    "id": "h7F3h2hk5pxb",
    "outputId": "e649c31f-5474-47f3-ba1f-9648b392f69e"
   },
   "outputs": [
    {
     "data": {
      "text/plain": [
       "(10.55004166666666, 0.9633827494377649)"
      ]
     },
     "execution_count": 16,
     "metadata": {},
     "output_type": "execute_result"
    }
   ],
   "source": [
    "import scipy.stats as st\n",
    "import numpy as np\n",
    "\n",
    "def chi2test(x, sigma0, alternative = \"two-tailed\"):\n",
    "    n = len(x)\n",
    "    df = n-1\n",
    "    X = df * np.var(x,ddof=1) / sigma0**2\n",
    "    pless = st.chi2.cdf(X,df)\n",
    "    pgreater = 1 - pless\n",
    "    ptwo = 2*min(pless,pgreater)\n",
    "    if alternative == \"lower\":\n",
    "        return X,pless\n",
    "    elif alternative == \"upper\":\n",
    "        return X,pgreater\n",
    "    else:\n",
    "        return X,ptwo\n",
    "\n",
    "dados = [6.02,6.08,7.11,5.73,5.32,7.10,5.29,5.84,6.03,5.99,4.53,6.81]\n",
    "chi2test(dados,np.sqrt(0.6))"
   ]
  },
  {
   "cell_type": "markdown",
   "metadata": {
    "id": "4VCQ7CwX7L1d"
   },
   "source": [
    "O teste mostra que não podemos rejeitar a hipótese nula à $\\alpha = 0.01$, dado o valor p de 0.96."
   ]
  },
  {
   "cell_type": "markdown",
   "metadata": {
    "id": "v1_hWtXWem51"
   },
   "source": [
    "#Questão 14\n",
    "\n",
    "Um engenheiro da computação está investigando o desempenho de duas diferentes linguagens de programação na melhoria de tarefas computacionais. Doze programadores experientes, familiarizados\n",
    "com ambas as linguagens, codificaram uma função‐padrão nas duas linguagens. O tempo (em minutos) foi registrado, e os dados são mostrados a seguir.\n",
    "\n",
    "Programador|Tempo da LP1|Tempo da LP2|\n",
    "---|---|---|\n",
    "1|17|18\n",
    "2|16|14\n",
    "3|21|19\n",
    "4|14|11\n",
    "5|18|23\n",
    "6|24|21\n",
    "7|16|10\n",
    "8|14|13\n",
    "9|21|19\n",
    "10|23|24\n",
    "11|13|15\n",
    "12|18|20\n",
    "\n",
    "a. A suposição de a diferença no tempo de codificação ser normalmente distribuída é razoável?\n",
    "\n",
    "b. Existe evidência estatística de que uma linguagem de programação seja preferível?"
   ]
  },
  {
   "cell_type": "markdown",
   "metadata": {
    "id": "BRERxxeaffNu"
   },
   "source": [
    "**Solução**: Avaliaremos o item (a) por meio do teste de hipótese shapiro-wilk e de gráficos. Destes resultados concluímos que os dados são razoavelmente normais."
   ]
  },
  {
   "cell_type": "code",
   "execution_count": null,
   "metadata": {
    "colab": {
     "base_uri": "https://localhost:8080/",
     "height": 940
    },
    "executionInfo": {
     "elapsed": 3048,
     "status": "ok",
     "timestamp": 1643808390650,
     "user": {
      "displayName": "GLAUCO ESTACIO GONCALVES",
      "photoUrl": "https://lh3.googleusercontent.com/a-/AOh14Gii6rFq02e0Is_p2OM1leqzTRl7krqppVTFNHCC=s64",
      "userId": "05760174406921703324"
     },
     "user_tz": 180
    },
    "id": "Qb1pRE5G7uQa",
    "outputId": "1fe6bf30-aa21-416f-e752-81487ebd259c"
   },
   "outputs": [
    {
     "name": "stdout",
     "output_type": "stream",
     "text": [
      "(0.939170241355896, 0.4873976409435272)\n"
     ]
    },
    {
     "data": {
      "image/png": "[encoded data removed]",
      "text/plain": [
       "<Figure size 720x288 with 2 Axes>"
      ]
     },
     "metadata": {
      "needs_background": "light"
     },
     "output_type": "display_data"
    },
    {
     "name": "stdout",
     "output_type": "stream",
     "text": [
      "(0.9539231657981873, 0.6948422193527222)\n"
     ]
    },
    {
     "data": {
      "image/png": "[encoded data removed]",
      "text/plain": [
       "<Figure size 720x288 with 2 Axes>"
      ]
     },
     "metadata": {
      "needs_background": "light"
     },
     "output_type": "display_data"
    },
    {
     "name": "stdout",
     "output_type": "stream",
     "text": [
      "(0.9616504907608032, 0.8071103096008301)\n"
     ]
    },
    {
     "data": {
      "image/png": "[encoded data removed]",
      "text/plain": [
       "<Figure size 720x288 with 2 Axes>"
      ]
     },
     "metadata": {
      "needs_background": "light"
     },
     "output_type": "display_data"
    },
    {
     "name": "stdout",
     "output_type": "stream",
     "text": [
      "DescribeResult(nobs=12, minmax=(-5, 6), mean=0.6666666666666666, variance=8.787878787878787, skewness=-0.16361170254064852, kurtosis=-0.39881093935790757)\n"
     ]
    }
   ],
   "source": [
    "import scipy.stats as st\n",
    "import numpy as np\n",
    "import matplotlib.pyplot as plt\n",
    "\n",
    "def analise_normal(dados):\n",
    "  print(st.shapiro(dados))\n",
    "  plt.figure(figsize=(10,4))\n",
    "  plt.subplot(1,2,1)\n",
    "  plt.hist(dados)\n",
    "  plt.subplot(1,2,2)\n",
    "  st.probplot(dados,dist='norm',plot=plt)\n",
    "  plt.show()\n",
    "\n",
    "lp1 = np.array([17,16,21,14,18,24,16,14,21,23,13,18])\n",
    "lp2 = np.array([18,14,19,11,23,21,10,13,19,24,15,20])\n",
    "diff = lp1-lp2\n",
    "\n",
    "analise_normal(lp1)\n",
    "analise_normal(lp2)\n",
    "analise_normal(diff)\n",
    "print(st.describe(diff))"
   ]
  },
  {
   "cell_type": "markdown",
   "metadata": {
    "id": "BmZFTYWX9Ftl"
   },
   "source": [
    "Para o item (b) usaremos o teste T pareado para duas amostras bicaudal. Uma vez que o pvalor é de 0.45, não temos evidência estatística para concluir que haja diferença significativa entre os desempenhos das linguagens de programação nesta função padrão."
   ]
  },
  {
   "cell_type": "code",
   "execution_count": null,
   "metadata": {
    "colab": {
     "base_uri": "https://localhost:8080/"
    },
    "executionInfo": {
     "elapsed": 370,
     "status": "ok",
     "timestamp": 1643629628690,
     "user": {
      "displayName": "GLAUCO ESTACIO GONCALVES",
      "photoUrl": "https://lh3.googleusercontent.com/a-/AOh14Gii6rFq02e0Is_p2OM1leqzTRl7krqppVTFNHCC=s64",
      "userId": "05760174406921703324"
     },
     "user_tz": 180
    },
    "id": "TUWtsjvJ9Dcb",
    "outputId": "345ebda3-e028-440b-a087-5ce9d12a6283"
   },
   "outputs": [
    {
     "data": {
      "text/plain": [
       "Ttest_relResult(statistic=0.7790356549761621, pvalue=0.45239285834490617)"
      ]
     },
     "execution_count": 21,
     "metadata": {},
     "output_type": "execute_result"
    }
   ],
   "source": [
    "st.ttest_rel(lp1,lp2)"
   ]
  }
 ],
 "metadata": {
  "colab": {
   "authorship_tag": "ABX9TyPba2ngPLTFinezcmWR6chY",
   "collapsed_sections": [
    "_cl9TCm77OPg",
    "UoB5_IGkUOwm"
   ],
   "name": "Lista 02-Solução.ipynb",
   "provenance": [
    {
     "file_id": "1edMZ5CdLqJjg7SCx6ANbBG0lo4tnYyif",
     "timestamp": 1643296273092
    },
    {
     "file_id": "14WLdnoVF_HFB3kNmHMQ58gi9aXD_JJRW",
     "timestamp": 1642076015353
    }
   ],
   "toc_visible": true
  },
  "kernelspec": {
   "display_name": "Python 3",
   "name": "python3"
  },
  "language_info": {
   "name": "python"
  }
 },
 "nbformat": 4,
 "nbformat_minor": 0
}
