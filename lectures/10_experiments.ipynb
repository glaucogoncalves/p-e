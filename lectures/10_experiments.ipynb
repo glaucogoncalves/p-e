{
  "cells": [
    {
      "cell_type": "markdown",
      "metadata": {
        "id": "kb9pbBJB1UKy"
      },
      "source": [
        "#Pergunta fundamental\n",
        "\n",
        "<a target=\"_blank\" href=\"https://colab.research.google.com/github/glaucogoncalves/p-e/blob/main/lectures/10_experiments.ipynb\"> <img src=\"https://colab.research.google.com/assets/colab-badge.svg\" alt=\"Open In Colab\"/>\n",
        "\n",
        "Como devo planejar meus experimentos?"
      ]
    },
    {
      "cell_type": "markdown",
      "metadata": {
        "id": "CkPyyHzfer9d"
      },
      "source": [
        "#Terminologia e condições de experimentação"
      ]
    },
    {
      "cell_type": "markdown",
      "metadata": {
        "id": "5GVxJQlkk4wx"
      },
      "source": [
        "Um experimento procura avaliar o efeito que um método, produto, substância etc possui sobre os sujeitos alvos do experimento, e são uma parte fundamental na tomada de decisão em engenharia e em ciências.\n",
        "\n",
        "Em um experimento possuímos comumente uma **métrica** (chamada também **variável dependente**) que é uma variável que representa a resposta dos sujeitos (podem ser humanos, animais, objetos etc) ao que está sendo testado. O experimento é feito observando a resposta da métrica à variação dos **fatores**, os quais podem ter um ou mais **níveis**. O termo **tratamento** também é usado na literatura, podendo indicar fatores ou níveis. Os experimentos são projetados aplicando cada nível de cada fator a um conjunto de sujeitos. Quando múltiplas observações de cada combinação são tomadas, chamamos cada uma delas de uma **réplica**.\n",
        "\n",
        "O número de fatores e níveis determina as técnicas estatísticas usadas na análise dos resultados. Quando temos apenas um fator com dois níveis ou dois fatores com um nível cada, por exemplo, podemos usar diretamente os **testes de hipóteses para comparação de duas amostras**, que vimos anteriormente. Casos além destes, podem ser tratados pela técnica de **análise de variância** (frequentemente chamada ANOVA) que avalia os efeitos de todas as variações ao mesmo tempo."
      ]
    },
    {
      "cell_type": "markdown",
      "metadata": {
        "id": "Tyq54QNdmIjS"
      },
      "source": [
        "## Aleatorização"
      ]
    },
    {
      "cell_type": "markdown",
      "metadata": {
        "id": "i83GPIMRmKPI"
      },
      "source": [
        "Um elemento fundamental de um experimento estatístico é a aleatorização dos sujeitos. Quando os sujeitos são objetos físicos ou seres vivos, costuma-se dividi-los em grupos de tratamento de forma aleatória, de forma que <u>diferenças entre os sujeitos que poderiam impactar a métrica são distribuídas entre os grupos de tratamento</u>. Isso também evita que aspectos do processo de experimentação não sejam confundidos com efeitos do tratamento.\n",
        "\n",
        "A aleatorização pode ser empregada de formas diferentes a depender do experimento executado. Em um teste com cobaias (sejam seres inanimados ou animados), <u>escolhe-se aleatoriamente a qual nível do fator cada indivíduo será apresentado</u>. Diferentemente, em testes onde os dados precisam ser coletados em uma máquina (computador, cromatógrafo etc) cujo uso possa vir a impactar nos resultados, <u>escolhemos a ordem de apresentação das observações de forma aleatória</u>.\n",
        "\n",
        "**Exemplo**: Imagine a avaliação de algoritmos que estressem o processador de um computador. Como este tipo de experimento tende a aumentar a temperatura do processador, os primeiros experimentos são executados na temperatura mais baixa do processador (enquanto este aquece) e os últimos serão impactados pela diminuição na performance. A aleatoriedade na execução dos tratamentos garante o balanço do efeito da temperatura do processador sobre os diferentes tratamentos."
      ]
    },
    {
      "cell_type": "markdown",
      "metadata": {
        "id": "495wIqIcohnr"
      },
      "source": [
        "## Condições iniciais"
      ]
    },
    {
      "cell_type": "markdown",
      "metadata": {
        "id": "VY2YVR9BojsE"
      },
      "source": [
        "Outro aspecto importante é o controle das **condições iniciais** do experimento. Em testes com sujeitos vivos ou objetos físicos, é comum fazermos medições e registros pré-experimentação, de modo a conhecer as condições iniciais. Em experimentos computacionais, as condições iniciais são garantidas configurando o sistema. Manter este tipo de controle é bastante custoso na prática, mas é um cuidado que o engenheiro deve ter.\n",
        "\n",
        "Estes aspectos das condições são os **parâmetros** do experimento, ou seja, tudo aquilo que deve ser invariante ao longo de um experimento. No caso de um exprimento de desempenho em um computador, por exemplo, o modelo do processador pode ser um elemento fundamental que deve ser cuidadosamente escolhido, bem como deve ser mantido ao longo dos experimentos.\n",
        "\n",
        "Outro aspecto importante em sistemas computacionais e outros sistemas físicos é o **efeito de memória**. Quando o sistema tem memória, a execução de tratamentos anteriores impacta sobre a execução de novos tratamentos (o sobreaquecimento que citamos antes é um tipo de memória). Em sistemas computacionais complexos (computadores, com sistema operacional, diferentes pilhas de software etc), a igualdade da condição inicial pode ser obtida, muitas vezes, pela reinicialização do sistema."
      ]
    },
    {
      "cell_type": "markdown",
      "metadata": {
        "id": "8yaWyQTHqfcW"
      },
      "source": [
        "# Experimento Completamente Aleatorizado com um Único Fator"
      ]
    },
    {
      "cell_type": "markdown",
      "metadata": {
        "id": "qBZE784Qr27t"
      },
      "source": [
        "Suponha que tenhamos <u>um único fator com $a$ níveis diferentes</u> (com $a \\gt 2$) que desejamos comparar. Para cada nível obtemos um mesmo número de réplicas $n$ (dizemos que há **balanceamento entre os níveis**), formando um total de $na$ observações. A resposta para cada um dos $a$ tratamentos pode ser vista como uma VA que pode ser modelada como\n",
        "\n",
        "$Y_{ij} = \\mu_i + \\epsilon_{ij}$\n",
        "\n",
        "onde $Y_{ij}$ é uma VA denotando a $j$-ésima observação da métrica no $i$-ésimo nível, $\\mu_i$ é a média do $i$-ésimo nível e $\\epsilon_{ij}$ é um \"ruído\", um erro, aleatório que captura efeitos não modelados pelos tratamentos (não depende do tratamento) e eles são normal e independentemente distribuídos, com média zero e variância $\\sigma^2$.\n",
        "\n",
        "Se o nível não tem efeito, então $\\mu_i$ será o mesmo para cada nível $i$. Podemos ainda modelar cada nível como tendo uma média global $\\mu$ acompanhada de um **efeito de cada nível** $\\tau_i$ (também chamados **efeitos dos tratamentos**), de tal forma que $\\mu_i = \\mu + \\tau_i$.\n",
        "\n",
        "De onde temos o modelo geral $Y_{ij} = \\mu + \\tau_i + \\epsilon_{ij}$.\n",
        "\n",
        "O que nós desejamos é testar a igualdade das médias dos níveis $\\mu_1$, $\\mu_2$, $\\ldots$, $\\mu_a$. O que é equivalente a testar as hipóteses\n",
        "\n",
        "$H_0: \\tau_1 = \\tau_2 = \\ldots = \\tau_a = 0 \\\\\n",
        "H_a: \\tau_i \\neq 0 $\n",
        "\n",
        "Logo, se a hipótese nula for verdadeira, cada observação consistirá na média global $\\mu$ mais uma componente de erro aleatório $\\epsilon_{ij}$. Dito de outra forma, todas as observações seriam tomadas de uma mesma distribuição normal, com média $\\mu$ e variância $\\sigma^2$. Por conseguinte, se a hipótese nula for verdadeira, a mudança nos níveis do fator não tem efeito na resposta média."
      ]
    },
    {
      "cell_type": "markdown",
      "metadata": {
        "id": "zml8Uf0uZyUV"
      },
      "source": [
        "## Teste ANOVA"
      ]
    },
    {
      "cell_type": "markdown",
      "metadata": {
        "id": "mTXgnnFTZ0Wu"
      },
      "source": [
        "Uma forma de aferir a validade estatística das hipóteses acima seria comparar dois a dois cada um dos níveis. Contudo, um teste para verificar a hipótese se pelo menos um dos tratamentos é diferente no conjunto todo, oferece uma abordagem inicial que pode ser aprofundada, por meio de análise gráfica e testes de hipótese dois a dois, se necessário.\n",
        "\n",
        "O teste ANOVA procura fazer esta análise, contudo ao invés de investigar as distribuições em torno das médias dos tratamentos. Este teste procura investigar o <u>quanto da variabilidade da amostra pode ser atribuída aos tratamentos</u> e o <u>quanto pode ser atribuída aos erros aleatórios</u>.\n",
        "\n",
        "Seja $\\hat{\\mu}$ a média global amostral e $y_{ij}$ cada uma das amostras, a variabilidade total (*Total Sum of Squares*) da amostra é dada por\n",
        "\n",
        "$SST = \\sum_{i=1}^{a}\\sum_{j=1}^{n} (y_{ij} - \\hat{\\mu})^2$\n",
        "\n",
        "Parte desta variabilidade é explicada pelos tratamentos e parte pelo erro aleatório de modo que $SST = SSR + SSE$, onde SSR é a variabilidade explicada pelos tratamentos (*Regression Sum of Squares*) e $SSE$ é a variabilidade explicada pelo erro (*Sum of Squared Errors*, também chamada variação dos resíduos) e que são calculados por\n",
        "\n",
        "$ SSR = n\\sum_{i=1}^{a} (\\hat{\\mu_i}-\\hat{\\mu})^2 \\\\\n",
        "  SSE = \\sum_{i=1}^{a}\\sum_{i=1}^{n} (y_{ij}-\\hat{\\mu_i})^2$\n",
        "\n",
        "onde $\\hat{\\mu_i}$ é a média amostral do $i$-ésimo tratamento.\n",
        "\n",
        "Estas medidas são usadas para indicar se o tratamento tem efeito ou não. Por exemplo, quando os tratamentos têm efeito, SSR deverá ser \"grande\", já que ao menos algum $\\hat{\\mu_i}$ é diferente dos demais, e SSE deverá ser \"pequeno\", porque as medidas dentro de cada nível deverão ser próximas entre si.\n",
        "\n",
        "As medidas de SSR e SSE podem ser usadas para estimar a variância $\\sigma^2$ amostral, por meio dos seguintes estimadores:\n",
        "\n",
        "$MQR = \\frac{SSR}{a-1} \\\\\n",
        "MQE = \\frac{SSE}{a(n-1)}$\n",
        "\n",
        "em que MQR é a média dos quadrados para os tratamentos e MQE é a média dos quadrados para o erro.\n",
        "\n",
        "Se $H_0$ é verdadeira (o tratamento não tem efeito), então estas estimativas devem coincidir de modo que $F_0 = \\frac{MQR}{MQE}$ é próximo de 1. A estatística $F_0$ tem uma distribuição conhecida (distribuição F) com graus de liberdade $d_1 = a-1$ e $d_2 = a(n-1)$. Com base nisso, podemos verificar se valor de $F_0$  obtido é estatisticamente significante calculando a área da função de densidade de probabilidade da distribuição onde $F \\gt F_0$ (este será o valor p), i.e.,\n",
        "\n",
        "$\\text{p-valor} = 1-F_{\\text{Distribuição F}}(F_0;d_1;d_2)$\n"
      ]
    },
    {
      "cell_type": "markdown",
      "metadata": {
        "id": "VGhjkxTqw0WX"
      },
      "source": [
        "###Tabela ANOVA\n",
        "\n",
        "Os resultados do teste ANOVA são geralmente apresentados em uma tabela, denominada Tabela ANOVA. Com base nos elementos introduzidos a tabela é montada da seguinte forma.\n",
        "\n",
        "| |Graus de liberdade|Soma quad.|Média quad.|Valor F|Valor p|\n",
        "|---|----|----|----|----|----|\n",
        "|**Tratamento**| a-1 |SSR|MQR|MQR/MQE|p-valor\n",
        "|**Resíduos**| a(n-1)|SSE|MQE|"
      ]
    },
    {
      "cell_type": "markdown",
      "metadata": {
        "id": "9Ni1iea00A_7"
      },
      "source": [
        "###Exemplo (Concentração de aldrin)\n",
        "Jaffe et al mediram a concentração de diversos poluentes no rio Wolf (EUA) em diferentes profundidades do rio. Verifique se há evidência para suportar a afirmação de que a concentração de Aldrin (um tipo de inseticida) não depende da profundidade.\n",
        "\n",
        "Mais informação sobre os dados coletados: http://www.statsci.org/data/general/wolfrive.html."
      ]
    },
    {
      "cell_type": "markdown",
      "metadata": {
        "id": "NANRRWhd0x5y"
      },
      "source": [
        "**Solução**: Comecemos importando e investigando os dados por meio de análise exploratória básica."
      ]
    },
    {
      "cell_type": "code",
      "execution_count": null,
      "metadata": {
        "colab": {
          "base_uri": "https://localhost:8080/",
          "height": 1000
        },
        "id": "VNFdJ-RE0xEI",
        "outputId": "cc2e8f4a-8a2b-4a75-8588-1a32cf90bcf5"
      },
      "outputs": [
        {
          "name": "stdout",
          "output_type": "stream",
          "text": [
            "--2022-12-01 12:13:19--  http://www.statsci.org/data/general/wolfrive.txt\n",
            "Resolving www.statsci.org (www.statsci.org)... 128.250.252.80\n",
            "Connecting to www.statsci.org (www.statsci.org)|128.250.252.80|:80... connected.\n",
            "HTTP request sent, awaiting response... 200 OK\n",
            "Length: 557 [text/plain]\n",
            "Saving to: ‘wolfrive.txt’\n",
            "\n",
            "wolfrive.txt        100%[===================>]     557  --.-KB/s    in 0s      \n",
            "\n",
            "2022-12-01 12:13:20 (64.4 MB/s) - ‘wolfrive.txt’ saved [557/557]\n",
            "\n",
            "          Aldrin  HCB\n",
            "Depth                \n",
            "Bottom        10   10\n",
            "Middepth      10   10\n",
            "Surface       10   10\n",
            "count    30.000000\n",
            "mean      5.076333\n",
            "std       1.369335\n",
            "min       3.080000\n",
            "25%       4.272500\n",
            "50%       4.900000\n",
            "75%       5.620000\n",
            "max       8.790000\n",
            "Name: Aldrin, dtype: float64\n"
          ]
        },
        {
          "data": {
            "image/png": "[encoded data removed]",
            "text/plain": [
              "<Figure size 432x288 with 1 Axes>"
            ]
          },
          "metadata": {
            "needs_background": "light"
          },
          "output_type": "display_data"
        },
        {
          "data": {
            "image/png": "[encoded data removed]",
            "text/plain": [
              "<Figure size 432x288 with 1 Axes>"
            ]
          },
          "metadata": {
            "needs_background": "light"
          },
          "output_type": "display_data"
        }
      ],
      "source": [
        "!wget http://www.statsci.org/data/general/wolfrive.txt\n",
        "import pandas as pd\n",
        "import matplotlib.pyplot as plt\n",
        "\n",
        "\n",
        "dados = pd.read_csv(\"wolfrive.txt\",sep=\"\\t\")\n",
        "print(dados.groupby(['Depth']).count())\n",
        "print(dados.Aldrin.describe())\n",
        "dados.boxplot(column=\"Aldrin\",by=\"Depth\")\n",
        "plt.show()\n",
        "dados.Aldrin.hist()\n",
        "plt.show()"
      ]
    },
    {
      "cell_type": "markdown",
      "metadata": {
        "id": "EmyyRMth1tCx"
      },
      "source": [
        "Podemos observar um desvio padrão não muito grande nos dados globais de concentração de Aldrin. Vemos ainda uma assimetria à esquerda na distribuição de Aldrin, com poucos valores acima da média.\n",
        "\n",
        "Percebe-se ainda uma mudança na concentração de acordo com a profundidade de coleta (boxplot), com os valores sendo menores na superfície, o que parece indicar que a densidade deste composto é maior que a da água.\n",
        "\n",
        "Para checar a validade estatística da afirmação, vamos computar a tabela ANOVA para estes dados."
      ]
    },
    {
      "cell_type": "code",
      "execution_count": null,
      "metadata": {
        "colab": {
          "base_uri": "https://localhost:8080/"
        },
        "id": "1837tYqd24cp",
        "outputId": "679c7f36-7a06-44e9-b981-96f2d5f7adca"
      },
      "outputs": [
        {
          "name": "stdout",
          "output_type": "stream",
          "text": [
            "\t\t G. lib. S. quad. M. quad. Valor F  Valor p\n",
            "Tratamento \t 2 \t 16.83 \t  8.42 \t   6.051    0.00673919\n",
            "Resíduos \t 27 \t 37.55 \t  1.39\n"
          ]
        }
      ],
      "source": [
        "import scipy.stats as st\n",
        "\n",
        "a = 3\n",
        "n = 10\n",
        "mu = dados.Aldrin.mean()\n",
        "mui = dados.groupby(['Depth']).Aldrin.mean()\n",
        "\n",
        "SSR = n*(dados.groupby(['Depth']).Aldrin.mean().sub(mu).pow(2).sum())\n",
        "SSE = sum([dados[dados.Depth==k].Aldrin.sub(v).pow(2).sum() for k,v in mui.items()])\n",
        "d1 = a -1\n",
        "d2 = a*(n-1)\n",
        "MQR = SSR/d1\n",
        "MQE = SSE/d2\n",
        "F0 = MQR/MQE\n",
        "pvalor = 1 - st.f.cdf(F0,d1,d2)\n",
        "print(\"\\t\\t G. lib. S. quad. M. quad. Valor F  Valor p\")\n",
        "print(\"Tratamento \\t\",d1,\"\\t\",round(SSR,2),\"\\t \",round(MQR,2),\"\\t  \",round(F0,3),\"  \",round(pvalor,8))\n",
        "print(\"Resíduos \\t\",d2,\"\\t\",round(SSE,2),\"\\t \",round(MQE,2))"
      ]
    },
    {
      "cell_type": "markdown",
      "metadata": {
        "id": "Ntn95KJJAiA_"
      },
      "source": [
        "Podemos ainda obter o valor de F0 e o p-valor pela biblioteca scipy. Observe que obteremos o mesmo resultado acima."
      ]
    },
    {
      "cell_type": "code",
      "execution_count": null,
      "metadata": {
        "colab": {
          "base_uri": "https://localhost:8080/"
        },
        "id": "jIawqiZTAmgx",
        "outputId": "ca429b93-98bc-4d55-9543-ab0d27cdd9a3"
      },
      "outputs": [
        {
          "name": "stdout",
          "output_type": "stream",
          "text": [
            "F_onewayResult(statistic=6.051390169140599, pvalue=0.0067391899783064285)\n"
          ]
        }
      ],
      "source": [
        "dados1 = dados[dados.Depth==\"Bottom\"].Aldrin\n",
        "dados2 = dados[dados.Depth==\"Middepth\"].Aldrin\n",
        "dados3 = dados[dados.Depth==\"Surface\"].Aldrin\n",
        "print(st.f_oneway(dados1,dados2,dados3))"
      ]
    },
    {
      "cell_type": "markdown",
      "metadata": {
        "id": "QCzuGylA-IY7"
      },
      "source": [
        "Assim, à 95% de confiança podemos rejeitar a hipótese de que o nível de concentração não depende da profundidade."
      ]
    },
    {
      "cell_type": "markdown",
      "metadata": {
        "id": "pLqCj0orHd6K"
      },
      "source": [
        "##Análise dos resíduos"
      ]
    },
    {
      "cell_type": "markdown",
      "metadata": {
        "id": "jS0IVriHHg00"
      },
      "source": [
        "A análise de variância considera que as <u>observações sejam normal e independentemente distribuídas</u>, <u>com a mesma variância</u> para cada nível do fator. Essas suposições devem ser válidas e podem ser verificadas por meio do exame dos resíduos.\n",
        "\n",
        "Resíduo é a diferença entre uma observação $y_{ij}$ e seu valor estimado $\\hat{y}_{ij}$ a partir do modelo estatístico que está sendo estudado. Para o experimento completamente aleatorizado com um fator, temos que o valor previsto para cada observação é a média do respectivo nível ($\\hat{y}_{ij} = \\hat{\\mu_i}$) ao qual ela pertence. Assim o resíduo $e_{ij} = {y}_{ij} - \\hat{\\mu_i}$. Removendo a média do valor da observação, temos que o que sobra é o efeito da variabilidade não explicada pelo tratamento.\n",
        "\n",
        "Para **verificar a suposição de normalidade** podemos usar um **teste de hipótese para normalidade** e **análise gráfica** por meio de um gráfico de quantis e histograma para a distribuição normal.\n",
        "\n",
        "Para **verificar a suposição de igualdade de variâncias em cada nível** (homocedasticidade), podemos traçar um **gráfico de dispersão entre os níveis e os resíduos**, com os níveis no eixo das abscissas e os respectivos resíduos no eixo das ordenadas. Similarmente, fazemos um **gráfico de dispersão entre os resíduos e a média do respectivo nível**. Em ambos os gráficos, o aparecimento de algum padrão de comportamento sugere que a suposição foi violada e que por isso o resultado do teste não é significante. Podemos ainda usar um **teste de hipótese de Bartlett** (caso os dados sejam normais) para igualdade de variâncias, ou **um teste de Levene**, caso a suposição de normalidade não se confirme.\n",
        "\n",
        "Para verificar a **suposição de independência** pode-se fazer um gráfico dos resíduos contra a ordem em que foram realizados no experimento. Um padrão de comportamento nesse gráfico, como sequências de resíduos positivos e negativos, pode indicar que as observações não são independentes."
      ]
    },
    {
      "cell_type": "markdown",
      "metadata": {
        "id": "aUqrFn1gLfPO"
      },
      "source": [
        "### Exemplo (Concentração de aldrin)\n",
        "Faça a análise dos resíduos para o teste ANOVA realizado anteriormente."
      ]
    },
    {
      "cell_type": "markdown",
      "metadata": {
        "id": "yrQN4WocMcXq"
      },
      "source": [
        "**Solução**: Iniciamos verificando a suposição de normalidade por meio do teste Shapiro-Wilk para os resíduos e de seu histograma e gráfico de quantis."
      ]
    },
    {
      "cell_type": "code",
      "execution_count": null,
      "metadata": {
        "colab": {
          "base_uri": "https://localhost:8080/",
          "height": 313
        },
        "id": "Y2_RrrXaI7mk",
        "outputId": "3694acf2-7104-43e4-e610-14c6e5a7cb28"
      },
      "outputs": [
        {
          "name": "stdout",
          "output_type": "stream",
          "text": [
            "ShapiroResult(statistic=0.9786766171455383, pvalue=0.7893761992454529)\n"
          ]
        },
        {
          "data": {
            "image/png": "[encoded data removed]",
            "text/plain": [
              "<Figure size 864x288 with 2 Axes>"
            ]
          },
          "metadata": {
            "needs_background": "light"
          },
          "output_type": "display_data"
        }
      ],
      "source": [
        "import numpy as np\n",
        "\n",
        "def qqanalise(dados,distr=\"norm\"):\n",
        "  plt.figure(figsize=(12,4))\n",
        "  plt.subplot(1,2,1)\n",
        "  plt.hist(dados)\n",
        "  plt.subplot(1,2,2)\n",
        "  st.probplot(dados, dist=distr,plot=plt)\n",
        "  plt.show()\n",
        "\n",
        "e = []\n",
        "e1 = dados1-np.mean(dados1)\n",
        "e2 = dados2-np.mean(dados2)\n",
        "e3 = dados3-np.mean(dados3)\n",
        "e.extend(e1)\n",
        "e.extend(e2)\n",
        "e.extend(e3)\n",
        "\n",
        "print(st.shapiro(e))\n",
        "qqanalise(e)"
      ]
    },
    {
      "cell_type": "markdown",
      "metadata": {
        "id": "ckiqOJlnMs2v"
      },
      "source": [
        "Os resultados mostram que a <u>hipótese de normalidade não pode ser rejeitada</u> para os dados apresentados.\n",
        "\n",
        "Agora faremos a análise da independência das amostras. Infelizmente não temos informação suficiente para checar esta suposição com mais cuidado, então usamos a ordem em que as amostras aparecem no conjunto de dados como um indicativo da ordem em que as amostras foram analisadas. Do gráfico abaixo, não há evidências de violação da suposição de independência."
      ]
    },
    {
      "cell_type": "code",
      "execution_count": null,
      "metadata": {
        "colab": {
          "base_uri": "https://localhost:8080/",
          "height": 269
        },
        "id": "N5Wts68wQRvn",
        "outputId": "4ffe7117-c866-43f5-d9fb-11b847263bec"
      },
      "outputs": [
        {
          "data": {
            "image/png": "[encoded data removed]",
            "text/plain": [
              "<Figure size 432x288 with 1 Axes>"
            ]
          },
          "metadata": {
            "needs_background": "light"
          },
          "output_type": "display_data"
        }
      ],
      "source": [
        "plt.plot(e,\".\")\n",
        "plt.show()"
      ]
    },
    {
      "cell_type": "markdown",
      "metadata": {
        "id": "C-hUwyDuQaHV"
      },
      "source": [
        "Agora procederemos com a análise de igualdade de variâncias por meio de gráficos e do teste de Bartlett"
      ]
    },
    {
      "cell_type": "code",
      "execution_count": null,
      "metadata": {
        "colab": {
          "base_uri": "https://localhost:8080/",
          "height": 556
        },
        "id": "oGB6nl9QNFTt",
        "outputId": "c788d6d5-2059-476d-af85-ba7d2be24e80"
      },
      "outputs": [
        {
          "name": "stdout",
          "output_type": "stream",
          "text": [
            "BartlettResult(statistic=5.7642960668765815, pvalue=0.056014312898074105)\n",
            "2.2520089999999997 1.097729 0.40494899999999995\n"
          ]
        },
        {
          "data": {
            "image/png": "[encoded data removed]",
            "text/plain": [
              "<Figure size 432x288 with 1 Axes>"
            ]
          },
          "metadata": {
            "needs_background": "light"
          },
          "output_type": "display_data"
        },
        {
          "data": {
            "image/png": "[encoded data removed]",
            "text/plain": [
              "<Figure size 432x288 with 1 Axes>"
            ]
          },
          "metadata": {
            "needs_background": "light"
          },
          "output_type": "display_data"
        }
      ],
      "source": [
        "print(st.bartlett(e1,e2,e3))\n",
        "print(np.var(e1),np.var(e2),np.var(e3))\n",
        "plt.plot(np.repeat(mui.keys(),10),e,\".\")\n",
        "plt.show()\n",
        "plt.plot(np.repeat(mui.values,10),e,\".\")\n",
        "plt.show()"
      ]
    },
    {
      "cell_type": "markdown",
      "metadata": {
        "id": "386R2A2rSWBR"
      },
      "source": [
        "Embora o p-valor seja muito próximo de 0.05, o teste de Bartlett indica, à 95% de confiança, que não podemos rejeitar a suposição de igualdade das variâncias."
      ]
    },
    {
      "cell_type": "markdown",
      "metadata": {
        "id": "KzGz7UfwgoIU"
      },
      "source": [
        "##Comparações múltiplas"
      ]
    },
    {
      "cell_type": "markdown",
      "metadata": {
        "id": "D7v2zfPcqaho"
      },
      "source": [
        "No teste ANOVA, quando a hipótese nula $H_0$ é rejeitada, sabemos que pelo menos alguma das médias dos níveis é estatisticamente diferente das demais. Entretanto, a ANOVA não identifica <u>quais médias são diferentes</u>. Para isso podemos usar o **método de Fisher da mínima diferença significativa** (MDS).\n",
        "\n",
        "O método MDS compara todos os pares de médias com as hipóteses nulas $H_0: \\mu_i = \\mu_j \\, (\\forall \\, i \\neq j)$, usando a estatística abaixo\n",
        "\n",
        "$t_0 = \\frac{\\mu_i - \\mu_j}{\\sqrt{\\frac{2MQE}{n}}}$\n",
        "\n",
        "que se distribui como uma distribuição T de Student com $a(n-1)$ graus de liberdade. Portanto o valor p, para a comparação de cada par de níveis pode ser calculado computando a área nas caudas da distribuição T de Student:\n",
        "\n",
        "$\\text{p-valor} = 1 - ((F_{\\text{T Student}}(|t0|;a(n-1)) - F_{\\text{T Student}}(-|t0|;a(n-1)))$"
      ]
    },
    {
      "cell_type": "markdown",
      "metadata": {
        "id": "tixSm-bamuvk"
      },
      "source": [
        "### Exemplo (Concentração de aldrin)\n",
        "Pelo teste ANOVA, sabemos que há diferença entre os niveis, agora aplique o MDS aos dados de concentração utilizados anteriormente, para determinar as diferenças nível a nível."
      ]
    },
    {
      "cell_type": "markdown",
      "metadata": {
        "id": "8JadoKUenFr-"
      },
      "source": [
        "**Solução**: Para cada par devemos calcular a estatística $t_0$ e o p-valor. O código abaixo faz isso."
      ]
    },
    {
      "cell_type": "code",
      "execution_count": null,
      "metadata": {
        "colab": {
          "base_uri": "https://localhost:8080/"
        },
        "id": "3BojeJBGnONg",
        "outputId": "24c05648-7b59-4244-c407-9efc71276ad5"
      },
      "outputs": [
        {
          "name": "stdout",
          "output_type": "stream",
          "text": [
            "P-valor para Bottom e Middepth 0.06816581211647721\n",
            "P-valor para Bottom e Surface 0.0017471821721772862\n",
            "P-valor para Middepth e Surface 0.1271728426120705\n"
          ]
        }
      ],
      "source": [
        "import itertools\n",
        "\n",
        "for c in itertools.combinations(mui.keys(),2):\n",
        "  dadosI = dados[dados.Depth == c[0]].Aldrin\n",
        "  dadosJ = dados[dados.Depth == c[1]].Aldrin\n",
        "  muI = np.mean(dadosI)\n",
        "  muJ = np.mean(dadosJ)\n",
        "  t0 = (muI - muJ)/(2*MQE/n)**0.5\n",
        "  pvalor = 1 - (st.t.cdf(abs(t0),27) - st.t.cdf(-abs(t0),27))\n",
        "  print(\"P-valor para\",c[0],\"e\",c[1],pvalor)"
      ]
    },
    {
      "cell_type": "markdown",
      "metadata": {
        "id": "xfqka0WDqBtT"
      },
      "source": [
        "Deste resultado concluímos que há diferença estatística entre o par Bottom e Surface, mas não entre os pares Bottom e Middepth e Surface e Middepth."
      ]
    },
    {
      "cell_type": "markdown",
      "metadata": {
        "id": "5gfXO7cu-bcY"
      },
      "source": [
        "##Experimento não-balanceado"
      ]
    },
    {
      "cell_type": "markdown",
      "metadata": {
        "id": "XBbDUU6--e5i"
      },
      "source": [
        "Nem sempre é possível termos a mesma quantidade de observações para cada nível de um fator. Por vezes amostras se perdem (no caso das amostras da água do rio, um descuido no laboratório poderia ocasionar a perda de uma amostra), ou mesmo não é possível encontrar sujeitos suficientes para que **o experimento seja balanceado**. O resultado é um **experimento desbalanceado**.\n",
        "\n",
        "Embora <u>um experimento balanceado seja sempre preferível a um desbalanceado</u>, ainda assim podemos realizar o Teste ANOVA fazendo  algumas mudanças.\n",
        "\n",
        "Assumimos que cada nível $i$ tem $n_i$ observações e que $N = \\sum_{i=1}^{a}n_i$. Assim, calculamos\n",
        "\n",
        "$SST = \\sum_{i=1}^{a}\\sum_{j=1}^{n_i} y_{ij}^2-\\frac{\\hat{\\mu}^2}{N} \\\\\n",
        "SSR = \\sum_{i=1}^{a} \\frac{\\hat{\\mu_i}^2}{n_i} - \\frac{\\hat{\\mu}^2}{N} \\\\\n",
        "SSE = SST - SSR \\\\\n",
        "MQR = \\frac{SSR}{a-1} \\\\\n",
        "MQE = \\frac{SSE}{N-1} \\\\\n",
        "F_0 = \\frac{MQR}{MQE} \\\\\n",
        "d_1 = a-1 \\\\\n",
        "d_2 = N - 1\\\\\n",
        "\\text{p-valor} = 1 - F_{\\text{Distribuição F}}(F_0;d_1;d_2)$\n",
        "\n"
      ]
    },
    {
      "cell_type": "markdown",
      "metadata": {
        "id": "SXZaXuKHlfEh"
      },
      "source": [
        "# Experimento com dois fatores"
      ]
    },
    {
      "cell_type": "markdown",
      "metadata": {
        "id": "Ht6VKhgPlxm7"
      },
      "source": [
        "Em alguns casos queremos avaliar como uma variável dependente se comporta em relação à diferentes fatores. Neste caso, podemos fazer de duas formas: a) elaborar vários experimentos variando cada fator individualmente (mantendo os demais fixos, como parâmetros); ou b) elaborar um experimento onde avaliamos o comportamento da métrica frente às variações de cada fator.\n",
        "\n",
        "A estratégia a) consiste em fazer basicamente o que vimos no experimento com um fator e as técnicas que vimos serviriam para verificar o efeito de cada fator individualmente. Contudo, a estratégia b), denominada experimento com múltiplos fatores, permite não apenas capturar o efeito de cada fator individual, mas os efeitos combinados das interações entre os fatores o que pode nos fornecer muito mais informação sobre nosso objeto de estudo. Queremos discutir este segundo caso aqui, considerando o <u>caso balanceado</u>, apenas.\n",
        "\n",
        "Nós assumimos que o primeiro fator tem $a_1$ níveis e o segundo tem $a_2$ níveis, com cada cruzamento de níveis tendo $n$ observações. Por cruzamento de níveis queremos dizer que se o fator 1 tem os níveis $l_1,l_2,l_3$ enquanto que o fator 2 tem os níveis $l_a,l_b,l_c$, então cada par $(l_i,l_j)$, em que $i \\in \\{1,2,3\\}$ e $j \\in \\{a,b,c\\}$, deve ter $n$ observações. A tabela abaixo ilustra esta ideia:\n",
        "\n",
        "| |$l_1$ | $l_2$ | $l_3$|\n",
        "|----|----|----|----|\n",
        "|$l_a$| $n$ observações |$n$ observações |$n$ observações |\n",
        "|$l_b$| $n$ observações |$n$ observações |$n$ observações |\n",
        "|$l_c$| $n$ observações |$n$ observações |$n$ observações |\n",
        "\n",
        "Observe que a aleatorização deve ainda ser usada, distribuindo as amostras entre as células de forma aleatória, de modo a evitar qualquer viés na amostragem das observações. O controle das condições iniciais também deve ser feito com cuidado, principalmente considerando que cada fator pode estar associado à diferentes parâmetros.\n",
        "\n",
        "O experimento é realizado tratando cada observação nos níveis de cada fator e anotando as medidas da métrica de interesse. Após isso, queremos saber se algum dos fatores tem efeito e se há alguma interação entre eles. Isso pode ser feito usando métodos estatísticos similares aos que foram mostrados para um fator."
      ]
    },
    {
      "cell_type": "markdown",
      "metadata": {
        "id": "_zIlvUWstewH"
      },
      "source": [
        "## O modelo"
      ]
    },
    {
      "cell_type": "markdown",
      "metadata": {
        "id": "qPmwN5ditgIf"
      },
      "source": [
        "Consideramos agora que a resposta para cada um dos $a_1 \\times a_2$ tratamentos pode ser vista como uma VA que pode ser modelada como\n",
        "\n",
        "$Y_{ijk} = \\mu_{ij} + \\epsilon_{ijk}$\n",
        "\n",
        "onde $Y_{ijk}$ é uma VA denotando a $k$-ésima observação no $i$-ésimo nível do fator 1 e $j$-ésimo nível do fator 2, $\\mu_ij$ é a média da combinação de níveis $i$ e $j$ e $\\epsilon_{ijk}$ é um \"ruído\", um erro, aleatório que captura efeitos não modelados pelos tratamentos (não depende do tratamento) e é normal e e independentemente distribuídos, com média zero e variância $\\sigma^2$.\n",
        "\n",
        "O valor de $\\mu_{ij}$ é impactado por quatro fatores: uma média geral ($\\mu$), o efeito do primeiro fator ($\\tau_i$), o efeito do segundo fator ($\\beta_j$) e o efeito da interação entre os tratamentos $\\gamma_{ij}$. Assim temos que:\n",
        "\n",
        "$\\mu_{ij} = \\mu + \\tau_i + \\beta_j + \\gamma_{ij}$"
      ]
    },
    {
      "cell_type": "markdown",
      "metadata": {
        "id": "x01lacz6wfO8"
      },
      "source": [
        "## Análise estatística"
      ]
    },
    {
      "cell_type": "markdown",
      "metadata": {
        "id": "ADRkWDdZwhJH"
      },
      "source": [
        "As hipóteses que testaremos são dadas por:\n",
        "\n",
        "$H_0: \\tau_1 = \\tau_2 = \\ldots = \\tau_{a_1} = 0 \\\\\n",
        "H_a: \\tau_i \\neq 0 $\n",
        "\n",
        "$H_0: \\beta_1 = \\beta_2 = \\ldots = \\beta_{a_2} = 0 \\\\\n",
        "H_a: \\beta_i \\neq 0 $\n",
        "\n",
        "$H_0: \\gamma_{11} = \\gamma_{12} = \\ldots = \\gamma_{a_1a_2} = 0 \\\\\n",
        "H_a: \\gamma_{ij} \\neq 0 $\n",
        "\n",
        "Como antes, usaremos a (**Análise de Variância**) para testar essas hipóteses pela decomposição da variabilidade total dos dados em componentes de variabilidade. Posteriormente, estas componentes serão comparadas em vistas a determinar sua significância.\n",
        "\n",
        "A variabilidade total ($SST$) é medida pela soma total dos quadrados das observações\n",
        "\n",
        "$SST = \\sum_{i=1}^{a_1}\\sum_{j=1}^{a_2}\\sum_{j=1}^{n} (y_{ijk} - \\hat{\\mu})^2$\n",
        "\n",
        "onde $\\hat{\\mu}$ é a média global amostral e $y_{ijk}$ cada uma das amostras.\n",
        "\n",
        "Seja $\\hat{\\mu_{i}}$ a média amostral do $i$-ésimo nível do fator 1, desconsiderando o fator 2 (obtida sobre as observações de níveis do fator 2) e $\\hat{\\mu_{j}}$ a média amostral do $i$-ésimo nível do fator 2, desconsiderando o fator 1, as variabilidades atribuídas aos fatores 1 e 2 ($SS_1$ e $SS_2$, respectivamente) são dadas por:\n",
        "\n",
        "$SS_1 = a_2n \\sum_{i=1}^{a_1}(\\hat{\\mu_{i}}-\\hat{\\mu})^2 \\\\\n",
        "SS_2 = a_1n \\sum_{j=1}^{a_2}(\\hat{\\mu_{j}}-\\hat{\\mu})^2$\n",
        "\n",
        "A variabilidade devida às interações ($SS_{12}$) é computada por\n",
        "\n",
        "$SS_{12} = n \\sum_{i=1}^{a_1}\\sum_{j=1}^{a_2}(\\hat{\\mu_{ij}}-\\hat{\\mu_{i}}-\\hat{\\mu_{j}}+\\hat{\\mu})^2$\n",
        "\n",
        "onde $\\hat{\\mu_{ij}}$ é a média amostral dos níveis i e j, obtida tomando a métrica apenas para as observações do nível $i$ do fator 1 e do nível $j$ do fator 2.\n",
        "\n",
        "Finalmente, a variabilidade atribuída aos erros é dada por\n",
        "\n",
        "$SSE = \\sum_{i=1}^{a_1}\\sum_{j=1}^{a_2}\\sum_{k=1}^{n}(y_{ijk}-\\hat{\\mu_{ij}})^2$\n",
        "\n",
        "Estas componentes se relacionam pela relação fundamental $SST = SS_1 + SS_2 + SS_{12} + SSE$.\n",
        "\n",
        "Assim como para o caso de um fator, se as hipóteses nulas para os efeitos e para as interações forem verdadeiras, então os seguintes estimadores são todos bons estimadores para $\\sigma^2$:\n",
        "\n",
        "$MQ_1 = \\frac{SQ_1}{a_1-1} \\quad MQ_2 = \\frac{SQ_2}{a_2-1} \\quad MQ_{12} = \\frac{SQ_{12}}{(a_1-1)(a_2-1)} \\quad MQE = \\frac{SQE}{a_1a_2(n-1)}$\n",
        "\n",
        "Para testar o fato do efeito do fator 1 ser igual a zero ($H_0: \\tau_i = 0$), do efeito do fator 2 ser igual a zero ($H_0: \\beta_j = 0$) e dos efeitos de interação serem iguais a zero ($H_0: \\gamma_{ij} = 0$), usaremos as estatísticas\n",
        "\n",
        "$F^1_0 = \\frac{MQ_1}{MQE} \\quad F^2_0 = \\frac{MQ_2}{MQE} \\quad F^{12}_0 = \\frac{MQ_{12}}{MQE}$\n",
        "\n",
        "Sob as hipóteses nulas, $F^1_0$ se distribui como uma Distribuição F com $d_1=a_1-1$ e $d_2=a_1a_2(n-1)$ graus de liberdade. Já $F^2_0$ se distribui como uma Distribuição F com $d_1=a_2-1$ e $d_2=a_1a_2(n-1)$ graus de liberdade. Por fim, $F^{12}_0$ se distribui como uma Distribuição F com $d_1=(a_1-1)(a_2-1)$ e $d_2=a_1a_2(n-1)$ graus de liberdade.\n",
        "\n",
        "Com base nisso, podemos verificar se valor de cada estatística F obtida é estatisticamente significante calculando a área da função de densidade de probabilidade da distribuição onde $F \\gt F_0$  (este será o valor p), i.e.,\n",
        "\n",
        "$\\text{p-valor}=1−F_{\\text{Distribuição F}}(F_0;d_1;d_2)$\n",
        "\n",
        "onde $F_0$ é a respectiva estatística para cada hipótese, bem como $d_1$ e $d_2$ são os graus de liberdade respectivos às estatísticas."
      ]
    },
    {
      "cell_type": "markdown",
      "metadata": {
        "id": "EH48VDCT7e5-"
      },
      "source": [
        "###Tabela ANOVA"
      ]
    },
    {
      "cell_type": "markdown",
      "metadata": {
        "id": "VYuYFHwD7mVH"
      },
      "source": [
        "A Tabela ANOVA para um experimento com dois fatores e múltiplos níveis é mostrada abaixo.\n",
        "\n",
        "| |Graus de liberdade|Soma quad.|Média quad.|Valor F|Valor p|\n",
        "|---|----|----|----|----|----|\n",
        "|**Fator 1**| $a_1-1$ |$SS_1$|$MQ_1$|$\\frac{MQ_1}{MQE}$|p-valor\n",
        "|**Fator 2**| $a_2-1$ |$SS_2$|$MQ_2$|$\\frac{MQ_2}{MQE}$|p-valor\n",
        "|**Interação**| $(a_1-1)(a_{2}-1)$ |$SS_{12}$|$MQ_{12}$|$\\frac{MQ_{12}}{MQE}$|p-valor\n",
        "|**Resíduos**| $a_1a_2(n-1)$|SSE|MQE|"
      ]
    },
    {
      "cell_type": "markdown",
      "metadata": {
        "id": "o1Kxd0APAwy-"
      },
      "source": [
        "###Exemplo (Veneno e Antídoto)\n",
        "\n",
        "O conjunto de dados abaixo registra o tempo de vida (em unidades de 10 horas) de animais envenenados com três diferentes venenos e tratados com um de quatro antídotos. Faça a análise de variância para este experimento e verifique se os efeitos do veneno e dos antídotos são significativos no tempo de vida.\n",
        "\n",
        "Mais informações: http://www.statsci.org/data/general/poison.html\n"
      ]
    },
    {
      "cell_type": "markdown",
      "metadata": {
        "id": "Qlw0NNAtOG86"
      },
      "source": [
        "**Solução**: Comecemos importanto e investigando os dados por meio de análise exploratória básica."
      ]
    },
    {
      "cell_type": "code",
      "execution_count": null,
      "metadata": {
        "colab": {
          "base_uri": "https://localhost:8080/",
          "height": 397
        },
        "id": "V7DHgntQA5Iz",
        "outputId": "c1fc583e-e869-4146-dcaa-83551ba7a983"
      },
      "outputs": [
        {
          "name": "stdout",
          "output_type": "stream",
          "text": [
            "--2023-06-23 23:47:15--  http://www.statsci.org/data/general/poison.txt\n",
            "Resolving www.statsci.org (www.statsci.org)... 128.250.252.80\n",
            "Connecting to www.statsci.org (www.statsci.org)|128.250.252.80|:80... connected.\n",
            "HTTP request sent, awaiting response... 200 OK\n",
            "Length: 454 [text/plain]\n",
            "Saving to: ‘poison.txt’\n",
            "\n",
            "poison.txt          100%[===================>]     454  --.-KB/s    in 0s      \n",
            "\n",
            "2023-06-23 23:47:15 (74.3 MB/s) - ‘poison.txt’ saved [454/454]\n",
            "\n"
          ]
        },
        {
          "data": {
            "text/html": [
              "\n",
              "  <div id=\"df-100b351d-28ed-4617-adde-38ef48c0f8bb\">\n",
              "    <div class=\"colab-df-container\">\n",
              "      <div>\n",
              "<style scoped>\n",
              "    .dataframe tbody tr th:only-of-type {\n",
              "        vertical-align: middle;\n",
              "    }\n",
              "\n",
              "    .dataframe tbody tr th {\n",
              "        vertical-align: top;\n",
              "    }\n",
              "\n",
              "    .dataframe thead th {\n",
              "        text-align: right;\n",
              "    }\n",
              "</style>\n",
              "<table border=\"1\" class=\"dataframe\">\n",
              "  <thead>\n",
              "    <tr style=\"text-align: right;\">\n",
              "      <th></th>\n",
              "      <th>Poison</th>\n",
              "      <th>Treatment</th>\n",
              "      <th>Time</th>\n",
              "    </tr>\n",
              "  </thead>\n",
              "  <tbody>\n",
              "    <tr>\n",
              "      <th>0</th>\n",
              "      <td>1</td>\n",
              "      <td>1</td>\n",
              "      <td>0.31</td>\n",
              "    </tr>\n",
              "    <tr>\n",
              "      <th>1</th>\n",
              "      <td>1</td>\n",
              "      <td>1</td>\n",
              "      <td>0.45</td>\n",
              "    </tr>\n",
              "    <tr>\n",
              "      <th>2</th>\n",
              "      <td>1</td>\n",
              "      <td>1</td>\n",
              "      <td>0.46</td>\n",
              "    </tr>\n",
              "    <tr>\n",
              "      <th>3</th>\n",
              "      <td>1</td>\n",
              "      <td>1</td>\n",
              "      <td>0.43</td>\n",
              "    </tr>\n",
              "    <tr>\n",
              "      <th>4</th>\n",
              "      <td>1</td>\n",
              "      <td>2</td>\n",
              "      <td>0.82</td>\n",
              "    </tr>\n",
              "  </tbody>\n",
              "</table>\n",
              "</div>\n",
              "      <button class=\"colab-df-convert\" onclick=\"convertToInteractive('df-100b351d-28ed-4617-adde-38ef48c0f8bb')\"\n",
              "              title=\"Convert this dataframe to an interactive table.\"\n",
              "              style=\"display:none;\">\n",
              "        \n",
              "  <svg xmlns=\"http://www.w3.org/2000/svg\" height=\"24px\"viewBox=\"0 0 24 24\"\n",
              "       width=\"24px\">\n",
              "    <path d=\"M0 0h24v24H0V0z\" fill=\"none\"/>\n",
              "    <path d=\"M18.56 5.44l.94 2.06.94-2.06 2.06-.94-2.06-.94-.94-2.06-.94 2.06-2.06.94zm-11 1L8.5 8.5l.94-2.06 2.06-.94-2.06-.94L8.5 2.5l-.94 2.06-2.06.94zm10 10l.94 2.06.94-2.06 2.06-.94-2.06-.94-.94-2.06-.94 2.06-2.06.94z\"/><path d=\"M17.41 7.96l-1.37-1.37c-.4-.4-.92-.59-1.43-.59-.52 0-1.04.2-1.43.59L10.3 9.45l-7.72 7.72c-.78.78-.78 2.05 0 2.83L4 21.41c.39.39.9.59 1.41.59.51 0 1.02-.2 1.41-.59l7.78-7.78 2.81-2.81c.8-.78.8-2.07 0-2.86zM5.41 20L4 18.59l7.72-7.72 1.47 1.35L5.41 20z\"/>\n",
              "  </svg>\n",
              "      </button>\n",
              "      \n",
              "  <style>\n",
              "    .colab-df-container {\n",
              "      display:flex;\n",
              "      flex-wrap:wrap;\n",
              "      gap: 12px;\n",
              "    }\n",
              "\n",
              "    .colab-df-convert {\n",
              "      background-color: #E8F0FE;\n",
              "      border: none;\n",
              "      border-radius: 50%;\n",
              "      cursor: pointer;\n",
              "      display: none;\n",
              "      fill: #1967D2;\n",
              "      height: 32px;\n",
              "      padding: 0 0 0 0;\n",
              "      width: 32px;\n",
              "    }\n",
              "\n",
              "    .colab-df-convert:hover {\n",
              "      background-color: #E2EBFA;\n",
              "      box-shadow: 0px 1px 2px rgba(60, 64, 67, 0.3), 0px 1px 3px 1px rgba(60, 64, 67, 0.15);\n",
              "      fill: #174EA6;\n",
              "    }\n",
              "\n",
              "    [theme=dark] .colab-df-convert {\n",
              "      background-color: #3B4455;\n",
              "      fill: #D2E3FC;\n",
              "    }\n",
              "\n",
              "    [theme=dark] .colab-df-convert:hover {\n",
              "      background-color: #434B5C;\n",
              "      box-shadow: 0px 1px 3px 1px rgba(0, 0, 0, 0.15);\n",
              "      filter: drop-shadow(0px 1px 2px rgba(0, 0, 0, 0.3));\n",
              "      fill: #FFFFFF;\n",
              "    }\n",
              "  </style>\n",
              "\n",
              "      <script>\n",
              "        const buttonEl =\n",
              "          document.querySelector('#df-100b351d-28ed-4617-adde-38ef48c0f8bb button.colab-df-convert');\n",
              "        buttonEl.style.display =\n",
              "          google.colab.kernel.accessAllowed ? 'block' : 'none';\n",
              "\n",
              "        async function convertToInteractive(key) {\n",
              "          const element = document.querySelector('#df-100b351d-28ed-4617-adde-38ef48c0f8bb');\n",
              "          const dataTable =\n",
              "            await google.colab.kernel.invokeFunction('convertToInteractive',\n",
              "                                                     [key], {});\n",
              "          if (!dataTable) return;\n",
              "\n",
              "          const docLinkHtml = 'Like what you see? Visit the ' +\n",
              "            '<a target=\"_blank\" href=https://colab.research.google.com/notebooks/data_table.ipynb>data table notebook</a>'\n",
              "            + ' to learn more about interactive tables.';\n",
              "          element.innerHTML = '';\n",
              "          dataTable['output_type'] = 'display_data';\n",
              "          await google.colab.output.renderOutput(dataTable, element);\n",
              "          const docLink = document.createElement('div');\n",
              "          docLink.innerHTML = docLinkHtml;\n",
              "          element.appendChild(docLink);\n",
              "        }\n",
              "      </script>\n",
              "    </div>\n",
              "  </div>\n",
              "  "
            ],
            "text/plain": [
              "   Poison  Treatment  Time\n",
              "0       1          1  0.31\n",
              "1       1          1  0.45\n",
              "2       1          1  0.46\n",
              "3       1          1  0.43\n",
              "4       1          2  0.82"
            ]
          },
          "execution_count": 1,
          "metadata": {},
          "output_type": "execute_result"
        }
      ],
      "source": [
        "!wget http://www.statsci.org/data/general/poison.txt\n",
        "import pandas as pd\n",
        "import numpy as np\n",
        "\n",
        "dados=pd.read_csv(\"poison.txt\",sep=\"\\t\")\n",
        "dados.head()"
      ]
    },
    {
      "cell_type": "code",
      "execution_count": null,
      "metadata": {
        "colab": {
          "base_uri": "https://localhost:8080/",
          "height": 1000
        },
        "id": "F2eHEZbYBHIZ",
        "outputId": "aab3f3a0-9699-495a-98de-5f283ff3013b"
      },
      "outputs": [
        {
          "name": "stdout",
          "output_type": "stream",
          "text": [
            "Poison       48\n",
            "Treatment    48\n",
            "Time         48\n",
            "dtype: int64\n",
            "count    48.000000\n",
            "mean      0.479375\n",
            "std       0.252859\n",
            "min       0.180000\n",
            "25%       0.300000\n",
            "50%       0.400000\n",
            "75%       0.622500\n",
            "max       1.240000\n",
            "Name: Time, dtype: float64\n"
          ]
        },
        {
          "data": {
            "image/png": "[encoded data removed]",
            "text/plain": [
              "<Figure size 640x480 with 1 Axes>"
            ]
          },
          "metadata": {},
          "output_type": "display_data"
        },
        {
          "data": {
            "image/png": "[encoded data removed]",
            "text/plain": [
              "<Figure size 640x480 with 1 Axes>"
            ]
          },
          "metadata": {},
          "output_type": "display_data"
        },
        {
          "data": {
            "image/png": "[encoded data removed]",
            "text/plain": [
              "<Figure size 640x480 with 1 Axes>"
            ]
          },
          "metadata": {},
          "output_type": "display_data"
        }
      ],
      "source": [
        "import matplotlib.pyplot as plt\n",
        "\n",
        "print(dados.count())\n",
        "print(dados.Time.describe())\n",
        "dados.Time.hist()\n",
        "plt.show()\n",
        "dados.boxplot(column=\"Time\",by=\"Poison\")\n",
        "plt.show()\n",
        "dados.boxplot(column=\"Time\",by=\"Treatment\")\n",
        "plt.show()"
      ]
    },
    {
      "cell_type": "markdown",
      "metadata": {
        "id": "Qv0DwlxjOTGB"
      },
      "source": [
        "Os dados parecem indicar que ambos fatores (veneno - Poison; e antídoto - Treatment) têm impacto sobre o tempo de vida. Abaixo nós construímos a tabela ANOVA para este conjunto de dados."
      ]
    },
    {
      "cell_type": "code",
      "execution_count": null,
      "metadata": {
        "colab": {
          "base_uri": "https://localhost:8080/"
        },
        "id": "CP97YL4zGlEq",
        "outputId": "81db7376-fcd5-4b36-cc52-738ac37558eb"
      },
      "outputs": [
        {
          "name": "stdout",
          "output_type": "stream",
          "text": [
            "\t\t G. lib. S. quad. M. quad. Valor F  Valor p\n",
            "Fator 1 \t 2 \t 1.03 \t  0.52 \t   23.222    3.3e-07\n",
            "Fator 2 \t 3 \t 0.92 \t  0.31 \t   13.806    3.78e-06\n",
            "Interação \t 6 \t 0.25 \t  0.04 \t   1.874    0.11225061\n",
            "Resíduos \t 36.0 \t 0.8 \t  0.02\n"
          ]
        },
        {
          "name": "stderr",
          "output_type": "stream",
          "text": [
            "<ipython-input-4-71fc5d5ca461>:15: UserWarning: Boolean Series key will be reindexed to match DataFrame index.\n",
            "  SSE = sum([dados[dados.Poison==k[0]][dados.Treatment==k[1]].Time.sub(v).pow(2).sum() for k,v in muij.items()])\n"
          ]
        }
      ],
      "source": [
        "import scipy.stats as st\n",
        "\n",
        "a1 = dados.Poison.nunique()\n",
        "a2 = dados.Treatment.nunique()\n",
        "n = dados.Time.count()/(a1*a2) #podemos fazer isso, porque o experimento foi balanceado\n",
        "mu = dados.Time.mean()\n",
        "mui = dados.groupby(\"Poison\").Time.mean()\n",
        "muj = dados.groupby(\"Treatment\").Time.mean()\n",
        "muij = dados.groupby([\"Poison\",\"Treatment\"]).Time.mean()\n",
        "\n",
        "SST = dados.Time.sub(mu).pow(2).sum()\n",
        "SS1 = a2*n*mui.sub(mu).pow(2).sum()\n",
        "SS2 = a1*n*muj.sub(mu).pow(2).sum()\n",
        "SS12 = n*muij.sub(mui).sub(muj).add(mu).pow(2).sum()\n",
        "SSE = sum([dados[dados.Poison==k[0]][dados.Treatment==k[1]].Time.sub(v).pow(2).sum() for k,v in muij.items()])\n",
        "d1 = a1-1\n",
        "d2 = a2-1\n",
        "d12 = d1*d2\n",
        "de = a1*a2*(n-1)\n",
        "MQ1 = SS1/d1\n",
        "MQ2 = SS2/d2\n",
        "MQ12 = SS12/d12\n",
        "MQE = SSE/de\n",
        "F01 = MQ1/MQE\n",
        "pvalor1 = 1 - st.f.cdf(F01,d1,de)\n",
        "F02 = MQ2/MQE\n",
        "pvalor2 = 1 - st.f.cdf(F02,d2,de)\n",
        "F012 = MQ12/MQE\n",
        "pvalor12 = 1 - st.f.cdf(F012,d12,de)\n",
        "print(\"\\t\\t G. lib. S. quad. M. quad. Valor F  Valor p\")\n",
        "print(\"Fator 1 \\t\",d1,\"\\t\",round(SS1,2),\"\\t \",round(MQ1,2),\"\\t  \",round(F01,3),\"  \",round(pvalor1,8))\n",
        "print(\"Fator 2 \\t\",d2,\"\\t\",round(SS2,2),\"\\t \",round(MQ2,2),\"\\t  \",round(F02,3),\"  \",round(pvalor2,8))\n",
        "print(\"Interação \\t\",d12,\"\\t\",round(SS12,2),\"\\t \",round(MQ12,2),\"\\t  \",round(F012,3),\"  \",round(pvalor12,8))\n",
        "print(\"Resíduos \\t\",de,\"\\t\",round(SSE,2),\"\\t \",round(MQE,2))"
      ]
    },
    {
      "cell_type": "markdown",
      "metadata": {
        "id": "YSsCwfdBma3u"
      },
      "source": [
        "Abaixo mostramos como fazer o teste usando a biblioteca statsmodels."
      ]
    },
    {
      "cell_type": "code",
      "execution_count": null,
      "metadata": {
        "colab": {
          "base_uri": "https://localhost:8080/",
          "height": 175
        },
        "id": "T2lG8hh0kTJS",
        "outputId": "f00a27c5-63a4-4c44-8809-5e9698d6d94e"
      },
      "outputs": [
        {
          "data": {
            "text/html": [
              "\n",
              "  <div id=\"df-1894cb26-be94-4c1b-8a7c-c571da538151\">\n",
              "    <div class=\"colab-df-container\">\n",
              "      <div>\n",
              "<style scoped>\n",
              "    .dataframe tbody tr th:only-of-type {\n",
              "        vertical-align: middle;\n",
              "    }\n",
              "\n",
              "    .dataframe tbody tr th {\n",
              "        vertical-align: top;\n",
              "    }\n",
              "\n",
              "    .dataframe thead th {\n",
              "        text-align: right;\n",
              "    }\n",
              "</style>\n",
              "<table border=\"1\" class=\"dataframe\">\n",
              "  <thead>\n",
              "    <tr style=\"text-align: right;\">\n",
              "      <th></th>\n",
              "      <th>df</th>\n",
              "      <th>sum_sq</th>\n",
              "      <th>mean_sq</th>\n",
              "      <th>F</th>\n",
              "      <th>PR(&gt;F)</th>\n",
              "    </tr>\n",
              "  </thead>\n",
              "  <tbody>\n",
              "    <tr>\n",
              "      <th>C(Poison)</th>\n",
              "      <td>2.0</td>\n",
              "      <td>1.033013</td>\n",
              "      <td>0.516506</td>\n",
              "      <td>23.221737</td>\n",
              "      <td>3.331440e-07</td>\n",
              "    </tr>\n",
              "    <tr>\n",
              "      <th>C(Treatment)</th>\n",
              "      <td>3.0</td>\n",
              "      <td>0.921206</td>\n",
              "      <td>0.307069</td>\n",
              "      <td>13.805582</td>\n",
              "      <td>3.777331e-06</td>\n",
              "    </tr>\n",
              "    <tr>\n",
              "      <th>C(Poison):C(Treatment)</th>\n",
              "      <td>6.0</td>\n",
              "      <td>0.250137</td>\n",
              "      <td>0.041690</td>\n",
              "      <td>1.874333</td>\n",
              "      <td>1.122506e-01</td>\n",
              "    </tr>\n",
              "    <tr>\n",
              "      <th>Residual</th>\n",
              "      <td>36.0</td>\n",
              "      <td>0.800725</td>\n",
              "      <td>0.022242</td>\n",
              "      <td>NaN</td>\n",
              "      <td>NaN</td>\n",
              "    </tr>\n",
              "  </tbody>\n",
              "</table>\n",
              "</div>\n",
              "      <button class=\"colab-df-convert\" onclick=\"convertToInteractive('df-1894cb26-be94-4c1b-8a7c-c571da538151')\"\n",
              "              title=\"Convert this dataframe to an interactive table.\"\n",
              "              style=\"display:none;\">\n",
              "        \n",
              "  <svg xmlns=\"http://www.w3.org/2000/svg\" height=\"24px\"viewBox=\"0 0 24 24\"\n",
              "       width=\"24px\">\n",
              "    <path d=\"M0 0h24v24H0V0z\" fill=\"none\"/>\n",
              "    <path d=\"M18.56 5.44l.94 2.06.94-2.06 2.06-.94-2.06-.94-.94-2.06-.94 2.06-2.06.94zm-11 1L8.5 8.5l.94-2.06 2.06-.94-2.06-.94L8.5 2.5l-.94 2.06-2.06.94zm10 10l.94 2.06.94-2.06 2.06-.94-2.06-.94-.94-2.06-.94 2.06-2.06.94z\"/><path d=\"M17.41 7.96l-1.37-1.37c-.4-.4-.92-.59-1.43-.59-.52 0-1.04.2-1.43.59L10.3 9.45l-7.72 7.72c-.78.78-.78 2.05 0 2.83L4 21.41c.39.39.9.59 1.41.59.51 0 1.02-.2 1.41-.59l7.78-7.78 2.81-2.81c.8-.78.8-2.07 0-2.86zM5.41 20L4 18.59l7.72-7.72 1.47 1.35L5.41 20z\"/>\n",
              "  </svg>\n",
              "      </button>\n",
              "      \n",
              "  <style>\n",
              "    .colab-df-container {\n",
              "      display:flex;\n",
              "      flex-wrap:wrap;\n",
              "      gap: 12px;\n",
              "    }\n",
              "\n",
              "    .colab-df-convert {\n",
              "      background-color: #E8F0FE;\n",
              "      border: none;\n",
              "      border-radius: 50%;\n",
              "      cursor: pointer;\n",
              "      display: none;\n",
              "      fill: #1967D2;\n",
              "      height: 32px;\n",
              "      padding: 0 0 0 0;\n",
              "      width: 32px;\n",
              "    }\n",
              "\n",
              "    .colab-df-convert:hover {\n",
              "      background-color: #E2EBFA;\n",
              "      box-shadow: 0px 1px 2px rgba(60, 64, 67, 0.3), 0px 1px 3px 1px rgba(60, 64, 67, 0.15);\n",
              "      fill: #174EA6;\n",
              "    }\n",
              "\n",
              "    [theme=dark] .colab-df-convert {\n",
              "      background-color: #3B4455;\n",
              "      fill: #D2E3FC;\n",
              "    }\n",
              "\n",
              "    [theme=dark] .colab-df-convert:hover {\n",
              "      background-color: #434B5C;\n",
              "      box-shadow: 0px 1px 3px 1px rgba(0, 0, 0, 0.15);\n",
              "      filter: drop-shadow(0px 1px 2px rgba(0, 0, 0, 0.3));\n",
              "      fill: #FFFFFF;\n",
              "    }\n",
              "  </style>\n",
              "\n",
              "      <script>\n",
              "        const buttonEl =\n",
              "          document.querySelector('#df-1894cb26-be94-4c1b-8a7c-c571da538151 button.colab-df-convert');\n",
              "        buttonEl.style.display =\n",
              "          google.colab.kernel.accessAllowed ? 'block' : 'none';\n",
              "\n",
              "        async function convertToInteractive(key) {\n",
              "          const element = document.querySelector('#df-1894cb26-be94-4c1b-8a7c-c571da538151');\n",
              "          const dataTable =\n",
              "            await google.colab.kernel.invokeFunction('convertToInteractive',\n",
              "                                                     [key], {});\n",
              "          if (!dataTable) return;\n",
              "\n",
              "          const docLinkHtml = 'Like what you see? Visit the ' +\n",
              "            '<a target=\"_blank\" href=https://colab.research.google.com/notebooks/data_table.ipynb>data table notebook</a>'\n",
              "            + ' to learn more about interactive tables.';\n",
              "          element.innerHTML = '';\n",
              "          dataTable['output_type'] = 'display_data';\n",
              "          await google.colab.output.renderOutput(dataTable, element);\n",
              "          const docLink = document.createElement('div');\n",
              "          docLink.innerHTML = docLinkHtml;\n",
              "          element.appendChild(docLink);\n",
              "        }\n",
              "      </script>\n",
              "    </div>\n",
              "  </div>\n",
              "  "
            ],
            "text/plain": [
              "                          df    sum_sq   mean_sq          F        PR(>F)\n",
              "C(Poison)                2.0  1.033013  0.516506  23.221737  3.331440e-07\n",
              "C(Treatment)             3.0  0.921206  0.307069  13.805582  3.777331e-06\n",
              "C(Poison):C(Treatment)   6.0  0.250137  0.041690   1.874333  1.122506e-01\n",
              "Residual                36.0  0.800725  0.022242        NaN           NaN"
            ]
          },
          "execution_count": 2,
          "metadata": {},
          "output_type": "execute_result"
        }
      ],
      "source": [
        "import statsmodels.api as sm\n",
        "from statsmodels.formula.api import ols\n",
        "\n",
        "model = ols(\"\"\"Time ~ C(Poison) + C(Treatment) + C(Poison):C(Treatment)\"\"\", data=dados).fit()\n",
        "sm.stats.anova_lm(model, typ=1)"
      ]
    },
    {
      "cell_type": "code",
      "execution_count": null,
      "metadata": {
        "colab": {
          "base_uri": "https://localhost:8080/"
        },
        "id": "xxKSTOEOp8zl",
        "outputId": "e378b962-05ab-41b0-e9f3-6294bad3a551"
      },
      "outputs": [
        {
          "data": {
            "text/plain": [
              "ShapiroResult(statistic=0.9122891426086426, pvalue=0.0016067486722022295)"
            ]
          },
          "execution_count": 5,
          "metadata": {},
          "output_type": "execute_result"
        }
      ],
      "source": [
        "model.resid\n",
        "import scipy.stats as st\n",
        "st.shapiro(model.resid)"
      ]
    },
    {
      "cell_type": "markdown",
      "metadata": {
        "id": "OZAFcmAKOoUV"
      },
      "source": [
        "Da tabela verificamos que não há evidências do impacto da interação entre as variáveis no tempo de vida e que tanto o antídoto quanto o veneno têm impacto sobre o tempo de vida dos animais. Sobre o impacto podemos criar um gráfico de médias para o fator antídoto, e observar o impacto de cada antídoto sobre as curvas de cada tipo de veneno.\n",
        "\n",
        "Observe abaixo que para todos os tipos de veneno o comportamento em relação ao antídoto é o similar, inicia baixo, sobe, decresce e depois sobe novamente. Caso houvesse alguma interação, uma destas curvas teria comportamento diferente das demais."
      ]
    },
    {
      "cell_type": "code",
      "execution_count": null,
      "metadata": {
        "colab": {
          "base_uri": "https://localhost:8080/",
          "height": 296
        },
        "id": "zbmL-PxUQ9Go",
        "outputId": "93270943-764d-4c60-cb4a-809476b199bc"
      },
      "outputs": [
        {
          "data": {
            "text/plain": [
              "<matplotlib.legend.Legend at 0x7feedd508990>"
            ]
          },
          "execution_count": 5,
          "metadata": {},
          "output_type": "execute_result"
        },
        {
          "data": {
            "image/png": "[encoded data removed]",
            "text/plain": [
              "<Figure size 432x288 with 1 Axes>"
            ]
          },
          "metadata": {
            "needs_background": "light"
          },
          "output_type": "display_data"
        }
      ],
      "source": [
        "for i in range(a1):\n",
        "  plt.plot(muij[i+1,],label=\"Poison \"+str(i+1))\n",
        "plt.xlabel(\"Treatment\")\n",
        "plt.ylabel(\"Time\")\n",
        "plt.legend()"
      ]
    },
    {
      "cell_type": "markdown",
      "metadata": {
        "id": "1yI_ffyLu4bW"
      },
      "source": [
        "##Análise dos resíduos"
      ]
    },
    {
      "cell_type": "markdown",
      "metadata": {
        "id": "ubyI-tdBu7Mt"
      },
      "source": [
        "Assim como no caso de um fator, a ANOVA para dois fatores considera que as observações sejam **normal e independentemente distribuídas**, com a **mesma variância para cada nível de cada fator**. Usaremos a análise dos resíduos novamente, para checar estas suposições.\n",
        "\n",
        "O resíduo no experimento com dois fatores é $e_{ijk} = y_{ijk} - \\hat{\\mu_{ij}}$, ou seja, removendo o efeito dos fatores ($\\hat{\\mu_{ij}}$) o que sobra é o efeito da variabilidade não explicada pelos tratamentos.\n",
        "\n",
        "Para a suposição de normalidade:\n",
        "* Usamos um teste de hipótese para normalidade;\n",
        "* Gráfico de quantis para a distribuição normal; e\n",
        "* Histograma\n",
        "\n",
        "Para a suposição de igualdade de variâncias em cada nível de cada fator (homocedasticidade):\n",
        "* Traçamos um gráfico de dispersão entre os níveis do Fator 1 e os resíduos;\n",
        "* Traçamos um gráfico de dispersão entre os níveis do Fator2 e os resíduos;\n",
        "* Traçamos um gráfico de dispersão entre os resíduos e $\\hat{\\mu_{ij}}$, que é a média da combinação de cada nível de cada fator.\n",
        "* Teste de hipótese de Bartlett para igualdade de variâncias dentro de cada fator"
      ]
    },
    {
      "cell_type": "markdown",
      "metadata": {
        "id": "ffNFEEkzxWH3"
      },
      "source": [
        "###Exemplo (Veneno e Antídoto)\n",
        "\n",
        "Faça a análise dos resíduos para o teste ANOVA dos dados de tempo de vida de animais envenenados.\n"
      ]
    },
    {
      "cell_type": "markdown",
      "metadata": {
        "id": "gmYt3Ao5xfRJ"
      },
      "source": [
        "**Solução**: Começamos calculando os resíduos e fazendo as verificações de normalidade."
      ]
    },
    {
      "cell_type": "code",
      "execution_count": null,
      "metadata": {
        "colab": {
          "base_uri": "https://localhost:8080/",
          "height": 749
        },
        "id": "xiWdMKN-xw7X",
        "outputId": "b66bfbab-597c-4803-c7e1-ab95b92255ac"
      },
      "outputs": [
        {
          "name": "stderr",
          "output_type": "stream",
          "text": [
            "/usr/local/lib/python3.7/dist-packages/ipykernel_launcher.py:9: UserWarning: Boolean Series key will be reindexed to match DataFrame index.\n",
            "  if __name__ == '__main__':\n",
            "/usr/local/lib/python3.7/dist-packages/ipykernel_launcher.py:9: UserWarning: Boolean Series key will be reindexed to match DataFrame index.\n",
            "  if __name__ == '__main__':\n",
            "/usr/local/lib/python3.7/dist-packages/ipykernel_launcher.py:9: UserWarning: Boolean Series key will be reindexed to match DataFrame index.\n",
            "  if __name__ == '__main__':\n",
            "/usr/local/lib/python3.7/dist-packages/ipykernel_launcher.py:9: UserWarning: Boolean Series key will be reindexed to match DataFrame index.\n",
            "  if __name__ == '__main__':\n",
            "/usr/local/lib/python3.7/dist-packages/ipykernel_launcher.py:9: UserWarning: Boolean Series key will be reindexed to match DataFrame index.\n",
            "  if __name__ == '__main__':\n",
            "/usr/local/lib/python3.7/dist-packages/ipykernel_launcher.py:9: UserWarning: Boolean Series key will be reindexed to match DataFrame index.\n",
            "  if __name__ == '__main__':\n",
            "/usr/local/lib/python3.7/dist-packages/ipykernel_launcher.py:9: UserWarning: Boolean Series key will be reindexed to match DataFrame index.\n",
            "  if __name__ == '__main__':\n",
            "/usr/local/lib/python3.7/dist-packages/ipykernel_launcher.py:9: UserWarning: Boolean Series key will be reindexed to match DataFrame index.\n",
            "  if __name__ == '__main__':\n",
            "/usr/local/lib/python3.7/dist-packages/ipykernel_launcher.py:9: UserWarning: Boolean Series key will be reindexed to match DataFrame index.\n",
            "  if __name__ == '__main__':\n",
            "/usr/local/lib/python3.7/dist-packages/ipykernel_launcher.py:9: UserWarning: Boolean Series key will be reindexed to match DataFrame index.\n",
            "  if __name__ == '__main__':\n",
            "/usr/local/lib/python3.7/dist-packages/ipykernel_launcher.py:9: UserWarning: Boolean Series key will be reindexed to match DataFrame index.\n",
            "  if __name__ == '__main__':\n",
            "/usr/local/lib/python3.7/dist-packages/ipykernel_launcher.py:9: UserWarning: Boolean Series key will be reindexed to match DataFrame index.\n",
            "  if __name__ == '__main__':\n"
          ]
        },
        {
          "name": "stdout",
          "output_type": "stream",
          "text": [
            "(0.9122891426086426, 0.0016067486722022295)\n"
          ]
        },
        {
          "data": {
            "image/png": "[encoded data removed]",
            "text/plain": [
              "<Figure size 864x288 with 2 Axes>"
            ]
          },
          "metadata": {
            "needs_background": "light"
          },
          "output_type": "display_data"
        }
      ],
      "source": [
        "def qqanalise(dados,distr=\"norm\"):\n",
        "  plt.figure(figsize=(12,4))\n",
        "  plt.subplot(1,2,1)\n",
        "  plt.hist(dados)\n",
        "  plt.subplot(1,2,2)\n",
        "  st.probplot(dados, dist=distr,plot=plt)\n",
        "  plt.show()\n",
        "\n",
        "erro = {k: list(dados[dados.Poison==k[0]][dados.Treatment==k[1]].Time.sub(v).values) for k,v in muij.items()}\n",
        "e = []\n",
        "for k,v in erro.items():\n",
        "  e.extend(v)\n",
        "print(st.shapiro(e))\n",
        "qqanalise(e)"
      ]
    },
    {
      "cell_type": "markdown",
      "metadata": {
        "id": "pzd4U_vZ1pkt"
      },
      "source": [
        "A grosso modo, pelo teste rejeitamos a suposição de normalidade. Contudo, o QQplot mostra um desvio nas caudas (à esquerda e à direita), os quais provavelmente estão causando a rejeição no teste Shapiro-Wilk.\n",
        "\n",
        "Abaixo verificamos isso, eliminando valores dos resíduos acima de 0.25 e abaixo de -0.25. Observe que após eliminarmos apenas 4 amostras (nas caudas) o teste Shapiro-Wilk não rejeita a hipótese de normalidade. Isto indica que estas amostras devem tratar-se de outliers e que por isso, o desvio de normalidade não parece grave.\n",
        "\n",
        "Continuaremos o restante da análise mantendo os dados discrepantes, já que não temos evidências suficientes para removê-los. Além de que sua remoção afetaria o balanceamento entre as classes do teste ANOVA."
      ]
    },
    {
      "cell_type": "code",
      "execution_count": null,
      "metadata": {
        "colab": {
          "base_uri": "https://localhost:8080/",
          "height": 330
        },
        "id": "2VFoRp3L16z9",
        "outputId": "506b1c74-4f32-46d3-9ac2-a7e26cde8463"
      },
      "outputs": [
        {
          "name": "stdout",
          "output_type": "stream",
          "text": [
            "48 44\n",
            "(0.9648853540420532, 0.1976613700389862)\n"
          ]
        },
        {
          "data": {
            "image/png": "[encoded data removed]",
            "text/plain": [
              "<Figure size 864x288 with 2 Axes>"
            ]
          },
          "metadata": {
            "needs_background": "light"
          },
          "output_type": "display_data"
        }
      ],
      "source": [
        "e_test = []\n",
        "for i in e:\n",
        "  if i < 0.25 and i > -0.25:\n",
        "    e_test.append(i)\n",
        "print(len(e),len(e_test))\n",
        "print(st.shapiro(e_test))\n",
        "qqanalise(e_test)"
      ]
    },
    {
      "cell_type": "markdown",
      "metadata": {
        "id": "uj1349-l4qk_"
      },
      "source": [
        "Agora verificaremos a suposição de igualdade de variâncias dentre os níveis de cada fator."
      ]
    },
    {
      "cell_type": "code",
      "execution_count": null,
      "metadata": {
        "colab": {
          "base_uri": "https://localhost:8080/",
          "height": 872
        },
        "id": "heostT754-Pa",
        "outputId": "22462926-1e47-4967-ed93-d6785ca59347"
      },
      "outputs": [
        {
          "data": {
            "image/png": "[encoded data removed]",
            "text/plain": [
              "<Figure size 432x288 with 1 Axes>"
            ]
          },
          "metadata": {
            "needs_background": "light"
          },
          "output_type": "display_data"
        },
        {
          "name": "stdout",
          "output_type": "stream",
          "text": [
            "BartlettResult(statistic=39.592053373876986, pvalue=2.5275214284770314e-09)\n"
          ]
        },
        {
          "data": {
            "image/png": "[encoded data removed]",
            "text/plain": [
              "<Figure size 432x288 with 1 Axes>"
            ]
          },
          "metadata": {
            "needs_background": "light"
          },
          "output_type": "display_data"
        },
        {
          "name": "stdout",
          "output_type": "stream",
          "text": [
            "BartlettResult(statistic=17.632204638067215, pvalue=0.0005237466459229847)\n"
          ]
        },
        {
          "data": {
            "image/png": "[encoded data removed]",
            "text/plain": [
              "<Figure size 432x288 with 1 Axes>"
            ]
          },
          "metadata": {
            "needs_background": "light"
          },
          "output_type": "display_data"
        },
        {
          "name": "stdout",
          "output_type": "stream",
          "text": [
            "BartlettResult(statistic=57.31201709908052, pvalue=1.579583333360577e-10)\n",
            "0.34787429107500756 19.42380952380952 55.83571428571426\n"
          ]
        }
      ],
      "source": [
        "fator1 = []\n",
        "fator2 = []\n",
        "medias = []\n",
        "erro1 = {1:[],2:[],3:[]}\n",
        "erro2 = {1:[],2:[],3:[],4:[]}\n",
        "for k,v in erro.items():\n",
        "  fator1.extend([k[0]]*4)\n",
        "  fator2.extend([k[1]]*4)\n",
        "  erro1[k[0]].extend(v)\n",
        "  erro2[k[1]].extend(v)\n",
        "  medias.extend([muij[k]]*4)\n",
        "\n",
        "plt.plot(medias,e,\".\")\n",
        "plt.ylabel(\"Residuals\")\n",
        "plt.xlabel(\"Means\")\n",
        "plt.show()\n",
        "print(st.bartlett(erro1[1],erro1[2],erro1[3]))\n",
        "plt.plot(fator1,e,\".\")\n",
        "plt.ylabel(\"Residuals\")\n",
        "plt.xlabel(\"Poison\")\n",
        "plt.show()\n",
        "print(st.bartlett(erro2[1],erro2[2],erro2[3],erro2[4]))\n",
        "plt.plot(fator2,e,\".\")\n",
        "plt.ylabel(\"Residuals\")\n",
        "plt.xlabel(\"Treatment\")\n",
        "plt.show()\n",
        "print(st.bartlett(erro1[1],erro1[2],erro1[3],erro2[1],erro2[2],erro2[3],erro2[4]))\n",
        "print(np.var(erro1[1])/np.var(erro1[2]),np.var(erro1[1])/np.var(erro1[3]),np.var(erro1[2])/np.var(erro1[3]))"
      ]
    },
    {
      "cell_type": "markdown",
      "metadata": {
        "id": "wvzynbvz-ydp"
      },
      "source": [
        "Os resultados nos mostram que **não há homogeneidade de variâncias** entre os níveis de ambos dos fatores. Na realidade, a variância é afetada pelo nível do tratamento. A variância do Veneno 3, por exemplo, é muito menor do que o Veneno 1. O mesmo acontece se compararmos os Antídotos 1 e 2. Além disso, a variância aumenta com o valor das médias.\n",
        "\n",
        "Observe que neste caso, mesmo se removermos as quatro amostras que marcamos como outliers, estes comportamentos ainda se apresentam.\n",
        "\n",
        "O não cumprimento desta suposição diminui o poder do teste ANOVA. Contudo, ANOVA é **mais robusto contra heterocedasticidade quando o experimento é balanceado**.\n",
        "\n",
        "Relembremos o valor p obtido para cada fator e para a interação:\n",
        "\n",
        "* Fator 1, valor p = 3.3e-07\n",
        "* Fator 2, valor p = 3.78e-06\n",
        "* Interação, valor p = 0.11225061\n",
        "\n",
        "Como o valor p para os fatores 1 e 2 são muito baixos, provavelmente a conclusão deve estar correta. Contudo, podemos ter alguma suspeita para o caso da Interação.\n",
        "\n"
      ]
    },
    {
      "cell_type": "markdown",
      "metadata": {
        "id": "9OaNo1Alqy36"
      },
      "source": [
        "#Lições aprendidas\n",
        "* O assunto de Projeto de Experimentos é vasto e possui farta literatura associada, existem muitos e diferentes métodos tanto para projetar os experimentos quanto para analisar os resultados\n",
        "* Cada área de conhecimento procura definir os tipos de experimentos mais comuns e os projetos mais interessantes em cada área\n",
        "* Desta aula é importante ter em mente que em qualquer experimento estatístico devem ser garantidas as suposições básicas: aleatoriedade e condições iniciais controladas.\n",
        "* Para uso da ANOVA, deve-se atentar para a análise dos resíduos e a avaliação das suposições associadas"
      ]
    }
  ],
  "metadata": {
    "colab": {
      "provenance": [],
      "toc_visible": true
    },
    "kernelspec": {
      "display_name": "Python 3",
      "name": "python3"
    },
    "language_info": {
      "name": "python"
    }
  },
  "nbformat": 4,
  "nbformat_minor": 0
}
