{
  "nbformat": 4,
  "nbformat_minor": 0,
  "metadata": {
    "colab": {
      "provenance": [],
      "collapsed_sections": [
        "3olRouaj9SRi",
        "iVVvCMo8Cac-",
        "2GvXP-cGBT2z",
        "Wpv5Tr3zFmc-",
        "MPNu1ylhbR-9",
        "Zy5JrVNqjGvB",
        "SkbaCakq2iCc",
        "wusYbG8C6ts_",
        "bejCrZ0_79k2",
        "UY_rFViMF-Vu",
        "fe3pAbbTIxok",
        "deTAzUMrUR75"
      ]
    },
    "kernelspec": {
      "name": "python3",
      "display_name": "Python 3"
    },
    "language_info": {
      "name": "python"
    }
  },
  "cells": [
    {
      "cell_type": "markdown",
      "metadata": {
        "id": "kb9pbBJB1UKy"
      },
      "source": [
        "#Pergunta fundamental\n",
        "\n",
        "Qual a confiança que estes dados nos passam?"
      ]
    },
    {
      "cell_type": "markdown",
      "metadata": {
        "id": "3B7hYha217RN"
      },
      "source": [
        "#Inferência Estatística\n"
      ]
    },
    {
      "cell_type": "markdown",
      "metadata": {
        "id": "8Tag6YJZ1KOT"
      },
      "source": [
        "Métodos estatísticos são usados para tomar decisões e tirar conclusões acerca de populações\n",
        "\n",
        "**População**: uma coleção de exemplos\n",
        "\n",
        "**Amostra**: um subconjunto da população\n",
        "\n",
        "**Meta**: estimar alguma estatística da população (ex: média, mediana, variância etc) com base em estatísticas da amostra\n",
        "\n",
        "**Fato**: Se a amostra é <u>aleatória</u>, ela tende a exibir as mesmas propriedades da população da qual fora obtida\n"
      ]
    },
    {
      "cell_type": "markdown",
      "metadata": {
        "id": "KeYeeNdTLuYL"
      },
      "source": [
        "De modo geral, para amostras aleatórias temos os seguintes estimadores pontuais:\n",
        "* A média da amostra ($\\bar{x}$) é um estimador \"razoável\" para a média da população ($\\mu$)\n",
        "* A variância da amostra ($s^2 = \\frac{\\sum_{i=1}^{N}(x_i-\\bar{x})}{N-1}$, atenção ao $N-1$ no denominador) é um estimador \"razoável\" para a variância da população $\\sigma^2$\n",
        "* A proporção $\\hat{p}$ de itens em uma amostra que pertencem a uma classe de interesse é um estimador \"razoável\" para a proporção $p$ de itens em uma população que pertencem a uma classe de interesse\n",
        "* A diferença das médias de duas amostras independentes ($\\bar{x}_1 - \\bar{x}_2$) é um estimador \"razoável\" para diferença entre as médias de duas populações $\\mu_1 - \\mu_2$\n",
        "* A diferença das proporções de duas amostras independentes ($\\hat{p}_1 - \\hat{p}_2$) é um estimador \"razoável\" para a diferença das proporções em duas populações $p_1 - p_2$."
      ]
    },
    {
      "cell_type": "markdown",
      "metadata": {
        "id": "5dMft9UdndeD"
      },
      "source": [
        "## Será mesmo?"
      ]
    },
    {
      "cell_type": "markdown",
      "metadata": {
        "id": "UBgmtLjQn0n3"
      },
      "source": [
        "Vamos gerar dados de diferentes distribuições: uniforme contínua ($U$) com $a=10$ e $b=20$, normal ($N$) com $\\mu=10$ e $\\sigma=2$ e exponencial ($E$) com $\\lambda=1$. Estas serão nossas populações. Para cada uma delas iremos computar $\\mu$ e $\\sigma$, respectivamente a média e o desvio padrão da população.\n",
        "\n",
        "Em seguida, vamos selecionar 1 amostra aleatória de tamanho 20 de cada uma destas populações e vamos computar o média ($\\bar{x}$) e o desvio-padrão ($s$) da amostra.\n",
        "\n",
        "Vamos então computar o erro destas estimativas em relação à estatística alvo, para a média $\\mu-\\bar{x}$ e para o desvio $\\sigma-s$."
      ]
    },
    {
      "cell_type": "code",
      "metadata": {
        "colab": {
          "base_uri": "https://localhost:8080/"
        },
        "id": "66swNVfunuof",
        "outputId": "45baee7a-c04f-409b-d534-83fb746c9b70"
      },
      "source": [
        "import scipy.stats as st\n",
        "import numpy as np\n",
        "import random as rd\n",
        "\n",
        "n_pop = 100000\n",
        "n_amo = 20\n",
        "\n",
        "a = 10\n",
        "b = 20\n",
        "U = st.uniform.rvs(a,b-a,size=n_pop)\n",
        "\n",
        "mu = 10\n",
        "sigma = 2\n",
        "N = st.norm.rvs(mu,sigma,size=n_pop)\n",
        "\n",
        "lambd = 1\n",
        "E = st.expon.rvs(lambd,size=n_pop)\n",
        "\n",
        "pop = {\n",
        "    \"uniforme\": U,\n",
        "    \"normal\": N,\n",
        "    \"exponencial\": E\n",
        "}\n",
        "\n",
        "for (k,v) in pop.items():\n",
        "  amostra = rd.sample(list(v),n_amo)\n",
        "\n",
        "  media_pop = np.average(v)\n",
        "  media_amo = np.average(amostra)\n",
        "  dp_pop = np.std(v)\n",
        "  dp_amo = np.std(amostra,ddof=1)\n",
        "\n",
        "  print(\"Distribuição \"+k)\n",
        "  print(\"Média pop:\"+str(round(media_pop,2)))\n",
        "  print(\"Média amo:\"+str(round(media_amo,2)))\n",
        "  print(\"Erro na média:\"+str(round(media_pop-media_amo,2)))\n",
        "  print(\"DP pop:\"+str(round(dp_pop,2)))\n",
        "  print(\"DP amo:\"+str(round(dp_amo,2)))\n",
        "  print(\"Erro no desvio:\"+str(round(dp_pop-dp_amo,2)))\n",
        "  print(\"\")"
      ],
      "execution_count": null,
      "outputs": [
        {
          "output_type": "stream",
          "name": "stdout",
          "text": [
            "Distribuição uniforme\n",
            "Média pop:15.01\n",
            "Média amo:14.88\n",
            "Erro na média:0.13\n",
            "DP pop:2.88\n",
            "DP amo:2.69\n",
            "Erro no desvio:0.18\n",
            "\n",
            "Distribuição normal\n",
            "Média pop:10.0\n",
            "Média amo:9.96\n",
            "Erro na média:0.04\n",
            "DP pop:2.0\n",
            "DP amo:2.28\n",
            "Erro no desvio:-0.28\n",
            "\n",
            "Distribuição exponencial\n",
            "Média pop:2.0\n",
            "Média amo:1.72\n",
            "Erro na média:0.28\n",
            "DP pop:1.0\n",
            "DP amo:0.59\n",
            "Erro no desvio:0.41\n",
            "\n"
          ]
        }
      ]
    },
    {
      "cell_type": "markdown",
      "metadata": {
        "id": "8-x7WSV-udOM"
      },
      "source": [
        "Os erros não são tão grandes. Tivemos sorte? Os valores que estamos lidando são pequenos? Ou os estimadores são \"realmente bons\"?\n",
        "\n",
        "Um estimador $\\hat{\\theta}$ baseado na amostra para a estatística $\\theta$ da população é \"bom\" quando é **não tendencioso** (não enviesado), i.e., quando $E(\\hat{\\theta}-\\theta) = 0 \\Rightarrow E(\\hat{\\theta}) = \\theta$.\n",
        "\n",
        "O experimento abaixo mostra que a média e a variância são estimadores com essa propriedade. A seguir, sobre as populações previamente definidas, retiramos 100 amostras de tamanhos variados e verificamos que conforme aumenta o tamanho da amostra, a estimativa pela média e pela variância ficam melhores."
      ]
    },
    {
      "cell_type": "code",
      "metadata": {
        "colab": {
          "base_uri": "https://localhost:8080/",
          "height": 372
        },
        "id": "Z3v1lm_nxWDP",
        "outputId": "e16f64ec-7f5b-4814-ac25-86094f5b1d18"
      },
      "source": [
        "import matplotlib.pyplot as plt\n",
        "\n",
        "def getDif(pop,n):\n",
        "  media_pop = np.average(pop)\n",
        "  dp_pop = np.var(pop)\n",
        "\n",
        "  media_amo = []\n",
        "  dp_amo = []\n",
        "\n",
        "  for i in range(100):\n",
        "    amostra = rd.sample(list(pop),n)\n",
        "    media_amo.append(np.average(amostra))\n",
        "    dp_amo.append(np.var(amostra,ddof=1))\n",
        "\n",
        "  media_amo = np.array(media_amo)\n",
        "  dp_amo = np.array(dp_amo)\n",
        "\n",
        "  difMedia = np.average(media_amo-media_pop)\n",
        "  difDp = np.average(dp_amo-dp_pop)\n",
        "\n",
        "  return difMedia, difDp\n",
        "\n",
        "\n",
        "n_amo_v = range(20,600,100)\n",
        "plt.figure(figsize=(12,4))\n",
        "\n",
        "\n",
        "for k,v in pop.items():\n",
        "  difMedia = []\n",
        "  difDp = []\n",
        "\n",
        "  for n_amo in n_amo_v:\n",
        "    dM, dDp = getDif(v,n_amo)\n",
        "    difMedia.append(dM)\n",
        "    difDp.append(dDp)\n",
        "\n",
        "  plt.subplot(1,2,1)\n",
        "  plt.plot(n_amo_v,difMedia,label=k)\n",
        "  plt.subplot(1,2,2)\n",
        "  plt.plot(n_amo_v,difDp,label=k)\n",
        "\n",
        "plt.subplot(1,2,1)\n",
        "plt.xlabel(\"Tamanho da amostra\")\n",
        "plt.ylabel(\"$E(\\mu-x)$\")\n",
        "plt.ylim(-0.1,0.1)\n",
        "plt.legend()\n",
        "\n",
        "plt.subplot(1,2,2)\n",
        "plt.xlabel(\"Tamanho da amostra\")\n",
        "plt.ylabel(\"$E(\\sigma-s)$\")\n",
        "plt.ylim(-0.25,0.25)\n",
        "plt.legend()\n",
        "\n",
        "plt.show()"
      ],
      "execution_count": null,
      "outputs": [
        {
          "output_type": "stream",
          "name": "stderr",
          "text": [
            "/usr/local/lib/python3.7/dist-packages/ipykernel_launcher.py:37: MatplotlibDeprecationWarning: Adding an axes using the same arguments as a previous axes currently reuses the earlier instance.  In a future version, a new instance will always be created and returned.  Meanwhile, this warning can be suppressed, and the future behavior ensured, by passing a unique label to each axes instance.\n",
            "/usr/local/lib/python3.7/dist-packages/ipykernel_launcher.py:39: MatplotlibDeprecationWarning: Adding an axes using the same arguments as a previous axes currently reuses the earlier instance.  In a future version, a new instance will always be created and returned.  Meanwhile, this warning can be suppressed, and the future behavior ensured, by passing a unique label to each axes instance.\n",
            "/usr/local/lib/python3.7/dist-packages/ipykernel_launcher.py:42: MatplotlibDeprecationWarning: Adding an axes using the same arguments as a previous axes currently reuses the earlier instance.  In a future version, a new instance will always be created and returned.  Meanwhile, this warning can be suppressed, and the future behavior ensured, by passing a unique label to each axes instance.\n",
            "/usr/local/lib/python3.7/dist-packages/ipykernel_launcher.py:48: MatplotlibDeprecationWarning: Adding an axes using the same arguments as a previous axes currently reuses the earlier instance.  In a future version, a new instance will always be created and returned.  Meanwhile, this warning can be suppressed, and the future behavior ensured, by passing a unique label to each axes instance.\n"
          ]
        },
        {
          "output_type": "display_data",
          "data": {
            "text/plain": [
              "<Figure size 864x288 with 2 Axes>"
            ],
            "image/png": "[encoded data removed]"
          },
          "metadata": {
            "needs_background": "light"
          }
        }
      ]
    },
    {
      "cell_type": "markdown",
      "metadata": {
        "id": "nr0AwziX5z1a"
      },
      "source": [
        "Daqui observamos que uma vez que a amostra é razoavelmente grande, a média e a variância da amostra são boas aproximações da média e do desvio-padrão da população. Independentemente da distribuição que os dados da população sigam."
      ]
    },
    {
      "cell_type": "markdown",
      "metadata": {
        "id": "LUg2MDRQ6Xzh"
      },
      "source": [
        "# Intervalos de confiança"
      ]
    },
    {
      "cell_type": "markdown",
      "metadata": {
        "id": "BDem7Tta6bJi"
      },
      "source": [
        "Os gráficos acima foram obtidos por meio de várias amostras de mesmo tamanho de uma população, mas <u>quão confiantes devemos estar sobre os valores da média e do desvio-parão ao obtermos uma única amostra</u>?\n",
        "\n",
        "De outra forma: e se tivessemos uma forma de estimar não só uma estatística pontual, mas um intervalo, construído a partir da amostra, que, com alguma confiança, contenha o parâmetro verdadeiro da população?\n",
        "\n",
        "A isso damos o nome de **intervalo de confiança** (IC)!\n",
        "\n"
      ]
    },
    {
      "cell_type": "markdown",
      "metadata": {
        "id": "3olRouaj9SRi"
      },
      "source": [
        "## Vamos falar sobre confiança?"
      ]
    },
    {
      "cell_type": "markdown",
      "metadata": {
        "id": "kzSo1Yk_9VIx"
      },
      "source": [
        "Dada uma moeda, estime a probabilidade de obter cara a partir do resultado de algumas jogadas.\n",
        "\n",
        "1. Se jogarmos <u>uma vez e tivermos uma cara</u>, quão confiante você estaria em dizer que $P(\\text{cara})=1$?\n",
        "2. Se jogarmos <u>duas vezes e tivermos duas caras</u>, quão confiante você estaria em dizer que $P(\\text{cara})=1$?\n",
        "3. Se em <u>100 jogadas tivermos 100 caras</u>, quão confiante você estaria em dizer que $P(\\text{cara})=1$?\n",
        "4. Se em <u>100 jogadas tivermos 52 caras</u>, quão confiante você estaria em dizer que $P(\\text{cara})=\\frac{52}{100}$?\n",
        "\n",
        "Deste exercício imaginário tiramos duas observações:\n",
        "* **Intuitivamente**: a confiança nas nossas estimativas dependem de dois fatores\n",
        " * Tamanho da amostra (crescemos de 2 para 100)\n",
        " * Variância da amostra (100/100 caras vs. 52/100 caras)\n",
        "* **Fato**: Conforme a variância cresce, nós precisamos de maiores amostras para termos o mesmo grau de confiança\n",
        "\n"
      ]
    },
    {
      "cell_type": "markdown",
      "metadata": {
        "id": "KY8RFlGj5Kav"
      },
      "source": [
        "## Distribuições amostrais"
      ]
    },
    {
      "cell_type": "markdown",
      "metadata": {
        "id": "vzzcqGaHBx-9"
      },
      "source": [
        "Considere a população com uma certa estatística $\\theta$ e suponha que podemos calcular esta estatística a partir da amostra $\\hat{\\theta}$. Deve-se observar que $\\hat{\\theta}$ é também uma VA.\n",
        "\n",
        "Considere o caso de uma população com uma média conhecida $\\theta$, por exemplo. Ao retirarmos $N$ amostras de uma população e fazermos a média de cada amostra, veremos que estas médias podem ser diferentes da média original, havendo uma variabilidade sobre a média. Isso mostra que $\\hat{\\theta}$ é uma VA e que possui uma <u>distribuição amostral</u>.\n",
        "\n",
        "Os exemplos abaixo ilustram esta ideia."
      ]
    },
    {
      "cell_type": "markdown",
      "metadata": {
        "id": "iVVvCMo8Cac-"
      },
      "source": [
        "### Exemplo (amostras de uma população normal)\n",
        "\n",
        "Abaixo nós geramos amostras de uma população normalmente distribuída com $\\mu = 10$ e $\\sigma=2$. Nós fazemos 100 amostras com 20 números em cada e obtemos a média de cada amostra. Observe ao final que temos uma distribuição para esta estatística."
      ]
    },
    {
      "cell_type": "code",
      "metadata": {
        "colab": {
          "base_uri": "https://localhost:8080/",
          "height": 430
        },
        "id": "OlBNsIEl0_0s",
        "outputId": "b7ae7dda-5236-4354-e295-a5146e6fd41c"
      },
      "source": [
        "import scipy.stats as st\n",
        "import numpy as np\n",
        "import matplotlib.pyplot as plt\n",
        "\n",
        "medias = []\n",
        "for i in range(100):\n",
        "  amostra = st.norm.rvs(10,2,size=20)\n",
        "  medias.append(np.average(amostra))\n",
        "\n",
        "plt.hist(medias)\n",
        "plt.show()"
      ],
      "execution_count": null,
      "outputs": [
        {
          "output_type": "display_data",
          "data": {
            "text/plain": [
              "<Figure size 640x480 with 1 Axes>"
            ],
            "image/png": "[encoded data removed]"
          },
          "metadata": {}
        }
      ]
    },
    {
      "cell_type": "markdown",
      "metadata": {
        "id": "2GvXP-cGBT2z"
      },
      "source": [
        "### Exemplo (montando a VA de uma estatística)\n",
        "\n",
        "Considere que a VA de uma população tem a seguinte distribuição:\n",
        "\n",
        "x  | 1 | 2 | 3 |\n",
        "---|---|---|---|\n",
        "p(X=x)| $\\frac{1}{3}$ | $\\frac{1}{3}$ | $\\frac{1}{3}$ |\n",
        "\n",
        "Observe que esta variável tem $E(X) = 2$ e $Var(X) = \\frac{2}{3}$."
      ]
    },
    {
      "cell_type": "markdown",
      "metadata": {
        "id": "dlD3bQFZIL0J"
      },
      "source": [
        "Vamos agora construir a VA para a estatística média desta VA, considerando amostras com $N=2$, com reposição. Assim temos:\n",
        "\n",
        "Amostras  | Probabilidade | Média Amostral ($\\bar{x}$) |\n",
        "---|---|---|\n",
        "(1,1) | $\\frac{1}{9}$ | 1,0 |\n",
        "(1,2) | $\\frac{1}{9}$ | 1,5 |\n",
        "(1,3) | $\\frac{1}{9}$ | 2,0 |\n",
        "(2,1) | $\\frac{1}{9}$ | 1,5 |\n",
        "(2,2) | $\\frac{1}{9}$ | 2,0 |\n",
        "(2,3) | $\\frac{1}{9}$ | 2,5 |\n",
        "(3,1) | $\\frac{1}{9}$ | 2,0 |\n",
        "(3,2) | $\\frac{1}{9}$ | 2,5 |\n",
        "(3,3) | $\\frac{1}{9}$ | 3,0 |\n",
        "\n",
        "Nesse caso, a distribuição da estatística $\\bar{X}$ é\n",
        "\n",
        "$\\bar{x}$  | 1,0 | 1,5 | 2,0 | 2,5 | 3,0 |\n",
        "---|---|---|---|---|---|\n",
        "$P(\\bar{X}=\\bar{x})$| $\\frac{1}{9}$ | $\\frac{2}{9}$ | $\\frac{3}{9}$ | $\\frac{2}{9}$ | $\\frac{1}{9}$ |\n",
        "\n",
        "Então temos que $E(\\bar{X}) = 2$ e $Var(\\bar{X})=\\frac{1}{3}$\n",
        "\n",
        "A partir deste exemplo, vemos que $E(\\bar{X}) = E(X)$ e que $Var(\\bar{X})=\\frac{Var(X)}{n}$"
      ]
    },
    {
      "cell_type": "markdown",
      "metadata": {
        "id": "J-lti7V7IEJo"
      },
      "source": [
        "## Distribuição amostral da média\n",
        "Destes exemplos, generalizamos um importante resultado da inferência estatística."
      ]
    },
    {
      "cell_type": "markdown",
      "metadata": {
        "id": "W6PEXGJHLikp"
      },
      "source": [
        "Seja $X$ uma VA com valor esperado $\\mu$ e variância $\\sigma^2$\n",
        "e $\\bar{X}$ a VA da média amostral de tamanho $n$ de X.\n",
        "Então:\n",
        "\n",
        "a. $E(\\bar{X}) = \\mu$\n",
        "\n",
        "b. $Var(\\bar{X}) = \\frac{\\sigma^2}{n}$ (observe que o tamanho da amostra diminui a variância da média amostral)\n",
        "\n",
        "c. $std(\\bar{X}) = \\frac{\\sigma}{\\sqrt{n}}$ (chamamos $std(\\bar{x})$ de **erro padrão**)\n",
        "\n",
        "d. A distribuição de $\\bar{X}$ aproxima-se de uma distribuição normal com valor esperado $\\mu$ e variância $\\frac{\\sigma^2}{n}$, quando $n$ cresce (Teorema do Limite Central). Observe que $\\sigma^2$ é a variância da população. Observe que a estatística $z = \\frac{\\bar{X}-\\mu}{\\frac{\\sigma}{\\sqrt{n}}}$ também se distribui como uma normal, mas com média 0 e desvio padrão 1.\n",
        "\n",
        "e. Quando não temos a variância da população, teremos de estimá-la pela variância da amostra ($s^2$). Neste caso, um outro resultado nos permite dizer que a estatística $t = \\frac{\\bar{X}-\\mu}{\\frac{s}{\\sqrt{n}}}$ se distribui como uma distribuição T de Student com $n-1$ graus de liberdade (parâmetro da distribuição t). Esta distribuição tem média 0 e variância $\\frac{n-1}{n-3}$.\n",
        "\n",
        "f. Assim, se não conhecemos a variância populacional e $n$ é pequeno (usualmente $n \\lt 30$) a estatística T é mais adequada. Para $n$ grande a diferença entre a distrinuição normal t-student é desprezível e, portanto, podemos usar a estatística $z$, mas substituindo $\\sigma$ por $s$."
      ]
    },
    {
      "cell_type": "code",
      "metadata": {
        "colab": {
          "base_uri": "https://localhost:8080/",
          "height": 265
        },
        "id": "r-AWkCyQHddo",
        "outputId": "573cbc9a-8ba3-440c-bef0-d3a07185df72"
      },
      "source": [
        "import scipy.stats as st\n",
        "import numpy as np\n",
        "import matplotlib.pyplot as plt\n",
        "\n",
        "plt.figure(figsize=(12,4))\n",
        "x = np.linspace(-4,4,1000)\n",
        "\n",
        "plt.subplot(1,2,1)\n",
        "n = 10 #tamanho de uma amostra hipotética\n",
        "ft = st.t.pdf(x,df=n-1)\n",
        "plt.plot(x,ft,label=\"t-student\")\n",
        "fnorm = st.norm.pdf(x,0,1)\n",
        "plt.plot(x,fnorm,label=\"normal\")\n",
        "plt.legend()\n",
        "\n",
        "plt.subplot(1,2,2)\n",
        "n = 30 #tamanho de uma amostra hipotética\n",
        "ft = st.t.pdf(x,df=n-1)\n",
        "plt.plot(x,ft,label=\"t-student\")\n",
        "fnorm = st.norm.pdf(x,0,1)\n",
        "plt.plot(x,fnorm,label=\"normal\")\n",
        "plt.legend()\n",
        "\n",
        "plt.show()"
      ],
      "execution_count": null,
      "outputs": [
        {
          "output_type": "display_data",
          "data": {
            "image/png": "[encoded data removed]",
            "text/plain": [
              "<Figure size 864x288 with 2 Axes>"
            ]
          },
          "metadata": {
            "needs_background": "light"
          }
        }
      ]
    },
    {
      "cell_type": "markdown",
      "metadata": {
        "id": "IPEv3LEoBlQB"
      },
      "source": [
        "## Mas então o que é IC?"
      ]
    },
    {
      "cell_type": "markdown",
      "metadata": {
        "id": "SemQKs9ZBtRu"
      },
      "source": [
        "Escolha uma fração $0 \\lt f \\lt 1$. Um intervalo com $f \\times 100$\\% de confiança para uma estatística é um intervalo construído sobre a distribuição amostral daquela estatística. Tal intervalo tem a propriedade de que, tomadas várias amostras da população, <u>o parâmetro da população estará dentro do intervalo construído de uma fração $f \\times 100$% destas amostras</u>."
      ]
    },
    {
      "cell_type": "markdown",
      "metadata": {
        "id": "rDHGccnhKKr4"
      },
      "source": [
        "No caso da média, sabemos que a distribuição amostral segue uma Normal ou uma T de Student (conforme $n$). O IC então será um intervalo centrado na média de $\\bar{X}$ que contém uma fração $f$ da área da distribuição amostral de $\\bar{X}$. Valores comuns para $f$ são $0.9$, $0.95$ e $0.99$.\n",
        "\n",
        "Abaixo mostramos estas áreas."
      ]
    },
    {
      "cell_type": "code",
      "metadata": {
        "colab": {
          "base_uri": "https://localhost:8080/",
          "height": 292
        },
        "id": "zYRfNsZbOSr3",
        "outputId": "5b8b5c7d-f0bc-45b4-d131-569503a14646"
      },
      "source": [
        "import scipy.stats as st\n",
        "import numpy as np\n",
        "import matplotlib.pyplot as plt\n",
        "\n",
        "int90 = st.norm.ppf([0.05,0.95])\n",
        "print(\"O IC para a média à 90% de confiança vai de \"+str(round(int90[0],2))+\" à \"+str(round(int90[1],2)))\n",
        "int95 = st.norm.ppf([0.025,0.975])\n",
        "print(\"O IC para a média à 95% de confiança vai de \"+str(round(int95[0],2))+\" à \"+str(round(int95[1],2)))\n",
        "int99 = st.norm.ppf([0.005,0.995])\n",
        "print(\"O IC para a média à 99% de confiança vai de \"+str(round(int99[0],2))+\" à \"+str(round(int99[1],2)))\n",
        "\n",
        "plt.figure(figsize=(18,4))\n",
        "\n",
        "plt.subplot(1,3,1)\n",
        "x = np.linspace(-4,4,1000)\n",
        "fnorm = st.norm.pdf(x,0,1)\n",
        "plt.plot(x,fnorm)\n",
        "x90 = np.linspace(int90[0],int90[1],1000)\n",
        "fnorm90 = st.norm.pdf(x90,0,1)\n",
        "plt.fill_between(x90,fnorm90,alpha=0.3)\n",
        "plt.xticks([int90[0],0,int90[1]])\n",
        "\n",
        "plt.subplot(1,3,2)\n",
        "x = np.linspace(-4,4,1000)\n",
        "fnorm = st.norm.pdf(x,0,1)\n",
        "plt.plot(x,fnorm)\n",
        "x95 = np.linspace(int95[0],int95[1],1000)\n",
        "fnorm95 = st.norm.pdf(x95,0,1)\n",
        "plt.fill_between(x95,fnorm95,alpha=0.3)\n",
        "plt.xticks([int95[0],0,int95[1]])\n",
        "\n",
        "plt.subplot(1,3,3)\n",
        "x = np.linspace(-4,4,1000)\n",
        "fnorm = st.norm.pdf(x,0,1)\n",
        "plt.plot(x,fnorm)\n",
        "x99 = np.linspace(int99[0],int99[1],1000)\n",
        "fnorm99 = st.norm.pdf(x99,0,1)\n",
        "plt.fill_between(x99,fnorm99,alpha=0.3)\n",
        "plt.xticks([int99[0],0,int99[1]])\n",
        "\n",
        "plt.show()"
      ],
      "execution_count": null,
      "outputs": [
        {
          "output_type": "stream",
          "name": "stdout",
          "text": [
            "O IC para a média à 90% de confiança vai de -1.64 à 1.64\n",
            "O IC para a média à 95% de confiança vai de -1.96 à 1.96\n",
            "O IC para a média à 99% de confiança vai de -2.58 à 2.58\n"
          ]
        },
        {
          "output_type": "display_data",
          "data": {
            "text/plain": [
              "<Figure size 1296x288 with 3 Axes>"
            ],
            "image/png": "[encoded data removed]"
          },
          "metadata": {
            "needs_background": "light"
          }
        }
      ]
    },
    {
      "cell_type": "markdown",
      "metadata": {
        "id": "MuHHqQvmR5PY"
      },
      "source": [
        "Observe que para <u>maior confiança, obtemos maior intervalo</u>. Além disso, sabemos que a variabilidade de $\\bar{X}$ diminui com o tamanho da amostra, assim <u>com amostras maiores conseguimos intervalos menores</u>."
      ]
    },
    {
      "cell_type": "markdown",
      "metadata": {
        "id": "Wpv5Tr3zFmc-"
      },
      "source": [
        "###Estimando o IC para a média"
      ]
    },
    {
      "cell_type": "markdown",
      "metadata": {
        "id": "jYrY178nFq4U"
      },
      "source": [
        "1. Dada uma amostra <u>aleatória</u> da população, escolha um nível de confiança $f = 1-\\alpha$ ($\\alpha$ é chamado **nível de significância**)\n",
        "2. Compute a média e o desvio padrão amostrais\n",
        "3. Use o desvio padrão amostral (ou populacional, se estiver disponível) para calcular o erro padrão\n",
        "4. Use o erro padrão e o nível de confiança para gerar o IC para a média amostral (aqui usaremos uma Distribuição Normal ou uma Distribuição T de Student, de acordo com $n$)\n",
        "\n",
        "Assim, se a variância populacional é conhecida o IC é calculado por $\\bar{x} \\pm z_{\\frac{\\alpha}{2}}\\frac{\\sigma}{\\sqrt{n}}$. Caso a variância populacional seja desconhecida usamos $\\bar{x} \\pm t_{\\frac{\\alpha}{2};n-1}\\frac{s}{\\sqrt{n}}$. Observe que para $n \\geq 30$ a distribuição t de student não é muito diferente da normal e, por simplicidade, pode-se usar $\\bar{x} \\pm z_{\\frac{\\alpha}{2}}\\frac{s}{\\sqrt{n}}$\n",
        "\n",
        "O código abaixo ilustra o cálculo para $n=40$ e diferentes níveis de confiança."
      ]
    },
    {
      "cell_type": "code",
      "metadata": {
        "colab": {
          "base_uri": "https://localhost:8080/"
        },
        "id": "yHnXilOiUh7I",
        "outputId": "fa638d9f-033e-4265-d172-07074627d54c"
      },
      "source": [
        "import scipy.stats as st\n",
        "import random\n",
        "import numpy as np\n",
        "\n",
        "mu = 10\n",
        "sigma = 2\n",
        "pop = st.norm.rvs(mu,sigma,size=10000)\n",
        "\n",
        "def calcIC(dados, conf, imprime=False):\n",
        "  xbar = np.average(dados)\n",
        "  s = np.std(dados,ddof=1)\n",
        "  n = len(dados)\n",
        "  se = s/(n**0.5)\n",
        "  alpha = (1 - conf)\n",
        "  z_a2 = abs(st.norm.ppf([alpha/2])[0])\n",
        "  if imprime:\n",
        "    print(\"O intervalo de confiança para a média da população vai de \"+str(xbar-z_a2*se)+\" à \"+str(xbar+z_a2*se))\n",
        "  return xbar-z_a2*se, xbar+z_a2*se\n",
        "\n",
        "n=40\n",
        "amostra = random.sample(list(pop),n)\n",
        "intervalo =calcIC(amostra,0.90,True)\n",
        "intervalo =calcIC(amostra,0.95,True)\n",
        "intervalo =calcIC(amostra,0.99,True)"
      ],
      "execution_count": null,
      "outputs": [
        {
          "output_type": "stream",
          "name": "stdout",
          "text": [
            "O intervalo de confiança para a média da população vai de 9.501010270874941 à 10.474883515351882\n",
            "O intervalo de confiança para a média da população vai de 9.407726120454262 à 10.568167665772561\n",
            "O intervalo de confiança para a média da população vai de 9.225407540078336 à 10.750486246148487\n"
          ]
        }
      ]
    },
    {
      "cell_type": "markdown",
      "metadata": {
        "id": "MPNu1ylhbR-9"
      },
      "source": [
        "### Mas será que o IC sempre contém a média da população?"
      ]
    },
    {
      "cell_type": "markdown",
      "metadata": {
        "id": "CfiaOswQg2mI"
      },
      "source": [
        "Vamos construir diversas amostras e verificar se o IC de cada uma delas contém a média. Usaremos uma confiança de 95\\% logo, pela teoria, 5\\% das amostras não devem conter a verdadeira média."
      ]
    },
    {
      "cell_type": "code",
      "metadata": {
        "colab": {
          "base_uri": "https://localhost:8080/"
        },
        "id": "45AOuXXhbVnK",
        "outputId": "f6332239-661c-4bc6-8657-e78780566d37"
      },
      "source": [
        "import random\n",
        "\n",
        "mu = 10\n",
        "sigma = 2\n",
        "pop = st.norm.rvs(mu,sigma,size=10000)\n",
        "numExperimentos = 3000\n",
        "\n",
        "n = 40\n",
        "numRuins = 0 #conta a quantidade de experimentos fora do IC\n",
        "for i in range(numExperimentos):\n",
        "  amostra = random.sample(list(pop),n)\n",
        "  intervalo = calcIC(amostra,0.95)\n",
        "  if (mu <= intervalo[0] or mu >= intervalo[1]):\n",
        "    numRuins += 1\n",
        "\n",
        "print('Fração das amostras cujo IC de 95% não contém a média: ', str(numRuins/numExperimentos))"
      ],
      "execution_count": null,
      "outputs": [
        {
          "output_type": "stream",
          "name": "stdout",
          "text": [
            "Fração das amostras cujo IC de 95% não contém a média:  0.050666666666666665\n"
          ]
        }
      ]
    },
    {
      "cell_type": "markdown",
      "metadata": {
        "id": "Es0AHyJDeYQ4"
      },
      "source": [
        "Agora veja o caso abaixo. O codigo é parecido e temos apenas uma mudança na forma em que fazemos a amostragem."
      ]
    },
    {
      "cell_type": "code",
      "metadata": {
        "colab": {
          "base_uri": "https://localhost:8080/"
        },
        "id": "Pez33G5segbT",
        "outputId": "d5e5fa28-dcec-4418-f759-3da1db3063aa"
      },
      "source": [
        "mu = 10\n",
        "sigma = 2\n",
        "pop = st.norm.rvs(mu,sigma,size=10000)\n",
        "numExperimentos = 1000\n",
        "\n",
        "n = 40\n",
        "numRuins = 0 #conta a quantidade de experimentos fora do IC\n",
        "for i in range(numExperimentos):\n",
        "  amostra = np.sort(pop)[i:n+i] #MUDANÇA\n",
        "  intervalo = calcIC(amostra,0.95)\n",
        "  if (mu <= intervalo[0] or mu >= intervalo[1]):\n",
        "    numRuins += 1\n",
        "\n",
        "print('Fração das amostras cujo IC de 95% não contém a média: ', str(numRuins/numExperimentos))"
      ],
      "execution_count": null,
      "outputs": [
        {
          "output_type": "stream",
          "name": "stdout",
          "text": [
            "Fração das amostras fora do IC de 95%:  1.0\n"
          ]
        }
      ]
    },
    {
      "cell_type": "markdown",
      "metadata": {
        "id": "7kj6OglTfhnH"
      },
      "source": [
        "Observe que agora os IC ficaram prejudicados. Será que a teoria falhou?\n",
        "\n",
        "O que acontece neste caso é que violamos uma das suposições básicas: a amostra deve ser aleatória. A escolha determinística de valores ordenados \"quebra\" a aleatoriedade. Neste caso foi óbvio, mas na prática isto pode ser sutil.\n",
        "\n",
        "**Lembre-se**: os resultados teóricos na estatística tem suposições, estas devem ser checadas antes de aplicar a teoria/método/técnica"
      ]
    },
    {
      "cell_type": "markdown",
      "metadata": {
        "id": "Zy5JrVNqjGvB"
      },
      "source": [
        "### Como eu uso isso?"
      ]
    },
    {
      "cell_type": "markdown",
      "metadata": {
        "id": "pv64UJamjJQ4"
      },
      "source": [
        "A partir do IC podemos, por exemplo, determinar valores seguros para informar o cliente. Por exemplo, suponha o caso do tempo de vida de um produto. Se o tempo de vida do produto for menor do que o informado na propaganda, podemos ter problemas com processos.\n",
        "\n",
        "Uma estratégia para este caso poderia ser computar o IC do tempo de vida de uma amostra do produto e usar um valor abaixo do limite inferior como informação para propaganda. Assim, se obtivermos um IC (à 95\\% de confiança) de 3500 horas ± 100 horas, poderíamos informar que o tempo de vida é de 3400 horas.\n",
        "\n",
        "Outra forma de utilizar o IC é para comparar estratégias. Veja a figura abaixo que mostra o IC como barras de erro para a média da pulsação em diferentes classes de pessoas de acordo com o nível de atividade física praticada.\n",
        "\n",
        "Neste caso, sempre que os intervalos não se sobrepõem (como nos casos *rarely or never* e *more than weekly*), podemos dizer que há diferença estatística entre as categorias à 95\\% de confiança.\n",
        "\n",
        "<img src=\"https://upload.wikimedia.org/wikipedia/commons/1/1d/Pulse_Rate_Error_Bar_By_Exercise_Level.png\" width=\"500\">"
      ]
    },
    {
      "cell_type": "markdown",
      "metadata": {
        "id": "SkbaCakq2iCc"
      },
      "source": [
        "# Intervalos de confiança para outras propriedades"
      ]
    },
    {
      "cell_type": "markdown",
      "metadata": {
        "id": "kRefGPbF2lsK"
      },
      "source": [
        "Como vimos temos uma forma simples de calcular o IC para a média de uma amostra. Podemos também calcular ICs para outros parâmetros de interesse em uma população.\n",
        "\n",
        "Por exemplo, no caso de proporções (muito usadas nas eleições), a **distribuição amostral da proporção** segue uma distribuição normal com média $p$ (proporção amostral) e erro padrão $\\sqrt{\\frac{p(1-p)}{n}}$ ($n$ é o tamanho da amostra). Assim, temos que o IC para proporção é dado por\n",
        "\n",
        "$p \\pm z_{\\frac{\\alpha}{2}}\\sqrt{\\frac{p(1-p)}{n}}$\n",
        "\n",
        "onde $z_{\\frac{\\alpha}{2}}$ é o quantil $\\frac{\\alpha}{2}$ de uma distribuição normal padrão."
      ]
    },
    {
      "cell_type": "markdown",
      "metadata": {
        "id": "wusYbG8C6ts_"
      },
      "source": [
        "#**Bônus**: Bootstrapping"
      ]
    },
    {
      "cell_type": "markdown",
      "metadata": {
        "id": "fL1ppPvz6v8C"
      },
      "source": [
        "Há casos, onde desconhecemos a distribuição amostral de um parâmetro, ou mesmo quando até conhecemos a distribuição amostral, mas a fórmula fechada do IC é de difícil manipulação. Para estes casos, podemos encontrar o IC por meio do computador.\n",
        "\n",
        "O *bootstrapping* é uma técnica de reamostragem usada para construção da distribuição amostral de um parâmetro a partir de uma amostra original. Desta amostra são criadas novas amostras aleatórias para as quais é calculado o valor do parâmetro de interesse. Ao final do processo, obtém-se a **distribuição empírica** do parâmetro e sobre esta pode-se calcular o IC.\n",
        "\n",
        "Assuma que queremos estimar a distribuição empírica de um certo parâmetro $\\theta$, a partir de uma amostra $S$ com $n$ elementos. Nós computamos $r$ réplicas *bootstrap* desta amostra $S$. Cada réplica ($S_1, S_2, S_3, \\ldots, S_r$) tem tamanho $n$ e é obtida reamostrando a partir da amostra $S$ uniformemente, com reposição. De cada réplica, extraímos $\\theta_1, \\theta_2, \\ldots, \\theta_r$. Daí temos amostra de $S_{\\theta}$\n",
        "\n",
        "Observe que as réplicas *bootstrap* não são permutações aleatórias da amostra $S$, mas são conjuntos de dados diferentes já que selecionamos os dados com reposição e com a mesma probabilidade $\\frac{1}{n}$. Isso significa que uma réplica particular $S_i$ pode conter múltiplas cópias de alguns valores de $S$ e nenhuma cópia de outros.\n",
        "\n",
        "Em seguida, da amostra $S_{\\theta}$, estima-se os percentis desejados de acordo com o nível de confiança:\n",
        "* Para 90% de confiança, percentis 5% e 95%;\n",
        "* Para 95% de confiança, percentis 2.5% e 97.5%;\n",
        "* Para 99% de confiança, percentis 0.05% e 99.95%"
      ]
    },
    {
      "cell_type": "markdown",
      "metadata": {
        "id": "bejCrZ0_79k2"
      },
      "source": [
        "## Exemplo (IC para a mediana)\n",
        "\n",
        "Estimar o erro padrão para a mediana é matematicamente difícil, por isso a construção do IC é afetada, já que este depende do erro padrão. Considere uma amostra de tamanho 50 retirada de uma distribuição normal com média 10 e desvio padrão 2. Por meio do computador, obtenha esta amostra e calcule via bootstrap o IC para mediana. Use $r=100$."
      ]
    },
    {
      "cell_type": "code",
      "metadata": {
        "colab": {
          "base_uri": "https://localhost:8080/",
          "height": 369
        },
        "id": "GPue5FyWBYHR",
        "outputId": "b87c0c6a-d048-416f-ee2a-c25a751badfc"
      },
      "source": [
        "import scipy.stats as st\n",
        "import numpy as np\n",
        "import matplotlib.pyplot as plt\n",
        "import random\n",
        "\n",
        "mu = 10\n",
        "sigma = 2\n",
        "n = 50\n",
        "#obtendo a amostra original\n",
        "S = st.norm.rvs(mu,sigma,size=n)\n",
        "\n",
        "#lista para armazenar o parametro de interesse (mediana)\n",
        "Stheta = []\n",
        "\n",
        "r = 100\n",
        "#obtendo as réplicas\n",
        "for i in range(r):\n",
        "  Si = random.choices(list(S),k=n)\n",
        "  Stheta.append(np.median(Si))\n",
        "\n",
        "CIinf = np.quantile(Stheta,0.025) #usando 95% de confiança\n",
        "CIsup = np.quantile(Stheta,0.975)\n",
        "\n",
        "print(\"IC para a mediana à 95% de confiança: [\"+str(round(CIinf,2))+\",\"+str(round(CIsup,2))+\"]\")\n",
        "\n",
        "plt.hist(Stheta)"
      ],
      "execution_count": null,
      "outputs": [
        {
          "output_type": "stream",
          "name": "stdout",
          "text": [
            "IC para a mediana à 95% de confiança: [9.57,10.9]\n"
          ]
        },
        {
          "output_type": "execute_result",
          "data": {
            "text/plain": [
              "(array([ 4.,  1.,  4.,  2., 13., 19., 25., 26.,  5.,  1.]),\n",
              " array([ 9.46018044,  9.63047155,  9.80076266,  9.97105377, 10.14134488,\n",
              "        10.31163599, 10.4819271 , 10.6522182 , 10.82250931, 10.99280042,\n",
              "        11.16309153]),\n",
              " <a list of 10 Patch objects>)"
            ]
          },
          "metadata": {},
          "execution_count": 1
        },
        {
          "output_type": "display_data",
          "data": {
            "text/plain": [
              "<Figure size 432x288 with 1 Axes>"
            ],
            "image/png": "[encoded data removed]"
          },
          "metadata": {
            "needs_background": "light"
          }
        }
      ]
    },
    {
      "cell_type": "markdown",
      "metadata": {
        "id": "UY_rFViMF-Vu"
      },
      "source": [
        "## Exemplo (Preços de casas)\n",
        "\n",
        "No caso acima, nós conhecíamos a população, mas esta técnica é realmente interessante quando a população não é conhecida. Considere os dados de preços de casas em https://dasl.datadescription.com/download/data/3205. Construa um intervalo de confiança para o preço mediano à 90\\% de confiança."
      ]
    },
    {
      "cell_type": "code",
      "metadata": {
        "colab": {
          "base_uri": "https://localhost:8080/",
          "height": 1000
        },
        "id": "ESvNkP4MHvwn",
        "outputId": "2cc5dc38-44ee-4661-bfd1-388c101df6f1"
      },
      "source": [
        "import pandas as pd\n",
        "!wget https://dasl.datadescription.com/download/data/3205\n",
        "casas = pd.read_csv(\"3205\",sep=\"\\t\")\n",
        "casas"
      ],
      "execution_count": null,
      "outputs": [
        {
          "output_type": "stream",
          "name": "stdout",
          "text": [
            "--2022-01-03 12:00:05--  https://dasl.datadescription.com/download/data/3205\n",
            "Resolving dasl.datadescription.com (dasl.datadescription.com)... 45.79.130.90\n",
            "Connecting to dasl.datadescription.com (dasl.datadescription.com)|45.79.130.90|:443... connected.\n",
            "HTTP request sent, awaiting response... 200 OK\n",
            "Length: 637 [text/plain]\n",
            "Saving to: ‘3205.1’\n",
            "\n",
            "3205.1              100%[===================>]     637  --.-KB/s    in 0s      \n",
            "\n",
            "2022-01-03 12:00:05 (73.5 MB/s) - ‘3205.1’ saved [637/637]\n",
            "\n"
          ]
        },
        {
          "output_type": "execute_result",
          "data": {
            "text/html": [
              "\n",
              "  <div id=\"df-31d07306-1194-4444-963a-87eb7566fe8f\">\n",
              "    <div class=\"colab-df-container\">\n",
              "      <div>\n",
              "<style scoped>\n",
              "    .dataframe tbody tr th:only-of-type {\n",
              "        vertical-align: middle;\n",
              "    }\n",
              "\n",
              "    .dataframe tbody tr th {\n",
              "        vertical-align: top;\n",
              "    }\n",
              "\n",
              "    .dataframe thead th {\n",
              "        text-align: right;\n",
              "    }\n",
              "</style>\n",
              "<table border=\"1\" class=\"dataframe\">\n",
              "  <thead>\n",
              "    <tr style=\"text-align: right;\">\n",
              "      <th></th>\n",
              "      <th>Price</th>\n",
              "      <th>Fireplace</th>\n",
              "    </tr>\n",
              "  </thead>\n",
              "  <tbody>\n",
              "    <tr>\n",
              "      <th>0</th>\n",
              "      <td>142212</td>\n",
              "      <td>No</td>\n",
              "    </tr>\n",
              "    <tr>\n",
              "      <th>1</th>\n",
              "      <td>134865</td>\n",
              "      <td>Yes</td>\n",
              "    </tr>\n",
              "    <tr>\n",
              "      <th>2</th>\n",
              "      <td>118007</td>\n",
              "      <td>Yes</td>\n",
              "    </tr>\n",
              "    <tr>\n",
              "      <th>3</th>\n",
              "      <td>138297</td>\n",
              "      <td>Yes</td>\n",
              "    </tr>\n",
              "    <tr>\n",
              "      <th>4</th>\n",
              "      <td>129470</td>\n",
              "      <td>Yes</td>\n",
              "    </tr>\n",
              "    <tr>\n",
              "      <th>5</th>\n",
              "      <td>206512</td>\n",
              "      <td>No</td>\n",
              "    </tr>\n",
              "    <tr>\n",
              "      <th>6</th>\n",
              "      <td>50709</td>\n",
              "      <td>No</td>\n",
              "    </tr>\n",
              "    <tr>\n",
              "      <th>7</th>\n",
              "      <td>108794</td>\n",
              "      <td>No</td>\n",
              "    </tr>\n",
              "    <tr>\n",
              "      <th>8</th>\n",
              "      <td>68353</td>\n",
              "      <td>No</td>\n",
              "    </tr>\n",
              "    <tr>\n",
              "      <th>9</th>\n",
              "      <td>123266</td>\n",
              "      <td>No</td>\n",
              "    </tr>\n",
              "    <tr>\n",
              "      <th>10</th>\n",
              "      <td>309808</td>\n",
              "      <td>Yes</td>\n",
              "    </tr>\n",
              "    <tr>\n",
              "      <th>11</th>\n",
              "      <td>157946</td>\n",
              "      <td>Yes</td>\n",
              "    </tr>\n",
              "    <tr>\n",
              "      <th>12</th>\n",
              "      <td>80248</td>\n",
              "      <td>No</td>\n",
              "    </tr>\n",
              "    <tr>\n",
              "      <th>13</th>\n",
              "      <td>135708</td>\n",
              "      <td>No</td>\n",
              "    </tr>\n",
              "    <tr>\n",
              "      <th>14</th>\n",
              "      <td>173723</td>\n",
              "      <td>Yes</td>\n",
              "    </tr>\n",
              "    <tr>\n",
              "      <th>15</th>\n",
              "      <td>140510</td>\n",
              "      <td>Yes</td>\n",
              "    </tr>\n",
              "    <tr>\n",
              "      <th>16</th>\n",
              "      <td>122221</td>\n",
              "      <td>No</td>\n",
              "    </tr>\n",
              "    <tr>\n",
              "      <th>17</th>\n",
              "      <td>151917</td>\n",
              "      <td>Yes</td>\n",
              "    </tr>\n",
              "    <tr>\n",
              "      <th>18</th>\n",
              "      <td>235105000</td>\n",
              "      <td>Yes</td>\n",
              "    </tr>\n",
              "    <tr>\n",
              "      <th>19</th>\n",
              "      <td>259999</td>\n",
              "      <td>Yes</td>\n",
              "    </tr>\n",
              "    <tr>\n",
              "      <th>20</th>\n",
              "      <td>211517</td>\n",
              "      <td>Yes</td>\n",
              "    </tr>\n",
              "    <tr>\n",
              "      <th>21</th>\n",
              "      <td>102068</td>\n",
              "      <td>Yes</td>\n",
              "    </tr>\n",
              "    <tr>\n",
              "      <th>22</th>\n",
              "      <td>128440</td>\n",
              "      <td>No</td>\n",
              "    </tr>\n",
              "    <tr>\n",
              "      <th>23</th>\n",
              "      <td>115659</td>\n",
              "      <td>Yes</td>\n",
              "    </tr>\n",
              "    <tr>\n",
              "      <th>24</th>\n",
              "      <td>145583</td>\n",
              "      <td>Yes</td>\n",
              "    </tr>\n",
              "    <tr>\n",
              "      <th>25</th>\n",
              "      <td>116289</td>\n",
              "      <td>Yes</td>\n",
              "    </tr>\n",
              "    <tr>\n",
              "      <th>26</th>\n",
              "      <td>238792</td>\n",
              "      <td>Yes</td>\n",
              "    </tr>\n",
              "    <tr>\n",
              "      <th>27</th>\n",
              "      <td>221925</td>\n",
              "      <td>No</td>\n",
              "    </tr>\n",
              "    <tr>\n",
              "      <th>28</th>\n",
              "      <td>310696</td>\n",
              "      <td>Yes</td>\n",
              "    </tr>\n",
              "    <tr>\n",
              "      <th>29</th>\n",
              "      <td>139079</td>\n",
              "      <td>Yes</td>\n",
              "    </tr>\n",
              "    <tr>\n",
              "      <th>30</th>\n",
              "      <td>109578</td>\n",
              "      <td>Yes</td>\n",
              "    </tr>\n",
              "    <tr>\n",
              "      <th>31</th>\n",
              "      <td>65325</td>\n",
              "      <td>No</td>\n",
              "    </tr>\n",
              "    <tr>\n",
              "      <th>32</th>\n",
              "      <td>89893</td>\n",
              "      <td>Yes</td>\n",
              "    </tr>\n",
              "    <tr>\n",
              "      <th>33</th>\n",
              "      <td>87588</td>\n",
              "      <td>No</td>\n",
              "    </tr>\n",
              "    <tr>\n",
              "      <th>34</th>\n",
              "      <td>132311</td>\n",
              "      <td>Yes</td>\n",
              "    </tr>\n",
              "    <tr>\n",
              "      <th>35</th>\n",
              "      <td>131411</td>\n",
              "      <td>Yes</td>\n",
              "    </tr>\n",
              "    <tr>\n",
              "      <th>36</th>\n",
              "      <td>158863</td>\n",
              "      <td>Yes</td>\n",
              "    </tr>\n",
              "    <tr>\n",
              "      <th>37</th>\n",
              "      <td>130490</td>\n",
              "      <td>Yes</td>\n",
              "    </tr>\n",
              "    <tr>\n",
              "      <th>38</th>\n",
              "      <td>88207</td>\n",
              "      <td>No</td>\n",
              "    </tr>\n",
              "    <tr>\n",
              "      <th>39</th>\n",
              "      <td>178767</td>\n",
              "      <td>Yes</td>\n",
              "    </tr>\n",
              "    <tr>\n",
              "      <th>40</th>\n",
              "      <td>148246</td>\n",
              "      <td>No</td>\n",
              "    </tr>\n",
              "    <tr>\n",
              "      <th>41</th>\n",
              "      <td>205073</td>\n",
              "      <td>No</td>\n",
              "    </tr>\n",
              "    <tr>\n",
              "      <th>42</th>\n",
              "      <td>185323</td>\n",
              "      <td>No</td>\n",
              "    </tr>\n",
              "    <tr>\n",
              "      <th>43</th>\n",
              "      <td>71904</td>\n",
              "      <td>No</td>\n",
              "    </tr>\n",
              "    <tr>\n",
              "      <th>44</th>\n",
              "      <td>82556</td>\n",
              "      <td>Yes</td>\n",
              "    </tr>\n",
              "    <tr>\n",
              "      <th>45</th>\n",
              "      <td>199684</td>\n",
              "      <td>No</td>\n",
              "    </tr>\n",
              "    <tr>\n",
              "      <th>46</th>\n",
              "      <td>122221</td>\n",
              "      <td>Yes</td>\n",
              "    </tr>\n",
              "    <tr>\n",
              "      <th>47</th>\n",
              "      <td>81762</td>\n",
              "      <td>No</td>\n",
              "    </tr>\n",
              "    <tr>\n",
              "      <th>48</th>\n",
              "      <td>84291</td>\n",
              "      <td>Yes</td>\n",
              "    </tr>\n",
              "    <tr>\n",
              "      <th>49</th>\n",
              "      <td>206512</td>\n",
              "      <td>Yes</td>\n",
              "    </tr>\n",
              "    <tr>\n",
              "      <th>50</th>\n",
              "      <td>105363</td>\n",
              "      <td>Yes</td>\n",
              "    </tr>\n",
              "    <tr>\n",
              "      <th>51</th>\n",
              "      <td>45004</td>\n",
              "      <td>No</td>\n",
              "    </tr>\n",
              "    <tr>\n",
              "      <th>52</th>\n",
              "      <td>62105</td>\n",
              "      <td>No</td>\n",
              "    </tr>\n",
              "    <tr>\n",
              "      <th>53</th>\n",
              "      <td>103508</td>\n",
              "      <td>Yes</td>\n",
              "    </tr>\n",
              "    <tr>\n",
              "      <th>54</th>\n",
              "      <td>157513</td>\n",
              "      <td>Yes</td>\n",
              "    </tr>\n",
              "    <tr>\n",
              "      <th>55</th>\n",
              "      <td>79893</td>\n",
              "      <td>No</td>\n",
              "    </tr>\n",
              "    <tr>\n",
              "      <th>56</th>\n",
              "      <td>88770</td>\n",
              "      <td>No</td>\n",
              "    </tr>\n",
              "    <tr>\n",
              "      <th>57</th>\n",
              "      <td>115312</td>\n",
              "      <td>No</td>\n",
              "    </tr>\n",
              "    <tr>\n",
              "      <th>58</th>\n",
              "      <td>118952</td>\n",
              "      <td>No</td>\n",
              "    </tr>\n",
              "    <tr>\n",
              "      <th>59</th>\n",
              "      <td>103861</td>\n",
              "      <td>Yes</td>\n",
              "    </tr>\n",
              "  </tbody>\n",
              "</table>\n",
              "</div>\n",
              "      <button class=\"colab-df-convert\" onclick=\"convertToInteractive('df-31d07306-1194-4444-963a-87eb7566fe8f')\"\n",
              "              title=\"Convert this dataframe to an interactive table.\"\n",
              "              style=\"display:none;\">\n",
              "        \n",
              "  <svg xmlns=\"http://www.w3.org/2000/svg\" height=\"24px\"viewBox=\"0 0 24 24\"\n",
              "       width=\"24px\">\n",
              "    <path d=\"M0 0h24v24H0V0z\" fill=\"none\"/>\n",
              "    <path d=\"M18.56 5.44l.94 2.06.94-2.06 2.06-.94-2.06-.94-.94-2.06-.94 2.06-2.06.94zm-11 1L8.5 8.5l.94-2.06 2.06-.94-2.06-.94L8.5 2.5l-.94 2.06-2.06.94zm10 10l.94 2.06.94-2.06 2.06-.94-2.06-.94-.94-2.06-.94 2.06-2.06.94z\"/><path d=\"M17.41 7.96l-1.37-1.37c-.4-.4-.92-.59-1.43-.59-.52 0-1.04.2-1.43.59L10.3 9.45l-7.72 7.72c-.78.78-.78 2.05 0 2.83L4 21.41c.39.39.9.59 1.41.59.51 0 1.02-.2 1.41-.59l7.78-7.78 2.81-2.81c.8-.78.8-2.07 0-2.86zM5.41 20L4 18.59l7.72-7.72 1.47 1.35L5.41 20z\"/>\n",
              "  </svg>\n",
              "      </button>\n",
              "      \n",
              "  <style>\n",
              "    .colab-df-container {\n",
              "      display:flex;\n",
              "      flex-wrap:wrap;\n",
              "      gap: 12px;\n",
              "    }\n",
              "\n",
              "    .colab-df-convert {\n",
              "      background-color: #E8F0FE;\n",
              "      border: none;\n",
              "      border-radius: 50%;\n",
              "      cursor: pointer;\n",
              "      display: none;\n",
              "      fill: #1967D2;\n",
              "      height: 32px;\n",
              "      padding: 0 0 0 0;\n",
              "      width: 32px;\n",
              "    }\n",
              "\n",
              "    .colab-df-convert:hover {\n",
              "      background-color: #E2EBFA;\n",
              "      box-shadow: 0px 1px 2px rgba(60, 64, 67, 0.3), 0px 1px 3px 1px rgba(60, 64, 67, 0.15);\n",
              "      fill: #174EA6;\n",
              "    }\n",
              "\n",
              "    [theme=dark] .colab-df-convert {\n",
              "      background-color: #3B4455;\n",
              "      fill: #D2E3FC;\n",
              "    }\n",
              "\n",
              "    [theme=dark] .colab-df-convert:hover {\n",
              "      background-color: #434B5C;\n",
              "      box-shadow: 0px 1px 3px 1px rgba(0, 0, 0, 0.15);\n",
              "      filter: drop-shadow(0px 1px 2px rgba(0, 0, 0, 0.3));\n",
              "      fill: #FFFFFF;\n",
              "    }\n",
              "  </style>\n",
              "\n",
              "      <script>\n",
              "        const buttonEl =\n",
              "          document.querySelector('#df-31d07306-1194-4444-963a-87eb7566fe8f button.colab-df-convert');\n",
              "        buttonEl.style.display =\n",
              "          google.colab.kernel.accessAllowed ? 'block' : 'none';\n",
              "\n",
              "        async function convertToInteractive(key) {\n",
              "          const element = document.querySelector('#df-31d07306-1194-4444-963a-87eb7566fe8f');\n",
              "          const dataTable =\n",
              "            await google.colab.kernel.invokeFunction('convertToInteractive',\n",
              "                                                     [key], {});\n",
              "          if (!dataTable) return;\n",
              "\n",
              "          const docLinkHtml = 'Like what you see? Visit the ' +\n",
              "            '<a target=\"_blank\" href=https://colab.research.google.com/notebooks/data_table.ipynb>data table notebook</a>'\n",
              "            + ' to learn more about interactive tables.';\n",
              "          element.innerHTML = '';\n",
              "          dataTable['output_type'] = 'display_data';\n",
              "          await google.colab.output.renderOutput(dataTable, element);\n",
              "          const docLink = document.createElement('div');\n",
              "          docLink.innerHTML = docLinkHtml;\n",
              "          element.appendChild(docLink);\n",
              "        }\n",
              "      </script>\n",
              "    </div>\n",
              "  </div>\n",
              "  "
            ],
            "text/plain": [
              "        Price Fireplace\n",
              "0      142212        No\n",
              "1      134865       Yes\n",
              "2      118007       Yes\n",
              "3      138297       Yes\n",
              "4      129470       Yes\n",
              "5      206512        No\n",
              "6       50709        No\n",
              "7      108794        No\n",
              "8       68353        No\n",
              "9      123266        No\n",
              "10     309808       Yes\n",
              "11     157946       Yes\n",
              "12      80248        No\n",
              "13     135708        No\n",
              "14     173723       Yes\n",
              "15     140510       Yes\n",
              "16     122221        No\n",
              "17     151917       Yes\n",
              "18  235105000       Yes\n",
              "19     259999       Yes\n",
              "20     211517       Yes\n",
              "21     102068       Yes\n",
              "22     128440        No\n",
              "23     115659       Yes\n",
              "24     145583       Yes\n",
              "25     116289       Yes\n",
              "26     238792       Yes\n",
              "27     221925        No\n",
              "28     310696       Yes\n",
              "29     139079       Yes\n",
              "30     109578       Yes\n",
              "31      65325        No\n",
              "32      89893       Yes\n",
              "33      87588        No\n",
              "34     132311       Yes\n",
              "35     131411       Yes\n",
              "36     158863       Yes\n",
              "37     130490       Yes\n",
              "38      88207        No\n",
              "39     178767       Yes\n",
              "40     148246        No\n",
              "41     205073        No\n",
              "42     185323        No\n",
              "43      71904        No\n",
              "44      82556       Yes\n",
              "45     199684        No\n",
              "46     122221       Yes\n",
              "47      81762        No\n",
              "48      84291       Yes\n",
              "49     206512       Yes\n",
              "50     105363       Yes\n",
              "51      45004        No\n",
              "52      62105        No\n",
              "53     103508       Yes\n",
              "54     157513       Yes\n",
              "55      79893        No\n",
              "56      88770        No\n",
              "57     115312        No\n",
              "58     118952        No\n",
              "59     103861       Yes"
            ]
          },
          "metadata": {},
          "execution_count": 8
        }
      ]
    },
    {
      "cell_type": "code",
      "metadata": {
        "colab": {
          "base_uri": "https://localhost:8080/"
        },
        "id": "kSSCjnceJoz7",
        "outputId": "f92bff8a-4a24-4747-a843-cde8547ca491"
      },
      "source": [
        "#Amostra original, tamanho da amostra e número de réplicas\n",
        "S = casas.Price\n",
        "n = len(S)\n",
        "r = 100\n",
        "\n",
        "#lista para armazenar o parametro de interesse (mediana)\n",
        "theta = []\n",
        "\n",
        "#obtendo as réplicas e calculando a mediana\n",
        "for i in range(r):\n",
        "  Si = random.choices(list(S),k=n)\n",
        "  theta.append(np.median(Si))\n",
        "\n",
        "CIinf = np.quantile(theta,0.05)\n",
        "CIsup = np.quantile(theta,0.95)\n",
        "\n",
        "print(\"Com 90% de confiança, a mediana do preço das casas está no intervalo [\"+str(round(CIinf,2))+\",\"+str(round(CIsup,2))+\"]\")"
      ],
      "execution_count": null,
      "outputs": [
        {
          "output_type": "stream",
          "name": "stdout",
          "text": [
            "Com 90% de confiança, a mediana do preço das casas está no intervalo [116289.0,136602.08]\n"
          ]
        }
      ]
    },
    {
      "cell_type": "markdown",
      "source": [
        "Comparemos os preços das casas sem lareira e com lareira. Usemos a mediana (para não sermos afetados pelo *outlier*)."
      ],
      "metadata": {
        "id": "o8dd4LPx0MSp"
      }
    },
    {
      "cell_type": "code",
      "source": [
        "#Amostras originais com e sem lareira e número de réplicas\n",
        "S1 = casas[casas.Fireplace==\"Yes\"]\n",
        "S2 = casas[casas.Fireplace==\"No\"]\n",
        "r = 1000\n",
        "\n",
        "def boot(dados):\n",
        "  #lista para armazenar o parametro de interesse (mediana)\n",
        "  theta = []\n",
        "  n = len(dados)\n",
        "  #obtendo as réplicas e calculando a mediana\n",
        "  for i in range(r):\n",
        "    Si = random.choices(list(dados),k=n)\n",
        "    theta.append(np.median(Si))\n",
        "\n",
        "  CIinf = np.quantile(theta,0.05)\n",
        "  CIsup = np.quantile(theta,0.95)\n",
        "  return CIinf, CIsup\n",
        "\n",
        "#calculo do IC via bootstrap usando a lib scipy.stats\n",
        "print(\"CIs da mediana à 90% de confiança\")\n",
        "print(\"Com lareira\",boot(S1.Price))\n",
        "print(\"Sem lareira\",boot(S2.Price))\n",
        "#print(st.bootstrap(S2.Prices,np.median,confidence_level=0.9))\n",
        "#print(\"Com 90% de confiança, a mediana do preço das casas está no intervalo [\"+str(round(CIinf,2))+\",\"+str(round(CIsup,2))+\"]\")"
      ],
      "metadata": {
        "colab": {
          "base_uri": "https://localhost:8080/"
        },
        "id": "qKxFtTSM0T46",
        "outputId": "b1ee1ab9-be46-46b3-db22-14dfef2f45a7"
      },
      "execution_count": null,
      "outputs": [
        {
          "output_type": "stream",
          "name": "stdout",
          "text": [
            "CIs da mediana à 90% de confiança\n",
            "Com lareira (127220.475, 151917.0)\n",
            "Sem lareira (84675.0, 125853.0)\n"
          ]
        }
      ]
    },
    {
      "cell_type": "markdown",
      "source": [
        "# **Bônus**: Por que $\\bar{x} = \\frac{\\sum_{i=1}^{n}{(x_i})}{n}$ é um estimador não-viesado de $\\mu$?\n"
      ],
      "metadata": {
        "id": "fe3pAbbTIxok"
      }
    },
    {
      "cell_type": "markdown",
      "source": [
        "Considere uma VA $X$ com uma certa distribuição e com $E(X)=\\mu$ e $Var(X)=\\sigma^2$. Considere ainda que retiramos $n$ amostras desta VA representadas como: $X_1,X_2,X_3,\\ldots,X_n$.\n",
        "\n",
        "Sobre esta VA definimos ainda uma outra $\\bar{X} = \\frac{\\sum_{i=1}^{n}(X_i)}{n}$, que é a VA da média amostral de $X$.\n",
        "\n",
        "Para que um estimador seja não viesado, sabemos que $E(\\hat{\\theta})=\\theta$. Portanto, em nosso caso queremos ver se $E(\\bar{X})=\\mu$.\n",
        "\n",
        "Assim vemos que\n",
        "\n",
        "$E(\\bar{X})=E[\\frac{\\sum_{i=1}^{n}{X_i}}{n}] \\\\\n",
        "E(\\bar{X})=\\frac{E[\\sum_{i=1}^{n}{X_i}]}{n} \\\\\n",
        "E(\\bar{X})=\\frac{\\sum_{i=1}^{n}E[{X_i}]}{n} \\\\\n",
        "E(\\bar{X})=\\frac{\\sum_{i=1}^{n}\\mu}{n} \\\\\n",
        "E(\\bar{X})=\\frac{n\\mu}{n} = \\mu$\n",
        "\n",
        "Como podemos observar $E(\\bar{X}) = \\mu$, logo o estimador é não viesado."
      ],
      "metadata": {
        "id": "w7eKuv1TJXjM"
      }
    },
    {
      "cell_type": "markdown",
      "source": [
        "# **Bônus**: Por que $s^2 = \\frac{\\sum_{i=1}^{n}{(x_i-\\bar{x}})}{n}$ é um estimador viesado de $\\sigma^2$?\n"
      ],
      "metadata": {
        "id": "deTAzUMrUR75"
      }
    },
    {
      "cell_type": "markdown",
      "source": [
        "Considere uma VA $X$ com uma certa distribuição e com $E(X)=\\mu$ e $Var(X)=\\sigma^2$. Considere ainda que retiramos $n$ amostras desta VA representadas como: $X_1,X_2,X_3,\\ldots,X_n$.\n",
        "\n",
        "Sobre esta VA definimos ainda uma outra $S^2 = \\frac{\\sum_{i=1}^{n}(X_i-\\mu)^2}{n}$, que é a VA da variância de $X$.\n",
        "\n",
        "Para que um estimador seja não viesado, sabemos que $E(\\hat{\\theta})=\\theta$. Portanto, em nosso caso queremos ver se $E(S^2)=\\sigma^2$.\n",
        "\n",
        "Assim vemos que\n",
        "\n",
        "$E(S^2)=E(\\frac{\\sum_{i=1}^{n}{(X_i-\\bar{X}})^2}{n}) \\\\\n",
        "E(S^2)=\\frac{E[\\sum_{i=1}^{n}{(X_i-\\bar{X}})^2]}{n}=\\frac{E[\\sum_{i=1}^{n}{(X_i-\\mu+\\mu-\\bar{X}})^2]}{n} \\\\\n",
        "E(S^2)=\\frac{E[\\sum_{i=1}^{n}{((X_i-\\mu)-(\\bar{X}-\\mu)})^2]}{n} \\\\\n",
        "E(S^2)=\\frac{E[\\sum_{i=1}^{n}(X_i-\\mu)^2 + \\sum_{i=1}^{n}(\\bar{X}-\\mu)^2-2\\sum_{i=1}^{n}(X_i-\\mu)(\\bar{X}-\\mu)}{n} \\\\\n",
        "E(S^2)=\\frac{E[\\sum_{i=1}^{n}(X_i-\\mu)^2] + E[\\sum_{i=1}^{n}(\\bar{X}-\\mu)^2]-E[2\\sum_{i=1}^{n}(X_i-\\mu)(\\bar{X}-\\mu)]}{n} \\\\\n",
        "E(S^2)=\\frac{\\sum_{i=1}^{n}E[(X_i-\\mu)^2] + \\sum_{i=1}^{n}E[(\\bar{X}-\\mu)^2]-E[2\\sum_{i=1}^{n}(X_i-\\mu)(\\bar{X}-\\mu)]}{n}$\n",
        "\n",
        "Deve-se observar que subtraindo $\\mu$ dos lados da definição de $\\bar{X}$ temos que\n",
        "\n",
        "$\\bar{X}-\\mu = \\frac{\\sum_{i=1}^{n}(X_i)}{n}-\\mu \\\\\n",
        "\\bar{X}-\\mu = \\frac{\\sum_{i=1}^{n}(X_i)}{n}-\\frac{\\sum_{i=1}^{n}\\mu}{n} \\\\\n",
        "\\bar{X}-\\mu = \\frac{\\sum_{i=1}^{n}(X_i-\\mu)}{n} \\\\\n",
        "\\sum_{i=1}^{n}(X_i-\\mu) = n(\\bar{X}-\\mu) $\n",
        "\n",
        "Desta forma podemos continuar a derivação de $E(S^2)$\n",
        "\n",
        "$E(S^2)=\\frac{\\sum_{i=1}^{n}E[(X_i-\\mu)^2] + \\sum_{i=1}^{n}E[(\\bar{X}-\\mu)^2]-E[2(\\bar{X}-\\mu)\\sum_{i=1}^{n}(X_i-\\mu)]}{n} \\\\\n",
        "E(S^2)=\\frac{\\sum_{i=1}^{n}Var(X_i) + \\sum_{i=1}^{n}Var(\\bar{X})-E[2n(\\bar{X}-\\mu)^2]}{n} \\\\\n",
        "E(S^2)=\\frac{n\\sigma^2 + n\\frac{\\sigma^2}{n}-2nE[(\\bar{X}-\\mu)^2]}{n} \\\\\n",
        "E(S^2)=\\sigma^2 + \\frac{\\sigma^2}{n} - \\frac{2\\sigma^2}{n} \\\\\n",
        "E(S^2)=\\frac{(n-1)\\sigma^2}{n}$\n",
        "\n",
        "Como podemos observar $E(S^2) \\lt \\sigma^2$, logo o estimador é viesado."
      ],
      "metadata": {
        "id": "sAmrbxHBUR8H"
      }
    }
  ]
}