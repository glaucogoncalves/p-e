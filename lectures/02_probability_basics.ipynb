{
  "cells": [
    {
      "cell_type": "markdown",
      "metadata": {
        "id": "BqmFDJsLjjMN"
      },
      "source": [
        "#Pergunta fundamental\n",
        "\n",
        "<a target=\"_blank\" href=\"https://colab.research.google.com/github/glaucogoncalves/p-e/blob/main/lectures/02_probability_basics.ipynb\"> <img src=\"https://colab.research.google.com/assets/colab-badge.svg\" alt=\"Open In Colab\"/></a>\n",
        "\n",
        "Qual a chance disso acontecer?"
      ]
    },
    {
      "cell_type": "markdown",
      "metadata": {
        "id": "vwnBF-yKkFld"
      },
      "source": [
        "#1. Experimentos, Resultados e Eventos"
      ]
    },
    {
      "cell_type": "markdown",
      "metadata": {
        "id": "DD9UDPhAInHF"
      },
      "source": [
        "* **Experimento** é um termo amplo e pode contemplar estudos determinísticos ou não-determinísticos (também chamado estocástico, probabilístico, aleatório etc).\n",
        "* Consideraremos experimentos onde os resultados são incertos (jogar uma moeda, comer gordura saturada etc) e nós queremos pesar estas incertezas uma contra a outra.\n",
        " * Ex: A moeda pode dar cara ou coroa, não há razão para ver uma mais que a outra;\n",
        " * Ex: Se eu como muita gordura saturada eu provavelmente terei problema, embora eu possa não ter.\n",
        "* Probabilidade é o mecanismo que nós usamos para descrever e ponderar sobre o fato de que alguns **resultados** são mais frequentes do que outros"
      ]
    },
    {
      "cell_type": "markdown",
      "metadata": {
        "id": "lgu7SQh76aVB"
      },
      "source": [
        "##Resultados e probabilidade (intuitivo)"
      ]
    },
    {
      "cell_type": "markdown",
      "metadata": {
        "id": "v0filV_D6dKh"
      },
      "source": [
        "* Imagine que você repita o mesmo experimento não-determinístico múltiplas vezes. Não esperamos o mesmo **resultado** a cada execução, mas alguns resultados podem ser mais frequentes do que outros.\n",
        "* Para estimar essa probabilidade nós deveríamos saber os resultados possíveis deste experimento (espaço amostral).\n",
        " * Ex: na moeda nós convencionamos que os resultados são cara e coroa e desprezamos qualquer outra coisa, ou seja, nós estamos idealizando o experimento."
      ]
    },
    {
      "cell_type": "markdown",
      "metadata": {
        "id": "gmqZHIC7sw7e"
      },
      "source": [
        "### Espaço amostral"
      ]
    },
    {
      "cell_type": "markdown",
      "metadata": {
        "id": "yETF0dX8s5QB"
      },
      "source": [
        "> **Espaço amostral**: conjunto de todos os resultados, usualmente chamado de $\\Omega$"
      ]
    },
    {
      "cell_type": "markdown",
      "metadata": {
        "id": "QgCxFWeHvycr"
      },
      "source": [
        "#### Exemplo (Encontre a dama)\n",
        "Nós temos três cartas. Uma dama, um rei e um valete. Todos estão com a face para baixo sobre a mesa e um deles será virado para cima. Qual o espaço amostral deste experimento?"
      ]
    },
    {
      "cell_type": "markdown",
      "metadata": {
        "id": "dDvj5QaQv3-v"
      },
      "source": [
        "**Solução**: Escreva $Q$ para a dama, $K$ para o rei e $J$ para o valete; então $\\Omega = \\{ Q, K, J \\}$."
      ]
    },
    {
      "cell_type": "markdown",
      "metadata": {
        "id": "hJx4KyIgwtdv"
      },
      "source": [
        "#### Exemplo (Encontre a dama, duas vezes)\n",
        "Nós vamos jogar encontre a dama duas vezes, repondo a carta e reembaralhando-as. Qual o espaço amostral?"
      ]
    },
    {
      "cell_type": "markdown",
      "metadata": {
        "id": "KRycdLu8xGYi"
      },
      "source": [
        "Solução: Nós temos então $\\Omega = \\{QK, QQ, QJ, KK, KQ, KJ, JK, JQ, JJ\\}$."
      ]
    },
    {
      "cell_type": "code",
      "execution_count": null,
      "metadata": {
        "colab": {
          "base_uri": "https://localhost:8080/"
        },
        "id": "W2lTfQ4kxn-R",
        "outputId": "47a61cf4-2a66-4385-eea0-98c5e6824790"
      },
      "outputs": [
        {
          "name": "stdout",
          "output_type": "stream",
          "text": [
            "[('Q', 'Q', 'Q', 'Q'), ('Q', 'Q', 'Q', 'K'), ('Q', 'Q', 'Q', 'J'), ('Q', 'Q', 'K', 'Q'), ('Q', 'Q', 'K', 'K'), ('Q', 'Q', 'K', 'J'), ('Q', 'Q', 'J', 'Q'), ('Q', 'Q', 'J', 'K'), ('Q', 'Q', 'J', 'J'), ('Q', 'K', 'Q', 'Q'), ('Q', 'K', 'Q', 'K'), ('Q', 'K', 'Q', 'J'), ('Q', 'K', 'K', 'Q'), ('Q', 'K', 'K', 'K'), ('Q', 'K', 'K', 'J'), ('Q', 'K', 'J', 'Q'), ('Q', 'K', 'J', 'K'), ('Q', 'K', 'J', 'J'), ('Q', 'J', 'Q', 'Q'), ('Q', 'J', 'Q', 'K'), ('Q', 'J', 'Q', 'J'), ('Q', 'J', 'K', 'Q'), ('Q', 'J', 'K', 'K'), ('Q', 'J', 'K', 'J'), ('Q', 'J', 'J', 'Q'), ('Q', 'J', 'J', 'K'), ('Q', 'J', 'J', 'J'), ('K', 'Q', 'Q', 'Q'), ('K', 'Q', 'Q', 'K'), ('K', 'Q', 'Q', 'J'), ('K', 'Q', 'K', 'Q'), ('K', 'Q', 'K', 'K'), ('K', 'Q', 'K', 'J'), ('K', 'Q', 'J', 'Q'), ('K', 'Q', 'J', 'K'), ('K', 'Q', 'J', 'J'), ('K', 'K', 'Q', 'Q'), ('K', 'K', 'Q', 'K'), ('K', 'K', 'Q', 'J'), ('K', 'K', 'K', 'Q'), ('K', 'K', 'K', 'K'), ('K', 'K', 'K', 'J'), ('K', 'K', 'J', 'Q'), ('K', 'K', 'J', 'K'), ('K', 'K', 'J', 'J'), ('K', 'J', 'Q', 'Q'), ('K', 'J', 'Q', 'K'), ('K', 'J', 'Q', 'J'), ('K', 'J', 'K', 'Q'), ('K', 'J', 'K', 'K'), ('K', 'J', 'K', 'J'), ('K', 'J', 'J', 'Q'), ('K', 'J', 'J', 'K'), ('K', 'J', 'J', 'J'), ('J', 'Q', 'Q', 'Q'), ('J', 'Q', 'Q', 'K'), ('J', 'Q', 'Q', 'J'), ('J', 'Q', 'K', 'Q'), ('J', 'Q', 'K', 'K'), ('J', 'Q', 'K', 'J'), ('J', 'Q', 'J', 'Q'), ('J', 'Q', 'J', 'K'), ('J', 'Q', 'J', 'J'), ('J', 'K', 'Q', 'Q'), ('J', 'K', 'Q', 'K'), ('J', 'K', 'Q', 'J'), ('J', 'K', 'K', 'Q'), ('J', 'K', 'K', 'K'), ('J', 'K', 'K', 'J'), ('J', 'K', 'J', 'Q'), ('J', 'K', 'J', 'K'), ('J', 'K', 'J', 'J'), ('J', 'J', 'Q', 'Q'), ('J', 'J', 'Q', 'K'), ('J', 'J', 'Q', 'J'), ('J', 'J', 'K', 'Q'), ('J', 'J', 'K', 'K'), ('J', 'J', 'K', 'J'), ('J', 'J', 'J', 'Q'), ('J', 'J', 'J', 'K'), ('J', 'J', 'J', 'J')]\n",
            "81\n"
          ]
        }
      ],
      "source": [
        "#Como ficaria o espaço amostral de \"Encontre a dama, n vezes\"?\n",
        "#Vejamos o espaço amostral de \"Encontre a dama\"\n",
        "Omega = set([\"K\",\"Q\",\"J\"])\n",
        "\n",
        "#defina n\n",
        "n = 4\n",
        "\n",
        "#Usaremos a função product da lib itertools, para fazer o produto cartesiano\n",
        "from itertools import product as prod\n",
        "OmegaN = list(prod(Omega, repeat=4))\n",
        "print(OmegaN)\n",
        "\n",
        "#QUESTÃO: quantos elementos temos em \"Encontre a dama, n vezes\"?\n",
        "print(len(OmegaN))"
      ]
    },
    {
      "cell_type": "markdown",
      "metadata": {
        "id": "osZw1zOrz_t0"
      },
      "source": [
        "#### Exemplo (Jogando dados até sair 6)\n",
        "Considerando um dado de 6 lados justo, vamos jogá-lo até sair 6. Qual o espaço amostral deste experimento?"
      ]
    },
    {
      "cell_type": "markdown",
      "metadata": {
        "id": "JYzKiTfC03iL"
      },
      "source": [
        "**Solução**: Ao jogar um dado, os resultados possíveis são $\\{1,2,3,4,5,6\\}$. Ao jogarmos dois dados temos 36 resultados possíveis: $\\{11,12,13,14,15,16,21,22,23,24,25,26,31,32,33,34,35,36,41,42,43,44,45,46,51,52,53,54,55,56,61,62,63,64,65,66\\}$. Isto poderia ser feito para três dados, quatro dados etc.\n",
        "\n",
        "Em nosso experimento, devemos parar quando obtemos 6 e isto pode acontecer na primeira jogada, na segunda, na terceira ou mesmo nunca ocorrer. Neste caso, temos um <u>espaço amostral infinito</u>. Além disso, resultados como $1$, $2$, $3$, $4$ ou $5$ não são resultados para este experimento. Dado que na ocorrência de um destes resultados no primeiro dado, temos que jogar novamente o dado na busca pelo 6.\n",
        "\n",
        "Assim, o espaço amostral para este experimento é $\\Omega = \\{6, 16, 26, 36, 46, 56, 116, 126, 136, 146, \\ldots\\}$. Podemos representar este espaço amostral pela seguinte expressão regular: $[1-5]^*6$."
      ]
    },
    {
      "cell_type": "markdown",
      "metadata": {
        "id": "tpTYgshZCQ0v"
      },
      "source": [
        "### Probabilidade"
      ]
    },
    {
      "cell_type": "markdown",
      "metadata": {
        "id": "4C33oXYY7eeq"
      },
      "source": [
        "* Nós representamos a chance de um resultado particular ocorrer em um experimento repetido várias vezes como uma **probabilidade**. Um número não-negativo.\n",
        "* Cada execução do experimento produz um resultado, assim a probabilidade nos dá a frequência relativa do resultado quando o experimento é repetido um grande número de vezes.\n",
        "* Assuma que nós repetimos um experimento $n$ vezes. Assuma que cada repetição não tem influência sobre a outra. Nós dizemos que o resultado $a$ tem probabilidade $P(a)$ se:\n",
        " 1. $a$ ocorre aproximadamente $nP(a)$ vezes nestes experimentos\n",
        " 2. conforme $n$ cresce, a fração de experimentos cujo resultado é $a$ se aproxima de $P(a)$\n",
        "* Assim temos que $P(a)= \\frac{\\#a}{n}$, onde $\\#a$ é o número de vezes que $a$ ocorre em $n$ experimentos, e esta fração converge para o valor real de $P(a)$ conforme $n\\rightarrow \\infty$\n",
        "---\n",
        "* Desta definição obtemos:\n",
        " 1. Para qualquer resultado $a_i$, $0 \\leq P(a_i) \\leq 1$\n",
        " 2. $\\sum_{a_i \\in \\Omega} P(a_i) = 1$\n",
        "* As probabilidades se somam porque cada experimento tem um dos resultados no espaço amostral.\n",
        "* Alguns problemas são resolvidos construindo o espaço amostral e pensando sobre a probabilidade de cada resultado.\n",
        " * É bem útil quando os resultados tem a mesma probabilidade, o que acontece muito, mas não sempre"
      ]
    },
    {
      "cell_type": "markdown",
      "metadata": {
        "id": "kNqZ47zlCyYa"
      },
      "source": [
        "#### Exemplo (Encontre a dama)\n",
        "Qual a probabilidade de virarmos a dama no jogo Encontre a dama?"
      ]
    },
    {
      "cell_type": "markdown",
      "metadata": {
        "id": "5AeAf1_YC8Mx"
      },
      "source": [
        "**Solução**: Assumimos que os resultados são <u>equiprováveis</u>, já que não temos qualquer indicação do contrário. Assim $P(Q)=\\frac{1}{3}$."
      ]
    },
    {
      "cell_type": "code",
      "execution_count": null,
      "metadata": {
        "colab": {
          "base_uri": "https://localhost:8080/"
        },
        "id": "4nouR1DbD8w9",
        "outputId": "51a3437f-da42-40fc-8dfb-7aaa90a215aa"
      },
      "outputs": [
        {
          "name": "stdout",
          "output_type": "stream",
          "text": [
            "P(Q) = 0.3328\n"
          ]
        }
      ],
      "source": [
        "#Observe a construção da probabilidade pela frequência de ocorrência\n",
        "import random\n",
        "def dama():\n",
        "  return random.choice(['K','Q','J'])\n",
        "\n",
        "n = 10000\n",
        "a = 0.0\n",
        "for i in range(n):\n",
        "  if dama() == 'Q':\n",
        "    a += 1\n",
        "print(\"P(Q) = \" + str(a/n))"
      ]
    },
    {
      "cell_type": "markdown",
      "metadata": {
        "id": "NjpLW7jvDV8Q"
      },
      "source": [
        "#### Exemplo (Encontre a dama, duas vezes)\n",
        "Qual a probabilidade de acharmos duas damas, jogando duas vezes?"
      ]
    },
    {
      "cell_type": "markdown",
      "metadata": {
        "id": "gpM5DYT5De9I"
      },
      "source": [
        "**Solução**: Novamente assumimos que todos os resultados do experimento são equiprováveis. Considerando o espaço amostral que construímos, vemos que $P(QQ) = \\frac{1}{9}$."
      ]
    },
    {
      "cell_type": "code",
      "execution_count": null,
      "metadata": {
        "colab": {
          "base_uri": "https://localhost:8080/"
        },
        "id": "DRiAYsqRFd7f",
        "outputId": "7066bf5d-b518-42fe-d546-7d78e772325b"
      },
      "outputs": [
        {
          "name": "stdout",
          "output_type": "stream",
          "text": [
            "P(QQ) = 0.11257\n"
          ]
        }
      ],
      "source": [
        "#Observe a construção da probabilidade pela frequência de ocorrência\n",
        "import random\n",
        "from itertools import product as prod\n",
        "\n",
        "def dama2():\n",
        "  cartas = set(['K','Q','J'])\n",
        "  resultados = prod(cartas,repeat=2)\n",
        "  return random.choice(list(resultados))\n",
        "\n",
        "n = 100000\n",
        "a = 0.0\n",
        "for i in range(n):\n",
        "  c1, c2 = dama2()\n",
        "  if c1 == 'Q' and c2 == 'Q':\n",
        "    a += 1\n",
        "print(\"P(QQ) = \" + str(a/n))"
      ]
    },
    {
      "cell_type": "markdown",
      "metadata": {
        "id": "Tc-OSmBqClAM"
      },
      "source": [
        "#### Exemplo (Moeda enviesada)\n",
        "Assuma uma moeda cuja probabilidade de sair cara é $P(H) = \\frac{1}{3}$ e que a probabilidade de sair coroa é $P(T) = \\frac{2}{3}$. Se nós fizermos o experimeto três milhões de vezes, quantas caras nós deveríamos ver?"
      ]
    },
    {
      "cell_type": "markdown",
      "metadata": {
        "id": "PB8VTZmoCqkc"
      },
      "source": [
        "**Solução**: Nós esperamos que $\\frac{1}{3}$ dos experimentos sejam cara, ou seja, deveríamos ver algo como um milhão de caras."
      ]
    },
    {
      "cell_type": "code",
      "execution_count": null,
      "metadata": {
        "colab": {
          "base_uri": "https://localhost:8080/"
        },
        "id": "ybOqJoluIY8n",
        "outputId": "465bdd16-1fec-44dd-db94-f167be3f5527"
      },
      "outputs": [
        {
          "name": "stdout",
          "output_type": "stream",
          "text": [
            "Número de caras neste experimento foi de 1001165\n"
          ]
        }
      ],
      "source": [
        "#A função choice assume que os itens da lista são equiprováveis,\n",
        "#logo podemos adicionar uma coroa a mais ('T') para obter as\n",
        "#probabilidades do exemplo\n",
        "def moedaVies():\n",
        "  return random.choice(['H','T','T'])\n",
        "\n",
        "n = 3000000\n",
        "a = 0\n",
        "for i in range(n):\n",
        "  if moedaVies() == 'H':\n",
        "    a += 1\n",
        "\n",
        "print(\"Número de caras neste experimento foi de \"+str(a))\n",
        "\n",
        "# O VALOR OBTIDO FOI IGUAL AO QUE ESPERÁVAMOS?"
      ]
    },
    {
      "cell_type": "markdown",
      "metadata": {
        "id": "HQ2y07FP6qC8"
      },
      "source": [
        "## Eventos"
      ]
    },
    {
      "cell_type": "markdown",
      "metadata": {
        "id": "csRvXJkT62_Z"
      },
      "source": [
        "* Ao executar um experimento, nós obtemos um resultado (um dos elemento do espaço amostral)\n",
        "* Nós podemos ainda dizer se o resultado obtido pertence a um subconjunto particular dos resultados.\n",
        " * Ex: no lançamento de um dado podemos ver se o resultado é par\n",
        "* Nós deveríamos ser capazes de computar a probabilidade de ocorrência de um conjunto de resultados\n",
        "\n",
        "> **Evento**: Um evento é um subconjunto dos resultados de um experimento."
      ]
    },
    {
      "cell_type": "markdown",
      "metadata": {
        "id": "CmLF9MsyTCxN"
      },
      "source": [
        "### Probabilidade de eventos\n",
        "\n",
        "* Nós podemos estender a ideia de probabilidade para eventos\n",
        "* $\\Omega$ é um evento e $P(\\Omega) = 1$, já que todo experimento tem um resultado e este resultado pertence à $\\Omega$\n",
        "* Um resultado é um evento e $P(\\{a\\}) = P(a)$\n",
        "* Para um evento $E = \\{a,b\\}$, onde $a,b \\in \\Omega$, nós temos que $P(E) = P(a) + P(b)$, porque o número de vezes que veremos <u>algum</u> dos resultados de $E$ será dado pelo número de vezes que vemos $a$ mais o número de vezes que vemos $b$."
      ]
    },
    {
      "cell_type": "markdown",
      "metadata": {
        "id": "BXQHtAinWAq2"
      },
      "source": [
        "### Calculando a probabilidade de eventos pela enumeração dos resultados\n",
        "\n",
        "Quando os **resultados são equiprováveis**, e sendo $|A|$ o número de elementos do conjunto $A$, podemos calcular a $P(E)$ por\n",
        "\n",
        "$P(E) = \\frac{|E|}{|\\Omega|}$"
      ]
    },
    {
      "cell_type": "markdown",
      "metadata": {
        "id": "1wAkoUMGW_Wx"
      },
      "source": [
        "###Exemplo (Números ímpares com dados justos)\n",
        "Nós jogamos um dado de 6 lados duas vezes, então somamos os dois números. Qual a probabilidade de obtermos um número ímpar?"
      ]
    },
    {
      "cell_type": "markdown",
      "metadata": {
        "id": "1XVvdyaBXGIG"
      },
      "source": [
        "**Solução**: Existem 36 resultados equiprováveis neste experimento, 18 deles têm um número ímpar e os outros 18 um número par, então a probabilidade de termos um número ímpar é $\\frac{18}{36}=\\frac{1}{2}$.\n",
        "\n",
        "<img src=\"https://qph.fs.quoracdn.net/main-qimg-b10163089cc1c69547e822f6d32acb58\" width=50% height=50% />"
      ]
    },
    {
      "cell_type": "markdown",
      "metadata": {
        "id": "uT4IuOOJY6hH"
      },
      "source": [
        "### Exemplo (Números divisíveis por 5 com dados justos)\n",
        "\n",
        "Nós jogamos um dado de 6 lados duas vezes, então somamos os dois números. Qual a probabilidade de obtermos um número divisível por 5?"
      ]
    },
    {
      "cell_type": "markdown",
      "metadata": {
        "id": "EfB2bMSyZSMp"
      },
      "source": [
        "**Solução**: Existem 36 resultados equiprováveis. Para este evento e considerando as possíveis somas, apenas os resultados 5 e 10 nos interessam. Existem 4 formas de obter 5 e 3 formas de obter 10. Logo a probabilidade é $\\frac{7}{36}$"
      ]
    },
    {
      "cell_type": "markdown",
      "metadata": {
        "id": "m1T5Scn1Z7jf"
      },
      "source": [
        "### Exemplo (Bebês - 1)\n",
        "\n",
        "Um casal decide ter três filhos. Suponha que três nascimentos ocorrem cada um com uma criança e que meninos e meninas tem igual probabilidade em cada nascimento. Seja $B_i$ o evento em que há $i$ meninos e $C$ o evento em que há mais meninas do que meninos. Calcule $P(B_1)$ e $P(C)$"
      ]
    },
    {
      "cell_type": "markdown",
      "metadata": {
        "id": "fH_Q27ZrbvOS"
      },
      "source": [
        "**Solução**: Representando meninos como $b$ e meninas como $g$, há 8 resultados neste experimento $\\Omega_1 = \\{ggg, ggb, gbg, gbb, bgg, bgb, bbg, bbb\\}$. Cada um com a mesma probabilidade. Para montar o espaço amostral, podemos usar a árvore abaixo:\n",
        "\n",
        "```\n",
        "└───g\n",
        "    └───g\n",
        "        └───g (ggg)\n",
        "        └───b (ggb)\n",
        "    └───b\n",
        "        └───g (gbg)\n",
        "        └───b (gbb)\n",
        "└───b\n",
        "    └───g\n",
        "        └───g (bgg)\n",
        "        └───b (bgb)\n",
        "    └───b\n",
        "        └───g (bbg)\n",
        "        └───b (bbb)\n",
        "```\n",
        "\n",
        "Assim, temos que 3 resultados têm um único menino, logo $P(B_1)=\\frac{3}{8}$. Quatro destes resultados tem mais meninas do que meninos, então $P(C)=\\frac{4}{8}=\\frac{1}{2}$."
      ]
    },
    {
      "cell_type": "markdown",
      "metadata": {
        "id": "ODuCKi8jeRpK"
      },
      "source": [
        "### Exemplo (Bebês - 2)\n",
        "Um casal decide ter filhos. Eles decidem ter uma criança até que uma menina nasça ou até terem três. Suponha que cada nascimento traz apenas uma criança e que meninos e meninas tem igual probabilidade em cada nascimento. Seja $B_i$ o evento em que há $i$ meninos e $C$ o evento em que há mais meninas do que meninos. Calcule $P(B_1)$ e $P(C)$"
      ]
    },
    {
      "cell_type": "markdown",
      "metadata": {
        "id": "o5M4iuJpfzOI"
      },
      "source": [
        "**Solução**: O espaço amostral deste experimento é $\\Omega_2 = \\{g,bg,bbg,bbb\\}$, contudo estes <u>resultados não são equiprováveis</u>. A árvore abaixo ilustra estes resultados com suas probabilidades.\n",
        "\n",
        "```\n",
        "└───g (g) [1/2]\n",
        "└───b\n",
        "    └───g (bg) [1/4]\n",
        "    └───b\n",
        "        └───g (bbg) [1/8]\n",
        "        └───b (bbb) [1/8]\n",
        "```\n",
        "\n",
        "Agora temos as probabilidades de cada resultado, então podemos calcular a probabilidade dos eventos. Assim, $P(B_1) = P(\\{bg\\}) = P(bg) = \\frac{1}{4}$ e $P(C) = P(\\{g\\}) = P(g) = \\frac{1}{2}$.\n",
        "\n",
        "----\n",
        "\n",
        "Também podemos estimar as probabilidades considerando o espaço amostral anterior $\\Omega_1$, assumindo que alguns dos nascimentos são fictícios e assim temos uma forma de computar as probabilidades de cada resultado.\n",
        "\n",
        "Ter uma menina no primeiro nascimento (resultado $g$) corresponde ao evento $\\{Ggg, Ggb, Gbg, Gbb \\}$ em $\\Omega_1$, no qual a letra maiúscula representa o nascimento real e os demais são fictícios. Assim, $P(g) = \\frac{4}{8} = \\frac{1}{2}$.\n",
        "\n",
        "Ter um menino e então uma menina, no segundo e último nascimento, corresponde ao evento $\\{BGg, BGb\\}$. Logo, $P(bg)=\\frac{2}{8}=\\frac{1}{4}$.\n",
        "\n",
        "Ter uma menina apenas no último nascimento, após dois meninos corresponde ao evento com um resultado único $\\{BBG\\}$. Assim, $P(bbg)=\\frac{1}{8}$.\n",
        "\n",
        "Ter nenhuma menina, corresponde ao evento com um resultado único $\\{BBB\\}$. Assim, $P(bbb)=\\frac{1}{8}$.\n"
      ]
    },
    {
      "cell_type": "markdown",
      "metadata": {
        "id": "kaaOZnNslzPI"
      },
      "source": [
        "##E que entre a combinatória!"
      ]
    },
    {
      "cell_type": "markdown",
      "metadata": {
        "id": "riKi-f3ql4P-"
      },
      "source": [
        "Calcular a probabilidade de eventos enumerando o espaço amostral inteiro pode ser impossível ou impraticável. Ao invés disso, nós calculamos o tamanho do espaço amostral e do evento e assim, sendo os resultados equiprováveis, fazemos a divisão.\n",
        "\n",
        "Podemos fazer estas contas usando o [princípio fundamental da contagem, bem como os grupamentos mais conhecidos: arranjos, permutações e combinações](https://www.todamateria.com.br/analise-combinatoria/)."
      ]
    },
    {
      "cell_type": "markdown",
      "metadata": {
        "id": "w0Pkit9dovvw"
      },
      "source": [
        "### Exemplo (Mão de cartas - 1)\n",
        "Você saca sete cartas de um baralho padrão de cartas. Com que probabilidade você recebe as cartas de 2 à 8 de copas, <u>nesta ordem</u>?\n",
        "\n",
        "<img src=\"https://e7.pngegg.com/pngimages/699/246/png-clipart-playing-cards-set-blackjack-playing-card-card-game-suit-standard-52-card-deck-cards-game-angle-thumbnail.png\" />"
      ]
    },
    {
      "cell_type": "markdown",
      "metadata": {
        "id": "ajYgLaqypBY_"
      },
      "source": [
        "**Solução**: Existem várias formas de computar esta probabilidade, uma delas usa permutações.\n",
        "\n",
        "Disponha todas as 52 cartas em uma mesa, observe que existem $52!$ diferentes ordenações destas. Este é o total de resultados.\n",
        "\n",
        "O número de resultados no evento pode ser calculado considerando que as primeiras 7 cartas são as de 2 à 8 de copas, as demais 45 cartas podem ser organizadas em qualquer ordem. Assim, existem $45!$ ordenações deste tipo.\n",
        "\n",
        "Logo a probabilidade deste evento é de $\\frac{45!}{52!}$."
      ]
    },
    {
      "cell_type": "code",
      "execution_count": null,
      "metadata": {
        "colab": {
          "base_uri": "https://localhost:8080/"
        },
        "id": "GegHPWBhr4zZ",
        "outputId": "8636a485-fd9d-439c-8f9c-4d01b70fbbce"
      },
      "outputs": [
        {
          "name": "stdout",
          "output_type": "stream",
          "text": [
            "A probabilidade de retirar esta mão é 1.483076211580009e-12\n"
          ]
        }
      ],
      "source": [
        "import math\n",
        "p = math.factorial(45)/math.factorial(52)\n",
        "print(\"A probabilidade de retirar esta mão é \"+str(p))"
      ]
    },
    {
      "cell_type": "markdown",
      "metadata": {
        "id": "F3nxJuozrZN8"
      },
      "source": [
        "### Exemplo (Mão de cartas - 2)\n",
        "Você saca sete cartas de um baralho padrão de cartas. Com que probabilidade você recebe as cartas de 2 à 8 de copas, <u>em qualquer ordem</u>?"
      ]
    },
    {
      "cell_type": "markdown",
      "metadata": {
        "id": "nm93EXetrwiQ"
      },
      "source": [
        "**Solução**: Novamente usando as permutações, temos $52!$ permutações destas cartas, com $45!$ delas tendo as primeiras sete cartas de 2 à 8 de copas. Contudo, existem $7!$ maneiras de ordenar estas sete cartas. Assim o número de resultados no evento é $45! \\times 7!$, e a probabilidade é $\\frac{7!45!}{52!}$\n",
        "\n",
        "**Solução alternativa**: Usando combinações, sabemos que existem $52\\choose 7$ mãos de 7 cartas distintas, ignorando a ordem em que são obtidas. Somente uma destas contém 2-8 de copas, então a probabilidade é $\\frac{1}{52\\choose 7}$\n",
        "\n",
        "[Não lembra da representação $N \\choose k$? Clique aqui.](https://www.todamateria.com.br/binomio-de-newton/)"
      ]
    },
    {
      "cell_type": "markdown",
      "metadata": {
        "id": "9dnEI01pvSq9"
      },
      "source": [
        "### Exemplo (Mão de cartas - 3)\n",
        "Você saca sete cartas de um baralho padrão de cartas. Com que probabilidade você recebe as cartas de 2 à 8 de <u>qualquer naipe</u>? As cartas não precisam ter o mesmo naipe e podem vir em <u>em qualquer ordem</u>?"
      ]
    },
    {
      "cell_type": "markdown",
      "metadata": {
        "id": "RihDDCjMwSXD"
      },
      "source": [
        "**Solução**: Do exemplo anterior, sabemos que existem $52!$ ordenações deste baralho, logo 52! resultados no espaço amostral. Sabemos ainda que há 45! ordenações dado que as 7 primeiras cartas estão fixas em algum valor específico.\n",
        "\n",
        "O número de mãos possíveis com 7 cartas é obtido escolhendo um naipe para cada uma e contando o número de diferentes ordens. Isso dá $4^77!45!$ resultados no evento. Então a probabilidade é $\\frac{4^77!45!}{52!}$."
      ]
    },
    {
      "cell_type": "markdown",
      "metadata": {
        "id": "NaU97timkKAH"
      },
      "source": [
        "#2. Probabilidade (só que um pouco mais formal)"
      ]
    },
    {
      "cell_type": "markdown",
      "metadata": {
        "id": "SZAn3FfDqYQ7"
      },
      "source": [
        "## 2.1 Axiomas de Kolmogorov"
      ]
    },
    {
      "cell_type": "markdown",
      "metadata": {
        "id": "6Aaxn2RYqeYa"
      },
      "source": [
        "Em 1933, Kolmogorov publicou o livro abaixo que procurou desenvolver sua teoria axiomática da probabilidade. Sua inspiração foram as teorias axiomáticas da geometria e da álgebra.\n",
        "\n",
        "A teoria foi desenvolvida inteiramente a partir de três axiomas:\n",
        "\n",
        "1. A probabilidade de um evento $A$ é um número não negativo, $P(A) \\ge 0$\n",
        "2. A probabilidade de todos os resultados possíveis (espaço amostral) é a unidade, $P(\\Omega)=1$\n",
        "3. Se $A \\subset \\Omega$ e $B \\subset \\Omega$ são eventos *mutuamente exclusivos* ($A \\cap B = \\emptyset$), então $P(A \\cup B) = P(A) + P(B)$"
      ]
    },
    {
      "cell_type": "markdown",
      "metadata": {
        "id": "imKdCDhdnn8T"
      },
      "source": [
        "https://amzn.to/3ACjC2A\n",
        "\n",
        "<img src=\"https://images-na.ssl-images-amazon.com/images/I/41ZsZCUpCoL._SX331_BO1,204,203,200_.jpg\" width=\"20%\" height=\"20%\"/>"
      ]
    },
    {
      "cell_type": "markdown",
      "metadata": {
        "id": "1Qtud4Lcz8PR"
      },
      "source": [
        "## 2.2 Propriedades da probabilidade"
      ]
    },
    {
      "cell_type": "markdown",
      "metadata": {
        "id": "VRUfArN90Iz2"
      },
      "source": [
        "1. Probabilidade do evento nulo é $0$, $P(\\emptyset) = 0$\n",
        "\n",
        "2. A probabilidade do evento complementar de $A$ (designado por $A^c$) é $P(A^c)=1-P(A)$\n",
        "\n",
        "3. A probabilidade da união de dois eventos em geral é $P(A \\cup B) = P(A) + P(B) - P(A \\cap B)$\n",
        "\n",
        "4. A probabilidade da diferença entre dois eventos é $P(A-B)=P(A)-P(A \\cap B)$"
      ]
    },
    {
      "cell_type": "markdown",
      "metadata": {
        "id": "rcW0GTDjFiCt"
      },
      "source": [
        "### Provas"
      ]
    },
    {
      "cell_type": "markdown",
      "metadata": {
        "id": "r08eMeN5Fkg-"
      },
      "source": [
        "**Prova de 1**: Por definição, sabemos que $\\emptyset \\cap \\Omega = \\emptyset$, portanto usando o 3º axioma temos que $P(\\emptyset \\cup \\Omega) = P(\\Omega) + P(\\emptyset)$. Por definição, novamente, sabemos que $\\emptyset \\cup \\Omega = \\Omega$, assim temos que $P(\\Omega) = P(\\Omega) + P(\\emptyset)$. Usando o 2º axioma $1 = 1 + P(\\emptyset) \\Rightarrow P(\\emptyset) = 0$."
      ]
    },
    {
      "cell_type": "markdown",
      "metadata": {
        "id": "GBrUIud2Fz89"
      },
      "source": [
        "**Prova de 2**: Por definição, sabemos que $A \\cup A^c = \\Omega$. Por definição sabemos ainda que $A \\cap A^c = \\emptyset$, logo usando o  3º axioma temos que $P(A) + P(A^c) = P(A \\cup A^c) \\Rightarrow P(A) + P(A^c) = P(\\Omega)$ e usando o 2º axioma temos que $P(A) + P(A^c) = P(\\Omega) \\Rightarrow P(A^c) = 1 - P(A)$"
      ]
    },
    {
      "cell_type": "markdown",
      "metadata": {
        "id": "sej7vbTiF2bL"
      },
      "source": [
        "**Prova de 3**: Podemos escrever $A \\cup B$ como a união dos seguintes conjuntos disjuntos: $(A \\cap B^c) \\cup (B \\cap A^c) \\cup (A \\cap B)$. Também é verdade que $A$ pode ser escrito como a união dos seguintes conjuntos disjuntos $(A \\cap B) \\cup (A \\cap B^c)$, já que $\\{B,B^c\\}$ é uma partição de $\\Omega$. Isto implica que $P(A) = P(A \\cap B) + P(A \\cap B^c)$. Similarmente, podemos dizer que $P(B) = P(A \\cap B) + P(B \\cap A^c)$.\n",
        "\n",
        "Assim, pelo 3º axioma temos que $P(A \\cup B) = P(A \\cap B^c) + P(B \\cap A^c) + P(A \\cap B) \\Rightarrow P(A \\cup B) = P(A) - P(A \\cap B) + P(B) - P(A \\cap B) + P(A \\cap B)$. Logo, $ P(A \\cup B) = P(A) + P(B) - P(A \\cap B)$."
      ]
    },
    {
      "cell_type": "markdown",
      "metadata": {
        "id": "nrPSdLle0y-u"
      },
      "source": [
        "**Prova de 4**: Por definição, sabemos que $A = (A - B) \\cup (A \\cap B)$ e que $(A - B)$ e $(A \\cap B)$ são disjuntos, logo pelo 3º axioma temos que $P(A) = P(A - B) + P(A \\cap B) \\Rightarrow P(A - B) = P(A) - P(A \\cap B)$."
      ]
    },
    {
      "cell_type": "markdown",
      "metadata": {
        "id": "DgBEbxA5UHJt"
      },
      "source": [
        "## 2.3 Exemplos"
      ]
    },
    {
      "cell_type": "markdown",
      "metadata": {
        "id": "xmrq_JSGcn8-"
      },
      "source": [
        "### Exemplo (Aniversários)\n",
        "Qual a probabilidade de que em uma sala com 30 pessoas exista ao menos um par de pessoas que faz aniversário no mesmo dia?"
      ]
    },
    {
      "cell_type": "markdown",
      "metadata": {
        "id": "PMOIvPGtc9P8"
      },
      "source": [
        "**Solução**: Simplifiquemos e consideremos que o ano possui 365 dias (esqueçamos anos bissextos) e que os dias são equiprováveis (o que não é perfeito, porque existe mais nascimentos 9 meses depois de grandes festas, blackouts, disastres e outros), digamos ainda que os nascimentos das pessoas são independentes (não há gêmeos).\n",
        "\n",
        "A Propriedade 2 é útil neste caso, pois é mais fácil contar os casos em que ninguém compartilha aniversários. Chamaremos esta de $P(\\{\\text{todos aniversários diferentes}\\})$. Assim, seja $P(\\{\\text{aniversário compartilhado}\\})$ a probabilidade de ao menos dois dos 30 ocupantes da sala fazerem aniversário no mesmo dia. Podemos dizer que\n",
        "\n",
        "> $P(\\{\\text{aniversário compartilhado}\\}) = 1 - P(\\{\\text{todos aniversários diferentes}\\})$\n",
        "\n",
        "Cada resultado no espaço amostral de nosso experimento é uma lista de 30 dias (1 por pessoa), cada uma com a mesma probabilidade. Assim, a probabilidade do evento $\\{\\text{todos aniversários diferentes}\\}$ é dada por\n",
        "\n",
        "> $P(\\{\\text{todos aniversários diferentes}\\}) = \\frac{\\text{número de resultados no evento}}{\\text{número total de resultados no espaço amostral}}$\n",
        "\n",
        "O tamanho do espaço amostral pode ser computado fazendo $365^{30}$, que seria o número total de listas de 30 dias. O número de resultados no evento é número de listas de 30 dias, onde todos os dias são diferentes, i.e., temos 365 escolhas para a primeira pessoa, 364 pra o segundo, e assim sucessivamente. Então temos que\n",
        "\n",
        "> $P(\\{\\text{aniversário compartilhado}\\}) = 1 - \\frac{365 \\times 364 \\times 363 \\times \\ldots \\times 336}{365^{30}}$"
      ]
    },
    {
      "cell_type": "code",
      "execution_count": null,
      "metadata": {
        "colab": {
          "base_uri": "https://localhost:8080/"
        },
        "id": "xsBYbccXiPti",
        "outputId": "c1868907-d5cd-4cdf-ecf1-e0b204b91e8e"
      },
      "outputs": [
        {
          "name": "stdout",
          "output_type": "stream",
          "text": [
            "Probabilidade de todos diferentes é 0.2936837572807312\n",
            "Probabilidade de algum aniversário igual é 0.7063162427192688\n"
          ]
        }
      ],
      "source": [
        "import numpy as np\n",
        "# Por razoes de representação numérica, precisamos computar\n",
        "# 365/365 * 364/365 * ... * 336/365\n",
        "parcelas = np.array([i/365 for i in range(365,335,-1)])\n",
        "p_todos_diferentes = np.prod(parcelas)\n",
        "print(\"Probabilidade de todos diferentes é \"+str(p_todos_diferentes))\n",
        "print(\"Probabilidade de algum aniversário igual é \"+str(1 - p_todos_diferentes))"
      ]
    },
    {
      "cell_type": "markdown",
      "metadata": {
        "id": "ptSSyJn5rf6H"
      },
      "source": [
        "O que você tem a dizer sobre o valor da probabilidade? Ele é parecido com o que você achava?"
      ]
    },
    {
      "cell_type": "markdown",
      "metadata": {
        "id": "EW8d-eqIo91-"
      },
      "source": [
        "### Exemplo (Aniversários - generalizado)\n",
        "Qual a probabilidade de que em uma sala com $n$ pessoas exista um par de pessoas que faz aniversário no mesmo dia?"
      ]
    },
    {
      "cell_type": "markdown",
      "metadata": {
        "id": "MkB7q584pCtn"
      },
      "source": [
        "**Solução**: Generalização da questão anterior. Considerando as mesmas suposições anteriores, para $n > 365$, temos que $P(\\{\\text{aniversário compartilhado}\\}) = 1$, já que sempre teremos ao menos algum dia repetido, conforme o [Princípio da casa dos pombos](https://pt.wikipedia.org/wiki/Princ%C3%ADpio_da_casa_dos_pombos).\n",
        "\n",
        "Para $n \\leq 365$, teremos então que\n",
        "\n",
        "> $P(\\{\\text{aniversário compartilhado}\\}) = 1 - \\frac{365 \\times 364 \\times 363 \\times \\ldots \\times (365-n+1)}{365^{n}}$"
      ]
    },
    {
      "cell_type": "markdown",
      "metadata": {
        "id": "owrWBOGoqk3a"
      },
      "source": [
        "### Exemplo (Aniversários - aposta)\n",
        "Você aposta que alguém na sala de 30 pessoas faz aniversário no mesmo dia que você. Assumindo que você não conhece nada sobre as outras 29 pessoas, qual a probabilidade de você ganhar a aposta?"
      ]
    },
    {
      "cell_type": "markdown",
      "metadata": {
        "id": "eHmFGqWSrJjL"
      },
      "source": [
        "**Solução**: Se você se levantar na sala com 30 pessoas e apostar que duas delas fazem aniversário no mesmo dia, você tem uma grande chance de ganhar a aposta, mas esta pequena mudança no problema (nascer no mesmo dia que você) muda drasticamente suas chances.\n",
        "\n",
        "Primeiramente assuma as mesmas hipóteses anteriores (365 dias equiprováveis e nascimentos independentes). Agora, seguindo a ideia dos exemplos anteriores, temos que,\n",
        "\n",
        "> $P(\\{\\text{ganhar a aposta}\\}) = P(\\{\\text{alguém nascer com você}\\}) = 1 - P(\\{\\text{ninguém nascer com você}\\})$\n",
        "\n",
        "Considere então os aniversários das outras pessoas como uma lista de 29 dias do ano. Você perde se todo mundo fizer aniversário em um dia diferente do seu, portanto existem 364 dias possíveis para que os outros nasçam. O número de listas em que isso ocorre é $364^{29}$, cada uma com a mesma probabilidade de ocorrer. Assim,\n",
        "\n",
        "> $P(\\{\\text{ninguém nascer com você}\\}) = \\frac{364^{29}}{365^{29}}$"
      ]
    },
    {
      "cell_type": "code",
      "execution_count": null,
      "metadata": {
        "colab": {
          "base_uri": "https://localhost:8080/"
        },
        "id": "oxvILtgjuI6g",
        "outputId": "391165da-f052-49d0-dac0-98e226895701"
      },
      "outputs": [
        {
          "name": "stdout",
          "output_type": "stream",
          "text": [
            "Probabilidade de todos diferentes do seu é 0.9235215980695441\n",
            "Probabilidade de algum aniversário igual ao seu é 0.07647840193045585\n"
          ]
        }
      ],
      "source": [
        "import numpy as np\n",
        "p_todos_diferentes = (364/365)**(29)\n",
        "print(\"Probabilidade de todos diferentes do seu é \"+str(p_todos_diferentes))\n",
        "print(\"Probabilidade de algum aniversário igual ao seu é \"+str(1 - p_todos_diferentes))"
      ]
    },
    {
      "cell_type": "markdown",
      "metadata": {
        "id": "skt6lyZNueLM"
      },
      "source": [
        "Observe como a probabilidade é bem baixa agora."
      ]
    },
    {
      "cell_type": "markdown",
      "metadata": {
        "id": "RxhuzY99vbfM"
      },
      "source": [
        "### Exemplo (dados e múltiplos - 1)\n",
        "Você joga dois dados de 6 lados justos e soma os números. Qual a probabilidade de obter um número divisível por 2, mas não por 5?"
      ]
    },
    {
      "cell_type": "markdown",
      "metadata": {
        "id": "luxWTxgnvwJp"
      },
      "source": [
        "**Solução**: Uma forma de resolver este problema considerando a propriedade 4.\n",
        "\n",
        "Escreva $D_n$ como o evento em que o número que saiu é divisível por $n$. Sabemos que $P(D_2) = \\frac{1}{2}$ (contamos os casos). Agora, pela propriedade 4 sabemos que $P(D_2-D_5)=P(D_2)-P(D_2 \\cap D_5)$. Podemos estimar $P(D_2 \\cap D_5)$ observando que o único resultado divisível por 2 e por 5 ao mesmo tempo é 10, o qual ocorre com probabilidade de $\\frac{3}{36}$. Assim,\n",
        "\n",
        "$P(D_2-D_5)=P(D_2)-P(D_2 \\cap D_5) = \\frac{1}{2} - \\frac{3}{36} = \\frac{18}{36} - \\frac{3}{36} = \\frac{15}{36} = \\frac{5}{12}$\n",
        "\n",
        "\n",
        "<img src=\"https://qph.fs.quoracdn.net/main-qimg-b10163089cc1c69547e822f6d32acb58\" width=50% height=50% />"
      ]
    },
    {
      "cell_type": "markdown",
      "metadata": {
        "id": "jF7hVsAgxodl"
      },
      "source": [
        "### Exemplo (dados e múltiplos - 2)\n",
        "Você joga dois dados de 6 lados justos e soma os números. Qual a probabilidade de obter um número divisível por 2 ou por 5?"
      ]
    },
    {
      "cell_type": "markdown",
      "metadata": {
        "id": "fY1gbFjrxww4"
      },
      "source": [
        "**Solução**: Uma forma de resolver este problema considerando a propriedade 3.\n",
        "\n",
        "Escreva $D_n$ como o evento em que o número que saiu é divisível por $n$. Nós queremos computar $P(D_2 \\cup D_5)$. Nós sabemos que $P(D_2) = \\frac{1}{2}$ e $P(D_5) = \\frac{7}{36}$ (contamos os casos). Do exemplo anterior, sabemos que $P(D_2 \\cap D_5) = \\frac{3}{36}$. Assim,\n",
        "\n",
        "$P(D_2 \\cup D_5)= P(D_2) + P(D_5) - P(D_2 \\cap D_5) = \\frac{18}{36} + \\frac{7}{36} - \\frac{3}{36} = \\frac{18+7-3}{36} = \\frac{22}{36}$"
      ]
    },
    {
      "cell_type": "markdown",
      "metadata": {
        "id": "BF8s_mCZHZ_G"
      },
      "source": [
        "### Exemplo (problema de pascal-fermat)\n",
        "Qual a probabilidade de cada aposta?\n",
        "* <u>Aposta 1</u>: jogue um dado quatro vezes e obtenha um 6\n",
        "* <u>Aposta 2</u>: jogue dois dados vinte e quatro vezes e obtenha um duplo 6\n",
        "\n",
        "Então em qual aposta de Méré vence mais?"
      ]
    },
    {
      "cell_type": "markdown",
      "metadata": {
        "id": "WXQ3bplcHmZu"
      },
      "source": [
        "**Solução**: Na <u>Aposta 1</u> podemos obter um 6 na primeira tentativa, na segunda, na terceira ou na quarta tentativa. Assim temos que:\n",
        "\n",
        "> $P(\\{\\text{Algum 6 em quatro jogadas}\\}) = 1 - P(\\{\\text{Nenhum 6 em quatro jogadas}\\})$\n",
        "\n",
        "```\n",
        "└───6\n",
        "└───Não 6 (5/6)\n",
        "    └───6\n",
        "    └───Não 6 (5/6)\n",
        "        └───6\n",
        "        └───Não 6 (5/6)\n",
        "            └───6\n",
        "            └───Não 6 (5/6)\n",
        "```\n",
        "Logo temos que $P(\\{\\text{Algum 6 em quatro jogadas}\\}) = 1 - (\\frac{5}{6})^4$\n",
        "\n",
        "Na <u>Aposta 2</u> podemos obter 12 na primeira, na segunda, ..., ou na vigésima-quarta tentativa. Assim temos que:\n",
        "\n",
        "> $P(\\{\\text{Algum 12 em vinte e quatro jogadas}\\}) = 1 - P(\\{\\text{Nenhum 12 em vinte e quatro jogadas}\\})$\n",
        "\n",
        "```\n",
        "└───12\n",
        "└───Não 12 (35/36)\n",
        "    └───12\n",
        "    └───Não 12 (35/36)\n",
        "        └───12\n",
        "        └───Não 12 (35/6)\n",
        "            (...)\n",
        "                └───24\n",
        "                └───Não 24 (35/36)\n",
        "```\n",
        "Logo temos que $P(\\{\\text{Algum 12 em vinte e quatro jogadas}\\}) = 1 - (\\frac{35}{36})^{24}$"
      ]
    },
    {
      "cell_type": "code",
      "execution_count": null,
      "metadata": {
        "colab": {
          "base_uri": "https://localhost:8080/"
        },
        "id": "KVpv5YK8JXXX",
        "outputId": "c4d8f317-6b8f-4663-fad2-bb7968ad96ad"
      },
      "outputs": [
        {
          "name": "stdout",
          "output_type": "stream",
          "text": [
            "Probabilidade da Aposta 1 é 0.5177469135802468\n",
            "Probabilidade da Aposta 2 é 0.4914038761309034\n"
          ]
        }
      ],
      "source": [
        "p_aposta_1 = 1 - (5/6)**4\n",
        "p_aposta_2 = 1 - (35/36)**24\n",
        "\n",
        "print(\"Probabilidade de vencer na Aposta 1 é \"+str(p_aposta_1))\n",
        "print(\"Probabilidade de vencer na Aposta 2 é \"+str(p_aposta_2))"
      ]
    },
    {
      "cell_type": "code",
      "execution_count": null,
      "metadata": {
        "colab": {
          "base_uri": "https://localhost:8080/"
        },
        "id": "oR_HSujdK4Sb",
        "outputId": "d033bb64-69b4-47f5-9bb8-d749b5778b83"
      },
      "outputs": [
        {
          "name": "stdout",
          "output_type": "stream",
          "text": [
            "Probabilidade de vencer na Aposta 1 é 0.51859\n",
            "Probabilidade de vencer na Aposta 2 é 0.48955\n"
          ]
        }
      ],
      "source": [
        "import random\n",
        "def dado():\n",
        "  return random.choice([1,2,3,4,5,6])\n",
        "\n",
        "def doisDados():\n",
        "  return dado()+dado()\n",
        "\n",
        "def Aposta1():\n",
        "  return [dado() for i in range(4)]\n",
        "\n",
        "def Aposta2():\n",
        "  return [doisDados() for i in range(24)]\n",
        "\n",
        "n = 100000 #número de jogos\n",
        "vitorias_a1 = 0\n",
        "vitorias_a2 = 0\n",
        "\n",
        "for i in range(n):\n",
        "  vitorias_a1 += 1 if 6 in Aposta1() else 0\n",
        "  vitorias_a2 += 1 if 12 in Aposta2() else 0\n",
        "\n",
        "print(\"Probabilidade de vencer na Aposta 1 é \"+str(vitorias_a1/n))\n",
        "print(\"Probabilidade de vencer na Aposta 2 é \"+str(vitorias_a2/n))"
      ]
    },
    {
      "cell_type": "markdown",
      "metadata": {
        "id": "Wfbt5bXqkNEN"
      },
      "source": [
        "#3. Independência"
      ]
    },
    {
      "cell_type": "markdown",
      "metadata": {
        "id": "QNNUFXVqM1nw"
      },
      "source": [
        "Alguns resultados de um experimento não afetam outros resultados do mesmo experimento. Se eu jogar uma moeda duas vezes, tirar coroa na primeira jogada não me diz nada sobre tirar cara ou coroa na segunda. Nós dizemos que estes resultados ou eventos são independentes.\n",
        "\n",
        "Alguns eventos não são independentes. Considere os eventos $D_4$ e $D_2$ que vimos anteriormente. Tais eventos são interrelacionados. Se eu sei que $D_4$ aconteceu, então temos certeza que $D_2$ aconteceu também, porque $D_4$ implica $D_2$.\n",
        "\n",
        "Por outro lado, sabendo que $D_2$ ocorreu não garante que $D_4$ tenha ocorrido, mas saber que $D_2$ ocorreu aumenta as chances de que $D_4$ tenha ocorrido também. Ou seja, saber sobre a ocorrência de $D_2$ lhe dá uma pista sobre $D_4$\n",
        "\n",
        "Eventos independentes são tais que a ocorrência de um não dá informação sobre a ocorrência do outro. Por causa disso, a probabilidade de que eles ocorram juntos tem uma importante propriedade.\n",
        "\n",
        "> Dois eventos $E_1$ e $E_2$ são independentes SE E SOMENTE SE $P(E_1 \\cap E_2) = P(E_1)P(E_2)$.\n",
        "\n"
      ]
    },
    {
      "cell_type": "markdown",
      "metadata": {
        "id": "S58lHbXDXCnU"
      },
      "source": [
        "## Exemplo (Dados)\n",
        "Na jogada de dois dados justos e independentes, qual a probabilidade de obter 3 duas vezes?"
      ]
    },
    {
      "cell_type": "markdown",
      "metadata": {
        "id": "xjrGLDD0XTIn"
      },
      "source": [
        "**Solução**:\n",
        "\n",
        "$P(\\{\\text{3 no primeiro dado}\\} \\cap \\{\\text{3 no segundo dado}\\}) = P(\\{\\text{3 no primeiro dado}\\}) \\times P(\\{\\text{3 no segundo dado}\\}) \\Rightarrow$\n",
        "\n",
        "$\\Rightarrow P(\\{\\text{3 no primeiro dado}\\} \\cap \\{\\text{3 no segundo dado}\\}) = \\frac{1}{6} \\times \\frac{1}{6} = \\frac{1}{36}$"
      ]
    },
    {
      "cell_type": "markdown",
      "metadata": {
        "id": "6M0NIL_VYFuC"
      },
      "source": [
        "##Cuidados com Independência\n",
        "* Esta propriedade nem sempre é clara em um problema\n",
        " * É comum supormos independência (idealização).\n",
        "* Podemos usar esta propriedade para provar se os eventos são independentes ou não\n",
        "* Tenha cuidado com o fato de que pequenas mudanças no problema podem remover a independência"
      ]
    },
    {
      "cell_type": "markdown",
      "metadata": {
        "id": "9iJRR2omQ65K"
      },
      "source": [
        "### Exemplo (dados e múltiplos - 3)\n",
        "Mostre que $D_2$ e $D_4$ não são independentes."
      ]
    },
    {
      "cell_type": "markdown",
      "metadata": {
        "id": "liGJCN1bRHe4"
      },
      "source": [
        "**Solução**: Pela contagem dos resultados, temos que $P(D_2) = \\frac{18}{36}$, $P(D_4) = \\frac{9}{36}$ e $P(D_2 \\cap D_4) = \\frac{9}{36}$. Assim vemos que,\n",
        "\n",
        "$P(D_2 \\cap D_4) \\ne P(D_2)P(D_4) = \\frac{18 \\times 9}{36 \\times 36}$\n",
        "\n",
        "e portanto, $D_2$ e $D_4$ não são independentes."
      ]
    },
    {
      "cell_type": "markdown",
      "metadata": {
        "id": "ww4BHlfeSsTS"
      },
      "source": [
        "### Exemplo (cartas e independência)\n",
        "Suponha um baralho padrão de 52 cartas e puxamos uma carta. O evento $A$ é <u>a carta retirada é um naipe vermelho</u> e o evento $B$ é <u>a carta retirada é um 10</u>. (1): $A$ e $B$ são independentes?\n",
        "\n",
        "Agora deste baralho vamos <u>remover o 10 de copas</u>. Embaralhamos e retiramos uma carta. O evento $C$ é <u>a carta retirada do baralho modificado é um naipe vermelho</u> e $D$ <u>a carta retirada do baralho modificado é um 10</u>. (2) $C$ e $D$ são independentes?\n",
        "\n"
      ]
    },
    {
      "cell_type": "markdown",
      "metadata": {
        "id": "yvF5yVwHSrt8"
      },
      "source": [
        "**Solução**:\n",
        "\n",
        "(1) $P(A) = \\frac{26}{52} = \\frac{1}{2}$, $P(A) = \\frac{4}{52} = \\frac{1}{13}$ e $P(A \\cap B) = \\frac{2}{52}=\\frac{1}{26}$. Como $P(A) \\times P(B) = \\frac{1}{2} \\times \\frac{1}{13} = \\frac{1}{26} = P(A \\cap B)$, então $A$ e $B$ são independentes.\n",
        "\n",
        "(2) $C$ e $D$ não são independentes porque $P(C)=\\frac{25}{51}$, $P(D) = \\frac{3}{51}$ e $P(C \\cap D) = \\frac{1}{51} \\neq P(C) \\times P(D) = \\frac{75}{51^2}$.\n",
        "\n",
        "O racional por trás desta questão é que em (1), saber que é uma carta vermelha nao muda a chance de ser um 10, e vice-versa.\n",
        "\n",
        "Já em (2), a retirada de uma carta muda as chances de ocorrência, de modo que ao sabermos que $C$ ocorreu, temos um pouco mais de informação a respeito de $D$ (há apenas uma chance em 25 de ser um 10). Assim como, se soubermos que $D$ ocorreu temos um pouco mais de informação à respeito de $C$ (apenas 1 das 3 cartas é vermelha).\n",
        "\n",
        "Observe ainda que se tivessemos tirado outra carta em (2), p. ex.: um 5 de espadas, os eventos $C$ e $D$ deixariam de ser independentes também."
      ]
    },
    {
      "cell_type": "markdown",
      "metadata": {
        "id": "rgzaBlx-IWH3"
      },
      "source": []
    },
    {
      "cell_type": "markdown",
      "metadata": {
        "id": "4he2OI4nr3uu"
      },
      "source": [
        "### Probabilidade de muitos eventos independentes\n",
        "\n",
        "A probabilidade de muitos eventos independentes descresce muito rápido.\n",
        "\n",
        "Por exemplo, suponha o caso de transmissão de pacotes sobre um meio físico. Suponha que a taxa de erros de bit (*Bit Error Rate* - BER) seja de $10^{-4}$ (igual para todos os bits) e que os erros de bit sejam independentes. Suponha que o pacote tem 1500 bytes. Qual a probabilidade de que o pacote tenha erro?"
      ]
    },
    {
      "cell_type": "markdown",
      "metadata": {
        "id": "AjIjzbg0sdsP"
      },
      "source": [
        "Seja $E$ o evento em que um pacote de $n$ bits tem algum erro e $B_i$ o evento em que o bit $i$ contém erro. Sabemos que $P(E) = 1 - P(E^c)$ e que $P(E^c) = P(B_1^c \\cap B_2^c \\cap B_3^c \\cap \\ldots \\cap B_n^c)$.\n",
        "\n",
        "Como os erros de bit são independentes podemos dizer que\n",
        "\n",
        "$P(B_1^c \\cap B_2^c \\cap B_3^c \\cap \\ldots \\cap B_n^c) = P(B_1^c) P(B_2^c) P(B_3^c) \\ldots P(B_n^c) = (1-BER)(1-BER)\\ldots(1-BER)=(1-BER)^n$\n",
        "\n",
        "Assim, temos que $P(E) = 1 - (1-BER)^n$."
      ]
    },
    {
      "cell_type": "code",
      "execution_count": null,
      "metadata": {
        "colab": {
          "base_uri": "https://localhost:8080/"
        },
        "id": "uG0lNARquTX8",
        "outputId": "04e85a0c-9d7b-4dd8-e364-5987739de7c8"
      },
      "outputs": [
        {
          "name": "stdout",
          "output_type": "stream",
          "text": [
            "A probabilidade de não ter erros no pacote é 0.301176139596871\n",
            "A probabilidade de ter algum erro no pacote é 0.6988238604031289\n"
          ]
        }
      ],
      "source": [
        "BER = 10**(-4)\n",
        "n = 1500*8\n",
        "p_nao_erro = (1 - BER)**(n)\n",
        "p_erro = 1 - p_nao_erro\n",
        "\n",
        "print(\"A probabilidade de não ter erros no pacote é \"+str(p_nao_erro))\n",
        "print(\"A probabilidade de ter algum erro no pacote é \"+str(p_erro))"
      ]
    },
    {
      "cell_type": "markdown",
      "metadata": {
        "id": "ErvaH8NviOvx"
      },
      "source": [
        "### Falácia do apostador\n",
        "\n",
        "No lançamento de uma moeda um certo número de vezes, esperamos que metade dos lançamentos sejam cara e a outra metade seja coroa. Então, se virmos sair 4 caras após quatro lançamentos de uma moeda justa, então num quinto lançamento temos mais chance de sair coroa?\n",
        "\n"
      ]
    },
    {
      "cell_type": "markdown",
      "metadata": {
        "id": "B8SgGHO9ntj5"
      },
      "source": [
        "Na realidade não. A chance de vir qualquer uma das duas, continua igual, i.e., $0.5$.\n",
        "\n",
        "De modo geral, nós temos dificuldade de trabalhar com eventos independentes. O problema acima é um exemplo da **falácia do apostador**. Este erro diz que desvios no comportamento esperado para uma sequência de eventos independentes de um experimento aleatório implica uma maior chance de se obter, em seguida, desvios na direção oposta.\n",
        "\n",
        "De certa forma, a falácia do apostador consiste em achar que os resultados anteriores afetam o próximo resultado de eventos independentes. Para mais sobre isso ver [Wikipedia](https://en.wikipedia.org/wiki/Gambler%27s_fallacy) e o vídeo [A Falácia do Apostador](https://www.youtube.com/watch?v=aCF1Uw30uSE)."
      ]
    },
    {
      "cell_type": "markdown",
      "metadata": {
        "id": "BIc0u0krkQr7"
      },
      "source": [
        "#4. Probabilidade Condicional"
      ]
    },
    {
      "cell_type": "markdown",
      "metadata": {
        "id": "uzcoj4FL2U4l"
      },
      "source": [
        "Imagine dois eventos $A$ e $B$. Se eles forem independentes então já sabemos computar a probabilidade de que ocorrem juntos. Mas e se não forem independentes? Então conhecer que um dos eventos ocorreu afeta a probabilidade de que o outro ocorra."
      ]
    },
    {
      "cell_type": "markdown",
      "metadata": {
        "id": "6CcNIhC13Ed7"
      },
      "source": [
        "## Exemplo (Dados e eventos não independentes)\n",
        "Considere a jogada de dois dados de seis lados justos e some os resultados.\n",
        "\n",
        "1. Calcule a probabilidade de obter um número menor do que 6.\n",
        "2. Considere que o primeiro dado deu 3. Calcule a probabilidade da soma ser menor do que 6.\n",
        "3. Considere que o primeiro dado deu 4. Calcule a probabilidade da soma ser menor do que 6.\n",
        "4. Considere que o primeiro dado deu 1. Calcule a probabilidade da soma ser menor do que 6."
      ]
    },
    {
      "cell_type": "markdown",
      "metadata": {
        "id": "3BHM2kJT5F4n"
      },
      "source": [
        "**Solução**:\n",
        "\n",
        "1. A probabilidade é de $\\frac{10}{36}$.\n",
        "2. Se um dado deu 3, então o outro pode dar 1 ou 2. Portanto a probabilidade é $\\frac{1}{3}$.\n",
        "3. Se um dado deu 4, então o outro deve dar 1. Portanto a probabilidade é $\\frac{1}{6}$.\n",
        "4. Se um dado deu 1, então o outro pode dar 1, 2, 3 ou 4. Portanto a probabilidade é $\\frac{2}{3}$.\n",
        "\n",
        "<img src=\"https://qph.fs.quoracdn.net/main-qimg-b10163089cc1c69547e822f6d32acb58\" width=80% height=80% />"
      ]
    },
    {
      "cell_type": "markdown",
      "metadata": {
        "id": "4i0ZV0Pj5OGn"
      },
      "source": [
        "## Definição\n",
        "\n",
        "Conhecer o que acontece com um dos dados, tem impacto significativo na probabilidade do evento. A este conceito damos o nome de probabilidade condicional.\n",
        "\n",
        "Assim, considerando um espaço amostral e os eventos $A$ e $B$. A **Probabilidade Condicional** de $B$, condicionada por $A$, é a probabilidade de que $B$ ocorra <u>dado que</u> $A$ definitivamente ocorreu. Nós escrevemos como $P(B|A)$ e lemos probabilidade de $B$ dado $A$."
      ]
    },
    {
      "cell_type": "markdown",
      "metadata": {
        "id": "V1BDt4ep8Pmb"
      },
      "source": [
        "Para computar $P(B|A)$ usamos\n",
        "\n",
        "> $P(B|A) = \\frac{P(B \\cap A)}{P(A)}$\n",
        "\n",
        "Uma justificativa para esta definição é que a ocorrência de $A$, faz com que a ocorrência de $B$ dependa de $A \\cap B$. O denominador da probabilidade condicional é $P(A)$ porque $A$ é o conjunto de todos os possíveis resultados que sabemos que ocorreu."
      ]
    },
    {
      "cell_type": "markdown",
      "metadata": {
        "id": "6Zs7EI3B84eS"
      },
      "source": [
        "### Exemplo (Dados e eventos não independentes)\n",
        "Considere a jogada de dois dados de seis lados justos e some os resultados.\n",
        "\n",
        "1. Considere que o primeiro dado deu 3. Calcule a probabilidade da soma ser menor do que 6.\n",
        "2. Considere que o primeiro dado deu 4. Calcule a probabilidade da soma ser menor do que 6.\n",
        "3. Considere que o primeiro dado deu 1. Calcule a probabilidade da soma ser menor do que 6.\n",
        "\n",
        "Use a definição de probabilidade condicional para este cálculo."
      ]
    },
    {
      "cell_type": "markdown",
      "metadata": {
        "id": "YGQ70ckr87k2"
      },
      "source": [
        "**Solução**:\n",
        "1. $P(\\{\\text{soma menor que 6}\\}|\\{\\text{primeiro dado deu 3}\\}) = \\frac{P(\\{\\text{soma menor que 6}\\} \\cap \\{\\text{primeiro dado deu 3}\\})}{P(\\{\\text{primeiro dado deu 3}\\})} = \\frac{\\frac{2}{36}}{\\frac{1}{6}} = \\frac{1}{3}$\n",
        "2. $P(\\{\\text{soma menor que 6}\\}|\\{\\text{primeiro dado deu 4}\\}) = \\frac{P(\\{\\text{soma menor que 6}\\} \\cap \\{\\text{primeiro dado deu 4}\\})}{P(\\{\\text{primeiro dado deu 4}\\})} = \\frac{\\frac{1}{36}}{\\frac{1}{6}} = \\frac{1}{6}$\n",
        "3. $P(\\{\\text{soma menor que 6}\\}|\\{\\text{primeiro dado deu 1}\\}) = \\frac{P(\\{\\text{soma menor que 6}\\} \\cap \\{\\text{primeiro dado deu 1}\\})}{P(\\{\\text{primeiro dado deu 1}\\})} = \\frac{\\frac{4}{36}}{\\frac{1}{6}} = \\frac{2}{3}$"
      ]
    },
    {
      "cell_type": "markdown",
      "metadata": {
        "id": "ILXmlF0Q_LvP"
      },
      "source": [
        "### Exemplo (Fábricas de carros)\n",
        "\n",
        "Temos duas fábricas de carros, A e B. Cada ano, a fábrica A produz 1000 carros, dos quais 10 são vermelhos. A fábrica B produz 2 carros sendo ambos vermelhos. Todos os carros vão para um mesmo lote e são misturados. Eu compro um carro deste lote:\n",
        "\n",
        "1. Qual a probabilidade dele ser vermelho?\n",
        "2. Qual a probabilidade de que ele venha da fábrica B?\n",
        "3. Sabendo que o carro é vermelho, qual a probabilidade dele vir da fábrica B?"
      ]
    },
    {
      "cell_type": "markdown",
      "metadata": {
        "id": "5ES7gWPj_0mt"
      },
      "source": [
        "**Solução**:\n",
        "1. Seja $V$ o evento de que o carro é vermelho. São 12 carros vermelhos de 1002, logo $P(V)=\\frac{12}{1002}$\n",
        "2. Seja $B$ o evento de que o carro pertence á fábrica B. São 2 carros da fábrica B em 1002, logo $P(B)=\\frac{2}{1002}$\n",
        "3. Nós queremos computar $P(B|V)$. Assim\n",
        "\n",
        "$P(B|V) = \\frac{P(B \\cap V)}{P(V)} = \\frac{\\frac{2}{1002}}{\\frac{12}{1002}} = \\frac{1}{6}$"
      ]
    },
    {
      "cell_type": "markdown",
      "metadata": {
        "id": "3nmZdSbi-7ws"
      },
      "source": [
        "## Probabilidade condicional e independência\n",
        "\n",
        "Sabemos que dois eventos $A$ e $B$ são independentes se e somente se $P(A \\cap B) = P(A)P(B)$. Assim, pode-se verificar que\n",
        "\n",
        "$P(A|B) = \\frac{P(A \\cap B)}{P(B)} = \\frac{P(A)P(B)}{P(B)} = P(A)$\n",
        "\n",
        "Da mesma forma, $P(B|A) = P(B)$."
      ]
    },
    {
      "cell_type": "markdown",
      "metadata": {
        "id": "OnPf414DFoKj"
      },
      "source": [
        "## Cuidado com probabilidades condicionais\n",
        "\n",
        "É sábio suspeitar de suas intuições quando pensar sobre probabilidades condicionais. $P(A|B)$ não é o mesmo que $P(B|A)$.\n",
        "\n",
        "**Exemplo**: Se você compra um bilhete ($B$) a probabilidade de ganhar na loteria ($V$) é pequena. Portanto $P(V|B)$ é muito pequena. Mas $P(B|V)$ é 1, o vencedor sempre compra um bilhete."
      ]
    },
    {
      "cell_type": "markdown",
      "metadata": {
        "id": "Uh9DyZCM-vBM"
      },
      "source": [
        "#5. Probabilidade Total e Teorema de Bayes"
      ]
    },
    {
      "cell_type": "markdown",
      "metadata": {
        "id": "C-MK4K6sHoAJ"
      },
      "source": [
        "Note que $A \\cap B$ e $A \\cap B^c$ são mutuamente exclusivos e que $A = (A \\cap B) \\cup (A \\cap B^c)$. Portanto pelo axioma 3 $P(A) = P(A \\cap B) + P(A \\cap B^c)$. Pela definição de probabilidade condicional temos\n",
        "\n",
        "> $P(A) = P(A|B)P(B) + P(A|B^c)P(B^c)$"
      ]
    },
    {
      "cell_type": "markdown",
      "metadata": {
        "id": "oT8-6v3lNDMa"
      },
      "source": [
        "## Teorema da Probabilidade Total"
      ]
    },
    {
      "cell_type": "markdown",
      "metadata": {
        "id": "fzMKsFm3S2pZ"
      },
      "source": [
        "A partir disto, podemos generalizar este resultado para quando diferentes conjuntos disjuntos cobrem $A$. Este é chamado de **Teorema da Probabilidade Total**. Este teorema é útil nos casos em que a probabilidade de um evento $A$ não pode ser facilmente calculada, mas onde é fácil calcular $P(A/B_i)$ dado um conjunto de condições $B_i$.\n",
        "\n",
        "Assuma uma coleção de conjuntos disjuntos $B_i$ ($B_i \\cap B_j = \\emptyset$) que cobrem $A$ (i.e., $A \\cap (\\cup_iB_i) = A$). Sabe-se que $P(A) = \\sum_i P(A \\cap B_i)$, logo\n",
        "\n",
        "> $P(A) = \\sum_iP(A|B_i)P(B_i)$"
      ]
    },
    {
      "cell_type": "markdown",
      "metadata": {
        "id": "jKIMX_Zc5y17"
      },
      "source": [
        "### Exemplo (Peças com defeito)\n",
        "Uma determinada peça é manufaturada pelas\n",
        "fábricas 1, 2 e 3. Sabe-se que a fábrica 1 produz o dobro de peças da fábrica 2, e as fábricas 2 e 3 produzem o mesmo número de peças. Sabe-se também que 2% das peças produzidas por 1 são defeituosas, o mesmo percentual acontece para 2, enquanto que 4% das produzidas por 3 são defeituosas. Se todas as peças produzidas forem colocadas em um depósito e depois uma peça for extraída ao acaso, qual será a probabilidade de que essa peça seja defeituosa?"
      ]
    },
    {
      "cell_type": "markdown",
      "metadata": {
        "id": "Fga0oetr6IA2"
      },
      "source": [
        "**Solução**:\n",
        "\n",
        "Seja $F_i$ o evento que indica que a peça veio da Fábrica $i$ e seja $D$ o evento de que uma peça é defeituosa.\n",
        "\n",
        "Do problema sabemos que $P(D|F_1) = 0.02$, $P(D|F_2) = 0.02$ e $P(D|F_3) = 0.04$. Sabemos ainda que\n",
        "\n",
        "$\n",
        "\\begin{cases}\n",
        "      P(F_1) = 2P(F_2)\\\\\n",
        "      P(F_2) = P(F_3)\\\\\n",
        "      P(F_1) + P(F_2) + P(F_3) = 1\n",
        "\\end{cases}\\,\n",
        "$\n",
        "\n",
        "Resolvendo o sistema de equações, observamos que: $P(F_1)=\\frac{1}{2}$ e $P(F_2)=P(F_3)=\\frac{1}{4}$.\n",
        "\n",
        "Pelo teorema da probabilidade total sabemos que $P(D)$ é dada por\n",
        "\n",
        "$P(D) = P(D|F_1)P(F_1) + P(D|F_2)P(F_2) + P(D|F_3)P(F_3) \\Rightarrow \\\\ P(D) = (0.02)(\\frac{1}{2}) + (0.02)(\\frac{1}{4}) + (0.04)(\\frac{1}{4}) \\Rightarrow \\\\ P(D) = 0.025 = 2.5\\%$\n"
      ]
    },
    {
      "cell_type": "markdown",
      "metadata": {
        "id": "8oU5OsZdLixZ"
      },
      "source": [
        "## Teorema de Bayes"
      ]
    },
    {
      "cell_type": "markdown",
      "metadata": {
        "id": "wzCwagfqS0Ar"
      },
      "source": [
        "Como consequência direta do Teorema da probabilidade total, temos o **Teorema de Bayes**.\n",
        "\n",
        "Assuma uma coleção de conjuntos disjuntos $B_i$ ($B_i \\cap B_j = \\emptyset$) que cobrem $A$ (i.e., $A \\cap (\\cup_iB_i) = A$). Pela probabilidade condicional, sabe-se que $P(B_i|A) = \\frac{P(B_i \\cap A)}{P(A)}$.\n",
        "\n",
        "Contudo, como $P(A|B_i) = \\frac{P(A \\cap B_i)}{P(B_i)}$, o abaixo também é verdade\n",
        "\n",
        "$P(B_i|A) = \\frac{P(A|B_i)P(B_i)}{P(A)}$\n",
        "\n",
        "E pelo teorema da probabilidade total temos que\n",
        "\n",
        "> $P(B_i|A) = \\frac{P(A|B_i)P(B_i)}{\\sum_iP(A \\cap B_i)}$"
      ]
    },
    {
      "cell_type": "markdown",
      "metadata": {
        "id": "qpqK1wx0PGe0"
      },
      "source": [
        "A forma mais simples do Teorema de Bayes é dada quando consideramos apenas dois eventos $A$ e $B$\n",
        "\n",
        "$P(A|B) = \\frac{P(B|A)P(A)}{P(B)}$\n",
        "\n",
        "Neste caso, o teorema é apenas um reajuste da definição original de como a ordem de condicionamento entre os dois eventos pode ser reorganizada.\n",
        "\n",
        "Entretanto, esta equação tem um papel fundamental em probabilidade e estatística, ao ponto que cada termo nela tem uma interpretação específica.\n",
        "\n",
        "Considere <u>$B$ como dados coletados</u> em um certo experimento, ou seja é um evento que contém os resultados obtidos no experimento aleatório. O evento A é o <u>modelo usado para descrever</u> os dados, ou seja evento que contém os resultados **ideais** do experimento. Seguindo isto as quantidades presentes na equação são denominadas:\n",
        "\n",
        "* $P(B|A)$ é a verossimilhança. Ela representa a chance de obter os dados $B$ caso o modelo $A$ esteja correto.\n",
        "* $P(A)$ é a probabilidade a priori. Ela considera nosso grau de certeza de que o modelo está correto, antes de fazermos qualquer medida. Aqui temos um elemento de subjetividade.\n",
        "* $P(B)$ é a marginal. Esta é a probabilidade de obter o conjunto de dados B. Na prática esta probabilidade atua como uma constante de padronização dos dados.\n",
        "* $P(A|B)$ é a probabilidade a posteriori do modelo após os dados terem sido coletados. Este é o valor desejado no fim e é utilizado para descartar ou aceitar o modelo."
      ]
    },
    {
      "cell_type": "markdown",
      "metadata": {
        "id": "tafBQ4dQaSEj"
      },
      "source": [
        "### Exemplo (colégio)\n",
        "\n",
        "Em certo colégio, 5% dos homens e 2% das mulheres têm mais do que 1,80 m de altura. Por outro lado, 60% dos estudantes são homens. Se um estudante é selecionado aleatoriamente e tem mais de 1,80m de altura, qual a probabilidade de que seja mulher?"
      ]
    },
    {
      "cell_type": "markdown",
      "metadata": {
        "id": "Y8at_v3_acKy"
      },
      "source": [
        "**Solução**: Seja $M$ o evento de que o indivíduo é mulher e $A$ o evento de em que o indivíduo tem mais de 1,80 m de altura. Do problema nós sabemos que:\n",
        "* $P(A|M^c)=0.05$\n",
        "* $P(A|M)=0.02$\n",
        "* $P(M^c)=0.6$\n",
        "* $P(M)=0.4$\n",
        "\n",
        "Nós queremos determinar $P(M|A)$. Do Teorema de Bayes e do Teorema da Probabilidade Total nós sabemos que\n",
        "\n",
        "$P(M|A)= \\frac{P(A|M)P(M)}{P(A)} \\\\\n",
        "P(M|A) = \\frac{P(A|M)P(M)}{(P(A|M)P(M))+(P(A|M^c)P(M^c))}$"
      ]
    },
    {
      "cell_type": "code",
      "execution_count": null,
      "metadata": {
        "colab": {
          "base_uri": "https://localhost:8080/"
        },
        "id": "6CxpWc6QcBMC",
        "outputId": "da0cac06-9c3a-470e-a2d4-69d29b877059"
      },
      "outputs": [
        {
          "name": "stdout",
          "output_type": "stream",
          "text": [
            "A probabilidade de que o estudante seja mulher dado que tem mais de 1,80 m é 0.2105263157894737\n"
          ]
        }
      ],
      "source": [
        "PAMc = 0.05\n",
        "PAM = 0.02\n",
        "PMc = 0.6\n",
        "PM = 0.4\n",
        "PA = (PAM*PM)+(PAMc*PMc)\n",
        "PMA = (PAM*PM)/PA\n",
        "print(\"A probabilidade de que o estudante seja mulher dado que tem mais de 1,80 m é \"+str(PMA))"
      ]
    },
    {
      "cell_type": "markdown",
      "metadata": {
        "id": "9vDBFMsOS7vy"
      },
      "source": [
        "### Exemplo (Falso positivos)\n",
        "Suponha uma doença rara cuja ocorrência seja de 1 em cada 100.000 pessoas. Se você tem a doença, o teste diz que você tem a doença com probabilidade 0.95 (em 5% dos casos, o teste dirá que não tem a doença). Se você não tem a doença, o teste vai dar um falso positivo com probabilidade de 0.001. Se o teste diz que você está doente, qual a probabilidade de você ter a doença realmente?"
      ]
    },
    {
      "cell_type": "markdown",
      "metadata": {
        "id": "m1nIDuldUDLG"
      },
      "source": [
        "**Solução**: Seja $D$ o evento em que você está doente e $T$ o evento em que o teste diz que você está doente. Do problema nós sabemos que:\n",
        "* $P(D) = 10^{-5}$\n",
        "* $P(D^c) = 0.99999$\n",
        "* $P(T|D) = 0.95$\n",
        "* $P(T^c|D) = 0.05$\n",
        "* $P(T|D^c) = 0.001$\n",
        "\n",
        "Nós queremos determinar $P(D|T)$. Do Teorema de Bayes e do Teorema da Probabilidade Total nós sabemos que\n",
        "\n",
        "$P(D|T) = \\frac{P(T|D)P(D)}{P(T)} \\\\\n",
        "P(D|T) = \\frac{P(T|D)P(D)}{P(T|D)P(D)+P(T|D^c)P(D^c)}$"
      ]
    },
    {
      "cell_type": "code",
      "execution_count": null,
      "metadata": {
        "colab": {
          "base_uri": "https://localhost:8080/"
        },
        "id": "wKD3OR0GXJVa",
        "outputId": "88edb448-a70e-41ea-a7bf-9a01cc68d7d3"
      },
      "outputs": [
        {
          "name": "stdout",
          "output_type": "stream",
          "text": [
            "A probabilidade de ter a doença dado que o teste deu positivo é 0.009410692527910132\n"
          ]
        }
      ],
      "source": [
        "PD = 10**-5\n",
        "PDc = 1 - PD\n",
        "PTD = 0.95\n",
        "PTcD = 0.05\n",
        "PTDc = 0.001\n",
        "PT = (PTD*PD)+(PTDc*PDc)\n",
        "PDT = (PTD*PD)/(PT)\n",
        "print(\"A probabilidade de ter a doença dado que o teste deu positivo é \"+str(PDT))"
      ]
    },
    {
      "cell_type": "markdown",
      "metadata": {
        "id": "tUFmFw_-XJvH"
      },
      "source": [
        "Observe que a probabilidade é bem pequena e isso pode ser alarmante. Note o que está acontecendo aqui. Existem duas formas do teste dar positivo: ou você tem a doença ou o teste dá um falso positivo. Mas a doença é tão rara que é mais provável que você tenha obtido um falso positivo.\n",
        "\n",
        "Um novo teste ajudaria a eliminar a dúvida. Caso obtenha positivo neste novo teste, você pode calcular um novo valor para $P(D|T)$. Desta vez modifique a probabilidade a priori ($P(D)$) pelo valor de $P(D|T)$ obtido anteriormente. Isto representa a mudança da sua estimativa a partir do resultado do teste anterior."
      ]
    },
    {
      "cell_type": "markdown",
      "metadata": {
        "id": "Ea0th3z1j8s8"
      },
      "source": [
        "### Falácia do promotor\n",
        "\n",
        "Esta falácia consiste, essencialmente, em afirmar que, no caso onde temos apenas dois eventos $A$ e $B$, se $P(A|B)$ é pequeno $P(B|A)$ também é pequeno.\n"
      ]
    },
    {
      "cell_type": "markdown",
      "metadata": {
        "id": "4E9Je_yaFqR8"
      },
      "source": [
        "Considere um julgamento em que o promotor tem evidência $E$ contra o suspeito. Seja $I$ o evento em que o acusado é inocente. E imagine que $P(E|I)$ é pequena (probabilidade de ter uma evidência dado que é inocente). Com base nisso, o promotor argumenta, incorretamente, que o suspeito deve ser culpado.\n",
        "\n",
        "O ponto central aqui é que $P(E|I)$ é irrelevante e o promotor deveria, na realidade, se debruçar sobre $P(I|E)$, que é a probabilidade de ser inocente mesmo tendo evidências contra. Um valor baixo de $P(I|E)$ seria um argumento mais seguro da culpa do suspeito.\n",
        "\n",
        "Em outras palavras, $P(E|I)$ é a probabilidade de observar a evidência quando o acusado é inocente, ou seja, a chance de ocorrer um <u>falso positivo</u>. A identificação forense (tal qual um exame de DNA, por exemplo) fornece normalmente uma chance de falso positivo muito pequena (e.g., $10^{-4}$). Assim, o promotor conclui que $P(I|E)$ é comparativamente pequena. Mas pelo Teorema de Bayes, sabemos que elas podem ser muito diferentes:\n",
        "\n",
        "$P(I|E) = P(E|I)\\frac{P(I)}{P(E)}$\n",
        "\n",
        "Neste caso $P(I)$ é a chance do acusado ser inocente (independentemente da evidência) e $P(E)$ é chance da evidência ser observada (independentemente da inocência). Embora estes valores sejam difícies de estimar, matematicamente vê-se a diferença das probabilidades condicionais, se $P(I)$ for grande e $P(E)$ pequeno, $P(I|E)$ será muito maior do que $P(E|I)$\n",
        "\n",
        "Trate probabilidade condicionais com cuidado, este é um tópico que confunde muitas pessoas, mesmo pessoas com muita prática.\n",
        "\n",
        "[Veja aqui alguns exemplos de situações onde esta falácia foi usada](https://en.wikipedia.org/wiki/Prosecutor%27s_fallacy)"
      ]
    },
    {
      "cell_type": "markdown",
      "metadata": {
        "id": "-lbnuTUcMXjp"
      },
      "source": [
        "# **Lembre-se**\n",
        "* O espaço amostral de um experimento é obrigatório e não precisa ser finito.\n",
        "* A probabilidade de um resultado é a frequência deste resultado em um grande número de repetições deste experimento. A soma das probabilidades de todos os resultados deve ser 1.\n",
        "* Em alguns problemas, você pode computar probabilidades contando resultados.\n",
        "* Independência pode enganar nossa intuição.\n",
        "* $P(A|B) \\neq P(B|A)$"
      ]
    },
    {
      "cell_type": "markdown",
      "metadata": {
        "id": "qias4eaGzlwh"
      },
      "source": [
        "# **Bônus**: Um pouco (pouco mesmo) de história"
      ]
    },
    {
      "cell_type": "markdown",
      "metadata": {
        "id": "7z-ELX9ezoee"
      },
      "source": [
        "* *Liber de ludo aleae* (\"Livro dos jogos de azar\") de Girolamo Cardano (1501-1576), escrito por volta de 1564, publicado apenas em 1663 (bem após sua morte).\n",
        "* Blaise Pascal (1623 - 1662) e Pierre de Fermat (1607 - 1665)trocaram cartas em 1654 sobre jogos de azar, instigados pelo *Chevalier de Méré*, e sistematizaram a teoria da probabilidade\n",
        "* (**AVISO**: o problema é um pouco mais complexo do que este, mas pode ser didaticamente posto desta forma) Problema de *de Méré* consistia de duas apostas:\n",
        " * <u>Aposta 1</u>: jogue um dado quatro vezes e obter um 6\n",
        " * <u>Aposta 2</u>: jogue dois dados vinte e quatro vezes e obtenha um duplo 6\n",
        " * *de Méré* observou que ele vencia mais na aposta 1, do que na aposta 2, por quê?\n",
        "* [Leia as cartas em inglês aqui](https://www.york.ac.uk/depts/maths/histstat/pascal.pdf)\n",
        "* [The Unfinished Game: Pascal, Fermat, and the Seventeenth-Century Letter That Made the World Modern](https://amzn.to/3ATYzJ1)\n",
        "* Existem muitas outras contribuições, mas que nós omitimos aqui"
      ]
    },
    {
      "cell_type": "markdown",
      "metadata": {
        "id": "Z4zz5RC4uD-X"
      },
      "source": [
        "#**Bônus**: O que é probabilidade?"
      ]
    },
    {
      "cell_type": "markdown",
      "metadata": {
        "id": "inzr9iLGuHmm"
      },
      "source": [
        "A teoria de Kolmogorov, embora robusta, não contém uma especificação única de como uma probabilidade pode ser estimada para um evento. Na realidade, a própria definição de probabilidade tem múltiplas interpretações. Abaixo citamos três delas.\n",
        "\n",
        "* **Clássica**: veio com Laplace (início do séc. XIX) e define a probabilidade como a razão entre casos favoráveis e o total de casos possíveis;\n",
        "* **Frequentista ou Experimental**: introduzida por Venn (meados do séc. XIX) e define a probabilidade como uma medida de quão frequentemente um resultado particular ocorre. Para um resultado $a$, temos que $P(a)=\\lim_{n\\rightarrow \\infty} \\frac{\\#a}{n}$, onde $\\#a$ é o número de vezes que $a$ ocorre no conjunto de $n$ experimentos.\n",
        "* **Empírico ou Bayesiano**: introduzida no séc. XX, define a probabilidade como algo subjetivo que representa nossa crença na chance do evento vai ocorrer. Significa que assumimos premissas. Exemplo: joguei uma moeda, vi o resultado, qual a probabilidade de ser cara?\n",
        "\n",
        "[Leia sobre outras interpretações.](https://opessoa.fflch.usp.br/sites/opessoa.fflch.usp.br/files/FiFi-17-Cap14.pdf)"
      ]
    }
  ],
  "metadata": {
    "colab": {
      "collapsed_sections": [
        "vwnBF-yKkFld",
        "QgCxFWeHvycr",
        "m1T5Scn1Z7jf",
        "NaU97timkKAH",
        "rcW0GTDjFiCt",
        "xmrq_JSGcn8-",
        "EW8d-eqIo91-",
        "owrWBOGoqk3a",
        "RxhuzY99vbfM",
        "jF7hVsAgxodl",
        "BF8s_mCZHZ_G",
        "Wfbt5bXqkNEN",
        "S58lHbXDXCnU",
        "6M0NIL_VYFuC",
        "ww4BHlfeSsTS",
        "4he2OI4nr3uu",
        "ErvaH8NviOvx",
        "BIc0u0krkQr7",
        "6CcNIhC13Ed7",
        "4i0ZV0Pj5OGn",
        "6Zs7EI3B84eS",
        "ILXmlF0Q_LvP",
        "Uh9DyZCM-vBM",
        "oT8-6v3lNDMa",
        "jKIMX_Zc5y17",
        "8oU5OsZdLixZ",
        "tafBQ4dQaSEj",
        "9vDBFMsOS7vy",
        "Ea0th3z1j8s8",
        "qias4eaGzlwh",
        "Z4zz5RC4uD-X"
      ],
      "provenance": []
    },
    "kernelspec": {
      "display_name": "Python 3",
      "name": "python3"
    },
    "language_info": {
      "name": "python"
    }
  },
  "nbformat": 4,
  "nbformat_minor": 0
}
