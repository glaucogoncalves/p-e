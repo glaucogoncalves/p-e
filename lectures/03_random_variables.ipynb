{
  "nbformat": 4,
  "nbformat_minor": 0,
  "metadata": {
    "colab": {
      "provenance": [],
      "collapsed_sections": [
        "NXeA6_h-Atsd",
        "yYQDm19IBA1X",
        "oP454hzWOi5t",
        "igiYfXUMWHaU",
        "AKg1l7OBzhlo",
        "poz6BSZnFhcI",
        "fH2FYdgoOroY",
        "1kEi--wq5g_H",
        "5IONEQIrUFzG",
        "6ZkOeFjRez6A",
        "MT_yElIgeqvT",
        "LOjsMny37j3e",
        "Q8LZloXj7rJP",
        "ZseCTjtPUMnB",
        "BtVQ7NGIYMgB",
        "uXNp5HPtTfmU",
        "VMGkwlinacCM",
        "Oylf2piRpp00",
        "kzSCaIsdV4LW",
        "5Sy7JtrLX2Vk",
        "NDCa9AT7IBLl",
        "8Hivw36LHxEg",
        "SfEwSbA13Kq7"
      ]
    },
    "kernelspec": {
      "name": "python3",
      "display_name": "Python 3"
    },
    "language_info": {
      "name": "python"
    }
  },
  "cells": [
    {
      "cell_type": "markdown",
      "metadata": {
        "id": "NXeA6_h-Atsd"
      },
      "source": [
        "#Pergunta fundamental\n",
        "\n",
        "Quanto eu ganho escolhendo esta estratégia?"
      ]
    },
    {
      "cell_type": "markdown",
      "metadata": {
        "id": "yYQDm19IBA1X"
      },
      "source": [
        "#Exemplo-Base (Astra e seus jornais)\n",
        "Astra vende jornais todos os domingos na Praça da República. De modo a melhorar seu negócio, ele deve <u>decidir quantos jornais comprará do seu fornecedor para atender seus clientes dominicais</u>, de modo a **maximizar o seu lucro**. O <u>preço de venda de cada unidade do jornal</u> é de R\\$ 3,00.\n",
        "\n",
        "O negócio de Astra tem compromisso com o meio ambiente e, por isso, os jornais <u>não vendidos para os clientes são vendidos para a reciclagem</u> por R\\$ 1,00 a unidade. Os jornais são comprados em lotes de 50 unidades a R$ 2,50 a unidade.\n",
        "\n",
        "Astra sabe (não lhe pergunte como) que há uma chance em 10 de que no domingo apareçam 100 clientes, 1 em 4 de que apareçam 150 clientes etc, conforme a tabela abaixo.\n",
        "\n",
        "\\# jornais vendidos | Probabilidade\n",
        "------------|---------------\n",
        "100 | 0,10\n",
        "150 | 0,25\n",
        "200 | 0,35\n",
        "250 | 0,20\n",
        "300 | 0,10\n",
        "\n",
        "Vamos ajudar Astra e descobrir a quantidade de jornais que ele deveria comprar para maximizar seu lucro?"
      ]
    },
    {
      "cell_type": "markdown",
      "metadata": {
        "id": "oP454hzWOi5t"
      },
      "source": [
        "#1) Variável aleatória\n"
      ]
    },
    {
      "cell_type": "markdown",
      "metadata": {
        "id": "Ve1zAWqaV_yS"
      },
      "source": [
        "* Conceito fundamental na probabilidade que nos permite modelar experimentos aleatórios que produzem resultados numéricos\n",
        "  * E experimentos aleatórios que produzem resultados não-numéricos podem ser modelados, desde que transformando seus resultados em números\n",
        "  * A ideia é tão intuitiva que você pode usá-la mesmo sem saber sobre ela\n",
        "* Estas regras de associação que ligam os resultados de um experimento a números são variáveis aleatórias\n",
        "  * Distância percorrida por estudantes para chegar à UFPA\n",
        "  * Número de peças ruins num conjunto de peças produzidas\n",
        "\n",
        "> Uma variável aleatória é uma função que confere um número real a cada resultado no espaço amostral de um experimento aleatório\n",
        "\n",
        "* Variáveis aleatórias são variáveis numéricas às quais associamos probabilidades"
      ]
    },
    {
      "cell_type": "markdown",
      "metadata": {
        "id": "6q5bZP0pBgNv"
      },
      "source": [
        "##Distribuição de probabilidade"
      ]
    },
    {
      "cell_type": "markdown",
      "metadata": {
        "id": "V2jMwgpKBi5b"
      },
      "source": [
        "Uma **distribuição de probabilidades** associa uma probabilidade a cada resultado numérico de uma variável aleatória"
      ]
    },
    {
      "cell_type": "markdown",
      "metadata": {
        "id": "igiYfXUMWHaU"
      },
      "source": [
        "###Exemplo (Duas moedas justas)\n",
        "Consideremos o lançamento de uma moeda duas vezes. Sejam $T$ coroa e $H$ cara. Defina a variável aleatória $X$ como o número de caras obtidas nos dois lançamentos e mostre sua distribuição de probabilidade"
      ]
    },
    {
      "cell_type": "markdown",
      "metadata": {
        "id": "7KxIg0A5WcL4"
      },
      "source": [
        " Neste caso, podemos construir a variável aleatória $X$ representando-a por meio da seguinte tabela\n",
        "\n",
        " Resultados | X\n",
        "------------|---\n",
        "$HH$ | 2\n",
        "$HT$ | 1\n",
        "$TH$ | 1\n",
        "$TT$ | 0\n",
        "\n",
        "Podemos agora construir a distribuição de probabilidade de $X$. Como os resultados do experimento são equiprováveis, temos que $X=2$ ocorre com probabilidade $\\frac{1}{4}$. Enquanto que $X=1$ ocorre com probabilidade $\\frac{1}{2}$ (existem dois de quatro resultados do espaço amostral em que temos apenas uma cara). Por fim, $X=0$ ocorre com probabilidade $\\frac{1}{4}$.\n",
        "\n",
        "Podemos representar $P(X=x)$ como a probabilidade da variável aleatória $X$ assumir o valor $x$ e assim representamos a distribuição por meio da seguinte tabela:\n",
        "\n",
        " x     | 0 | 1 | 2 |\n",
        "-------|---|---|---|\n",
        "P(X=x) | $\\frac{1}{4}$ | $\\frac{1}{2}$ | $\\frac{1}{4}$"
      ]
    },
    {
      "cell_type": "markdown",
      "metadata": {
        "id": "AKg1l7OBzhlo"
      },
      "source": [
        "###Exemplo (Astra e seus jornais)\n",
        "\n",
        "A quantidade de clientes de Astra em um domingo é uma variável aleatória, mostre sua distribuição de probabilidade."
      ]
    },
    {
      "cell_type": "markdown",
      "metadata": {
        "id": "23dWDywE5aXZ"
      },
      "source": [
        "Definimos $J$ como a quantidade de jornais vendidos em um domingo por Astra. Assim, a distribuição de probabilidade é dada por:\n",
        "\n",
        "j      | 100 | 150 | 200 | 250 | 300 |\n",
        "-------|-----|-----|-----|-----|-----|\n",
        "P(J=j) | 0,1 | 0,25| 0,35| 0,2 | 0,1 |\n",
        "\n",
        "Observe que, neste caso, não conhecemos em detalhes o experimento aleatório sobre o qual $J$ está assentada e, na realidade, conhecer os detalhes de tal experimento é impraticável. Contudo, o conceito de variável aleatória nos permite analisar e trabalhar com a variável aleatória, mesmo quando o experimento subjacente não é completamente conhecido."
      ]
    },
    {
      "cell_type": "markdown",
      "metadata": {
        "id": "poz6BSZnFhcI"
      },
      "source": [
        "### Exemplo (Astra e seus jornais)\n",
        "A quantidade de clientes de Astra em um domingo é uma variável aleatória, mostre sua **distribuição de probabilidade acumulada**.\n",
        "\n"
      ]
    },
    {
      "cell_type": "markdown",
      "metadata": {
        "id": "PnM-PGVFFtUY"
      },
      "source": [
        "> A <u>distribuição de probabilidade acumulada</u>, ou apenas <u>distribuição acumulada</u>, de uma variável aleatória $X$ mede a probabilidade de que o valor assumido pela variável seja menor ou igual a um dado valor $x$. Ela é representada como $P(X \\leq x)$ e é calculada somando (acumulando) as probabilidades até o determinado $x$. Note que esta é uma função não-decrescente (monotonicamente crescente).\n",
        "\n",
        "No caso de Astra, para a variável $J$, que definimos como a quantidade de jornais vendidos em um domingo, temos que a distribuição acumulada de $J$ é dada por:\n",
        "\n",
        "j        | 100 | 150 | 200 | 250 | 300 |\n",
        "---------|-----|-----|-----|-----|-----|\n",
        "P(J ≤ j) | 0,1 | 0,35| 0,7 | 0,9 | 1,0 |\n",
        "\n",
        "São úteis em diversos casos na estatística, como para comparação de duas variáveis aleatórias, por exemplo, ou mesmo para entender melhor uma variável.\n",
        "\n",
        "No caso de Astra, observamos que há uma chance considerável de que ele tenha 200 ou menos clientes em um domingo (70\\%). Também observamos que a probabilidade de ter mais do que 200 clientes ($P(J \\gt 200)$) é não negligível. Esta pode ser obtida fazendo $1 - P(J \\leq 200) = 0.3$."
      ]
    },
    {
      "cell_type": "markdown",
      "metadata": {
        "id": "nqdzaYyyNH8U"
      },
      "source": [
        "## VA de VA"
      ]
    },
    {
      "cell_type": "markdown",
      "metadata": {
        "id": "6ktHLbPtOc6x"
      },
      "source": [
        "A ideia de uma VA é tão genérica, que é possível construir uma VA a partir de outra VA. Para isso, basta estabelecer uma função que mapeia os valores da VA original na nova VA."
      ]
    },
    {
      "cell_type": "markdown",
      "metadata": {
        "id": "fH2FYdgoOroY"
      },
      "source": [
        "### Exemplo (Astra e seus jornais)\n",
        "\n",
        "Para o caso de Astra construa uma nova VA que represente o lucro de Astra."
      ]
    },
    {
      "cell_type": "markdown",
      "metadata": {
        "id": "XxHnBY4tPGna"
      },
      "source": [
        "Seja $j$ um dos valores da VA que representa a quantidade de jornais vendidos em um domingo e $j_c$ a quantidade de jornais comprados por Astra, então, conforme dados do problema, o lucro de Astra é dado pela função abaixo:\n",
        "\n",
        "$L=3 \\times \\min(j,j_c)+1 \\times \\max(j_c-j,0)-2.5 \\times j_c$\n",
        "\n",
        "Assim, temos que se $Lucro$ é a VA que representa o lucro de Astra, então sua distribuição de probabilidade é dada por\n",
        "\n",
        "j        | L(100,$j_c$) | L(150,$j_c$) | L(200,$j_c$) | L(250,$j_c$) | L(300,$j_c$) |\n",
        "---------|-----|-----|-----|-----|-----|\n",
        "P(Lucro = L(j,$j_c$)) |  0,1 | 0,25| 0,35| 0,2 | 0,1 |\n",
        "\n",
        "Neste caso particular, observe que associado a cada valor da VA $J$ temos uma função que depende de $j_c$."
      ]
    },
    {
      "cell_type": "code",
      "metadata": {
        "colab": {
          "base_uri": "https://localhost:8080/",
          "height": 370
        },
        "id": "TIBHoIX_TphQ",
        "outputId": "68485108-1c10-4968-e132-404d89ae2b51"
      },
      "source": [
        "#Vamos entender a função L?\n",
        "import matplotlib.pyplot as plt\n",
        "\n",
        "jV = [100,150,200,250,300]\n",
        "\n",
        "for j_c in jV:\n",
        "  L = []\n",
        "  for j in jV:\n",
        "    L.append(3*min(j,j_c)+1*max(j_c-j,0)-2.5*j_c)\n",
        "  print(L)\n",
        "  plt.plot(jV,L,\"o-\",label=\"$j_c=$\"+str(j_c))\n",
        "  plt.xlabel(\"$j$\")\n",
        "  plt.ylabel(\"L(j,$j_c$)\")\n",
        "  plt.legend()"
      ],
      "execution_count": null,
      "outputs": [
        {
          "output_type": "stream",
          "name": "stdout",
          "text": [
            "[50.0, 50.0, 50.0, 50.0, 50.0]\n",
            "[-25.0, 75.0, 75.0, 75.0, 75.0]\n",
            "[-100.0, 0.0, 100.0, 100.0, 100.0]\n",
            "[-175.0, -75.0, 25.0, 125.0, 125.0]\n",
            "[-250.0, -150.0, -50.0, 50.0, 150.0]\n"
          ]
        },
        {
          "output_type": "display_data",
          "data": {
            "text/plain": [
              "<Figure size 432x288 with 1 Axes>"
            ],
            "image/png": "[encoded data removed]"
          },
          "metadata": {
            "needs_background": "light"
          }
        }
      ]
    },
    {
      "cell_type": "markdown",
      "metadata": {
        "id": "1kEi--wq5g_H"
      },
      "source": [
        "##Discreta ou contínua?"
      ]
    },
    {
      "cell_type": "markdown",
      "metadata": {
        "id": "gaTdQTnSFTsh"
      },
      "source": [
        "* Ao analisarmos fenômenos reais como experimentos aleatórios podemos olhar para quantidades que podem assumir qualquer valor em um intervalo de números reais.\n",
        " * Neste caso temos uma **variável aleatória contínua** e $X$ inclui todos os valores reais do intervalo, ou seja, a <u>imagem</u> da função é contínua sobre o intervalo.\n",
        " * Ex: corrente elétrica, comprimento, pressão, temperatura, tempo, tensão, massa, altura\n",
        "* Por outro lado, podemos analisar outros fenômenos reais olhando para quantidades que podem assumir apenas valores inteiros ou limitada apenas a pontos discretos de um intervalo real.\n",
        " * Neste caso temos uma **variável aleatória discreta** e $X$ inclui apenas alguns dos valores do intervalo real, ou seja, a <u>imagem</u> da função é discreta sobre o intervalo.\n",
        " * Ex: número de fraturas em uma superfície, proporção de partes defeituosas entre 1000 testadas, número de bits transmitidos que foram recebidos com erro\n",
        "* **Atenção**: Observe que, em qualquer um dos casos, o intervalo pode ser infinito.\n",
        "\n",
        "-----\n",
        "* A modelagem de um fenômeno como uma variável aleatória discreta ou contínua pode depender da conveniência.\n",
        "* Ex: Medidas de corrente lidas de um amperímetro com a precisão de um centésimo de ampére. As medidas possíveis são limitadas, i.e., a variável aleatória é discreta. No entanto, pode ser mais conveniente e simples considerar que as medidas da corrente sejam valores de uma variável aleatória contínua.\n",
        "\n",
        "-----\n",
        "* Em uma variável discreta a distribuição de probabilidade é chamada de função de massa de probabilidade (em inglês, *Probablity Mass Function* - PMF)\n",
        "* Em uma variável contínua a distribuição de probabilidade é chamada de função de densidade de probabilidade (em inglês, *Probablity Density Function* - PDF)\n",
        "* Tanto para VAs contínuas como para VAs discretas a distribuição de probabilidade acumulada é chamada função acumulada ou função distribuição acumulada (em inglês, *Cumulative Distribution Function* - CDF)"
      ]
    },
    {
      "cell_type": "markdown",
      "metadata": {
        "id": "5IONEQIrUFzG"
      },
      "source": [
        "#2) VAs contínuas"
      ]
    },
    {
      "cell_type": "markdown",
      "metadata": {
        "id": "236vvblKM646"
      },
      "source": [
        "* Nossos exemplos foram de VAs discretas que são bastante úteis em muitos casos, mas como lidar com variáveis contínuas?\n",
        "* Estas variáveis são definidas sobre intervalos com <u>precisão infinita</u> e <u>não podemos contá-las</u>. Por isso, não vamos especular sobre como é o espaço amostral e os eventos subjacentes, mas vamos olhar pelo lado de sua distribuição de probabilidade. Assim,\n",
        "\n",
        "> Dizemos que uma VA $X$ é contínua se existe uma função não-negativa $f$ ($f(x) \\geq 0, \\forall x \\in \\mathbb{R}$), chamada de função densidade de probabilidade de $X$, tal que $P(X \\leq a) = \\int_{-\\infty}^{a} f(x)dx$"
      ]
    },
    {
      "cell_type": "markdown",
      "metadata": {
        "id": "6ZkOeFjRez6A"
      },
      "source": [
        "## Propriedades\n",
        "\n",
        "1. A probabilidade de um valor particular $x$ é $P(X=x) = 0, \\forall x \\in \\mathbb{R}$\n",
        "2. A probabilidade de um intervalo $[a,b]$ é dada por $P(a \\leq X \\leq b) = \\int_{a}^{b} f(x) dx$\n",
        "3. A integral de $f$ ao longo de $\\mathbb{R}$ é $\\int_{-\\infty}^{\\infty} f(x)dx = 1$"
      ]
    },
    {
      "cell_type": "markdown",
      "metadata": {
        "id": "hhsSD6eDMrOT"
      },
      "source": [
        "* Portanto em VAs contínuas não estamos interessados na probabilidade de um valor específico, mas de intervalos de valores\n",
        "* De 1 e 2 vemos que: $P(a \\leq X \\leq b)= P(a \\leq X \\lt b)=P(a \\lt X \\leq b)=P(a \\lt X \\lt b)$\n",
        "* A probabilidade de um evento $X \\in [a,b]$ é igual à área sob o curva de $f(x)$ entre os pontos $a$ e $b$\n",
        "* Uma forma de pensar em $f(x)$ é como a generalização de um histograma (barras finíssimas e cuja soma de suas áreas é 1), em outras palavras, um histograma é uma aproximação de uma função de densidade."
      ]
    },
    {
      "cell_type": "code",
      "metadata": {
        "colab": {
          "base_uri": "https://localhost:8080/",
          "height": 227
        },
        "id": "0r76DCzbNRLQ",
        "outputId": "ee92cf42-de21-4c32-c522-53e0b9f28933"
      },
      "source": [
        "import scipy.stats as st\n",
        "import matplotlib.pyplot as plt\n",
        "import numpy as np\n",
        "\n",
        "plt.figure(figsize=(18,3))\n",
        "\n",
        "r = st.norm.rvs(size=10000)\n",
        "\n",
        "plt.subplot(1,3,1)\n",
        "plt.hist(r, bins=20, density=True, histtype='stepfilled', alpha=0.2)\n",
        "plt.xlim(-4,4)\n",
        "plt.ylim(0,0.5)\n",
        "plt.title(\"Histograma com 20 barras\")\n",
        "\n",
        "plt.subplot(1,3,2)\n",
        "x = np.linspace(-4,4, 100)\n",
        "plt.plot(x, st.norm.pdf(x), 'k-', lw=2, label='fdp')\n",
        "plt.hist(r, bins=1000, density=True, histtype='stepfilled', alpha=0.2)\n",
        "plt.xlim(-4,4)\n",
        "plt.ylim(0,0.5)\n",
        "plt.title(\"Histograma com 1000 barras, se aproximando da fdp\")\n",
        "\n",
        "plt.subplot(1,3,3)\n",
        "interval = np.linspace(-1.5,1, 100)\n",
        "plt.plot(x, st.norm.pdf(x), 'k-', lw=2, label='pdf')\n",
        "plt.plot([-1.5,-1.5],[0,st.norm.pdf(-1.5)],\"b--\")\n",
        "plt.plot([1,1],[0,st.norm.pdf(1)],\"b--\")\n",
        "plt.fill_between(interval,st.norm.pdf(interval),alpha=0.2)\n",
        "plt.text(-1.4,0.1,\"$P(-1.5 \\leq X \\leq 1)$\")\n",
        "plt.title(\"A probabilidade é área sob a curva da fdp\")\n",
        "\n",
        "plt.show()"
      ],
      "execution_count": null,
      "outputs": [
        {
          "output_type": "display_data",
          "data": {
            "image/png": "[encoded data removed]",
            "text/plain": [
              "<Figure size 1296x216 with 3 Axes>"
            ]
          },
          "metadata": {
            "needs_background": "light"
          }
        }
      ]
    },
    {
      "cell_type": "markdown",
      "metadata": {
        "id": "6_euNum6dsS_"
      },
      "source": [
        "* Dizer que a integral da função de densidade ao longo de $\\mathbb{R}$ dá 1, não significa dizer que os valores de $f(x)$ devem ser menores do que 1."
      ]
    },
    {
      "cell_type": "markdown",
      "metadata": {
        "id": "MT_yElIgeqvT"
      },
      "source": [
        "### Exemplo (Corrente Elétrica)\n",
        "\n",
        "Seja $X$ uma VA contínua da corrente em um fio de cobre, medida em miliampères. Consideremos que $X$ esteja definida no intervalo $[4.9; 5.1]$ miliampères e considere que a pdf de $X$ seja\n",
        "\n",
        "$f(x) =\n",
        "\\begin{cases}\n",
        "      5 & 4.9 \\leq x \\leq 5.1 \\\\\n",
        "      0 & \\text{outros casos}\n",
        "\\end{cases}\n",
        "$\n",
        "\n",
        "Qual é a probabilidade de uma medida da corrente ser menor que 5 miliampères?"
      ]
    },
    {
      "cell_type": "markdown",
      "metadata": {
        "id": "w9MTWTRegWoP"
      },
      "source": [
        "Queremos calcular $P(X \\lt 5)$, para isso fazemos\n",
        "\n",
        "$P(X \\lt 5) = \\int_{4.9}^{5} 5dx = 5x\\Biggr|_{4.9}^{5} = 25 - 24.5 = 0.5 $"
      ]
    },
    {
      "cell_type": "code",
      "metadata": {
        "colab": {
          "base_uri": "https://localhost:8080/",
          "height": 244
        },
        "id": "BuyHXKoohsdA",
        "outputId": "e2c1e9c4-70bc-49d5-f579-678625474756"
      },
      "source": [
        "import numpy as np\n",
        "\n",
        "#Integrando numericamente\n",
        "x = np.linspace(4.9, 5, num=1000)\n",
        "\n",
        "def f_(x):\n",
        "  return 5\n",
        "\n",
        "f = np.vectorize(f_)\n",
        "P = np.trapz(y=f(x),x=x)\n",
        "print(\"Probabilidade x > 5: \"+str(P))\n",
        "\n",
        "#Representando graficamente\n",
        "x = np.linspace(4.9, 5.1, num=1000)\n",
        "x2 = np.linspace(4.9, 5, num=1000)\n",
        "\n",
        "plt.figure(figsize=(9,3))\n",
        "plt.plot(x, f(x))\n",
        "plt.title(\"f(x)\")\n",
        "plt.xlim(4.8,5.2)\n",
        "plt.ylim(4.7,5.2)\n",
        "plt.fill_between(x2,f(x2),alpha=0.2)\n",
        "plt.plot([4.9,4.9],[4.7,5],\"k--\",alpha=0.3)\n",
        "plt.plot([5.1,5.1],[4.7,5],\"k--\",alpha=0.3)\n",
        "plt.plot([5,5],[4.7,5],\"k--\",alpha=0.3)\n",
        "plt.text(4.925,4.85,\"$P(X \\leq 5)$\")\n",
        "plt.show()"
      ],
      "execution_count": null,
      "outputs": [
        {
          "output_type": "stream",
          "name": "stdout",
          "text": [
            "Probabilidade x > 5: 0.4999999999999982\n"
          ]
        },
        {
          "output_type": "display_data",
          "data": {
            "image/png": "[encoded data removed]",
            "text/plain": [
              "<Figure size 648x216 with 1 Axes>"
            ]
          },
          "metadata": {
            "needs_background": "light"
          }
        }
      ]
    },
    {
      "cell_type": "markdown",
      "metadata": {
        "id": "LOjsMny37j3e"
      },
      "source": [
        "## Distribuição acumulada"
      ]
    },
    {
      "cell_type": "markdown",
      "metadata": {
        "id": "WpIj2bgnTZTN"
      },
      "source": [
        "* $F(x) = P(X \\leq x)$\n",
        "* Na própria definição de variável contínua temos a função de probabilidade acumulada (CDF) e sua relação com $f(x)$\n",
        "* A CDF é normalmente representada por $F(x)$ e $f(x)=\\frac{dF(x)}{dx}$\n",
        "* Observe ainda que\n",
        "\n",
        "$P(a \\leq X \\leq b) = \\int_{a}^{b} f(x)dx = \\int_{-\\infty}^{b} f(x)dx - \\int_{-\\infty}^{a} f(x)dx = P(X \\leq b) - P(X \\leq a) =  F(b) - F(a)$"
      ]
    },
    {
      "cell_type": "markdown",
      "metadata": {
        "id": "Q8LZloXj7rJP"
      },
      "source": [
        "###Exemplo (Corrente Elétrica)\n",
        "\n",
        "Considere o exemplo da Corrente Elétrica anterior e construa sua função de distribuição acumulada."
      ]
    },
    {
      "cell_type": "markdown",
      "metadata": {
        "id": "g9TK6jUi77ck"
      },
      "source": [
        "Para a medida de corrente no fio de cobre do exemplo anterior, a função de distribuição acumulada da variável aleatória $X$ consiste em três expressões.\n",
        "\n",
        "Se $x \\lt 4,9$, então $f(x) = 0$ e, consequentemente, $F(x) = 0$, para este caso.\n",
        "\n",
        "Se $4.9 \\leq x \\lt 5.1$, então $F(x) = \\int_{4.9}^{x}f(u)du=5u\\Biggr|_{4.9}^{x}=5x-24.5$\n",
        "\n",
        "Se $x \\geq 5.1$, então $F(x)=1$\n",
        "\n",
        "Assim temos que $F(x) =\n",
        "\\begin{cases}\n",
        "      0  & x \\lt 4.9 \\\\\n",
        "      5x - 24.5 & 4.9 \\leq x \\lt 5.1 \\\\\n",
        "      1 & x \\geq 5.1\n",
        "\\end{cases}\n",
        "$\n",
        "\n",
        "Para calcular $P(X \\lt 5)$, por exemplo, fazemos $F(5) = 0.5$."
      ]
    },
    {
      "cell_type": "code",
      "metadata": {
        "colab": {
          "base_uri": "https://localhost:8080/",
          "height": 296
        },
        "id": "OY4E4r7SBs2p",
        "outputId": "a0c147c3-46c7-4475-91f8-4149b629a167"
      },
      "source": [
        "x = np.linspace(4.8,5.2,100)\n",
        "\n",
        "def F_(x):\n",
        "  if (x < 4.9): return 0\n",
        "  elif (x >= 4.9 and x < 5.1):  return 5*x-24.5\n",
        "  elif (x >= 5.1): return 1\n",
        "\n",
        "F = np.vectorize(F_,otypes=[np.float])\n",
        "plt.plot(x,F(x))\n",
        "plt.plot(5,0.5,\"ro\",alpha=0.5)\n",
        "plt.plot([5,5],[0,0.5],\"r--\",alpha=0.3)\n",
        "plt.plot([4.8,5],[0.5,0.5],\"r--\",alpha=0.3)\n",
        "plt.text(5.01,0.5,\"$P(X < 5)$\")\n",
        "plt.xlabel(\"$x$\")\n",
        "plt.ylabel(\"$F(x)$\")"
      ],
      "execution_count": null,
      "outputs": [
        {
          "output_type": "execute_result",
          "data": {
            "text/plain": [
              "Text(0, 0.5, '$F(x)$')"
            ]
          },
          "metadata": {},
          "execution_count": 168
        },
        {
          "output_type": "display_data",
          "data": {
            "image/png": "[encoded data removed]",
            "text/plain": [
              "<Figure size 432x288 with 1 Axes>"
            ]
          },
          "metadata": {
            "needs_background": "light"
          }
        }
      ]
    },
    {
      "cell_type": "markdown",
      "metadata": {
        "id": "ZseCTjtPUMnB"
      },
      "source": [
        "#3) Esperança de uma VA"
      ]
    },
    {
      "cell_type": "markdown",
      "metadata": {
        "id": "zN04ZRLiReOO"
      },
      "source": [
        "* Comumente queremos descobrir o que acontece \"de modo geral\" em uma VA, em outras palavras, queremos descobrir o que acontece na média.\n",
        "* Para isso usamos a definição de esperança (ou valor esperado)\n",
        "* Para uma VA discreta $X$, a esperança é\n",
        "\n",
        "$E(X) = \\sum_{i=1}^{n} x_iP(X=x_i)$\n",
        "\n",
        "* Observe que a definição é uma média de cada valor ponderado pela probabilidade de sua ocorrência\n",
        "\n",
        "* Para uma VA contínua $X$, a esperança é\n",
        "\n",
        "$E(X)=\\int_{-\\infty}^{\\infty}xf(x)dx$\n",
        "\n",
        "* A média de uma VA é a esperança!"
      ]
    },
    {
      "cell_type": "markdown",
      "metadata": {
        "id": "BtVQ7NGIYMgB"
      },
      "source": [
        "## Exemplo (Duas moedas justas)\n",
        "\n",
        "Consideremos o lançamento de uma moeda duas vezes. Sejam  $X$ o número de caras obtidas nos dois lançamentos. Calcule a esperança de $X$."
      ]
    },
    {
      "cell_type": "markdown",
      "metadata": {
        "id": "kpuowQOsYawI"
      },
      "source": [
        "**Solução**: Já sabemos que a distribuição de probabilidade de $X$ é dada por\n",
        "\n",
        "x     | 0 | 1 | 2 |\n",
        "-------|---|---|---|\n",
        "P(X=x) | $\\frac{1}{4}$ | $\\frac{1}{2}$ | $\\frac{1}{4}$\n",
        "\n",
        "Assim podemos calcular a esperança como\n",
        "\n",
        "$E(X) = 0 \\times \\frac{1}{4} + 1 \\times \\frac{1}{2} + 2 \\times \\frac{1}{4} = 1$"
      ]
    },
    {
      "cell_type": "markdown",
      "metadata": {
        "id": "uXNp5HPtTfmU"
      },
      "source": [
        "## Exemplo (Corrente Elétrica)\n",
        "\n",
        "Seja $X$ uma VA contínua da corrente em um fio de cobre, medida em miliampères. Consideremos que $X$ esteja definida no intervalo $[4.9; 5.1]$ miliampères e considere que a pdf de $X$ seja\n",
        "\n",
        "$f(x) =\n",
        "\\begin{cases}\n",
        "      5 & 4.9 \\leq x \\leq 5.1 \\\\\n",
        "      0 & \\text{outros casos}\n",
        "\\end{cases}\n",
        "$\n",
        "\n",
        "Qual é a esperança de $X$?"
      ]
    },
    {
      "cell_type": "markdown",
      "metadata": {
        "id": "0cvY6-rdWzT1"
      },
      "source": [
        "**Solução**: Queremos calcular $E(X)$, e como $f(x)$ é diferente de zero no intervalo $4.9 \\leq x \\leq 5.1$,  fazemos\n",
        "\n",
        "$E(X) = \\int_{4.9}^{5.1} xf(x) \\\\\n",
        "= \\int_{4.9}^{5.1} x5 = \\frac{5}{2}x^2 \\Biggr|_{4.9}^{5.1} = \\frac{5}{2}(26.01 - 24.01) = 5$"
      ]
    },
    {
      "cell_type": "markdown",
      "metadata": {
        "id": "VMGkwlinacCM"
      },
      "source": [
        "## Exemplo (Astra e seus jornais)\n",
        "\n",
        "Uma forma de responder o problema de Astra é verificando a <u>esperança do número de pessoas</u> em um domingo."
      ]
    },
    {
      "cell_type": "markdown",
      "metadata": {
        "id": "bY8hjdy3bDis"
      },
      "source": [
        "Nós sabemos que a distribuição de $J$ é\n",
        "\n",
        "j      | 100 | 150 | 200 | 250 | 300 |\n",
        "-------|-----|-----|-----|-----|-----|\n",
        "P(J=j) | 0,1 | 0,25| 0,35| 0,2 | 0,1 |\n",
        "\n",
        "Assim, podemos calcular $E(J)$ como\n",
        "\n",
        "$E(J) = 100 \\times 0.1 + 150 \\times 0.25 + 200 \\times 0.35 + 250 \\times 0.2 + 300 \\times 0.1 = 197.5$\n",
        "\n",
        "Em primeiro lugar, observamos que a esperança de $J$ é um valor que não pertence ao conjunto de valores possíveis de $J$, tal como ocorre com a média de um conjunto de dados.\n",
        "\n",
        "Em segundo lugar, poderíamos concluir que Astra deveria comprar 200 jornais para vender aos domingos. Mas quanto seria o Lucro de Astra?\n",
        "\n",
        "Poderíamos dizer que o lucro esperado seria de R\\$ 90,00 ($L(E(J),200) = 3 \\times 197.5 + 1 \\times 2.5 - 2.5 \\times 200 = 90$)?\n",
        "\n",
        "Infelizmente não. Porque, embora a VA $Lucro$ seja uma função sobre a VA $J$, sabemos que $E(Lucro) \\neq L(E(J),200)$"
      ]
    },
    {
      "cell_type": "code",
      "source": [
        "100*0.1 + 150*0.25 + 200*0.35 + 250*0.2 + 300*"
      ],
      "metadata": {
        "id": "1naVC8F85obu"
      },
      "execution_count": null,
      "outputs": []
    },
    {
      "cell_type": "markdown",
      "metadata": {
        "id": "Oylf2piRpp00"
      },
      "source": [
        "## Exemplo (Astra e seus jornais)\n",
        "\n",
        "Outra forma de responder o problema de Astra é verificando a <u>esperança do lucro</u> aos domingos para cada escolha possível."
      ]
    },
    {
      "cell_type": "markdown",
      "metadata": {
        "id": "4rnZ1XkMqjuk"
      },
      "source": [
        "Nós já construímos a VA $Lucro$ que representa o lucro de Astra em um domingo de acordo com a quantidade de jornais comprados ($j_c$). A distribuição de probabilidade de $Lucro$ é dada por\n",
        "\n",
        "j        | L(100,$j_c$) | L(150,$j_c$) | L(200,$j_c$) | L(250,$j_c$) | L(300,$j_c$) |\n",
        "---------|-----|-----|-----|-----|-----|\n",
        "P(Lucro = L(j,$j_c$)) |  0,1 | 0,25| 0,35| 0,2 | 0,1 |\n",
        "\n",
        "Onde $L=3 \\times \\min(j,j_c)+1 \\times \\max(j_c-j,0)-2.5 \\times j_c$\n",
        "\n",
        "A $E(Lucro, j_c)$ é dada por\n",
        "\n",
        "$E(Lucro, j_c) = L(100,j_c) \\times 0.1 + L(150,j_c) \\times 0.25 + L(200,j_c) \\times 0.35 + L(250,j_c) \\times 0.2 + L(300,j_c) \\times 0.1$\n",
        "\n",
        "Portanto temos um problema de otimização como abaixo\n",
        "\n",
        "$ \\max E(Lucro) \\\\\n",
        "\\text{subject to}\\\\\n",
        "j_c \\in \\{100,150,200,250,300\\}$"
      ]
    },
    {
      "cell_type": "code",
      "metadata": {
        "colab": {
          "base_uri": "https://localhost:8080/"
        },
        "id": "RK9s_CSdqLyY",
        "outputId": "13073fb9-d836-46bb-8c20-c5bb9ce66a6f"
      },
      "source": [
        "def L(cli, j):\n",
        "    return 3*min(cli,j)+1*max(j-cli,0)-2.5*j\n",
        "\n",
        "def ELucro(jc):\n",
        "    return (0.1*L(100,jc[0])+0.25*L(150,jc[0])+0.35*L(200,jc[0])+0.2*L(250,jc[0])+0.1*L(300,jc[0]))\n",
        "\n",
        "#como jc é discreta e tem apenas um pequeno conjunto de valores\n",
        "#podemos enumerar E(Lucro) para cada valor de jc\n",
        "\n",
        "jc_v = [100,150,200,250,300]\n",
        "\n",
        "for jc in jc_v:\n",
        "  print(\"O lucro esperado comprando \"+str(jc)+\" jornais é de \"+str(ELucro([jc])))\n"
      ],
      "execution_count": null,
      "outputs": [
        {
          "output_type": "stream",
          "name": "stdout",
          "text": [
            "O lucro esperado comprando 100 jornais é de 50.0\n",
            "O lucro esperado comprando 150 jornais é de 65.0\n",
            "O lucro esperado comprando 200 jornais é de 55.0\n",
            "O lucro esperado comprando 250 jornais é de 10.0\n",
            "O lucro esperado comprando 300 jornais é de -55.0\n"
          ]
        }
      ]
    },
    {
      "cell_type": "markdown",
      "metadata": {
        "id": "kwxS1s2SzK7M"
      },
      "source": [
        "Assim, observamos que a melhor estratégia para Astra é adquirir 150 jornais, o que vai lhe dar um lucro esperado de R\\$ 65,00.\n",
        "\n",
        "\n",
        "Se relaxarmos o problema transformando-o em um problema contínuo (i.e., $100 \\leq j_c \\leq 300$), podemos usar a biblioteca scipy para confirmar o ponto ótimo."
      ]
    },
    {
      "cell_type": "code",
      "metadata": {
        "colab": {
          "base_uri": "https://localhost:8080/"
        },
        "id": "5WmaJh5o1KHz",
        "outputId": "378a03a8-5808-4bc3-ab9e-ef66ad55ff49"
      },
      "source": [
        "from scipy.optimize import minimize\n",
        "\n",
        "bnds = [(100,300)] #limites de otimização\n",
        "\n",
        "#não temos um método para maximizar, então escolhemos\n",
        "#minimizar -E(Lucro)\n",
        "def Dual(jc):\n",
        "    return -ELucro(jc)\n",
        "\n",
        "res = minimize(Dual,100,bounds=bnds)\n",
        "print(\"O maior lucro é de \"+str(-res.fun)+\n",
        "      \" obtido comprando \"+str(res.x[0])+\" jornais\")"
      ],
      "execution_count": null,
      "outputs": [
        {
          "output_type": "stream",
          "name": "stdout",
          "text": [
            "O maior lucro é de -64.99999999843317 obtido comprando 149.99999999477723 jornais\n"
          ]
        }
      ]
    },
    {
      "cell_type": "markdown",
      "metadata": {
        "id": "yI5NyqGp9J8j"
      },
      "source": [
        "## Propriedades da esperança"
      ]
    },
    {
      "cell_type": "markdown",
      "metadata": {
        "id": "y_gpG05g9M4z"
      },
      "source": [
        "Você pode ver a esperança como uma operação sobre uma VA. Uma propriedade importante desta operação é que ela é linear. Assim, considerando as VAs $X$ e $Y$ temos que:\n",
        "\n",
        "* o valor esperado de uma constante $k$ é $E(k) = k$\n",
        "* para qualquer constante $k$, $E(kX) = kE(X)$\n",
        "* para qualquer constante $c$, $E(X \\pm c) = E(X) \\pm c$"
      ]
    },
    {
      "cell_type": "markdown",
      "metadata": {
        "id": "kzSCaIsdV4LW"
      },
      "source": [
        "#4) Variância de uma VA"
      ]
    },
    {
      "cell_type": "markdown",
      "metadata": {
        "id": "Bscu0kM2vi2g"
      },
      "source": [
        "A variância de uma VA $X$ é dada por\n",
        "\n",
        "$var(X) = E((X-E(X))^2)$"
      ]
    },
    {
      "cell_type": "markdown",
      "metadata": {
        "id": "7BXrv0t9WMOp"
      },
      "source": [
        "**Propriedades da variância**\n",
        "\n",
        "1. $var(X) = E(X^2) - [E(X)]^2$\n",
        "2. Para qualquer constante $k$, $var(k)=0$\n",
        "3. $var(X) \\geq 0$\n",
        "4. $var(kX) = k^2var(X)$\n",
        "5. $var(X \\pm c) = var(X)$\n"
      ]
    },
    {
      "cell_type": "markdown",
      "metadata": {
        "id": "Qjw49RsnXUGW"
      },
      "source": [
        "**Desvio padrão**\n",
        "\n",
        "$std(X) = \\sigma_X = \\sqrt{var(X)}$"
      ]
    },
    {
      "cell_type": "markdown",
      "metadata": {
        "id": "5Sy7JtrLX2Vk"
      },
      "source": [
        "## Exemplo (Duas moedas justas)\n",
        "\n",
        "Calcule a variância da VA $X$, que equivale ao número de caras no experimento."
      ]
    },
    {
      "cell_type": "markdown",
      "metadata": {
        "id": "lT7Px-tJYTta"
      },
      "source": [
        "Neste experimento, já vimos que $E(X)=1$, resta então calcular $E(X^2)$. A VA $X^2$ pode assumir os valores 0 ($0^2$), 1 ($1^2$) e 4 ($2^2$), com a seguinte distribuição de probabilidade:\n",
        "\n",
        "x     | 0 | 1 | 4 |\n",
        "-------|---|---|---|\n",
        "P(X²=x) | $\\frac{1}{4}$ | $\\frac{1}{2}$ | $\\frac{1}{4}$\n",
        "\n",
        "Assim temos,\n",
        "\n",
        "$E(X^2)= 0 \\times \\frac{1}{4} + 1 \\times \\frac{1}{2} + 4 \\times \\frac{1}{4} = \\frac{3}{2}$\n",
        "\n",
        "Portanto,\n",
        "\n",
        "$var(X)=E(X^2) - E(X)^2 = \\frac{3}{2} - 1 = \\frac{1}{2}$"
      ]
    },
    {
      "cell_type": "markdown",
      "metadata": {
        "id": "NDCa9AT7IBLl"
      },
      "source": [
        "# Lembre-se\n",
        "\n",
        "A notação de probabilidade não é assim tão padronizada. Usualmente, $P$ indica probabilidades, $f$ funções de massa ou densidade e $F$ funções acumuladas. Ao estudar por materiais de diferentes autores avalie com cuidado o contexto para saber a que se referem os termos."
      ]
    },
    {
      "cell_type": "markdown",
      "metadata": {
        "id": "8Hivw36LHxEg"
      },
      "source": [
        "#**Bônus**: Prova das propriedades de VAs contínuas"
      ]
    },
    {
      "cell_type": "markdown",
      "metadata": {
        "id": "b88l_r9rH52-"
      },
      "source": [
        "[Verifique este material](https://www.math.arizona.edu/~tgk/464_f17/chap5.pdf)"
      ]
    },
    {
      "cell_type": "markdown",
      "metadata": {
        "id": "SfEwSbA13Kq7"
      },
      "source": [
        "#**Bônus**: Resolvendo o problema de Astra por simulação"
      ]
    },
    {
      "cell_type": "markdown",
      "metadata": {
        "id": "9QHOJgiq3gRl"
      },
      "source": [
        "Podemos resolver o problema de Astra simulando por meio da geração de números pseudo-aleatórios. Podemos ainda observar o desvio padrão de cada caso, como comparar as médias efetivamente?"
      ]
    },
    {
      "cell_type": "code",
      "metadata": {
        "colab": {
          "base_uri": "https://localhost:8080/"
        },
        "id": "bCvlwvQ_3nwL",
        "outputId": "3af115a1-e801-4fea-f034-9b86c210e51d"
      },
      "source": [
        "import random\n",
        "import numpy as np\n",
        "\n",
        "random.seed(1010110)\n",
        "\n",
        "#função que calcula o Lucro em um dia, dado um numero de clientes\n",
        "#e uma quantidade de jornais\n",
        "def L(cli, j):\n",
        "    return 3*min(cli,j)+1*max(j-cli,0)-2.5*j\n",
        "\n",
        "#função que gera uma amostra do número de clientes em um domingo\n",
        "#n é o tamanho da amostra\n",
        "def clientes(n):\n",
        "    \"\"\"\n",
        "        X    100 150  200  250 300\n",
        "        P(X) 0.1 0.25 0.35 0.2 0.1\n",
        "        F(X) 0.1 0.35 0.7  0.9 1.0\n",
        "    \"\"\"\n",
        "    D = []\n",
        "    for i in range(n):\n",
        "        u = random.random()\n",
        "        if u < 0.1:\n",
        "            D.append(100)\n",
        "        elif u >= 0.1 and u < 0.35:\n",
        "            D.append(150)\n",
        "        elif u >= 0.35 and u < 0.7:\n",
        "            D.append(200)\n",
        "        elif u >= 0.7 and u < 0.9:\n",
        "            D.append(250)\n",
        "        else:\n",
        "            D.append(300)\n",
        "    return D\n",
        "\n",
        "#calcula o E(Lucro) para cada dia simulado, dada uma quantidade\n",
        "#de jornais compradas (jc)\n",
        "def estimarLucro(cli, jc):\n",
        "    estLucro= []\n",
        "    for c in cli:\n",
        "        estLucro.append(L(c,jc))\n",
        "    return np.mean(estLucro),np.std(estLucro)\n",
        "\n",
        "def estimador():\n",
        "    print(\"#jc\\tE(Lucro)\\tStd(Lucro)\")\n",
        "    Ndomingos = 10000\n",
        "    cli = clientes(Ndomingos)\n",
        "    for jc in range(100,301,50):\n",
        "        m,s = estimarLucro(cli,jc)\n",
        "        print(jc,\"\\t\",round(m,1),\"\\t\\t\",round(s,2))\n",
        "\n",
        "estimador()"
      ],
      "execution_count": null,
      "outputs": [
        {
          "output_type": "stream",
          "name": "stdout",
          "text": [
            "#jc\tE(Lucro)\tStd(Lucro)\n",
            "100 \t 50.0 \t\t 0.0\n",
            "150 \t 65.0 \t\t 30.05\n",
            "200 \t 54.5 \t\t 66.99\n",
            "250 \t 9.5 \t\t 96.47\n",
            "300 \t -55.7 \t\t 111.69\n"
          ]
        }
      ]
    }
  ]
}