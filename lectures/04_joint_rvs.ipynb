{
  "cells": [
    {
      "cell_type": "markdown",
      "metadata": {
        "id": "NXeA6_h-Atsd"
      },
      "source": [
        "#Pergunta fundamental\n",
        "\n",
        "<a target=\"_blank\" href=\"https://colab.research.google.com/github/glaucogoncalves/p-e/blob/main/lectures/04-joint_rvs.ipynb\"> <img src=\"https://colab.research.google.com/assets/colab-badge.svg\" alt=\"Open In Colab\"/> </a>\n",
        "\n",
        "É possível analisar VAs em mais de uma dimensão?\n",
        "\n",
        "<img src=\"https://upload.wikimedia.org/wikipedia/commons/thumb/8/8e/MultivariateNormal.png/800px-MultivariateNormal.png\" width=400/>"
      ]
    },
    {
      "cell_type": "markdown",
      "metadata": {
        "id": "ZSUsLHpd_mpR"
      },
      "source": [
        "#Exemplo-Base (Astra e seus jornais)\n",
        "\n",
        "Para aumentar seu lucro na venda de jornais, Astra criou uma máquina automática de venda de jornais, que fez muito sucesso em Belém. Uma de suas máquinas, instalada no Shopping Grão-Pará, quebrou e o contrato com a administração do shopping exige que seja reparada em até 10 dias.\n",
        "\n",
        "Ao receber a máquina quebrada, Astra identifica que três componentes A, B e C estão quebrados e que será preciso pedi-los a seus fornecedores, pois não os têm em estoque. O componente A demora de 2 a 5 dias para chegar, o componente B demora de 2 a 6 dias e o componente C demora de 4 a 7 dias. De posse dos três componentes, Astra inicia a montagem no dia seguinte ao da entrega do último componente a chegar e sua experiência diz que ele leva de 2 a 4 dias para finalizar a montagem e fazer a entrega.\n",
        "\n",
        "Astra fez o pedido de todos os componentes no mesmo dia. Sabendo disso, calcule a probabilidade de Astra não honrar o contrato."
      ]
    },
    {
      "cell_type": "markdown",
      "metadata": {
        "id": "7iCYWWjBUDJW"
      },
      "source": [
        "#1) Distribuição conjunta"
      ]
    },
    {
      "cell_type": "markdown",
      "metadata": {
        "id": "ein__ltaP7Pr"
      },
      "source": [
        "* Os conceitos de probabilidade podem ser aplicados à VAs\n",
        "* A distribuição conjunta de probabilidade de duas ou mais VAs associa probabilidades a cada um dos resultados destas VAs\n",
        "* Esta associação nos permite criar VAs n-dimensionais e definir **vetores aleatórios**\n",
        "*[Veja aqui um material resumido sobre distribuições conjuntas (em inglês)](https://www.probabilitycourse.com/chapter5/5_1_0_joint_distributions.php)"
      ]
    },
    {
      "cell_type": "markdown",
      "metadata": {
        "id": "NbpIYuPMRypF"
      },
      "source": [
        "## Caso Discreto\n",
        "\n",
        "> Considere duas VAs discretas $X$ e $Y$. A probabilidade que $X$ tenha valor $x$ e $Y$ tenha valor $y$ é $P(\\{X=x\\} \\cap \\{Y=y\\})$, também escrita como $P(X=x,Y=y)$ ou $P(x,y)$. Esta é a **distribuição de probabilidade conjunta** das duas VAs.\n",
        "\n",
        "Pense na distribuição como uma tabela de probabilidades com uma entrada para cada par $(x,y)$ possível\n"
      ]
    },
    {
      "cell_type": "markdown",
      "metadata": {
        "id": "J1enMa2uTlRZ"
      },
      "source": [
        "* Podemos definir a <u>probabilidade condicional</u> de duas VAs, como fizemos para o caso básico de probabilidade\n",
        "  * $P(X=x|Y=y) = \\frac{P(X=x,Y=y)}{P(Y=y)}$\n",
        "* Podemos ainda reaplicar o Teorema de Bayes com VAs\n",
        "\n",
        "$P(X=x|Y=y) = \\frac{P(Y=y|X=x)P(X=x)}{P(Y=y)}$\n",
        "\n",
        "* Propriedades\n",
        "1. Observe ainda que $X$ não pode assumir dois valores ao mesmo tempo e então $\\sum_{x} P(X = x) = 1$\n",
        "2. Para qualquer $y$, temos ainda $\\sum_{x} P(x|y) = 1$\n",
        "3. **Probabilidade marginal de** $X$: Se $P(x,y)$ é a probabilidade conjunta de $X$ e $Y$, então $P(X=x) = \\sum_{y} P(x,y)$"
      ]
    },
    {
      "cell_type": "markdown",
      "metadata": {
        "id": "FXrJwR6dXWhh"
      },
      "source": [
        "###Exemplo (bolas em urnas)\n",
        "\n",
        "Suponha que uma urna contém três bolas numeradas 1, 2, 3. Retiramos duas delas, ao acaso e <u>com reposição</u>. Seja $X$ o número da primeira e $Y$ o número da segunda bola retirada. Qual a distribuição conjunta de $X$ e $Y$?"
      ]
    },
    {
      "cell_type": "markdown",
      "metadata": {
        "id": "mrvwhfVPXjkd"
      },
      "source": [
        "Neste caso temos:\n",
        "\n",
        "(x,y)| P(x,y)\n",
        "-----|-----------\n",
        "(1,1)| $\\frac{1}{9}$\n",
        "(1,2)| $\\frac{1}{9}$\n",
        "(1,3)| $\\frac{1}{9}$\n",
        "(2,1)| $\\frac{1}{9}$\n",
        "(2,2)| $\\frac{1}{9}$\n",
        "(2,3)| $\\frac{1}{9}$\n",
        "(3,1)| $\\frac{1}{9}$\n",
        "(3,2)| $\\frac{1}{9}$\n",
        "(3,3)| $\\frac{1}{9}$\n",
        "\n",
        "Podemos representar também por:\n",
        "\n",
        "X\\Y| 1  | 2  | 3  | P(x)|\n",
        "----|----|----|----|-----|\n",
        "**1**   |$\\frac{1}{9}$|$\\frac{1}{9}$|$\\frac{1}{9}$|$\\frac{3}{9}$|\n",
        "**2**   |$\\frac{1}{9}$|$\\frac{1}{9}$|$\\frac{1}{9}$|$\\frac{3}{9}$|\n",
        "**3**   |$\\frac{1}{9}$|$\\frac{1}{9}$|$\\frac{1}{9}$|$\\frac{3}{9}$|\n",
        "**P(y)**|$\\frac{3}{9}$|$\\frac{3}{9}$|$\\frac{3}{9}$||\n",
        "\n",
        "Nessa tabela obtemos também as distribuições marginais de $X$ e de $Y$,  na última coluna e na última linha da tabela, respectivamente.\n",
        "\n",
        "Observe que $P(X=1|Y=2) = \\frac{P(X=1 \\cap Y=2)}{P(Y=2)} = \\frac{\\frac{1}{9}}{\\frac{3}{9}} = \\frac{1}{3}$"
      ]
    },
    {
      "cell_type": "markdown",
      "metadata": {
        "id": "FFGZtZaqeWei"
      },
      "source": [
        "###Independência\n",
        "\n",
        "> As VAs $X$ e $Y$ são independentes se e somente se, para **todo par** $(x,y)$, temos que $P(X=x, Y=y)=P(X=x)P(Y=y)$."
      ]
    },
    {
      "cell_type": "markdown",
      "metadata": {
        "id": "BAgcH7JnkSs1"
      },
      "source": [
        "###Exemplo (bolas em urnas)\n",
        "\n",
        "Suponha que uma urna contém três bolas numeradas 1, 2, 3. Retiramos duas delas, ao acaso e <u>sem reposição</u>. Seja  X  o número da primeira e  Y  o número da segunda bola retirada. Qual a distribuição conjunta de  X  e  Y ?"
      ]
    },
    {
      "cell_type": "markdown",
      "metadata": {
        "id": "XaXrHP81kgae"
      },
      "source": [
        "A tabela abaixo mostra a distribuição.\n",
        "  \n",
        "X\\Y| 1 |  2 | 3 | P(X=x) |\n",
        "---|---|----|---|--------|\n",
        "**1** | 0 | $\\frac{1}{6}$ | $\\frac{1}{6}$ | $\\frac{1}{3}$ |\n",
        "**2** | $\\frac{1}{6}$ | 0 | $\\frac{1}{6}$ | $\\frac{1}{3}$ |\n",
        "**3** | $\\frac{1}{6}$ | $\\frac{1}{6}$ | 0 | $\\frac{1}{3}$ |\n",
        "**P(Y=y)** | $\\frac{1}{3}$ | $\\frac{1}{3}$ | $\\frac{1}{3}$ | 1 |\n",
        "\n",
        "Observe que $P(Y=1)P(X=2)=\\frac{1}{9} \\neq P(X=1,Y=2) = \\frac{1}{6}$ e portanto as variáveis são dependentes."
      ]
    },
    {
      "cell_type": "markdown",
      "metadata": {
        "id": "3ERx2rXxrkqY"
      },
      "source": [
        "### Função acumulada conjunta\n",
        "A **função de distribuição acumulada conjunta** de duas VAs $X$ e $Y$ é definida como $F_{XY}(x,y) = P(X \\leq x, Y \\leq y) = \\sum\\limits_{x_i \\leq x}\\sum\\limits_{y_i \\leq y} P(x_i,y_i)$.\n",
        "\n",
        "Observe que a CDF conjunta pode assumir valores no seguinte intervalo $0 \\leq F_{XY}(x,y) \\leq 1$."
      ]
    },
    {
      "cell_type": "markdown",
      "metadata": {
        "id": "w0kX8mge_1-z"
      },
      "source": [
        "#### Exemplo (bolas em urnas)\n",
        "\n",
        "Suponha o caso da urna <u>sem reposição</u>. Mostre a função de <u>distribuição acumulada conjunta</u> de $X$  e  $Y$ ?"
      ]
    },
    {
      "cell_type": "markdown",
      "metadata": {
        "id": "_ZbhVZx8AA7a"
      },
      "source": [
        "Podemos criar $F_{XY}(x,y)$ a partir da tabela gerada anteriormente, que reproduzimos abaixo.\n",
        "\n",
        "X\\Y| 1 |  2 | 3 |\n",
        "---|---|----|---|\n",
        "**1** | 0 | $\\frac{1}{6}$ | $\\frac{1}{6}$ |\n",
        "**2** | $\\frac{1}{6}$ | 0 | $\\frac{1}{6}$ |\n",
        "**3** | $\\frac{1}{6}$ | $\\frac{1}{6}$ | 0 |\n",
        "\n",
        "Vamos calcular $F_{XY}(2,3)$,\n",
        "\n",
        "$F_{XY}(2,3) = P(1,1) + P(1,2) + P(1,3) + P(2,1) + P(2,2) + P(2,3) = \\\\\n",
        "= 0 + \\frac{1}{6} + \\frac{1}{6} + \\frac{1}{6} + 0 + \\frac{1}{6} = \\frac{4}{6} = \\frac{2}{3}$.\n",
        "\n",
        "Observe que em qualquer um dos casos, basta selecionar a partir da célula $x,y$ todas as células \"anteriores\". Observe abaixo a função acumulada:\n",
        "\n",
        "X\\Y| 1 |  2 | 3 |\n",
        "---|---|----|---|\n",
        "**1** | 0 | $\\frac{1}{6}$ | $\\frac{2}{6}$ |\n",
        "**2** | $\\frac{1}{6}$ | $\\frac{2}{6}$ | $\\frac{4}{6}$ |\n",
        "**3** | $\\frac{2}{6}$ | $\\frac{4}{6}$ | 1 |"
      ]
    },
    {
      "cell_type": "markdown",
      "metadata": {
        "id": "LwcYVTL6_wzV"
      },
      "source": [
        "#### Visão gráfica\n",
        "\n",
        "A figura abaixo mostra todos os pares formados por duas VAs $X$ e $Y$. A CDF conjunta representa a probabilidade de que as VAs $X$ e $Y$ assumam valores dentro da região cinza mostrada ao mesmo tempo."
      ]
    },
    {
      "cell_type": "code",
      "execution_count": null,
      "metadata": {
        "colab": {
          "base_uri": "https://localhost:8080/",
          "height": 248
        },
        "id": "Z2tPqxxktmIV",
        "outputId": "5e7bb1d2-1e13-4256-9d81-540c6edb2811"
      },
      "outputs": [
        {
          "data": {
            "image/png": "[encoded data removed]",
            "text/plain": [
              "<Figure size 432x288 with 1 Axes>"
            ]
          },
          "metadata": {},
          "output_type": "display_data"
        }
      ],
      "source": [
        "import matplotlib.pyplot as plt\n",
        "\n",
        "plt.plot(0.5,0.5,\"ko\")\n",
        "plt.plot([0.5,0.5],[-1,0.5],\"k--\",alpha=0.3)\n",
        "plt.plot([-1,0.5],[0.5,0.5],\"k--\",alpha=0.3)\n",
        "plt.plot([0.3,-0.4,-0.5,0.8,-0.8,-0.6,-.05, -0.9,-0.3,0.6,0.75,0.65,0.4,0.3,-0.7,-0.85,-0.75,-0.15,0.15],\n",
        "         [0.3,0.2,0.6,0.7,-0.7,-0.4,-0.2,-0.3,-0.9,-0.6,-0.4,-0.7,-0.2,-0.8,0.3,0.1,0.7,0.85,0.8],\"k.\")\n",
        "plt.fill_between([-1,0.5],[-1,-1],color=\"k\",alpha=0.2)\n",
        "plt.fill_between([-1,0.5],[0.5,0.5],color=\"k\",alpha=0.2)\n",
        "plt.arrow(0, -1, 0, 1.95, head_width=0.05, head_length=0.05, fc='b', ec='b')\n",
        "plt.arrow(-1, 0, 1.95, 0, head_width=0.05, head_length=0.05, fc='b', ec='b')\n",
        "plt.tick_params(left = False, right = False , labelleft = False ,\n",
        "                labelbottom = False, bottom = False)\n",
        "plt.xlim(-1,1)\n",
        "plt.ylim(-1,1)\n",
        "plt.text(0.51,0.51,\"(x,y)\")\n",
        "plt.text(0.73,0.75,\"$(x_i,y_j)$\")\n",
        "plt.text(-0.3,-0.4,\"$F_{XY}(x,y)=P(X\\leq x,X \\leq y)$\")\n",
        "plt.show()"
      ]
    },
    {
      "cell_type": "markdown",
      "metadata": {
        "id": "eVk96zTGnTkB"
      },
      "source": [
        "## Caso Contínuo\n",
        "\n",
        "> Dizemos que duas VAs $X$ e $Y$ são contínuas conjuntamente se existe uma função não-negativa $f_{XY}: \\mathbb{R}^2 \\rightarrow \\mathbb{R}$, tal que, para algum conjunto $A \\in \\mathbb{R}^2$, nós temos $P((X,Y) \\in A) = \\int_{A_x}\\int_{A_y}f_{XY}(x,y)dxdy$.\n",
        "\n",
        "A função $f_{XY}(x,y)$ é chamada **função densidade de probabilidade conjunta** de $X$ e $Y$."
      ]
    },
    {
      "cell_type": "markdown",
      "metadata": {
        "id": "UYMFC079YqTR"
      },
      "source": [
        "A intuição por trás da densidade conjunta é similar a densidade que vimos com uma única VA, quando olhamos para <u>intervalos</u>. A diferença agora é que usamos uma região de interesse $A$. Contudo, o domínio de $f_{XY}$ é $\\mathbb{R}^2$. Assim, esta função possui a seguinte propriedade:\n",
        "\n",
        "$\\int_{-\\infty}^{\\infty}\\int_{-\\infty}^{\\infty}f_{XY}(x,y)dxdy = 1$"
      ]
    },
    {
      "cell_type": "markdown",
      "metadata": {
        "id": "X_zNUefuaK6X"
      },
      "source": [
        "### Exemplo (Distribuição conjunta contínua)\n",
        "\n",
        "Sejam $X$ e $Y$ duas VAs contínuas cuja PDF conjunta é\n",
        "\n",
        "$f_{XY}(x,y) =\n",
        "\\begin{cases}\n",
        "      x + cy^2 & 0 \\leq x \\leq 1, 0 \\leq y \\leq 1 \\\\\n",
        "      0 & \\text{outros casos}\n",
        "\\end{cases}\n",
        "$\n",
        "\n",
        "Encontre o valor da constante $c$ e $P(0 \\leq X \\leq \\frac{1}{2}, 0 \\leq Y \\leq \\frac{1}{2})$."
      ]
    },
    {
      "cell_type": "markdown",
      "metadata": {
        "id": "stT87TJDbYze"
      },
      "source": [
        "**Solução**: Para achar $c$, usamos a propriedade da função de densidade. Assim temos que\n",
        "\n",
        "$\n",
        "\\int_{-\\infty}^{\\infty}\\int_{-\\infty}^{\\infty} x+cy^2dxdy = 1 \\\\\n",
        "\\int_{0}^{1}\\int_{0}^{1} x+cy^2dxdy = 1 \\\\\n",
        "\\int_{0}^{1} \\left[ \\frac{1}{2}x^2+cy^2x \\right]_{x=0}^{x=1} dy = 1 \\\\\n",
        "\\int_{0}^{1} \\frac{1}{2}+cy^2  dy = 1 \\\\\n",
        "\\left[ \\frac{1}{2}y+\\frac{1}{3}cy^3  \\right]_{x=0}^{x=1} = 1 \\\\\n",
        "\\frac{1}{2}+\\frac{c}{3} = 1 \\\\\n",
        "c = \\frac{3}{2} \\\\\n",
        "$\n",
        "\n",
        "Para achar $P(0 \\leq X \\leq \\frac{1}{2}, 0 \\leq Y \\leq \\frac{1}{2})$ nós vemos que\n",
        "\n",
        "$P(0 \\leq X \\leq \\frac{1}{2}, 0 \\leq Y \\leq \\frac{1}{2}) = \\int_{0}^{\\frac{1}{2}}\\int_{0}^{\\frac{1}{2}} x + \\frac{3}{2}y^2 dxdy \\\\\n",
        "= \\int_{0}^{\\frac{1}{2}} \\left[\\frac{1}{2}x^2 + \\frac{3}{2}y^2x \\right]_{x=0}^{x=\\frac{1}{2}} dy \\\\\n",
        "= \\int_{0}^{\\frac{1}{2}} \\frac{1}{8} + \\frac{3}{4}y^2 dy \\\\\n",
        "= \\left[ \\frac{1}{8}y + \\frac{3}{12}y^3 \\right]_{x=0}^{y=\\frac{1}{2}}\\\\\n",
        "= \\frac{1}{16} + \\frac{1}{32}  \\Rightarrow P(0 \\leq X \\leq \\frac{1}{2}, 0 \\leq Y \\leq \\frac{1}{2}) = \\frac{3}{12}\\\\\n",
        "$\n"
      ]
    },
    {
      "cell_type": "markdown",
      "metadata": {
        "id": "TRUwgyzwiO8F"
      },
      "source": [
        "### Distribuição Marginal\n",
        "\n",
        "Nós podemos encontrar as PDFs marginais de $X$ e $Y$ a partir da PDF conjunta. E é análogo ao que fizemos no caso discreto. Se integramos $f_{XY}(x,y)$ em $y$, nós obtemos $f_X(x)$. Similarmente podemos fazer para achar $f_Y(y)$. Formalmente temos:\n",
        "\n",
        "$f_{X}(x)=\\int_{-\\infty}^{\\infty} f_{XY}(x,y) dy$, para todo $x$\n",
        "\n",
        "$f_{Y}(y)=\\int_{-\\infty}^{\\infty} f_{XY}(x,y) dx$, para todo $y$"
      ]
    },
    {
      "cell_type": "markdown",
      "metadata": {
        "id": "-BY_rYmkjTAn"
      },
      "source": [
        "### Exemplo (Distribuições marginais contínuas)\n",
        "\n",
        "Sejam $X$ e $Y$ duas VAs contínuas cuja PDF conjunta é\n",
        "\n",
        "$f_{XY}(x,y) =\n",
        "\\begin{cases}\n",
        "      x + \\frac{3}{2}y^2 & 0 \\leq x \\leq 1, 0 \\leq y \\leq 1 \\\\\n",
        "      0 & \\text{outros casos}\n",
        "\\end{cases}\n",
        "$\n",
        "\n",
        "Encontre as distribuições marginais"
      ]
    },
    {
      "cell_type": "markdown",
      "metadata": {
        "id": "d9w_wggLjbyK"
      },
      "source": [
        "**Solução**: Comecemos por $f_{X}(x)$. Pela distribuição conjunta fornecida no problema, vemos que $f_{X}(x)$ será 0 quando $x \\lt 0$ e $x > 1$. Para o caso $0 \\leq x \\leq 1$ temos\n",
        "\n",
        "$f_{X}(x) = \\int_{0}^{1} x + \\frac{3}{2}y^2 dy \\\\\n",
        "= \\left[ xy + \\frac{1}{2}y^3 \\right]_{y=0}^{y=1} \\\\\n",
        "= x + \\frac{1}{2} \\\\\n",
        "$\n",
        "\n",
        "Assim,\n",
        "\n",
        "$f_{X}(x) =\n",
        "\\begin{cases}\n",
        "      x + \\frac{1}{2} & 0 \\leq x \\leq 1 \\\\\n",
        "      0 & \\text{outros casos}\n",
        "\\end{cases}\n",
        "$\n",
        "\n",
        "O função marginal de $Y$ pode ser obtida similarmente. Para $0 \\leq y \\leq 1$ temos\n",
        "\n",
        "$ f_{Y}(y) = \\int_{0}^{1} x + \\frac{3}{2}y^2 dx \\\\\n",
        "= \\left[ \\frac{1}{2}x^2 + \\frac{3}{2}y^2x \\right]_{x=0}^{x=1} \\\\\n",
        "= \\frac{1}{2} + \\frac{3}{2}y^2 \\\\\n",
        "$\n",
        "\n",
        "Assim,\n",
        "\n",
        "$f_{Y}(y) =\n",
        "\\begin{cases}\n",
        "      \\frac{3}{2}y^2 + \\frac{1}{2} & 0 \\leq y \\leq 1 \\\\\n",
        "      0 & \\text{outros casos}\n",
        "\\end{cases}\n",
        "$"
      ]
    },
    {
      "cell_type": "markdown",
      "metadata": {
        "id": "BlMRhRHZ_Ir-"
      },
      "source": [
        "### Função acumulada conjunta\n",
        "A **função de distribuição acumulada conjunta** de duas VAs $X$ e $Y$ contínuas é definida como $F_{XY}(x,y) = P(X \\leq x, Y \\leq y)$"
      ]
    },
    {
      "cell_type": "markdown",
      "metadata": {
        "id": "RxHTxbHc_Xbh"
      },
      "source": [
        "Pode ser obtida a partir da integração de $f_{XY}(x,y)$\n",
        "\n",
        "$F_{XY}(x,y) = \\int_{-\\infty}^{y}\\int_{-\\infty}^{x}f_{XY}(u,v)dudv$\n",
        "\n",
        "No sentido inverso podemos fazer\n",
        "\n",
        "$f_{XY}(u,v) = \\frac{\\partial^2}{\\partial x \\partial y} F_{XY}(xy)$"
      ]
    },
    {
      "cell_type": "markdown",
      "metadata": {
        "id": "qF2HNaQx1PDK"
      },
      "source": [
        "### Probabilidade condicional de VAs contínuas\n",
        "\n",
        "Se $f_{XY}(x,y)$ é a densidade conjunta das VAs $X$ e $Y$, a função de densidade probabilidade condicional de $X$ dado $Y=y$ é\n",
        "\n",
        "$f_{X|Y}(x|y)=\\frac{f_{XY}(x,y)}{f_{Y}(y)}$\n"
      ]
    },
    {
      "cell_type": "markdown",
      "metadata": {
        "id": "OG9sL4fTPZIM"
      },
      "source": [
        "### Independência de VAs contínuas\n",
        "Se duas VAs contínuas $X$ e $Y$ são independentes, então\n",
        "\n",
        "$f_{XY}(x,y) = f_X(x)f_Y(y)$"
      ]
    },
    {
      "cell_type": "markdown",
      "metadata": {
        "id": "4uc8VsXONDUS"
      },
      "source": [
        "Também é verdade que $f_{X|Y}(x|y)=f_X(x)$ e que $f_{Y|X}(y|x)=f_Y(y)$"
      ]
    },
    {
      "cell_type": "markdown",
      "metadata": {
        "id": "LElqT6CY2eTd"
      },
      "source": [
        "##Esperança e Variância de uma distribuição conjunta"
      ]
    },
    {
      "cell_type": "markdown",
      "metadata": {
        "id": "cErYh8wu2wyl"
      },
      "source": [
        "$E(X) = \\int_{-\\infty}^{\\infty}xf_X(x)dx$\n",
        "\n",
        "$E(Y) = \\int_{-\\infty}^{\\infty}yf_Y(y)dy$\n",
        "\n",
        "$Var(X) = \\int_{-\\infty}^{\\infty}(x-E(X))^2f_X(x)dx$\n",
        "\n",
        "$Var(Y) = \\int_{-\\infty}^{\\infty}(y-E(Y))^2f_Y(y)dy$"
      ]
    },
    {
      "cell_type": "markdown",
      "metadata": {
        "id": "eWe7nJZx8Buu"
      },
      "source": [
        "**Esperança para uma função das VAs**\n",
        "\n",
        "$E(h(X,Y)) = \\int\\int h(x,y) f_{XY}(x,y) dxdy$\n",
        "\n",
        "**Exemplo para $X \\pm Y$**\n",
        "\n",
        "$E(X \\pm Y) = E(X) \\pm E(Y)$\n",
        "\n",
        "**E a variância? E para outras funções $h(.)$? Temos que saber se há independência.**"
      ]
    },
    {
      "cell_type": "markdown",
      "metadata": {
        "id": "tXKdl2Z7aEfL"
      },
      "source": [
        "##Covariância"
      ]
    },
    {
      "cell_type": "markdown",
      "metadata": {
        "id": "D7JfJRSjaKjg"
      },
      "source": [
        "Se $X$ e $Y$ são duas VAs, então a **covariância** entre elas é dada pelo valor esperado do produto dos desvios dessas em relação aos seus respectivos valores esperados:\n",
        "\n",
        "$cov(X,Y) = E((X-E(X))\\times(Y-E(Y)))$\n",
        "\n",
        "Observe que $cov(X,Y)$ é uma função do tipo $h(X,Y)$ logo\n",
        "\n",
        "$E((X-E(X))\\times(Y-E(Y))) = \\int \\int (x-E(X))(y-E(Y))f_{XY}(x,y)$"
      ]
    },
    {
      "cell_type": "markdown",
      "metadata": {
        "id": "OiIQu74-X0lx"
      },
      "source": [
        "![image.png](data:image/png;base64,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)"
      ]
    },
    {
      "cell_type": "markdown",
      "metadata": {
        "id": "ztAATrB-afV7"
      },
      "source": [
        "**Propriedades**\n",
        "\n",
        "1. $cov(X,Y) = E(XY) - E(X)E(Y)$\n",
        "2. $var(X) = cov(X,X)$\n",
        "3. $var(X \\pm Y) = var(X) + var(Y) \\pm 2cov(X,Y)$\n",
        "\n",
        "O coeficiente de correlação de Pearson entre duas VAs $X$ e $Y$ pode ser (re)definido como\n",
        "\n",
        "$\\rho_{X,Y} = \\frac{cov(X,Y)}{\\sigma_X\\sigma_Y}$"
      ]
    },
    {
      "cell_type": "markdown",
      "metadata": {
        "id": "lIXBXV6x-Z7h"
      },
      "source": [
        "## Esperança e independência"
      ]
    },
    {
      "cell_type": "markdown",
      "metadata": {
        "id": "cAutT5nB9Y33"
      },
      "source": [
        "\n",
        "Se $X$ e $Y$ são VAs independentes, então\n",
        "\n",
        "1. $E(XY) = E(X)E(Y)$\n",
        "2. $cov(X, Y) = 0$\n",
        "3. $Var(X \\pm Y) = Var(X) + Var(Y)$\n",
        "\n",
        "[Veja um pouco mais sobre este assunto com demonstrações](http://www.milefoot.com/math/stat/rv-sums.htm)"
      ]
    },
    {
      "cell_type": "markdown",
      "metadata": {
        "id": "LMGp5NPZDAQg"
      },
      "source": [
        "## Exemplo-Base (Astra e seus jornais)\n",
        "\n",
        "Retornemos aos dados principais do exemplo:\n",
        "* Entrega do Componente A demora de 2 a 5 dias\n",
        "* Entrega do Componente B demora de 2 a 6 dias\n",
        "* Entrega do Componente C demora de 4 a 7 dias\n",
        "* Tempo de montagem e entrega da máquina de 2 a 4 dias\n",
        "* Prazo de 10 dias\n",
        "\n",
        "Devemos calcular a probabilidade de Astra não honrar o contrato."
      ]
    },
    {
      "cell_type": "markdown",
      "metadata": {
        "id": "y_I5RnBRDnou"
      },
      "source": [
        "**Solução**: Para resolver este problema, vamos chamar $X_A$, $X_B$ e $X_C$ as VAs que indicam o tempo de entrega dos componentes $A$, $B$ e $C$. Vamos fazer $X_M$ a VA do tempo de montagem e entrega do produto.\n",
        "\n",
        "É razoável supor que a <u>distribuição de probabilidade de cada uma destas variáveis seja uniforme</u> (a entrega pode acontecer em cada um dos dias de forma equiprovável). Assumiremos que esta distribuição é discreta.\n",
        "\n",
        "A soma das probabilidades de cada valor na função de massa de probabilidade destas VAs deve ser 1. Assim temos,\n",
        "\n",
        "$\n",
        "p_{X_A}(a) = \\begin{cases}\n",
        "\t\t\t\\frac{1}{4}, &  a \\in \\{2,3,4,5\\}\\\\\n",
        "            0, & \\text{outros casos}\n",
        "\t\t \\end{cases}\n",
        "$\n",
        "\n",
        "$\n",
        "p_{X_B}(b) = \\begin{cases}\n",
        "\t\t\t\\frac{1}{5}, &  b \\in \\{2,3,4,5,6\\}\\\\\n",
        "            0, & \\text{outros casos}\n",
        "\t\t \\end{cases}\n",
        "$\n",
        "\n",
        "$\n",
        "p_{X_C}(c) = \\begin{cases}\n",
        "\t\t\t\\frac{1}{4}, &  c \\in \\{4,5,6,7\\}\\\\\n",
        "            0, & \\text{outros casos}\n",
        "\t\t \\end{cases}\n",
        "$\n",
        "\n",
        "$\n",
        "p_{X_M}(m) = \\begin{cases}\n",
        "\t\t\t\\frac{1}{3}, &  m \\in \\{2,3,4\\}\\\\\n",
        "            0, & \\text{outros casos}\n",
        "\t\t \\end{cases}\n",
        "$\n",
        "\n",
        "Pelos domínios das VAs percebemos que $X_C$ e $X_M$ são aquelas que realmente determinarão a entrega no prazo, já que mesmo se os componentes $A$ e $B$ forem entregues em seu tempo máximo, o tempo de montagem máximo ainda permite entregar o produto no prazo. Portanto, o contrato **não** será honrado apenas quando $X_C = 7$ e $X_M = 4$. Nós desejamos calcular $P(X_C=7,X_M=4)$.\n",
        "\n",
        "É razoável assumir que <u>$X_C$ e $X_M$ são independentes</u>, assim a distribuição conjunta de probabilidade delas é dada por\n",
        "\n",
        "$p_{X_CX_M}(c,m) = p_{X_C}(c) p_{X_M}(m)$\n",
        "\n",
        "Logo,\n",
        "\n",
        "$\n",
        "p_{X_CX_M}(c,m) = \\begin{cases}\n",
        "\t\t\t\\frac{1}{12}, &  c \\in \\{4,5,6,7\\},m \\in \\{2,3,4\\}\\\\\n",
        "            0, & \\text{outros casos}\n",
        "\t\t \\end{cases}\n",
        "$\n",
        "\n",
        "Assim temos que,\n",
        "\n",
        "$P(X_C=7,X_M=4) = p_{X_CX_M}(7,4) = \\frac{1}{12}$.\n",
        "\n",
        "\n"
      ]
    },
    {
      "cell_type": "markdown",
      "metadata": {
        "id": "rv569I4rZTw0"
      },
      "source": [
        "##Exemplo-Base (Astra e seus jornais - contínuo)\n",
        "\n",
        "Retornemos aos dados principais do exemplo:\n",
        "* Entrega do Componente A demora de 2 a 5 dias\n",
        "* Entrega do Componente B demora de 2 a 6 dias\n",
        "* Entrega do Componente C demora de 4 a 7 dias\n",
        "* Tempo de montagem e entrega da máquina de 2 a 4 dias\n",
        "* Prazo de 10 dias\n",
        "\n",
        "Devemos calcular a probabilidade de Astra não honrar o contrato."
      ]
    },
    {
      "cell_type": "markdown",
      "metadata": {
        "id": "r-HCA13_ZTw1"
      },
      "source": [
        "**Solução**: Para resolver este problema, vamos chamar $X_A$, $X_B$ e $X_C$ as VAs que indicam o tempo de entrega dos componentes $A$, $B$ e $C$. Vamos fazer $X_M$ a VA do tempo de montagem e entrega do produto.\n",
        "\n",
        "É razoável supor que a <u>distribuição de probabilidade de cada uma destas variáveis seja uniforme</u> (a entrega pode acontecer em cada um dos dias de forma equiprovável). Para generalizar, assumiremos que esta distribuição é <u>contínua</u>.\n",
        "\n",
        "A área sob a função de densidade de probabilidade destas VAs deve ser 1. Assim temos,\n",
        "\n",
        "$\n",
        "f_{X_A}(a) = \\begin{cases}\n",
        "\t\t\t\\frac{1}{3}, &  a \\in [2,5]\\\\\n",
        "            0, & \\text{outros casos}\n",
        "\t\t \\end{cases}\n",
        "$\n",
        "\n",
        "$\n",
        "f_{X_B}(b) = \\begin{cases}\n",
        "\t\t\t\\frac{1}{4}, &  b \\in [2,6]\\\\\n",
        "            0, & \\text{outros casos}\n",
        "\t\t \\end{cases}\n",
        "$\n",
        "\n",
        "$\n",
        "f_{X_C}(c) = \\begin{cases}\n",
        "\t\t\t\\frac{1}{3}, &  c \\in [4,7]\\\\\n",
        "            0, & \\text{outros casos}\n",
        "\t\t \\end{cases}\n",
        "$\n",
        "\n",
        "$\n",
        "f_{X_M}(m) = \\begin{cases}\n",
        "\t\t\t\\frac{1}{2}, &  m \\in [2,4]\\\\\n",
        "            0, & \\text{outros casos}\n",
        "\t\t \\end{cases}\n",
        "$\n",
        "\n",
        "Pelos domínios das VAs percebemos que $X_C$ e $X_M$ são aquelas que realmente determinarão a entrega no prazo, já que mesmo se os componentes $A$ e $B$ forem entregues em seu tempo máximo, o tempo de montagem máximo ainda permite entregar o produto no prazo.\n",
        "Portanto, o contrato **não** será honrado apenas quando $X_C + X_M \\gt 10$.\n",
        "\n",
        "\n",
        "É razoável assumir que <u>$X_C$ e $X_M$ são independentes</u>, logo a distribuição conjunta destas VAs é\n",
        "\n",
        "$f_{X_CX_M}(c,m)=f_{X_C}(c)f_{X_M}(m) \\Rightarrow \\\\\n",
        "f_{X_CX_M}(c,m)=\\begin{cases}\n",
        "\\frac{1}{6}, &  c \\in [4,7], \\, m \\in [2,4]\\\\\n",
        "            0, & \\text{outros casos}\n",
        "\\end{cases}$\n",
        "\n",
        "Para calcular a condição de que $X_C + X_M \\gt 10$ podemos achar o volume sob $f_{X_CX_M}(c,m)$ nos intervalos de $c \\in [6,7]$ e $m \\in \\, [10-c,4]$. Assim temos\n",
        "\n",
        "$P(X_C + X_M \\gt 10) = \\int_6^7\\int_{10-c}^4 \\frac{1}{6} dmdc = \\\\\n",
        "= \\int_6^7 (\\frac{m}{6}|_{m = 10-c}^4)dc\\\\\n",
        "= \\int_6^7 \\frac{c-6}{6} dc\\\\\n",
        "= \\int_6^7 \\frac{c}{6}-1 dc\\\\\n",
        "= \\int_6^7 \\frac{c}{6} dc - \\int_6^7 1 dc\\\\\n",
        "= \\frac{c^2}{12}|_6^7 - c|_6^7\\\\\n",
        "= \\frac{13}{12} - 1 = \\frac{1}{12}\n",
        "$\n",
        "\n",
        "Portanto a chance de Astra não cumprir o contrato é de aproxidamente 8.3%."
      ]
    },
    {
      "cell_type": "markdown",
      "metadata": {
        "id": "zMGR6qd7z0ph"
      },
      "source": [
        "#2) Outros importantes resultados na Teoria das Probabilidades"
      ]
    },
    {
      "cell_type": "markdown",
      "metadata": {
        "id": "NEC7df4qgc4v"
      },
      "source": [
        "##Momentos de uma VA"
      ]
    },
    {
      "cell_type": "markdown",
      "metadata": {
        "id": "r5nSwftEgeaK"
      },
      "source": [
        "A esperança e a variância são medidas da forma de uma distribuição de probabilidade, contudo é possível generalizar estas medidas. Estas generalizações são úteis em diversos casos, a isto dá-se o nome de **Momentos de uma VA**.\n",
        "\n",
        "---\n",
        "\n",
        "O $r$-ésimo <u>momento em torno da origem</u> (também chamado simplesmente de momento) de uma VA $X$ é\n",
        "\n",
        "$E(X^r) = \\begin{cases}\n",
        "\\sum_{x}x^rp(x) & \\text{para }X \\text{ discreta} \\\\\n",
        "\\int_{-\\infty}^{\\infty}x^rf(x)dx & \\text{para }X \\text{ contínua}\n",
        "\\end{cases}$\n",
        "\n",
        "Observe que o primeiro momento ($r=1$) é a própria **esperança** (média) de $X$.\n",
        "\n",
        "---\n",
        "\n",
        "O $r$-ésimo <u>momento central</u> ou <u>momento em torno da média</u> de uma VA $X$ com média $\\mu$ é\n",
        "\n",
        "$E([X-E(X)]^r) = \\begin{cases}\n",
        "\\sum_{x}(x-\\mu)^rp(x) & \\text{para }X \\text{ discreta} \\\\\n",
        "\\int_{-\\infty}^{\\infty}(x-\\mu)^rf(x)dx & \\text{para }X \\text{ contínua}\n",
        "\\end{cases}$\n",
        "\n",
        "Observe que o segundo momento central ($r=2$) é a **variância** ($\\sigma^2$) da VA.\n",
        "\n",
        "---\n",
        "\n",
        "Uma forma alternativa de definir o momento em torno da origem é por meio da **Função Geradora de Momento** (*Moment Generating Function* -  MGF). Seja $X$ uma VA contínua, sua MGF $M_X(t)$ é dada por\n",
        "\n",
        "$M_X(t) = E(e^{tX})=\n",
        "\\int_{-\\infty}^{\\infty}(e^{tx})f(x)dx$\n",
        "\n",
        "E cada $r$-ésimo momento pode ser encontrado solucionando a derivada de $r$-ésima ordem de $M_X(t)$ em torno de $t=0$,\n",
        "\n",
        "$\\frac{d^rM_X(t)}{d^rt}\\Big|_{t=0} = E(X^r)$\n",
        "\n",
        "Funções geradoras têm importantes propriedades. Vejamos algumas:\n",
        "\n",
        "1. **Singularidade**: a MGF determina uma distribuição de forma única, assim $X$ e $Y$ são duas VAs e observamos que $M_X(t) = M_Y(t)$, para todos os valores de $t$, então $Y$ e $X$ tem a mesma distribuição de probabilidade.\n",
        "2. Para uma constante a, $M_{X+a}(t) = e^{at}M_X(t)$\n",
        "3. Para uma constante a, $M_{aX}(t) = M_X(at)$\n",
        "4. Se $X_1,X_2,\\ldots,X_n$ forem VAs independentes, com MGFs $M_{X_1}(t),M_{X_2}(t),\\ldots,M_{X_n}(t)$, respectivamente, e se $Y=\\sum_{i=1}^{n}X_i$, então a MGF de $Y$ é $M_Y(t) = \\prod_{i=1}^{n} M_{X_i}(t)$\n",
        "\n",
        "Para o caso discreto temos definições e propriedades similares."
      ]
    },
    {
      "cell_type": "markdown",
      "metadata": {
        "id": "rAB0JrULz5Wa"
      },
      "source": [
        "## Desigualdade de Markov\n",
        "\n",
        "Estabelece uma relação entre a distribuição de probabilidade de uma VA e sua esperança. Ela é assim definida:\n",
        "\n",
        "Seja $X$ uma VA não negativa, para todo $a > 0$, temos que $P(X \\geq a) \\leq \\frac{E(X)}{a}$"
      ]
    },
    {
      "cell_type": "markdown",
      "metadata": {
        "id": "LZYLqUnX2_Gn"
      },
      "source": [
        "Este resultado pode ser útil, por exemplo, quando temos uma VA $X$ não-negativa cuja distribuição de probabilidade não conhecemos e para qual desejamos estimar $P(X \\geq a)$. A Desigualdade de Markov permite-nos estimar um limite superior para esta probabilidade."
      ]
    },
    {
      "cell_type": "markdown",
      "metadata": {
        "id": "PJQxiZMz3DOU"
      },
      "source": [
        "### Exemplo (Fábrica de resistores - 1)\n",
        "\n",
        "Uma fábrica de resistores tem em média 150 unidades de resistores defeituosos num dia. O que podemos dizer sobre a probabilidade de que a fábrica produza, num dado dia, 280 ou mais unidades defeituosas?"
      ]
    },
    {
      "cell_type": "markdown",
      "metadata": {
        "id": "lVrKe90I3Pfs"
      },
      "source": [
        "**Solução**: Seja $X$ a VA que indica a quantidade de resistores defeituosos produzidos pela fábrica num dado dia. Observe que $X \\geq 0$ e que $E[X] = 150$.\n",
        "\n",
        "Observe ainda que não sabemos calcular o valor exato da probabilidade solicitada, porque não temos detalhes sobre a distribuição de probabilidade de $X$.\n",
        "\n",
        "Podemos, no entanto, calcular um limitante superior mediante a desigualdade de Markov. Assim,\n",
        "\n",
        "$P(X \\geq 280) \\leq \\frac{150}{280} \\Rightarrow\n",
        "P(X \\geq 280) \\leq 0.536 $"
      ]
    },
    {
      "cell_type": "markdown",
      "metadata": {
        "id": "r5hI5bxJz8LK"
      },
      "source": [
        "##Desigualdade de Chebyshev\n",
        "\n",
        "Estabelece uma relação entre a distribuição de probabilidade de uma VA e sua variância. Ela é assim definida:\n",
        "\n",
        "Para todo $a \\gt 0$, temos que $P(|X-E(X)|\\geq a) \\leq \\frac{var(X)}{a^2}$"
      ]
    },
    {
      "cell_type": "markdown",
      "metadata": {
        "id": "lyz3rU_g-kwP"
      },
      "source": [
        "Alternativamente podemos assim enunciar:\n",
        "\n",
        "$P(|X-E(X)| \\geq k\\sigma_X) \\leq \\frac{1}{k^2}$"
      ]
    },
    {
      "cell_type": "markdown",
      "metadata": {
        "id": "o-i0zltO_IK0"
      },
      "source": [
        "###Exemplo (Fábrica de resistores-2)\n",
        "\n",
        "Considerando os dados do exemplo anterior, suponhamos que a variância de $var(X)=100$. Que podemos dizer\n",
        "sobre a probabilidade de que o número de unidades defeituosas num determinado dia fique entre 120 e 180?"
      ]
    },
    {
      "cell_type": "markdown",
      "metadata": {
        "id": "UANEwcds_cIA"
      },
      "source": [
        "**Solução**: Queremos calcular $P(120 \\lt X \\lt 180)$ e sabemos que $P(120 \\lt X \\lt 180) = 1 - P(|X-E(X)|\\geq 30)$. Assim, para calcular $P(|X-E(X)|\\geq 30)$ aplicamos a desigualdade de Chebyshev com $E(X)=150$ e $a=30$, logo\n",
        "\n",
        "$P(|X-150|\\geq 30) \\leq \\frac{100}{30^2} \\Rightarrow \\\\\n",
        "P(|X-150|\\geq 30) \\leq \\frac{1}{9}$\n",
        "\n",
        "Desta forma\n",
        "\n",
        "$P(120 \\lt X \\lt 180) \\geq 1 - \\frac{1}{9} = \\frac{8}{9} \\cong 0.889$\n"
      ]
    },
    {
      "cell_type": "markdown",
      "metadata": {
        "id": "sf2pa1Dpz_dT"
      },
      "source": [
        "##Lei fraca dos grandes números\n",
        "\n",
        "Condidere um conjunto de dados $\\{x_i\\}$ tal que (a) eles sejam independentes e (b) o histograma de um conjunto muito grande destes dados se assemelha à distribuição de probabilidade de $X$.\n",
        "\n",
        "Estes dados são chamados de amostras **independentes e identicamente distribuídas** (i.i.d. ou iid).\n",
        "\n",
        "Assim, considere que temos $n$ amostras iid e fazemos a média delas. A lei fraca dos grandes números diz que, conforme $n$ cresce, esta média se torna uma boa estimativa de $E(X)$. Isto nos permite, por exemplo, estimar a esperança a partir de simulações."
      ]
    },
    {
      "cell_type": "markdown",
      "metadata": {
        "id": "g1LjkcTVEf_C"
      },
      "source": [
        "Formalmente, seja $X$ uma variável aleatória com variância finita e um número $\\epsilon \\gt 0$ e seja $\\bar{x}_n$ a média de uma amostra de tamanho $n$ desta VA, então\n",
        "\n",
        "$\\lim_{n \\rightarrow \\infty} P(|\\bar{x}_n-E(X)|\\geq \\epsilon) = 0$"
      ]
    }
  ],
  "metadata": {
    "colab": {
      "collapsed_sections": [
        "ZSUsLHpd_mpR",
        "FFGZtZaqeWei",
        "LwcYVTL6_wzV",
        "X_zNUefuaK6X",
        "TRUwgyzwiO8F",
        "-BY_rYmkjTAn",
        "qF2HNaQx1PDK",
        "tXKdl2Z7aEfL",
        "LMGp5NPZDAQg",
        "rv569I4rZTw0",
        "NEC7df4qgc4v",
        "rAB0JrULz5Wa",
        "PJQxiZMz3DOU",
        "r5hI5bxJz8LK",
        "o-i0zltO_IK0",
        "sf2pa1Dpz_dT"
      ],
      "provenance": [],
      "toc_visible": true
    },
    "kernelspec": {
      "display_name": "Python 3",
      "name": "python3"
    },
    "language_info": {
      "name": "python"
    }
  },
  "nbformat": 4,
  "nbformat_minor": 0
}
