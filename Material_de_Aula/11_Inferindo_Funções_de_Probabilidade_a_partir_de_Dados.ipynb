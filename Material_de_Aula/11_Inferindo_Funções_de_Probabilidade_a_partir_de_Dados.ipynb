{
  "nbformat": 4,
  "nbformat_minor": 0,
  "metadata": {
    "colab": {
      "provenance": [],
      "collapsed_sections": [
        "7ppkfzGxeBTG",
        "BQcTxPMbMCEG",
        "rRm5Gnm_UQua",
        "7mfCrAAcYzMM",
        "bRneVPMAd8C9",
        "73lnNh6hnUBQ",
        "85sGtTFzF1XJ",
        "oYm11QWEhEKq",
        "SLDBnaKLhal3",
        "Q_GDE5uukvmI",
        "39zZwfsSBAxr"
      ]
    },
    "kernelspec": {
      "name": "python3",
      "display_name": "Python 3"
    },
    "language_info": {
      "name": "python"
    }
  },
  "cells": [
    {
      "cell_type": "markdown",
      "metadata": {
        "id": "kb9pbBJB1UKy"
      },
      "source": [
        "#Pergunta fundamental\n",
        "\n",
        "Qual processo produziu estes dados?"
      ]
    },
    {
      "cell_type": "markdown",
      "source": [
        "#Exemplo-Base (Combustível)\n",
        "Gilton tem um HB20. Ao longo de 100 dias, ele mediu a eficiência de uso do combustível de seu carro (em milhas por galão). Esta história é [contada aqui](https://dasl.datadescription.com/datafile/nissan/?_sf_s=nissan&_sfm_cases=4+59943).\n",
        "\n",
        "Os dados coletados por Gilton são recuperados, convertidos para quilômetros por litro e mostrados abaixo."
      ],
      "metadata": {
        "id": "jJ-uPxcJPsfX"
      }
    },
    {
      "cell_type": "code",
      "source": [
        "!wget https://dasl.datadescription.com/download/data/3367\n",
        "\n",
        "import pandas as pd\n",
        "\n",
        "dados = pd.read_csv(\"3367\")\n",
        "kml = dados.mpg.div(2.352)\n",
        "dados[\"kml\"] = kml\n",
        "dados.kml.hist()\n",
        "dados.kml.describe()"
      ],
      "metadata": {
        "colab": {
          "base_uri": "https://localhost:8080/"
        },
        "id": "LJB3sxQVQhT3",
        "outputId": "07a6ce70-1158-4155-9db6-09019174f904"
      },
      "execution_count": null,
      "outputs": [
        {
          "output_type": "stream",
          "name": "stdout",
          "text": [
            "--2023-12-15 16:02:11--  https://dasl.datadescription.com/download/data/3367\n",
            "Resolving dasl.datadescription.com (dasl.datadescription.com)... 45.79.130.90\n",
            "Connecting to dasl.datadescription.com (dasl.datadescription.com)|45.79.130.90|:443... connected.\n",
            "HTTP request sent, awaiting response... 200 OK\n",
            "Length: 685 [text/plain]\n",
            "Saving to: ‘3367’\n",
            "\n",
            "3367                100%[===================>]     685  --.-KB/s    in 0s      \n",
            "\n",
            "2023-12-15 16:02:12 (87.0 MB/s) - ‘3367’ saved [685/685]\n",
            "\n"
          ]
        },
        {
          "output_type": "execute_result",
          "data": {
            "text/plain": [
              "count    100.000000\n",
              "mean       9.528907\n",
              "std        1.040449\n",
              "min        6.243197\n",
              "25%        8.861395\n",
              "50%        9.375425\n",
              "75%       10.197385\n",
              "max       11.979167\n",
              "Name: kml, dtype: float64"
            ]
          },
          "metadata": {},
          "execution_count": 1
        },
        {
          "output_type": "display_data",
          "data": {
            "text/plain": [
              "<Figure size 640x480 with 1 Axes>"
            ],
            "image/png": "[encoded data removed]"
          },
          "metadata": {}
        }
      ]
    },
    {
      "cell_type": "markdown",
      "source": [
        "Gilton fará uma viagem de 500 km. Sabendo que o tanque de combustível de seu carro é de 70 litros, que ele encheu o tanque antes de partir, e que ele não fará paradas para repor combustível, calcule a probabilidade de Gilton ficar sem combustível na viagem."
      ],
      "metadata": {
        "id": "ooTak2N0Qpr0"
      }
    },
    {
      "cell_type": "markdown",
      "source": [
        "##Solução"
      ],
      "metadata": {
        "id": "7ppkfzGxeBTG"
      }
    },
    {
      "cell_type": "markdown",
      "source": [
        "Assumindo que a eficência ($E$) é uma VA, iremos primeiramente construir a VA do rendimento do carro ($R$, em Km) com um tanque de 70 litros, para isso fazemos $R = 70 \\times E$. Abaixo fazemos isso e observamos a distribuição. Observe que a mudança que fizemos não altera a forma geral da distribuição."
      ],
      "metadata": {
        "id": "JFGGUVTzRBJ8"
      }
    },
    {
      "cell_type": "code",
      "source": [
        "rend=dados.kml.mul(70)\n",
        "dados[\"rend\"]=rend\n",
        "dados.rend.hist()\n",
        "dados.rend.describe()"
      ],
      "metadata": {
        "colab": {
          "base_uri": "https://localhost:8080/"
        },
        "id": "bJLDN-yrRR01",
        "outputId": "7b83d641-7f9e-4fa2-c7d2-82df369a1242"
      },
      "execution_count": null,
      "outputs": [
        {
          "output_type": "execute_result",
          "data": {
            "text/plain": [
              "count    100.000000\n",
              "mean     667.023512\n",
              "std       72.831461\n",
              "min      437.023810\n",
              "25%      620.297619\n",
              "50%      656.279762\n",
              "75%      713.816964\n",
              "max      838.541667\n",
              "Name: rend, dtype: float64"
            ]
          },
          "metadata": {},
          "execution_count": 2
        },
        {
          "output_type": "display_data",
          "data": {
            "text/plain": [
              "<Figure size 640x480 with 1 Axes>"
            ],
            "image/png": "[encoded data removed]"
          },
          "metadata": {}
        }
      ]
    },
    {
      "cell_type": "markdown",
      "source": [
        "A partir dos dados podemos calcular o percentual de $R$ cujo valor é menor do que 500 km, o que fazemos abaixo e obtemos uma probabilidade de ficar sem combustível de 2%."
      ],
      "metadata": {
        "id": "fZYU5Qc0S4SZ"
      }
    },
    {
      "cell_type": "code",
      "source": [
        "filtrado = dados[dados.rend < 500]\n",
        "print(filtrado.rend.count()/dados.rend.count())"
      ],
      "metadata": {
        "colab": {
          "base_uri": "https://localhost:8080/"
        },
        "id": "QAxVR9uTTDuB",
        "outputId": "aace0417-ff1a-44bf-b45a-b5d52dcbec9b"
      },
      "execution_count": null,
      "outputs": [
        {
          "output_type": "stream",
          "name": "stdout",
          "text": [
            "0.02\n"
          ]
        }
      ]
    },
    {
      "cell_type": "markdown",
      "source": [
        "Se o que temos é uma amostra, qual será este valor para a população?"
      ],
      "metadata": {
        "id": "OyupTG95U9q4"
      }
    },
    {
      "cell_type": "markdown",
      "source": [
        "# Modelando dados por distribuições de probabilidade"
      ],
      "metadata": {
        "id": "BQcTxPMbMCEG"
      }
    },
    {
      "cell_type": "markdown",
      "source": [
        "Algumas vezes precisamos encontrar um modelo para um conjunto de dados. Por exemplo, como uma etapa para criar um modelo de analítico ou de simulação.\n",
        "\n",
        "<u>Distribuições de probabilidade são a forma mais simples de modelar um conjunto de dados 1D</u>, i.e., quando temos apenas uma única variável aleatória e não temos controle de quaisquer outros fatores que nela interfiram. Uma distribuição de probabilidade <u>é simples porque parte apenas da forma como os dados se distribuem</u>.\n",
        "\n",
        "Para tanto, dada uma amostra, realizamos 3 passos:\n",
        "\n",
        "1. Escolhemos uma distribuição de probabilidade\n",
        "2. Estimamos os parâmetros da distribuição escolhida a partir dos dados\n",
        "3. Verificamos a qualidade do ajuste\n",
        "\n",
        "Observe que podemos repetir estes passos para diferentes distribuições de probabilidade, fazendo com que o passo 1 não seja tão relevante. O passo 3 é feito por meio de um teste de aderência.\n",
        "\n"
      ],
      "metadata": {
        "id": "CKSYytqbMGtn"
      }
    },
    {
      "cell_type": "markdown",
      "source": [
        "#Estimativa por Máxima Verossimilhança"
      ],
      "metadata": {
        "id": "rRm5Gnm_UQua"
      }
    },
    {
      "cell_type": "markdown",
      "source": [
        "Dada uma amostra de dados $X=\\{x_1,x_2,\\ldots,x_n\\}$ de tamanho $n$ e uma distribuição candidata $D$ com $p$ parâmetros $\\theta=(\\theta_1,\\theta_2,\\ldots,\\theta_p)$, podemos calcular a probabilidade de obtermos a amostra $X$.\n",
        "\n",
        "Observe que para um único valor $x_i$ da amostra, podemos definir a probabilidade de obtê-lo dado um vetor de parâmetros $\\theta$ como sendo\n",
        "$P_D(x_i|\\theta)$. Assumindo que os dados são **independente e identicamente distribuídos** (iid), então cada item da amostra foi obtido de forma independente da mesma distribuição de probabilidade. Assim, podemos calcular a probabilidade de obtermos a amostra pela **função de probabilidade conjunta**, que será um produto dos termos\n",
        "\n",
        "$L(\\theta) = \\prod_{i=1}^{n}P_D(x_i|\\theta)$\n",
        "\n",
        "Portanto $L(\\theta)$ é a **função de verossimilhança** (em inglês, *likelihood*) da amostra $X$, e nós queremos encontrar $\\hat{\\theta}$ que maximiza esta função. Formalmente o Estimador de Máxima Verossimilhança (MLE - *Maximum Likelihood Estimator*) é\n",
        "\n",
        "$\\hat{\\theta} = \\text{arg max}_{\\theta} L(\\theta)$.\n",
        "\n",
        "Como a distribuição de probabilidade é escolhida a priori, calcular esta função é possível. Contudo, para encontrar o ponto de máximo, precisamos encontrar a derivada de um produto o que facilmente nos leva a expressões bem complicadas. Uma forma de solucionar isso é **tomarmos o logaritmo da verossimilhança**, transformando o produto em uma soma e facilitando o cálculo.\n",
        "\n",
        "$\\hat{\\theta} = \\text{arg max}_{\\theta} \\; \\text{log}L(\\theta)$."
      ],
      "metadata": {
        "id": "nkiP8vtdUYaz"
      }
    },
    {
      "cell_type": "markdown",
      "source": [
        "## Exemplo (Binomial)\n",
        "Em $n$ jogadas independentes de uma moeda você observou $k$ caras. Este é um experimento Binomial, sabendo disso use o princípio de máxima verossimilhança para estimar $p$."
      ],
      "metadata": {
        "id": "7mfCrAAcYzMM"
      }
    },
    {
      "cell_type": "markdown",
      "source": [
        "**Solução**: O parâmetro desconhecido $\\theta = p$. Então, nossa função de verossimilhança é\n",
        "\n",
        "$L(\\theta) = P(X=k|n,\\theta) \\\\\n",
        "L(\\theta) = \\binom{N}{k}\\theta^k(1-\\theta)^{(n-k)} \\\\\n",
        "\\log{L(\\theta)} = \\log{\\binom{N}{k}} + k\\log{\\theta} + (n-k)\\log{(1-\\theta)}$\n",
        "\n",
        "Para encontrarmos o valor de $\\theta$ que maximiza a função, fazemos:\n",
        "\n",
        "$\\frac{\\partial \\log{L(\\theta)}}{\\partial \\theta} = 0$\n",
        "\n",
        "Logo,\n",
        "\n",
        "$\\frac{k}{\\theta} - \\frac{n-k}{1-\\theta} = 0 \\\\\n",
        "\\frac{k}{\\theta} = \\frac{n-k}{1-\\theta} \\\\\n",
        "k(1-\\theta) = (n-k)\\theta \\\\\n",
        "n\\theta = k \\Rightarrow \\hat{\\theta} = \\frac{k}{n} = p$\n",
        "\n",
        "O método MLE produz um resultado que é natural para a maioria das pessoas. Isto significa que esta forma simples de estimativa do parâmetro $p$ é também o Estimador de Máxima Verossimilhança deste parâmetro da distribuição binomial."
      ],
      "metadata": {
        "id": "Kke6nT7CZcFl"
      }
    },
    {
      "cell_type": "markdown",
      "source": [
        "## Exemplo (Normal)\n",
        "Dado um conjunto de dados $x_1,\\ldots,x_n$ que nós queremos modelar por uma distribuição normal. Use o MLE para estimar a média e o desvio da distribuição normal."
      ],
      "metadata": {
        "id": "bRneVPMAd8C9"
      }
    },
    {
      "cell_type": "markdown",
      "source": [
        "**Solução**: Neste caso, faremos $\\mu = \\theta_1$ e $\\sigma = \\theta_2$. Assim, a função de verossimilhança deste conjunto de dados é dada por\n",
        "\n",
        "$L(\\theta_1,\\theta_2) = P(x_1,\\ldots,x_n|\\theta_1,\\theta_2) \\\\\n",
        "L(\\theta_1,\\theta_2) = \\prod_{i=1}^{n} \\frac{1}{\\sqrt{2\\pi\\theta_2}} e^{-\\frac{(x_i-\\theta_1)^2}{2\\theta_2^2}} \\\\\n",
        "\\log{L(\\theta_1,\\theta_2)} = \\sum_{i=1}^{n} (\\log{\\frac{1}{\\sqrt{2\\pi\\theta_2}}} -\\frac{(x_i-\\theta_1)^2}{2\\theta_2^2}) \\\\\n",
        "\\log{L(\\theta_1,\\theta_2)} = \\sum_{i=1}^{n} -\\frac{(x_i-\\theta_1)^2}{2\\theta_2^2} + n\\log{1}-n\\log{\\sqrt{2\\pi\\theta_2}} \\\\\n",
        "\\log{L(\\theta_1,\\theta_2)} = \\frac{1}{2\\theta_2^2}\\sum_{i=1}^{n} -(x_i-\\theta_1)^2 -\\frac{n}{2}\\log{2\\pi}-\\frac{n}{2}\\log{\\theta_2}$\n",
        "\n",
        "Solucionando para $\\theta_1$:\n",
        "\n",
        "$\\frac{\\partial \\log{L(\\theta_1,\\theta_2)}}{\\partial \\theta_1} = 0 \\\\\n",
        "\\frac{1}{2\\theta_2^2}\\sum_{i=1}^{n} 2(x_i-\\theta_1)=0 \\\\\n",
        "\\sum_{i=1}^{n} (x_i-\\theta_1)=0 \\\\\n",
        "\\sum_{i=1}^{n}x_i - n\\theta_1 =0 \\Rightarrow \\hat{\\theta_1} = \\frac{\\sum_{i=1}^{n}x_i}{n} = \\bar{x}$\n",
        "\n",
        "Solucionando para $\\theta_2$:\n",
        "\n",
        "$\\frac{\\partial \\log{L(\\theta_1,\\theta_2)}}{\\partial \\theta_2} = 0 \\\\\n",
        "\\frac{-2\\sum_{i=1}^{n} -(x_i-\\theta_1)^2}{2\\theta_2^3} -\\frac{n}{2\\theta_2} = 0 \\\\\n",
        "\\frac{\\sum_{i=1}^{n} (x_i-\\theta_1)^2}{2\\theta_2^3} = \\frac{n}{2\\theta_2} \\\\\n",
        "\\theta_2^2 = \\frac{\\sum_{i=1}^{n} (x_i-\\theta_1)^2}{n} \\\\\n",
        "\\theta_2 = \\pm \\sqrt{\\frac{\\sum_{i=1}^{n} (x_i-\\theta_1)^2}{n}}$\n",
        "\n",
        "\n",
        "Assim vemos que a média e o desvio-padrão (não ajustado) de uma amostra são os estimadores de máxima verossimilhança de uma distribuição normal."
      ],
      "metadata": {
        "id": "hifXqjtXePQh"
      }
    },
    {
      "cell_type": "markdown",
      "source": [
        "## Exemplo (MLE Numericamente)\n",
        "\n",
        "Nem sempre é tratável termos a solução algébrica do MLE para uma distribuição de probabilidade. Nestes casos, podemos obter a estimativa dos parâmetros por meio de otimização numérica.\n",
        "\n",
        "Abaixo nós mostramos como fazer isso."
      ],
      "metadata": {
        "id": "73lnNh6hnUBQ"
      }
    },
    {
      "cell_type": "markdown",
      "source": [
        "**Solução**: Comecemos gerando uma amostra de uma distribuição normal de tamanho 30 com média 10 e desvio-padrão 2. Esta será nossa amostra de teste para demonstrar o método.\n",
        "\n"
      ],
      "metadata": {
        "id": "MPc_RGuyn4sL"
      }
    },
    {
      "cell_type": "code",
      "source": [
        "import scipy.stats as st\n",
        "\n",
        "X = st.norm.rvs(10,2,size=30)"
      ],
      "metadata": {
        "id": "VJNpvTNaoHYe"
      },
      "execution_count": null,
      "outputs": []
    },
    {
      "cell_type": "markdown",
      "source": [
        "Suponha então que queremos ajustar uma distribuição normal aos dados, estimando os parâmetros $\\mu$ e $\\sigma$ por meio do método da máxima verossimilhança. A biblioteca ```scipy``` já traz um método para cada distribuição em que podemos acessar o log da pdf da distribuição, de modo que não precisaremos computar manualmente.\n",
        "\n",
        "Assim, definimos a função que vai ser otimizada. Observe que modificamos a soma para um número negativo, de modo a podermos minimizar a função, já que a biblioteca que usaremos para otimização numérica suporta minimização."
      ],
      "metadata": {
        "id": "-5YDeq_koRJK"
      }
    },
    {
      "cell_type": "code",
      "source": [
        "def L_(theta,x):\n",
        "  return -sum(st.norm.logpdf(x,theta[0],theta[1]))"
      ],
      "metadata": {
        "id": "a7OSyQ51o-BN"
      },
      "execution_count": null,
      "outputs": []
    },
    {
      "cell_type": "markdown",
      "source": [
        "O próximo passo é encontrar as estimativas de $\\mu$ e $\\sigma$ que otimizam a função de verossimilhança."
      ],
      "metadata": {
        "id": "AL3adaTYuDMn"
      }
    },
    {
      "cell_type": "code",
      "source": [
        "from scipy.optimize import minimize\n",
        "import numpy as np\n",
        "\n",
        "resp = minimize(L_,np.array([0.1,0.1]),args=(X), method = 'Nelder-Mead')\n",
        "print(resp.message)\n",
        "print(resp.x[0],resp.x[1])"
      ],
      "metadata": {
        "colab": {
          "base_uri": "https://localhost:8080/"
        },
        "id": "imavQvrrt3f-",
        "outputId": "b8e73d6d-c171-4b35-a32d-f40bd7bd7377"
      },
      "execution_count": null,
      "outputs": [
        {
          "output_type": "stream",
          "name": "stdout",
          "text": [
            "Optimization terminated successfully.\n",
            "9.759988194492554 1.9888380050890722\n"
          ]
        }
      ]
    },
    {
      "cell_type": "markdown",
      "source": [
        "Abaixo usamos um método da biblioteca ```scipy``` que obtém os parâmetros da distribuição por meio da máxima verossimilhança (funciona para outras distribuições existentes na ```scipy```)."
      ],
      "metadata": {
        "id": "v8rcnWkDvmMn"
      }
    },
    {
      "cell_type": "code",
      "source": [
        "print(st.norm.fit(X))"
      ],
      "metadata": {
        "colab": {
          "base_uri": "https://localhost:8080/"
        },
        "id": "0N-kSxrBE3H5",
        "outputId": "ba7a3921-2caa-4846-ec9e-e2de8639c420"
      },
      "execution_count": null,
      "outputs": [
        {
          "output_type": "stream",
          "name": "stdout",
          "text": [
            "(9.760028260249415, 1.98880187263641)\n"
          ]
        }
      ]
    },
    {
      "cell_type": "markdown",
      "source": [
        "Abaixo podemos ver os dados e a qualidade da distribuição estimada."
      ],
      "metadata": {
        "id": "glSrexQzE6nY"
      }
    },
    {
      "cell_type": "code",
      "source": [
        "import matplotlib.pyplot as plt\n",
        "\n",
        "sup = np.linspace(min(X),max(X),1000)\n",
        "f=st.norm.pdf(sup,resp.x[0],resp.x[1])\n",
        "\n",
        "plt.hist(X,label=\"dados\",density=True)\n",
        "plt.plot(sup,f,label=\"normal\")\n",
        "plt.legend()\n",
        "plt.show()"
      ],
      "metadata": {
        "colab": {
          "base_uri": "https://localhost:8080/"
        },
        "id": "yqBk7WEgvshi",
        "outputId": "c00ce43b-6348-485c-e959-b16513e586b7"
      },
      "execution_count": null,
      "outputs": [
        {
          "output_type": "display_data",
          "data": {
            "text/plain": [
              "<Figure size 640x480 with 1 Axes>"
            ],
            "image/png": "[encoded data removed]"
          },
          "metadata": {}
        }
      ]
    },
    {
      "cell_type": "markdown",
      "source": [
        "# Como saber se o modelo é adequado?"
      ],
      "metadata": {
        "id": "85sGtTFzF1XJ"
      }
    },
    {
      "cell_type": "markdown",
      "source": [
        "Neste caso devemos usar um **teste de aderência** para verificar se os dados aderem à distribuição. Aqui usamos o **teste qui-quadrado**, neste teste construímos a frequência observada e a frequência esperada com base na distribuição. A **hipótese nula deste teste é que os dados seguem a distribuição em análise**.\n",
        "\n",
        "Os dados são distribuídos em grupos e deve-se garantir que em cada grupo **haja pelo menos 5 amostras** tanto na frequência observada quanto na freqência esperada. Caso não seja possível acumular 5 amostras (o que é comum acontecer nas caudas), pode-se juntar dois ou mais grupos.\n",
        "\n",
        "Mais sobre o teste pode [ser visto aqui](https://www.itl.nist.gov/div898/handbook/eda/section3/eda35f.htm)."
      ],
      "metadata": {
        "id": "UVPyFDiUe4dG"
      }
    },
    {
      "cell_type": "markdown",
      "source": [
        "##Exemplo (normal)\n",
        "\n",
        "Considerando os dados e o ajuste gerados no exemplo anterior, faça um teste de aderência para verificar a qualidade do ajuste."
      ],
      "metadata": {
        "id": "oYm11QWEhEKq"
      }
    },
    {
      "cell_type": "markdown",
      "source": [
        "**Solução**: Abaixo nós tomamos os valores ajustados de $\\mu$ e $\\sigma$ bem como a amostra.\n",
        "\n",
        "O primeiro passo é definir os grupos. Neste caso, observamos o histograma dos dados e criamos os seguintes intervalos: $[4.46,8.5]$, $]8.5,10]$, $]10,11.5]$, $[11.5,14.62]$. Estes intervalos são usados para criar o vetor contendo a frequência observada (```obs```) e o vetor com a frequência esperada (```esp```).\n",
        "\n",
        "Observe que o intervalo é arbitrário e foi criado de modo que houvesse uma quantidade mínima de valores em cada grupo.\n",
        "\n",
        "Utilizamos o método ```chisquare()``` para computar a estatística do teste e o valor p."
      ],
      "metadata": {
        "id": "cU1-ZxSEhkDW"
      }
    },
    {
      "cell_type": "code",
      "source": [
        "mu = resp.x[0]\n",
        "sigma = resp.x[1]\n",
        "\n",
        "X.sort()\n",
        "splitarray = [min(X),8.5,10,11.5,max(X)]\n",
        "print(splitarray)\n",
        "\n",
        "obs=[0]*(len(splitarray)-1)\n",
        "esp=[0]*(len(splitarray)-1)\n",
        "\n",
        "for x in X:\n",
        "  for i in range(len(obs)):\n",
        "    if x <= splitarray[i+1]:\n",
        "      obs[i] += 1\n",
        "      break\n",
        "\n",
        "for i in range(len(obs)):\n",
        "  sup = st.norm.cdf(splitarray[i+1],mu,sigma)\n",
        "  inf = st.norm.cdf(splitarray[i],mu,sigma)\n",
        "  p = sup-inf\n",
        "  esp[i] = len(X)*p\n",
        "\n",
        "print(obs)\n",
        "print(esp)\n",
        "(chi_stat, p_value) = st.chisquare(obs,esp,ddof=len(resp.x))\n",
        "print(chi_stat)\n",
        "print(p_value)"
      ],
      "metadata": {
        "colab": {
          "base_uri": "https://localhost:8080/",
          "height": 460
        },
        "id": "rmmlRQ1TF62A",
        "outputId": "11e602c5-5314-4fd8-bdca-ee4f246e0364"
      },
      "execution_count": null,
      "outputs": [
        {
          "output_type": "stream",
          "name": "stdout",
          "text": [
            "[5.33241988335801, 8.5, 10, 11.5, 14.18124043789467]\n",
            "[9, 9, 6, 6]\n",
            "[7.505812491510795, 8.545009873161835, 7.834657076746886, 5.331313634284426]\n"
          ]
        },
        {
          "output_type": "error",
          "ename": "ValueError",
          "evalue": "ignored",
          "traceback": [
            "\u001b[0;31m---------------------------------------------------------------------------\u001b[0m",
            "\u001b[0;31mValueError\u001b[0m                                Traceback (most recent call last)",
            "\u001b[0;32m<ipython-input-9-a0d63ebdc43d>\u001b[0m in \u001b[0;36m<cell line: 25>\u001b[0;34m()\u001b[0m\n\u001b[1;32m     23\u001b[0m \u001b[0mprint\u001b[0m\u001b[0;34m(\u001b[0m\u001b[0mobs\u001b[0m\u001b[0;34m)\u001b[0m\u001b[0;34m\u001b[0m\u001b[0;34m\u001b[0m\u001b[0m\n\u001b[1;32m     24\u001b[0m \u001b[0mprint\u001b[0m\u001b[0;34m(\u001b[0m\u001b[0mesp\u001b[0m\u001b[0;34m)\u001b[0m\u001b[0;34m\u001b[0m\u001b[0;34m\u001b[0m\u001b[0m\n\u001b[0;32m---> 25\u001b[0;31m \u001b[0;34m(\u001b[0m\u001b[0mchi_stat\u001b[0m\u001b[0;34m,\u001b[0m \u001b[0mp_value\u001b[0m\u001b[0;34m)\u001b[0m \u001b[0;34m=\u001b[0m \u001b[0mst\u001b[0m\u001b[0;34m.\u001b[0m\u001b[0mchisquare\u001b[0m\u001b[0;34m(\u001b[0m\u001b[0mobs\u001b[0m\u001b[0;34m,\u001b[0m\u001b[0mesp\u001b[0m\u001b[0;34m,\u001b[0m\u001b[0mddof\u001b[0m\u001b[0;34m=\u001b[0m\u001b[0mlen\u001b[0m\u001b[0;34m(\u001b[0m\u001b[0mresp\u001b[0m\u001b[0;34m.\u001b[0m\u001b[0mx\u001b[0m\u001b[0;34m)\u001b[0m\u001b[0;34m)\u001b[0m\u001b[0;34m\u001b[0m\u001b[0;34m\u001b[0m\u001b[0m\n\u001b[0m\u001b[1;32m     26\u001b[0m \u001b[0mprint\u001b[0m\u001b[0;34m(\u001b[0m\u001b[0mchi_stat\u001b[0m\u001b[0;34m)\u001b[0m\u001b[0;34m\u001b[0m\u001b[0;34m\u001b[0m\u001b[0m\n\u001b[1;32m     27\u001b[0m \u001b[0mprint\u001b[0m\u001b[0;34m(\u001b[0m\u001b[0mp_value\u001b[0m\u001b[0;34m)\u001b[0m\u001b[0;34m\u001b[0m\u001b[0;34m\u001b[0m\u001b[0m\n",
            "\u001b[0;32m/usr/local/lib/python3.10/dist-packages/scipy/stats/_stats_py.py\u001b[0m in \u001b[0;36mchisquare\u001b[0;34m(f_obs, f_exp, ddof, axis)\u001b[0m\n\u001b[1;32m   8252\u001b[0m \u001b[0;34m\u001b[0m\u001b[0m\n\u001b[1;32m   8253\u001b[0m     \"\"\"  # noqa\n\u001b[0;32m-> 8254\u001b[0;31m     return power_divergence(f_obs, f_exp=f_exp, ddof=ddof, axis=axis,\n\u001b[0m\u001b[1;32m   8255\u001b[0m                             lambda_=\"pearson\")\n\u001b[1;32m   8256\u001b[0m \u001b[0;34m\u001b[0m\u001b[0m\n",
            "\u001b[0;32m/usr/local/lib/python3.10/dist-packages/scipy/stats/_stats_py.py\u001b[0m in \u001b[0;36mpower_divergence\u001b[0;34m(f_obs, f_exp, ddof, axis, lambda_)\u001b[0m\n\u001b[1;32m   8049\u001b[0m                    \u001b[0;34mf\"of {rtol}, but the percent differences are:\\n\"\u001b[0m\u001b[0;34m\u001b[0m\u001b[0;34m\u001b[0m\u001b[0m\n\u001b[1;32m   8050\u001b[0m                    f\"{relative_diff}\")\n\u001b[0;32m-> 8051\u001b[0;31m             \u001b[0;32mraise\u001b[0m \u001b[0mValueError\u001b[0m\u001b[0;34m(\u001b[0m\u001b[0mmsg\u001b[0m\u001b[0;34m)\u001b[0m\u001b[0;34m\u001b[0m\u001b[0;34m\u001b[0m\u001b[0m\n\u001b[0m\u001b[1;32m   8052\u001b[0m \u001b[0;34m\u001b[0m\u001b[0m\n\u001b[1;32m   8053\u001b[0m     \u001b[0;32melse\u001b[0m\u001b[0;34m:\u001b[0m\u001b[0;34m\u001b[0m\u001b[0;34m\u001b[0m\u001b[0m\n",
            "\u001b[0;31mValueError\u001b[0m: For each axis slice, the sum of the observed frequencies must agree with the sum of the expected frequencies to a relative tolerance of 1e-08, but the percent differences are:\n0.026806738243539744"
          ]
        }
      ]
    },
    {
      "cell_type": "markdown",
      "source": [
        "Com base no p-valor não podemos rejeitar a hipótese de normalidade."
      ],
      "metadata": {
        "id": "OCZFBVUblnyF"
      }
    },
    {
      "cell_type": "markdown",
      "source": [
        "## Exemplo (exponencial)\n",
        "\n",
        "Considerando os dados do exemplo anterior, será que poderíamos ajustar uma distribuição exponencial a estes dados?"
      ],
      "metadata": {
        "id": "SLDBnaKLhal3"
      }
    },
    {
      "cell_type": "markdown",
      "source": [
        "**Solução**: Aqui vamos computar primeiramente o parâmetro $\\lambda$ da distribuição exponencial e com base nisso computar a frequência esperada, dado que já temos a frequência observada.\n",
        "\n",
        "Para não haver viés usaremos os mesmo grupos utilizados na comparação com a normal."
      ],
      "metadata": {
        "id": "uOr-qAZqjRup"
      }
    },
    {
      "cell_type": "code",
      "source": [
        "loc,sca=st.expon.fit(X,floc=0)\n",
        "lambd = 1/sca\n",
        "\n",
        "sup = np.linspace(min(X),max(X),1000)\n",
        "f=st.expon.pdf(sup,scale=1/lambd)\n",
        "\n",
        "plt.hist(X,label=\"dados\",density=True)\n",
        "plt.plot(sup,f,label=\"Exponencial\")\n",
        "plt.legend()\n",
        "plt.show()\n",
        "\n",
        "\n",
        "esp=[0]*(len(splitarray)-1)\n",
        "\n",
        "for i in range(len(obs)):\n",
        "  sup = st.expon.cdf(splitarray[i+1],scale=1/lambd)\n",
        "  inf = st.expon.cdf(splitarray[i],scale=1/lambd)\n",
        "  p = sup-inf\n",
        "  esp[i] = len(X)*p\n",
        "\n",
        "print(obs)\n",
        "print(esp)\n",
        "(chi_stat, p_value) = st.chisquare(obs,esp,ddof=len(resp.x))\n",
        "print(chi_stat)\n",
        "print(p_value)"
      ],
      "metadata": {
        "id": "A4XIhXCTjl7f"
      },
      "execution_count": null,
      "outputs": []
    },
    {
      "cell_type": "markdown",
      "source": [
        "Com base no p-valor podemos rejeitar a hipótese de que os dados seguem uma distribuição exponencial."
      ],
      "metadata": {
        "id": "X3VpuaJWlsSc"
      }
    },
    {
      "cell_type": "markdown",
      "source": [
        "## Exemplo (Combustível)\n",
        "\n",
        "O resultado obtido no exemplo (2%) vem diretamente da amostra, mas seria interessante observar o que a distribuição da população nos diz. Como podemos fazer isso?"
      ],
      "metadata": {
        "id": "Q_GDE5uukvmI"
      }
    },
    {
      "cell_type": "markdown",
      "source": [
        "**Solução**: Assumindo que a amostra tem a mesma distribuição da população, podemos então tentar ajustar uma distribuição aos dados.\n",
        "\n",
        "Por se tratar de uma distribuição contínua, iremos testar 5 distribuições contínuas diferentes: Uniforme (sabemos que os dados não seguem uma uniforme, mas vale o exercício); Gamma; Exponencial; Weibull; e Normal.\n",
        "\n",
        "Ao final veremos qual delas melhor se ajusta aos dados. Para isso, usaremos a comparação do histograma com a distribuição de densidade da distribuição de probabilidade ajustada e, em um primeiro momento, o **teste Kolmogorov-Smirnov**."
      ],
      "metadata": {
        "id": "urgSSO6_ltgM"
      }
    },
    {
      "cell_type": "code",
      "source": [
        "def grafico(x,sup,f,nome):\n",
        "  plt.hist(x,label=\"dados\",density=True)\n",
        "  plt.plot(sup,f,label=nome)\n",
        "  plt.legend()\n",
        "  plt.show()\n",
        "\n",
        "sup = np.linspace(min(dados.rend),max(dados.rend),1000)\n",
        "\n",
        "params = st.uniform.fit(dados.rend)\n",
        "grafico(dados.rend,sup,st.uniform.pdf(sup,params[0],params[1]),\"uniforme\")\n",
        "print(\"Uniforme\",params,st.kstest(dados.rend,st.uniform.cdf,params))\n",
        "\n",
        "params = st.gamma.fit(dados.rend)\n",
        "grafico(dados.rend,sup,st.gamma.pdf(sup,params[0],params[1],params[2]),\"gama\")\n",
        "print(\"Gama\",params,st.kstest(dados.rend,st.gamma.cdf,params))\n",
        "\n",
        "params = st.expon.fit(dados.rend)\n",
        "grafico(dados.rend,sup,st.expon.pdf(sup,params[0],params[1]),\"exponencial\")\n",
        "print(\"Exponencial\",params,st.kstest(dados.rend,st.expon.cdf,params))\n",
        "\n",
        "params = st.weibull_min.fit(dados.rend)\n",
        "grafico(dados.rend,sup,st.weibull_min.pdf(sup,params[0],params[1],params[2]),\"weibull\")\n",
        "print(\"Weibull\",params,st.kstest(dados.rend,st.weibull_min.cdf,params))\n",
        "\n",
        "params = st.norm.fit(dados.rend)\n",
        "grafico(dados.rend,sup,st.norm.pdf(sup,params[0],params[1]),\"normal\")\n",
        "print(\"Normal\",params,st.kstest(dados.rend,st.norm.cdf,params))"
      ],
      "metadata": {
        "id": "mvocARvWULnT"
      },
      "execution_count": null,
      "outputs": []
    },
    {
      "cell_type": "markdown",
      "source": [
        "Os resultados indicam que as distribuições Normal e Gama tem um bom ajuste. Contudo, uma distribuição Gama converge para uma distribuição normal quando $k$ (que é o primeiro parâmetro) é muito grande, o que é o caso. Por isso, poderíamos escolher uma distribuição normal com $\\mu=667$ e $\\sigma=72.47$.\n",
        "\n",
        "Observe que o **teste KS perde poder quando os parâmetros da distribuição testada foram estimados**. Contudo, usamos este teste em primeiro lugar por se tratar de um teste de simples aplicação, já que não precisamos computar os intervalos de forma arbitrária. Como último passo, validaremos o resultado do ajuste à distribuição normal por meio do teste qui-quadrado."
      ],
      "metadata": {
        "id": "FRizs9gqaXf1"
      }
    },
    {
      "cell_type": "code",
      "source": [
        "mu = params[0]\n",
        "sigma = params[1]\n",
        "\n",
        "X = dados.rend.values\n",
        "\n",
        "X.sort()\n",
        "splitarray = [min(X),560,600,625,640,650,675,700,725,750,max(X)]\n",
        "print(splitarray)\n",
        "\n",
        "obs=[0]*(len(splitarray)-1)\n",
        "esp=[0]*(len(splitarray)-1)\n",
        "\n",
        "for x in X:\n",
        "  for i in range(len(obs)):\n",
        "    if x <= splitarray[i+1]:\n",
        "      obs[i] += 1\n",
        "      break\n",
        "\n",
        "for i in range(len(obs)):\n",
        "  sup = st.norm.cdf(splitarray[i+1],mu,sigma)\n",
        "  inf = st.norm.cdf(splitarray[i],mu,sigma)\n",
        "  p = sup-inf\n",
        "  esp[i] = len(X)*p\n",
        "\n",
        "print(obs)\n",
        "print(esp)\n",
        "(chi_stat, p_value) = st.chisquare(obs,esp,ddof=len(params))\n",
        "print(chi_stat)\n",
        "print(p_value)"
      ],
      "metadata": {
        "id": "qovYnpnxbIyG"
      },
      "execution_count": null,
      "outputs": []
    },
    {
      "cell_type": "markdown",
      "source": [
        "Com base nisso podemos calcular $P(R \\lt 500) = F_{N(667;72.47)}(500) = 1\\%$. Observe que a probabilidade estimada pelo modelo normal é metade do valor estimado diretamente da amostra."
      ],
      "metadata": {
        "id": "Fd7o8udVcwMq"
      }
    },
    {
      "cell_type": "code",
      "source": [
        "print(\"Probabilidade de ficar sem combustível é\",st.norm.cdf(500,667,72.47))"
      ],
      "metadata": {
        "id": "vP0SGaWbc_IH"
      },
      "execution_count": null,
      "outputs": []
    },
    {
      "cell_type": "markdown",
      "source": [
        "#Cuidados com MLE\n",
        "\n",
        "* MLE é bastante usada por ser **consistente**, i.e., para grandes conjuntos de dados os parâmetros estimados se aproximam bastante do modelo real, caso a distribuição escolhida seja a correta.\n",
        "* **MLE pode apresentar problema para pequenos conjuntos de dados**. Observe que uma amostra pequena pode não ser suficiente para detectar comportamentos mais raros e pode sobrestimar ou subestimar comportamentos não tão raros.\n",
        "* A depender da função de verossimilhança, **pode ser difícil encontrar seu máximo**, mesmo com os avançados métodos numéricos existentes hoje."
      ],
      "metadata": {
        "id": "ZiY3NKRziU2L"
      }
    },
    {
      "cell_type": "markdown",
      "source": [
        "# Bônus: Solução alternativa ao problema do combustível\n"
      ],
      "metadata": {
        "id": "39zZwfsSBAxr"
      }
    },
    {
      "cell_type": "markdown",
      "source": [
        "O problema pode ser posto da seguinte forma: **estime a probabilidade de ficar sem combustível durante a viagem de 500 Km**, considerando a amostra oferecida.\n",
        "\n",
        "Neste caso, sabemos que o melhor estimador para esta proporção é justamente a contagem do número de casos em que a eficiência em quilômetros com um tanque de 70 litros é menor do que 500 e dividimos pelo tamanho da amostra. Este valor foi calculado como $\\hat{p} = 0.02$.\n",
        "\n",
        "A partir deste valor, podemos oferecer uma estimativa intervalar do resultado, calculando um intervalo de confiança para a proporção considerando 95% de confiança.\n",
        "\n",
        "Inicialmente calculamos o erro padrão: $\\text{ep} = \\sqrt{\\frac{p(1-p)}{n}} = \\sqrt{\\frac{0.02\\times 0.98}{100}} = 0.014$\n",
        "\n",
        "O intervalo é dado por: $0.02 \\pm 1.96 \\times 0.014 = 0.02 \\pm 0.02744 \\Rightarrow (0;0.04744)$"
      ],
      "metadata": {
        "id": "VIA7vAntBIRG"
      }
    }
  ]
}