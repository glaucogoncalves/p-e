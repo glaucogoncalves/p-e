{
  "nbformat": 4,
  "nbformat_minor": 0,
  "metadata": {
    "colab": {
      "provenance": [],
      "collapsed_sections": [
        "TDnHMkziRB4S",
        "esia0zNaulVg",
        "Ldx6vuh8wZzq",
        "VfrsaGm0e2id",
        "_FZ9_YBKyieX",
        "fSYE8U7KvspD",
        "K7bIz6QSYj6i",
        "S6rJu2ca3ERO",
        "r4xlDKokmROs",
        "7LObeORhnNCk",
        "ZIACxGnznc_A",
        "xFVa00qEnfHq",
        "wjtNqWQWnjOI"
      ]
    },
    "kernelspec": {
      "name": "python3",
      "display_name": "Python 3"
    },
    "language_info": {
      "name": "python"
    }
  },
  "cells": [
    {
      "cell_type": "markdown",
      "metadata": {
        "id": "kb9pbBJB1UKy"
      },
      "source": [
        "#Pergunta fundamental\n",
        "\n",
        "Qual a significância deste resultado?"
      ]
    },
    {
      "cell_type": "markdown",
      "source": [
        "#Importância das hipóteses\n",
        "\n"
      ],
      "metadata": {
        "id": "KgwPAe_h-Z6c"
      }
    },
    {
      "cell_type": "markdown",
      "source": [
        "Na ciência é comum elaborarmos hipóteses e testarmos estas hipóteses contra dados obtidos por meio de ensaios ou amostras de uma população. Esta é a base do método científico. Uma ferramenta fundamental neste processo é o teste de hipótese estatístico. Essa é uma das mais úteis ferramentas da inferência estatística, uma vez que muitos tipos de problemas de tomada de decisão, teste, ou experimentos no mundo da engenharia podem ser formulados como problemas de teste de hipóteses.\n",
        "\n",
        "Em um teste de hipótese nós estabelecemos duas hipóteses antagônicas (ex: a média da população é um certo valor; as médias destas populações são diferentes; etc) e, observando os dados de uma amostra aleatória, procuramos refutar (rejeitar) uma destas hipóteses, de modo que ou a outra será verdade, ou a amostra que temos é muito \"estranha\".\n",
        "\n",
        "Os testes de hipótese estatísticos são feitos sobre parâmetros das populações. Assim, considere que queremos saber se um certo parâmetro $\\theta$ de uma população é igual a um valor $\\theta_0$ (ex: será que o tempo médio de atendimento neste servidor é de 1 segundo?), esta será nossa **hipótese nula** ($H_0$) e é ela que tentaremos rejeitar. Ela tem a seguinte forma:\n",
        "\n",
        "$H_0 : \\theta =  \\theta_0$\n",
        "\n",
        "A hipótese que compete contra esta é chamada de **hipótese alternativa** ($H_a$, mas alguns textos podem usar o termo $H_1$) e pode ter uma das três formas abaixo:\n",
        "\n",
        "$H_a : \\theta \\neq  \\theta_0; \\, \\text{forma bilateral}\\\\\n",
        "H_a : \\theta \\lt  \\theta_0; \\, \\text{forma unilateral à esquerda}\\\\\n",
        "H_a : \\theta \\gt  \\theta_0; \\, \\text{forma unilateral à direita}$\n",
        "\n",
        "A hipótese nula sempre aparece como uma igualdade. Entretanto, quando $H_a$ for estabelecida com o sinal $\\lt$, a reivindicação implícita na hipótese nula será $\\geq$ e quando a $H_a$ for estabelecida com o sinal $\\gt$, a reivindicação implícita na hipótese nula será $\\leq$.\n",
        "\n",
        "A escolha por um ou outra hipótese alternativa deve ser feita de acordo com o problema em estudo. Deve-se observar que as formas unilaterais são mais restritivas do que a forma bilateral e portanto precisam de maior evidência na amostra para que a hipótese nula seja rejeitada."
      ],
      "metadata": {
        "id": "armZQiTzF6Oy"
      }
    },
    {
      "cell_type": "markdown",
      "source": [
        "#Como é construído um teste de hipótese?"
      ],
      "metadata": {
        "id": "rVf3HVZGF9bX"
      }
    },
    {
      "cell_type": "markdown",
      "source": [
        "Além das hipóteses, um teste de hipótese é feito sobre um **parâmetro de uma população**, o qual possui uma **distribuição amostral** conhecida. Assim, há uma conexão forte entre os testes de hipótese e os **intervalos de confiança**.\n",
        "\n",
        "A partir de uma amostra aleatória, um teste de hipótese constrói um intervalo para o parâmetro em estudo e estabelece a <u>probabilidade de termos um valor mais extremo do que o observado no intervalo, dado que a hipótese nula é verdadeira</u>. Podemos comparar esta probabilidade com um nível de significância ($\\alpha$) específico, sabendo que $\\alpha  = 1 - f$, em que $f$ é o nível de confiança escolhido."
      ],
      "metadata": {
        "id": "2Xe3Yj3hF2pp"
      }
    },
    {
      "cell_type": "markdown",
      "source": [
        "## Exemplo (QI das crianças)\n",
        "\n",
        "Para uma população de crianças com igual idade\n",
        "cronológica, deseja-se testar a hipótese de que a média\n",
        "populacional de seus QIs difere de 100. Para isto, aplicou-se o teste de QI a uma amostra de 400 crianças,\n",
        "obtendo-se um QI médio igual a 102. Supondo que o desvio padrão da população é conhecido e igual a 17,03, pode-se afirmar, ao nível de 5%, que o QI médio da população dessas crianças difere de 100?"
      ],
      "metadata": {
        "id": "rUhNF7t9SE5_"
      }
    },
    {
      "cell_type": "markdown",
      "source": [
        "**Solução**: A hipótese nula é de que $\\mu = 100$. Sendo esta hipótese verdadeira, sabemos que a distribuição da média amostral terá média $100$ e erro padrão $\\frac{17.03}{\\sqrt{400}}$.\n",
        "\n",
        "O próximo passo é verificarmos quão \"estranha\" é a média amostral que coletamos dado que esta hipótese nula é verdadeira. Assim, calculamos a probabilidade de vermos uma média amostral maior do que 102 (observe que isto é a média + 2), ou menor do que seu valor simétrico (100-2 = 98)."
      ],
      "metadata": {
        "id": "GPl4DPZ5S7g5"
      }
    },
    {
      "cell_type": "code",
      "source": [
        "import scipy.stats as st\n",
        "import matplotlib.pyplot as plt\n",
        "import numpy as np\n",
        "from math import sqrt\n",
        "\n",
        "mu = 100\n",
        "sigma = 17.03/sqrt(400)\n",
        "\n",
        "x = np.linspace(97,103,1000)\n",
        "fnorm = st.norm.pdf(x,mu,sigma)\n",
        "plt.plot(x,fnorm)\n",
        "\n",
        "x = np.linspace(97,98,100)\n",
        "ft = st.norm.pdf(x,mu,sigma)\n",
        "plt.fill_between(x,ft,alpha=0.5,color=\"b\")\n",
        "\n",
        "x = np.linspace(102,103,100)\n",
        "ft = st.norm.pdf(x,mu,sigma)\n",
        "plt.fill_between(x,ft,alpha=0.5,color=\"b\")\n",
        "\n",
        "plt.show()\n",
        "\n",
        "#=================\n",
        "\n",
        "sup = 1 - st.norm.cdf(102,mu,sigma)\n",
        "inf = st.norm.cdf(98,mu,sigma)\n",
        "\n",
        "print(\"Probabilidade de termos um valor mais extremo do que o observado: \", sup+inf)"
      ],
      "metadata": {
        "colab": {
          "base_uri": "https://localhost:8080/",
          "height": 447
        },
        "id": "hsml2ICMVVn8",
        "outputId": "d5313142-b12d-4736-bb45-41471e206704"
      },
      "execution_count": null,
      "outputs": [
        {
          "output_type": "display_data",
          "data": {
            "text/plain": [
              "<Figure size 640x480 with 1 Axes>"
            ],
            "image/png": "[encoded data removed]"
          },
          "metadata": {}
        },
        {
          "output_type": "stream",
          "name": "stdout",
          "text": [
            "Probabilidade de termos um valor mais extremo do que o observado:  0.01883421028149073\n"
          ]
        }
      ]
    },
    {
      "cell_type": "markdown",
      "source": [
        "A probabilidade que obtivemos é chamada de **p-valor** (*p-value*). Deste p-valor observamos que nossa amostra fornece pouca evidência para a hipótese de que $\\mu = 100$, porque se $H_0$ for verdadeira a probabilidade de termos, numa amostra de 400 crianças, uma média amostral como esta ou mais extrema é de $1.8\\%$, logo rejeitamos $H_0$."
      ],
      "metadata": {
        "id": "iyf5Y9TEX0qN"
      }
    },
    {
      "cell_type": "markdown",
      "source": [
        "## Exemplo (Bateria)\n",
        "\n",
        "Um fabricante de baterias de notebook afirma que suas baterias duram **em média** 9,1 horas. Uma análise feita por **6 consumidores** desta bateria reportou tempo de vida com média de 8,5 horas e desvio-padrão de 39 minutos.\n",
        "\n",
        "Faça um teste de hipótese para investigar se a alegação do fabricante é verdadeira."
      ],
      "metadata": {
        "id": "_7N-Ucp0oqtA"
      }
    },
    {
      "cell_type": "markdown",
      "source": [
        "**Solução**: Vamos elaborar duas hipóteses:\n",
        "\n",
        "$H_0: \\text{A média da população é de 9.1 horas} \\\\\n",
        "H_a: \\text{A média é diferente de 9.1 horas}$\n",
        "\n",
        "A pequena amostra nos obriga a usar um modelo diferente da distribuição normal, neste caso usamos uma distribuição T de Student com 5 graus de liberdade.\n",
        "\n",
        "Assumindo que $H_0$ é verdadeira, dizemos que $\\mu_0=9.1$ é a verdadeira média da população. Assim podemos calcular $t_0 = \\frac{\\hat{x}-\\mu_0}{\\frac{s}{\\sqrt{n}}}$, em que $\\hat{x}$ e $s$ são, respectivamente, a média e o desvio-padrão da amostra e $n$ é o tamanho da amostra.\n",
        "\n",
        "O próximo passo é verificarmos quão \"estranha\" é a amostra que coletamos dado que esta hipótese nula é verdadeira. Assim, calculamos a probabilidade de vermos uma média amostral maior do que $t_0$ ou menor do que seu valor simétrico $-t_0$.\n"
      ],
      "metadata": {
        "id": "DcTrDKQ4p0I-"
      }
    },
    {
      "cell_type": "code",
      "source": [
        "import scipy.stats as st\n",
        "import numpy as np\n",
        "import matplotlib.pyplot as plt\n",
        "\n",
        "n = 6\n",
        "t0 = (8.5-9.1)/(0.65/np.sqrt(n))\n",
        "gl = n-1\n",
        "inf=st.t.cdf(t0,df=gl)\n",
        "sup=1-st.t.cdf(-t0,df=gl)\n",
        "\n",
        "print(\"Valor crítico:\",t0)\n",
        "print(\"Probabilidade de termos um valor mais extremo do que o observado:\", sup+inf)\n",
        "\n",
        "x = np.linspace(-4,4,1000)\n",
        "ft = st.t.pdf(x,df=gl)\n",
        "plt.plot(x,ft)\n",
        "\n",
        "x = np.linspace(-4,t0,100)\n",
        "ft = st.t.pdf(x,df=gl)\n",
        "plt.fill_between(x,ft,alpha=0.5,color=\"b\")\n",
        "\n",
        "x = np.linspace(-t0,4,100)\n",
        "ft = st.t.pdf(x,df=gl)\n",
        "plt.fill_between(x,ft,alpha=0.5,color=\"b\")\n",
        "\n",
        "plt.show()"
      ],
      "metadata": {
        "colab": {
          "base_uri": "https://localhost:8080/",
          "height": 300
        },
        "id": "Yi2kv0V1rer7",
        "outputId": "2d49b89a-3013-481c-d253-8008569edea4"
      },
      "execution_count": null,
      "outputs": [
        {
          "output_type": "stream",
          "name": "stdout",
          "text": [
            "Valor crítico: -2.261067454876778\n",
            "Probabilidade de termos um valor mais extremo do que o observado: 0.07325367176078701\n"
          ]
        },
        {
          "output_type": "display_data",
          "data": {
            "image/png": "[encoded data removed]",
            "text/plain": [
              "<Figure size 432x288 with 1 Axes>"
            ]
          },
          "metadata": {
            "needs_background": "light"
          }
        }
      ]
    },
    {
      "cell_type": "markdown",
      "source": [
        "O p-valor observado indica que nossa amostra fornece evidência para a hipótese nula, indicando que não podemos rejeitá-la."
      ],
      "metadata": {
        "id": "rynoHlqhr8TP"
      }
    },
    {
      "cell_type": "markdown",
      "source": [
        "## Tipos de erro"
      ],
      "metadata": {
        "id": "T8pfunzJ3GxQ"
      }
    },
    {
      "cell_type": "markdown",
      "source": [
        "Ao realizarmos um teste de hipóteses estamos sujeitos a\n",
        "cometer dois tipos de erros: o erro do tipo I, que consiste em rejeitar a $H_0$ quando essa é\n",
        "verdadeira, e o erro do tipo II, que consiste em não rejeitar $H_0$, quando ela é falsa. As probabilidades desses erros são, portanto:\n",
        "\n",
        "$\\alpha = P(\\text{do erro tipo I}) = P(\\text{rejeitar }H_0 | H_0 \\text{verdadeira})$ e\n",
        "\n",
        "$\\beta = P(\\text{do erro tipo II}) = P(\\text{não rejeitar }H_0 | H_0 \\text{falsa})$,\n",
        "\n",
        "sendo que $\\alpha$ também é chamado de nível de significância do teste. A tabela abaixo sumariza os tipos de erro:\n",
        "\n",
        "Decisão | $H_0$ é verdadeira | $H_0$ é falsa |\n",
        "--------|--------|--------|\n",
        "Não rejeita $H_0$ | Nenhum erro | **Erro tipo II**\n",
        "Rejeita $H_0$ | **Erro tipo I** | Nenhum erro\n",
        "\n",
        "Seria desejável que os valores de $\\alpha$ e $\\beta$ fossem ambos tão pequenos quanto possível. No entanto, pode-se verificar que, ao diminuir-se o valor de um, o outro aumenta. Assim, na prática, costuma-se arbitrar um valor para o nível de significância, que usualmente é fixado em $0.01$ ou $0.05$ e posteriormente comparado ao p-valor."
      ],
      "metadata": {
        "id": "asjn7vMJ3J8F"
      }
    },
    {
      "cell_type": "markdown",
      "source": [
        "##Significância estatística e significância prática"
      ],
      "metadata": {
        "id": "PCcBeKv4G_9J"
      }
    },
    {
      "cell_type": "markdown",
      "source": [
        "O engenheiro deve ter cuidado na interpretação de testes de hipótese principalmente quando a amostra tiver tamanho grande, visto que qualquer pequeno desvio do valor usado na hipótese, $\\theta_0$, será provavelmente detectado, mesmo quando a diferença for de pouca ou nenhuma **significância prática**.\n",
        "\n",
        "Isto ocorre porque embora um p-valor pequeno indique **significância estatística** no sentido de rejeitar $H_0$, o desvio real de $H_0$ detectado pode ser insignificante na prática, o que ocorre comumente quando o tamanho da amostra é grande, já que diminui o erro padrão, fazendo com que a distribuição amostral tenha pequena variabilidade em torno da média, e assim amostras com variações desprezíveis sobre a média causam a rejeição de $H_0$.\n",
        "\n",
        "Suponha que a média verdadeira da taxa de produção em um experimento é 50.5 itens por dia, mas que nós estamos fazendo um teste de hipótese com $H_0: \\mu = 50$. Se o desvio padrão da população for pequeno e a amostra retirada for muito grande (centenas de amostras), devemos esperar um erro padrão pequeno e uma média bem próxima de 50.5, fazendo com que $H_0$ seja rejeitada. Observe que o teste não está errado, contudo a diferença de 0.5 itens por dia não tem significância prática para o problema e a interpretação deve levar isso em consideração.\n"
      ],
      "metadata": {
        "id": "ILEmZsY1HEez"
      }
    },
    {
      "cell_type": "markdown",
      "source": [
        "#Qual teste de hipótese usar?"
      ],
      "metadata": {
        "id": "oAGiLS9SLG_y"
      }
    },
    {
      "cell_type": "markdown",
      "source": [
        "No exemplo acima, nós construímos um teste de hipótese do zero, contudo no dia-a-dia usamos testes de **hipóteses já padronizados**, os quais são executados a partir dos dados coletados.\n",
        "\n",
        "Um cuidado importante no uso de um teste de hipótese padronizado é determinar <u>qual teste usar</u>, <u>como usá-lo</u> (a hipótese nula, a estatística de teste e o cálculo do p-valor) e se as <u>condições para o uso do teste</u> são atendidas. Assim, pode-se ver um teste de hipótese como um algoritmo determinístico, em que a <u>amostra é um dos dados de entrada</u>. Esta é uma forma dos estatísticos organizarem o conhecimento dos testes de hipótese, de modo que outros profissionais possam fazer uso deles como uma ferramenta sem conhecer todos os detalhes da probabilidade e estatística que estão por trás daquele teste.\n",
        "\n",
        "As condições mais comuns nos testes padronizados é que a amostra seja <u>aleatória</u> (não deve haver viés na coleta dos dados) e <u>independente</u> (pode-se supor independência quando o tamanho da amostra aleatória é menos de 10% do tamanho da população). Muitos testes supõem que a população de onde os dados provêm é <u>normalmente distribuída</u>. Sendo esta uma condição a ser verificada a partir dos dados. Outras condições podem ser necessárias em cada teste, fique atento a isto.\n",
        "\n",
        "Estes testes podem ser realizados manualmente ou por meio de **pacotes de software**. Nos pacotes de software, por exemplo, comumente usamos estes testes <u>fornecendo dados de uma amostra, informações sobre a hipótese nula (quando necessário), informações sobre a hipótese alternativa e analisamos a saída, que é principalmente um p-valor</u>.\n",
        "\n",
        "Uma discussão inicial sobre testes de hipóteses muito usados na computação pode ser [encontrada aqui](https://sonalake.com/latest/an-introduction-to-hypothesis-testing/)."
      ],
      "metadata": {
        "id": "CE1ylPuLLJlO"
      }
    },
    {
      "cell_type": "markdown",
      "source": [
        "##Lista de testes de hipótese úteis"
      ],
      "metadata": {
        "id": "i9YKzQrispjr"
      }
    },
    {
      "cell_type": "markdown",
      "source": [
        "### Roteiro para aplicação dos testes para uma e múltiplas amostras\n",
        "O roteiro abaixo ilustra alguns caminhos para o uso dos testes de hipótese citados acima. Para cada teste são mostrados as hipóteses nula e alternativa, bem como o respectivo comando no softare Minitab."
      ],
      "metadata": {
        "id": "TDnHMkziRB4S"
      }
    },
    {
      "cell_type": "markdown",
      "source": [
        "<img src=\"https://www.isixsigma.com/wp-content/uploads/2019/01/Hypothesis-Testing-Roadmap-2.jpg\" />"
      ],
      "metadata": {
        "id": "7jKSL4pjRIbU"
      }
    },
    {
      "cell_type": "markdown",
      "source": [
        "### Para uma amostra\n",
        "Avaliam parâmetros de uma população"
      ],
      "metadata": {
        "id": "esia0zNaulVg"
      }
    },
    {
      "cell_type": "markdown",
      "source": [
        "* Variável contínua com uma população **normalmente distribuída**\n",
        " * Teste para média: ```Teste T``` (se a variância da população é conhecida ou se $n \\geq 30$ pode-se usar o ```Teste Z```)\n",
        " * Teste para proporção: ```Teste Z para proporção``` (se $np \\lt 5$ ou $n(1-p) \\lt 5$ então deve-se usar uma distribuição binomial)\n",
        " * Teste para variância: ```Teste qui-quadrado para variância```\n",
        "* Com uma população **livre de distribuição** (não-paramétrico)\n",
        " * Teste para a mediana: ```Teste dos sinais```\n",
        " * Teste para a média: ```Teste dos postos sinalizados de Wilcoxon``` (população deve ser simétrica)\n",
        "* Contagens/Frequências de dados\n",
        " * Teste para verificar se duas VAs discretas são independentes, i.e., dada uma amostra e duas categorias sobre esta amostra verifica se estas categorias são independentes: ```Teste qui-quadrado de Pearson``` também chamado ```Teste qui-quadrado de independência de variáveis em uma tabela de contigência``` (requer que frequência observada e esperada seja de ao menos 5 itens)"
      ],
      "metadata": {
        "id": "KmAguNJBstSd"
      }
    },
    {
      "cell_type": "markdown",
      "source": [
        "#### Exemplo (votantes na cidade)\n",
        "A tabela abaixo é uma amostra de eleitores de um município dividos pela zona em que residem (urbana ou rural) e pela preferência de voto nos partidos políticos A, B ou C (cada eleitor escolheu apenas um partido).\n",
        "\n",
        "Partido\\Zona | Urbana | Rural|\n",
        "---|---|---|\n",
        "A|200|250|\n",
        "B|150|300|\n",
        "C|50|50|\n",
        "\n",
        "Podemos dizer que há dependência entre a zona de residência e a preferência por um partido político?"
      ],
      "metadata": {
        "id": "Ldx6vuh8wZzq"
      }
    },
    {
      "cell_type": "markdown",
      "source": [
        "**Solução**: Usaremos o teste qui-quadrado para esta análise. Observe que, sob a hipótese nula de independência, $P(A \\cap \\text{Urbana})=P(A) \\times P(\\text{Urbana})$. Esta condição é usada para calcular a frequência esperada em cada célula.\n",
        "\n",
        "Ex: $P(A) = \\frac{450}{1000} = 0.45$, $P(\\text{Urbana}) = \\frac{400}{1000} = 0.4$ e $P(A \\cap \\text{Urbana})=0.45 \\times 0.4 = 0.18$. Assim, sob a hipótese de independência, espera-se que 180 pessoas desta amostra sejam da zona Urbana e votem no Partido A."
      ],
      "metadata": {
        "id": "Q1qpMRufj4HP"
      }
    },
    {
      "cell_type": "code",
      "source": [
        "import scipy.stats as st\n",
        "import numpy as np\n",
        "\n",
        "tabela = np.array([\n",
        "  # votos no partido A\n",
        "  [200,250],\n",
        "  # votos no partido B\n",
        "  [150,300],\n",
        "  # votos no partido C\n",
        "  [50,50]\n",
        "])\n",
        "\n",
        "########################\n",
        "(chi_stat, p_value, degrees_of_freedom, expected) = st.chi2_contingency(tabela)\n",
        "print(chi_stat)\n",
        "print(p_value)\n",
        "print(degrees_of_freedom)\n",
        "print(expected)"
      ],
      "metadata": {
        "colab": {
          "base_uri": "https://localhost:8080/"
        },
        "id": "RdDHtFz6tHMG",
        "outputId": "cff94f49-2ed6-44df-b452-cdfd229b5822"
      },
      "execution_count": null,
      "outputs": [
        {
          "output_type": "stream",
          "name": "stdout",
          "text": [
            "16.203703703703706\n",
            "0.0003029775487145484\n",
            "2\n",
            "[[180. 270.]\n",
            " [180. 270.]\n",
            " [ 40.  60.]]\n"
          ]
        }
      ]
    },
    {
      "cell_type": "markdown",
      "source": [
        "Pelo valor p podemos rejeitar a hipótese de independência, à 95% de confiança, entre as variáveis residência e partido escolhido. Observe que as condições para o uso do teste são atendidas, já que a frequência observada e esperada em cada célula é maior que 40."
      ],
      "metadata": {
        "id": "8_yIeQMtgB3B"
      }
    },
    {
      "cell_type": "markdown",
      "source": [
        "#### Exemplo (tratamento com remédio)\n",
        "A tabela abaixo é uma amostra de pacientes submetidos ao tratamento preventivo contra uma doença viral muito comum com dois tipos de remédios e um grupo de controle (tratado com placebo). Para cada um deles verificamos aqueles que ficaram doentes e os que não ficaram.\n",
        "\n",
        "Saúde\\Tratamento | Remédio A | Remédio B | Placebo |\n",
        "---|---|---|---|\n",
        "Doente|20|30|30|\n",
        "Não doente|100|110|90|\n",
        "\n",
        "Podemos dizer que os remédios são eficazes?"
      ],
      "metadata": {
        "id": "VfrsaGm0e2id"
      }
    },
    {
      "cell_type": "markdown",
      "source": [
        "**Solução**: Para averiguar a eficácia dos remédios, veremos se há alguma dependência entre as variáveis categóricas **tratamento** e **saúde**. Observe que sob a hipótese de independência, $P(\\text{Doente} \\cap \\text{Remédio A}) = P(\\text{Doente}) \\times P(\\text{Remédio A})$.\n",
        "\n",
        "Abaixo montamos a tabela de contigência e, usando a biblioteca ```scipy```, obtemos o valor p, que não nos permite rejeitar a hipótese de independência (à 95% de confiança), indicando que <u>não há evidência estatística suficiente para atestar a eficácia ou ineficácia dos remédios</u>.\n",
        "\n",
        "Observe que as condições do teste são garantidas."
      ],
      "metadata": {
        "id": "WRN7Jib0iGtp"
      }
    },
    {
      "cell_type": "code",
      "source": [
        "import scipy.stats as st\n",
        "import numpy as np\n",
        "\n",
        "tabela = np.array([\n",
        "  # pacientes que ficaram doentes\n",
        "  [20,30,30],\n",
        "  # pacientes que não ficaram doentes\n",
        "  [100,110,90]\n",
        "])\n",
        "\n",
        "########################\n",
        "(chi_stat, p_value, degrees_of_freedom, expected) = st.chi2_contingency(tabela)\n",
        "print(chi_stat)\n",
        "print(p_value)\n",
        "print(degrees_of_freedom)\n",
        "print(expected)"
      ],
      "metadata": {
        "colab": {
          "base_uri": "https://localhost:8080/"
        },
        "id": "7vp-mIqLddJa",
        "outputId": "2e86b5ee-212d-4a73-a476-7b7261310bc0"
      },
      "execution_count": null,
      "outputs": [
        {
          "output_type": "stream",
          "name": "stdout",
          "text": [
            "2.5257936507936507\n",
            "0.2828335193186947\n",
            "2\n",
            "[[ 25.26315789  29.47368421  25.26315789]\n",
            " [ 94.73684211 110.52631579  94.73684211]]\n"
          ]
        }
      ]
    },
    {
      "cell_type": "markdown",
      "source": [
        "### Para duas amostras\n",
        "Comparam parâmetros de duas amostras"
      ],
      "metadata": {
        "id": "_FZ9_YBKyieX"
      }
    },
    {
      "cell_type": "markdown",
      "source": [
        "* Dados contínuos\n",
        " * Com duas populações **normalmente distribuídas** (observe que a soma ou subtração de duas VAs normais é também normal)\n",
        "   * Teste para diferença de médias ($H_0: \\mu_1 - \\mu_2 = \\Delta_0$) de <u>duas populações independentes</u>: ```Teste t independente para duas amostras``` (se as variâncias das populações são conhecidas ou se $n_1 \\geq 30$ e $n_2 \\geq 30$ pode-se usar o ```Teste z para duas amostras```), quando as variâncias das populações são diferentes chama-se ```Teste t de Welch```.\n",
        "   * Teste para diferença de médias da mesma população (<u>amostras relacionadas</u>): ```Teste t pareado para duas amostras```\n",
        "   * Teste para igualdade de proporção ($H_0: p_1 = p_2$): ```Teste Z para proporção de duas amostras```\n",
        "   * Teste para igualdade de variância de duas amostras ($H_0: \\sigma_1^2 = \\sigma_2^2$): ```Teste F``` (as amostras devem ser independentes e a normalidade deve ser estritamente observada); ```Teste de Bartlett``` (aceita amostras aproximadamente normais e pode ser usado para mais de duas amostras, neste caso $H_0: \\sigma_1^2 = \\sigma_2^2 = \\ldots = \\sigma_n^2$)\n",
        " * Com duas populações **livres de distribuição** (não-paramétrico)\n",
        "   * Teste para igualdade de médias de populações independentes: ```Teste U de Mann-Whitney```\n",
        "   * Teste para igualdade de médias da mesma população (relacionado): ```Teste dos postos sinalizados de Wilcoxon para duas amostras```\n",
        "   * Teste para igualdade de variância de duas amostras: ```Teste de Levene``` (pode ser usado para mais de duas amostras)\n"
      ],
      "metadata": {
        "id": "hyGBur-SylKT"
      }
    },
    {
      "cell_type": "markdown",
      "source": [
        "### Testes de aderência\n",
        "Checam se os dados seguem uma dada distribuição"
      ],
      "metadata": {
        "id": "fSYE8U7KvspD"
      }
    },
    {
      "cell_type": "markdown",
      "source": [
        "* Para a distribuição de um conjunto de dados:\n",
        " * ```Teste qui-quadrado para adequação de ajuste```: compara frequências dos dados em grupos, sujeito à forma como os dados são divididos nos grupos, cada grupo deve ter mais de 5 itens\n",
        " * ```Teste Kolmogorov-Smirnov (KS)```: compara as CDFs, mas não deve ser usado se os parâmetros da distribuição teórica foram obtidos dos dados\n",
        " * ```Teste de Lilliefors```: variação do KS para distribuição normal e exponencial, com estimação dos parâmetros a partir dos dados\n",
        " * ```Teste Anderson-Darling```: teste robusto mesmo com estimação de parâmetros e muito usado para teste de normalidade\n",
        " * ```Teste Shapiro-Wilk```: teste mais robusto para normalidade, mas deve ser olhado com cuidado em amostras grandes ($n \\gt 5000$)\n",
        "* Para comparar as distribuições de duas amostras:\n",
        " * ```Teste qui-quadrado para adequação de ajuste```: mais indicado para amostras de dados discretos\n",
        " * ```Teste Kolmogorov-Smirnov (KS)```: é mais indicado para amostras de dados contínuos"
      ],
      "metadata": {
        "id": "-aWEZBq9vq6C"
      }
    },
    {
      "cell_type": "markdown",
      "source": [
        "###Testes de hipótese em Python\n",
        "Abaixo segue lista de funções em Python para os testes citados. Para uma lista completa dos testes de hipótese disponíveis verificar os links abaixo:\n",
        "\n",
        "[Testes Estatísticos na biblioteca ```scipy```](https://docs.scipy.org/doc/scipy/reference/stats.html#statistical-tests)\n",
        "\n",
        "[Testes Estatísticos na biblioteca ```statsmodels```](https://www.statsmodels.org/stable/stats.html)\n",
        "\n"
      ],
      "metadata": {
        "id": "VyGeMgRHOvEv"
      }
    },
    {
      "cell_type": "markdown",
      "source": [
        "Teste | Biblioteca | Função |\n",
        "----|----|----|\n",
        "```Teste T``` | ```scipy.stats``` | ```ttest_1samp()``` |\n",
        "```Teste Z``` | ```statsmodels.stats.weightstats``` | ```ztest()``` |\n",
        "```Teste Z para proporção``` | ```statsmodels.stats.proportion``` | ```proportions_ztest()``` |\n",
        "```Teste Qui-quadrado para variância``` | ? | ? |\n",
        "```Teste dos sinais``` | ```statsmodels.stats.descriptivestats``` | ```sign_test()``` |\n",
        "```Teste dos postos sinalizados de Wilcoxon``` | ```scipy.stats``` | ```wilcoxon()``` |\n",
        "```Teste qui-quadrado de Pearson``` | ```scipy.stats``` | ```chi2_contingency()``` |\n",
        "```Teste T independente para duas amostras``` | ```scipy.stats``` | ```ttest_ind()``` |\n",
        "```Teste Z para duas amostras``` | ```statsmodels.stats.weightstats``` | ```ztest()``` |\n",
        "```Teste T pareado para duas amostras``` | ```scipy.stats``` | ```ttest_rel()``` |\n",
        "```Teste Z para proporção de duas amostras``` | ```statsmodels.stats.weightstats``` | ```proportions_ztest()``` |\n",
        "```Teste F``` | ```scipy.stats``` | ```f_oneway()``` |\n",
        "```Teste de Bartlett``` | ```scipy.stats``` | ```bartlett()``` |\n",
        "```Teste U de Mann-Whitney``` | ```scipy.stats``` | ```mannwhitneyu()```|\n",
        "```Teste dos postos sinalizados de Wilcoxon para duas amostras``` | ```scipy.stats``` | ```wilcoxon()```|\n",
        "```Teste de Levene``` | ```scipy.stats``` | ```levene()```|\n",
        "```Teste qui-quadrado para adequação de ajuste``` | ```scipy.stats``` | ```chisquare()```|\n",
        "```Teste Kolmogorov-Smirnov (KS)``` | ```scipy.stats``` | ```kstest()```|\n",
        "```Teste de Lilliefors``` | ```statsmodels.stats.diagnostic``` | ```lilliefors()```|\n",
        "```Teste Anderson-Darling``` | ```scipy.stats``` | ```anderson()```|\n",
        "```Teste Shapiro-Wilk``` | ```scipy.stats``` | ```shapiro()```|"
      ],
      "metadata": {
        "id": "OQUqt6iqO7w7"
      }
    },
    {
      "cell_type": "markdown",
      "source": [
        "Como não foi possível encontrar uma função para o ```Teste Qui-quadrado para variância```, apresentamos abaixo uma função em python para este teste.\n",
        "\n",
        "Neste teste testamos a hipótese nula de que a variância da população é um valor dado $\\sigma^2_0$. Observe que este teste parte do princípio de que a distribuição amostral da variância de uma amostra de uma distribuição normal com $n$ itens, tem uma distribuição $\\chi^2$ com $n-1$ graus de liberdade.\n",
        "\n",
        "Inicialmente, deve-se calcular a estatística do teste $\\chi^2_0 = \\frac{(n-1)s^2}{\\sigma_0^2}$ e, para o <u>caso unilateral à esquerda</u>, usa-se esta estatística para calcular $P(\\chi^2_{n-1} \\lt \\chi^2_0)$, que será o p-valor do teste. Para os testes unilateral à direita e bilateral o processo é similar."
      ],
      "metadata": {
        "id": "dAhBZZDJa3E3"
      }
    },
    {
      "cell_type": "code",
      "source": [
        "import scipy.stats as st\n",
        "import numpy as np\n",
        "\n",
        "def chi2test(x, sigma0, alternative = \"two-tailed\"):\n",
        "    n = len(x)\n",
        "    df = n-1\n",
        "    X = df * np.var(x,ddof=1) / sigma0**2\n",
        "    pless = st.chi2.cdf(X,df)\n",
        "    pgreater = 1 - pless\n",
        "    ptwo = 2*min(pless,pgreater)\n",
        "    if alternative == \"lower\":\n",
        "        return X,pless\n",
        "    elif alternative == \"upper\":\n",
        "        return X,pgreater\n",
        "    else:\n",
        "        return X,ptwo\n",
        "\n",
        "n = 25\n",
        "x = np.random.normal(0, 3, n)\n",
        "chi2test(x, sigma0 = 4)"
      ],
      "metadata": {
        "colab": {
          "base_uri": "https://localhost:8080/"
        },
        "id": "WeGeMfZGbBOf",
        "outputId": "02614b05-d4c0-498c-aab6-f017224c862e"
      },
      "execution_count": null,
      "outputs": [
        {
          "output_type": "execute_result",
          "data": {
            "text/plain": [
              "(13.413984349058024, 0.08240203130984272)"
            ]
          },
          "metadata": {},
          "execution_count": 14
        }
      ]
    },
    {
      "cell_type": "markdown",
      "source": [
        "#Testes de Hipótese via Bootstrapping"
      ],
      "metadata": {
        "id": "K7bIz6QSYj6i"
      }
    },
    {
      "cell_type": "markdown",
      "source": [
        "## Exemplo (Website)\n",
        "Um teste A/B é um experimento com dois grupos para determinar qual de dois tratamentos, produtos, procedimentos, ou algo similar é melhor. Frequentemente um dos grupos recebe o tratamento padrão ou nenhum tratamento (placebo). Este é o chamado <u>grupo de controle</u>. A hipótese típica neste caso é que o tratamento testado é melhor do que o controle.\n",
        "\n",
        "Uma empresa vende um serviço de alto valor e quer testar qual de duas apresentações de seu website (chamaremos de Páginas A e B) vende melhor. Devido o alto valor do serviço, as vendas são pouco frequentes e os ciclos de compra são longos, o que faz o processo de captura de dados de vendas muito longo. Para ter uma resposta mais rápida, a companhia decide usar o tempo gasto na página como uma medida do impacto nas vendas (um tempo de rentenção maior, indica maior interesse, que pode ser convertido em vendas).\n",
        "\n",
        "Abaixo são mostrados os dados coletados.\n",
        "\n",
        "A empresa pensa que a página B oferece melhor retorno do que A. Com base nos dados, discuta se esta afirmação é estatisticamente válida.\n"
      ],
      "metadata": {
        "id": "S6rJu2ca3ERO"
      }
    },
    {
      "cell_type": "code",
      "source": [
        "!wget https://raw.githubusercontent.com/manmartgarc/s4ds/master/data/web_page_data.csv\n",
        "import pandas as pd\n",
        "\n",
        "dados = pd.read_csv(\"web_page_data.csv\",dtype={\"Page\":\"string\",\"Time\":\"float\"})"
      ],
      "metadata": {
        "colab": {
          "base_uri": "https://localhost:8080/"
        },
        "id": "_lcbpo7xBiOK",
        "outputId": "1b7e1933-e7a6-4d40-822d-8993b672d2f1"
      },
      "execution_count": null,
      "outputs": [
        {
          "output_type": "stream",
          "name": "stdout",
          "text": [
            "--2021-12-31 10:37:31--  https://raw.githubusercontent.com/manmartgarc/s4ds/master/data/web_page_data.csv\n",
            "Resolving raw.githubusercontent.com (raw.githubusercontent.com)... 185.199.108.133, 185.199.109.133, 185.199.110.133, ...\n",
            "Connecting to raw.githubusercontent.com (raw.githubusercontent.com)|185.199.108.133|:443... connected.\n",
            "HTTP request sent, awaiting response... 200 OK\n",
            "Length: 441 [text/plain]\n",
            "Saving to: ‘web_page_data.csv.13’\n",
            "\n",
            "\rweb_page_data.csv.1   0%[                    ]       0  --.-KB/s               \rweb_page_data.csv.1 100%[===================>]     441  --.-KB/s    in 0s      \n",
            "\n",
            "2021-12-31 10:37:31 (26.5 MB/s) - ‘web_page_data.csv.13’ saved [441/441]\n",
            "\n"
          ]
        }
      ]
    },
    {
      "cell_type": "markdown",
      "source": [
        "**Solução**: Podemos responder à questão usando um teste de hipótese. Considerando que $T_A$ é o tempo médio de retenção do usuário com a Página A e que $T_B$ é o tempo médio de retenção da Página B, as hipóteses são:\n",
        "\n",
        "$H_0: T_A = T_B \\\\\n",
        "H_a: T_A \\gt T_B$\n",
        "\n",
        "Iniciamos nossa análise observando a forma geral dos dados."
      ],
      "metadata": {
        "id": "jWOtJ0OhIIYu"
      }
    },
    {
      "cell_type": "code",
      "source": [
        "import matplotlib.pyplot as plt\n",
        "\n",
        "dados.boxplot(by=\"Page\")\n",
        "plt.show()\n",
        "dados.Time.hist()\n",
        "plt.show()\n",
        "dados.Page.value_counts()"
      ],
      "metadata": {
        "colab": {
          "base_uri": "https://localhost:8080/",
          "height": 656
        },
        "id": "9WVYXaNhCphq",
        "outputId": "c0e78a9f-7604-44a7-8027-5d9b4e6f5467"
      },
      "execution_count": null,
      "outputs": [
        {
          "output_type": "stream",
          "name": "stderr",
          "text": [
            "/usr/local/lib/python3.7/dist-packages/numpy/core/_asarray.py:83: VisibleDeprecationWarning: Creating an ndarray from ragged nested sequences (which is a list-or-tuple of lists-or-tuples-or ndarrays with different lengths or shapes) is deprecated. If you meant to do this, you must specify 'dtype=object' when creating the ndarray\n",
            "  return array(a, dtype, copy=False, order=order)\n"
          ]
        },
        {
          "output_type": "display_data",
          "data": {
            "image/png": "[encoded data removed]",
            "text/plain": [
              "<Figure size 432x288 with 1 Axes>"
            ]
          },
          "metadata": {
            "needs_background": "light"
          }
        },
        {
          "output_type": "display_data",
          "data": {
            "image/png": "[encoded data removed]",
            "text/plain": [
              "<Figure size 432x288 with 1 Axes>"
            ]
          },
          "metadata": {
            "needs_background": "light"
          }
        },
        {
          "output_type": "execute_result",
          "data": {
            "text/plain": [
              "Page A    21\n",
              "Page B    15\n",
              "Name: Page, dtype: Int64"
            ]
          },
          "metadata": {},
          "execution_count": 36
        }
      ]
    },
    {
      "cell_type": "markdown",
      "source": [
        "Daqui observamos que temos uma amostra pequena, com dados assimétricos e com pequena distinção entre os tipos de tratamento. São 36 amostras ao todo, das quais 21 são referentes à página A e 15 à página B.\n",
        "\n",
        "Para uma comparação de médias, pelo tamanho das amostras, poderíamos fazer uso do ```Teste T para duas amostras independentes```, porém antes precisamos checar a hipótese de normalidade de cada amostra, o que fazemos abaixo."
      ],
      "metadata": {
        "id": "NRj1SQ4dEeX8"
      }
    },
    {
      "cell_type": "code",
      "source": [
        "import scipy.stats as st\n",
        "\n",
        "pageA = dados[dados.Page == \"Page A\"].Time\n",
        "pageB = dados[dados.Page == \"Page B\"].Time\n",
        "plt.hist(pageA,label=\"Page A\")\n",
        "plt.hist(pageB,label=\"Page B\")\n",
        "plt.legend()\n",
        "estatistica,pvalor = st.shapiro(pageA)\n",
        "print(pageA.describe())\n",
        "print(\"p-valor Page A\",pvalor)\n",
        "estatistica,pvalor = st.shapiro(pageB)\n",
        "print(pageB.describe())\n",
        "print(\"p-valor Page B\",pvalor)"
      ],
      "metadata": {
        "colab": {
          "base_uri": "https://localhost:8080/",
          "height": 612
        },
        "id": "VtwlyA4-GgLE",
        "outputId": "ff18ff9b-29c6-48d0-b245-a5687ca22268"
      },
      "execution_count": null,
      "outputs": [
        {
          "output_type": "stream",
          "name": "stdout",
          "text": [
            "count    21.000000\n",
            "mean      1.263333\n",
            "std       0.884632\n",
            "min       0.210000\n",
            "25%       0.670000\n",
            "50%       0.950000\n",
            "75%       1.730000\n",
            "max       3.420000\n",
            "Name: Time, dtype: float64\n",
            "p-valor Page A 0.01751510053873062\n",
            "count    15.000000\n",
            "mean      1.620000\n",
            "std       1.011364\n",
            "min       0.430000\n",
            "25%       0.800000\n",
            "50%       1.470000\n",
            "75%       2.345000\n",
            "max       3.570000\n",
            "Name: Time, dtype: float64\n",
            "p-valor Page B 0.16119416058063507\n"
          ]
        },
        {
          "output_type": "display_data",
          "data": {
            "image/png": "[encoded data removed]",
            "text/plain": [
              "<Figure size 432x288 with 1 Axes>"
            ]
          },
          "metadata": {
            "needs_background": "light"
          }
        }
      ]
    },
    {
      "cell_type": "markdown",
      "source": [
        "Pelo teste Shapiro-Wilk, podemos rejeitar a hipótese de normalidade da amostra da Página A (com 95% de confiança), mas não da amostra da Página B. Contudo, devemos observar que os dados de ambas as amostras possuem assimetria à esquerda, o que nos ajuda à rejeitar hipótese de normalidade em ambos os casos.\n",
        "\n",
        "Assim, poderíamos usar um teste não-paramétrico para comparação de médias."
      ],
      "metadata": {
        "id": "R3Gmw9nnHZCZ"
      }
    },
    {
      "cell_type": "code",
      "source": [
        "st.mannwhitneyu(pageA,pageB,alternative=\"greater\")"
      ],
      "metadata": {
        "colab": {
          "base_uri": "https://localhost:8080/"
        },
        "id": "S7AQiMX-JnEJ",
        "outputId": "d323db5c-e2a2-4884-b1d6-4fee81f62cac"
      },
      "execution_count": null,
      "outputs": [
        {
          "output_type": "execute_result",
          "data": {
            "text/plain": [
              "MannwhitneyuResult(statistic=119.5, pvalue=0.8916821872054765)"
            ]
          },
          "metadata": {},
          "execution_count": 44
        }
      ]
    },
    {
      "cell_type": "markdown",
      "source": [
        "O teste U de Mann-Whitney nos indica que não podemos rejeitar a hipótese de que as amostras tem médias  iguais.\n",
        "\n",
        "Uma forma alternativa de chegarmos ao mesmo resultado é construindo um teste de hipótese de permutação via *bootstrap*. Este tipo de teste nos ajuda a verificar a validade da hipótese a partir dos dados em si, sem fazer maiores suposições acerca da amostras.\n",
        "\n",
        "A técnica *bootstrap* consiste em fazer **reamostragens** dos dados com o intuito de construir uma distribuição para a estatística que estamos tentando mostrar.\n",
        "\n",
        "Neste exemplo, nossa hipótese nula pode ser reescrita como $H_0: T_A - T_B = 0$. Assim, podemos construir a distribuição da estatística $T_D = T_A - T_B$, que indica a diferença entre os tempos médios das duas amostras, a partir de reamostragens dos dados. Fazemos isso da seguinte forma:\n",
        "\n",
        "1. Calculamos a estatística na amostra original e guardamos. Chamaremos esta de $T_0$.\n",
        "2. A partir das 36 amostras, fazemos reamostragem aleatória com reposição, de modo a reconstruir uma amostra de 21 itens para a Página A e outra de 15 itens para a Página B. E computamos $T_D$ para esta amostra.\n",
        "3. Repetimos este processo $R$ vezes.\n",
        "\n",
        "Observe que a permutação com reamostragem reconstrói a distribuição de $T_D$ considerando que os tratamentos são indistinguíveis (todos os tempos provenientes de um único tratamento), desta forma poderemos verificar o quão extrema é a amostra original, caso estas amostras viessem de uma mesma população (o que levaria à $T_D = 0$).\n",
        "\n",
        "Abaixo fazemos este processo com $R=1000$."
      ],
      "metadata": {
        "id": "3te9-IH3J-Qu"
      }
    },
    {
      "cell_type": "code",
      "source": [
        "import random\n",
        "import numpy as np\n",
        "import matplotlib.pyplot as plt\n",
        "\n",
        "def reamostra(dados,n1,n2):\n",
        " pageA = random.choices(dados,k=n1)\n",
        " pageB = random.choices(dados,k=n2)\n",
        " return np.mean(pageA) - np.mean(pageB)\n",
        "\n",
        "def boot(dados,n1,n2,t0,R=1000):\n",
        " Td = []\n",
        " for i in range(R):\n",
        "   Td.append(reamostra(dados,n1,n2))\n",
        " plt.hist(Td)\n",
        " plt.plot([t0,t0],[0,200])\n",
        " plt.show()\n",
        " pvalor = sum(i > t0 for i in Td)/R\n",
        " print(\"T0 = \",t0)\n",
        " print(\"p-valor = \",pvalor)\n",
        "\n",
        "t0 = np.mean(pageA) - np.mean(pageB)\n",
        "boot(dados.Time,21,15,t0,R=1000)"
      ],
      "metadata": {
        "colab": {
          "base_uri": "https://localhost:8080/",
          "height": 300
        },
        "id": "rLkPXCiQR5nc",
        "outputId": "ec8186ca-59ae-48b8-8843-6af327bf8cde"
      },
      "execution_count": null,
      "outputs": [
        {
          "output_type": "display_data",
          "data": {
            "image/png": "[encoded data removed]",
            "text/plain": [
              "<Figure size 432x288 with 1 Axes>"
            ]
          },
          "metadata": {
            "needs_background": "light"
          }
        },
        {
          "output_type": "stream",
          "name": "stdout",
          "text": [
            "T0 =  -0.35666666666666713\n",
            "p-valor =  0.864\n"
          ]
        }
      ]
    },
    {
      "cell_type": "markdown",
      "source": [
        "Destes resultados concluímos que não temos evidência estatística para suportar a afirmativa da empresa. Em outras palavras, não podemos rejeitar a hipótese de que ambas as páginas trazem o mesmo tempo médio de retenção."
      ],
      "metadata": {
        "id": "C2wch4ViWpVs"
      }
    },
    {
      "cell_type": "markdown",
      "source": [
        "# Lembretes finais\n",
        "* O teste de hipótese consiste em analisar a amostra considerando que a hipótese nula é verdadeira\n",
        " * O p-valor indica a probabilidade de obter um valor tão ou mais extremo do que o obtido na amostra, considerando que a hipótese nula é verdadeira\n",
        "* Existem muitos testes de hipótese para muitas ocasiões, nosso objetivo aqui foi dar uma visão geral e apresentar os mais conhecidos.\n",
        "* Amostras muito grandes podem tornar significante algo que é insignificante na prática.\n",
        " * Isso pode ser usado de forma pouco ética, modificando o tamanho da amostra para obter um resultado desejado (*hacking* de p-valor).\n",
        " * A estatística oferece formas \"justas\" de determinar o tamanho adequado de amostras"
      ],
      "metadata": {
        "id": "r4xlDKokmROs"
      }
    },
    {
      "cell_type": "markdown",
      "source": [
        "# **Bônus**: Distribuições comuns em testes de hipótese"
      ],
      "metadata": {
        "id": "7LObeORhnNCk"
      }
    },
    {
      "cell_type": "markdown",
      "source": [
        "## Distribuição T de Student"
      ],
      "metadata": {
        "id": "ZIACxGnznc_A"
      }
    },
    {
      "cell_type": "markdown",
      "source": [
        "É uma família de distribuições contínuas de probabilidade de um único parâmetro (denominado grau de liberdade ($\\nu$)), usada para modelar amostras próximas da normal. Diverge da normal por ter caudas mais \"gordas\" (probabilidade de valores distantes da média é maior do que a normal).\n",
        "\n",
        "* Média: $0$ para $\\nu \\gt 1$\n",
        "* Variância: $\\frac{\\nu}{\\nu-2}$ para $\\nu \\gt 2$; $\\infty$ para $ 1 \\lt \\nu \\lt 2$; indefinido para outros casos.\n",
        "* Distribuição de probabilidade: $f(x) = \\frac{\\Gamma \\left(\\frac{\\nu+1}{2} \\right)} {\\sqrt{\\nu\\pi}\\,\\Gamma \\left(\\frac{\\nu}{2} \\right)} \\left(1+\\frac{x^2}{\\nu} \\right)^{-\\frac{\\nu+1}{2}}\\!$, onde ${\\Gamma (z)=\\int _{0}^{\\infty }t^{z-1}e^{-t}\\,dt}$\n",
        "* Distribuição acumulada de probabilidade: $F(x)=\n",
        "     \\frac{1}{2} + x \\Gamma \\left( \\frac{\\nu+1}{2} \\right)  \\times\\\\\n",
        "     \\frac{\\,_2F_1 \\left ( \\frac{1}{2},\\frac{\\nu+1}{2};\\frac{3}{2};           -\\frac{x^2}{\\nu} \\right)}\n",
        "     {\\sqrt{\\pi\\nu}\\,\\Gamma \\left(\\frac{\\nu}{2}\\right)}$\n",
        "\n"
      ],
      "metadata": {
        "id": "XsUhfeOEnm2w"
      }
    },
    {
      "cell_type": "code",
      "source": [
        "import numpy as np\n",
        "import scipy.stats as st\n",
        "import random\n",
        "import matplotlib.pyplot as plt\n",
        "\n",
        "def plotDistribuicaoCont(x,fx,Fx):\n",
        "  plt.figure(figsize=(12,4))\n",
        "  plt.subplot(1,2,1)\n",
        "  plt.plot(x,f,'b',ms=8)\n",
        "  plt.xlabel(\"x\")\n",
        "  plt.ylabel(\"f(x)\")\n",
        "\n",
        "  plt.subplot(1,2,2)\n",
        "  plt.plot(x,F,'b',ms=8)\n",
        "  plt.xlabel(\"x\")\n",
        "  plt.ylabel(\"F(x)\")\n",
        "  plt.show()\n",
        "\n",
        "def histograma(dados):\n",
        "  plt.figure(figsize=(12,4))\n",
        "  plt.subplot(1,2,1)\n",
        "  x = random.sample(list(dados),int(len(dados)*0.05))\n",
        "  plt.hist(x)\n",
        "  plt.xlabel(\"valores\")\n",
        "  plt.ylabel(\"quantidade de amostras\")\n",
        "  plt.subplot(1,2,2)\n",
        "  plt.hist(dados)\n",
        "  plt.xlabel(\"valores\")\n",
        "  plt.ylabel(\"quantidade de amostras\")\n",
        "\n",
        "nu = 3\n",
        "x = np.linspace(-4,4)\n",
        "f = st.t.pdf(x,nu)\n",
        "F = st.t.cdf(x,nu)\n",
        "plotDistribuicaoCont(x,f,F)\n",
        "dados = st.t.rvs(nu,size=1000)\n",
        "histograma(dados)"
      ],
      "metadata": {
        "colab": {
          "base_uri": "https://localhost:8080/",
          "height": 541
        },
        "id": "GoNkK1FFpZyY",
        "outputId": "9c9543e6-c2de-4dfb-864c-a93bda6a35a0"
      },
      "execution_count": null,
      "outputs": [
        {
          "output_type": "display_data",
          "data": {
            "image/png": "[encoded data removed]",
            "text/plain": [
              "<Figure size 864x288 with 2 Axes>"
            ]
          },
          "metadata": {
            "needs_background": "light"
          }
        },
        {
          "output_type": "display_data",
          "data": {
            "image/png": "[encoded data removed]",
            "text/plain": [
              "<Figure size 864x288 with 2 Axes>"
            ]
          },
          "metadata": {
            "needs_background": "light"
          }
        }
      ]
    },
    {
      "cell_type": "markdown",
      "source": [
        "##Distribuição $\\chi^2$ (qui-quadrado)"
      ],
      "metadata": {
        "id": "xFVa00qEnfHq"
      }
    },
    {
      "cell_type": "markdown",
      "source": [
        "É uma distribuição contínua de probabilidade para valores positivos de um único parâmetro (denominado grau de liberdade ($k$)). Esta é a distribuição da soma dos quadrados de $k$ variáveis aleatórias normais independentes. Ela é um caso especial da distribuição Gama e é muito usada em estatística inferencial.\n",
        "\n",
        "* Média: $k$\n",
        "* Variância: $2k$\n",
        "* Distribuição de probabilidade: $f(x) = {\\frac {1}{2^{k/2}\\Gamma (k/2)}}\\;x^{k/2-1}e^{-x/2}$, onde ${\\Gamma (z)=\\int _{0}^{\\infty }t^{z-1}e^{-t}\\,dt}$\n",
        "* Distribuição acumulada de probabilidade: $F(x)= {\\frac {1}{\\Gamma (k/2)}}\\;\\gamma \\left({\\frac {k}{2}},\\,{\\frac {x}{2}}\\right)$, onde $ \\gamma(k,x) = \\int_0^x t^{k-1}\\,e^{-t}dt$\n",
        "\n"
      ],
      "metadata": {
        "id": "7jUq_UYIqNwj"
      }
    },
    {
      "cell_type": "code",
      "source": [
        "k = 3\n",
        "x = np.linspace(-1,8)\n",
        "f = st.chi2.pdf(x,k)\n",
        "F = st.chi2.cdf(x,k)\n",
        "plotDistribuicaoCont(x,f,F)\n",
        "dados = st.chi2.rvs(k,size=1000)\n",
        "histograma(dados)"
      ],
      "metadata": {
        "colab": {
          "base_uri": "https://localhost:8080/",
          "height": 545
        },
        "id": "BBPVc0lfrfcT",
        "outputId": "f99e9ca6-9e85-4798-e824-b1adad942438"
      },
      "execution_count": null,
      "outputs": [
        {
          "output_type": "display_data",
          "data": {
            "image/png": "[encoded data removed]",
            "text/plain": [
              "<Figure size 864x288 with 2 Axes>"
            ]
          },
          "metadata": {
            "needs_background": "light"
          }
        },
        {
          "output_type": "display_data",
          "data": {
            "image/png": "[encoded data removed]",
            "text/plain": [
              "<Figure size 864x288 with 2 Axes>"
            ]
          },
          "metadata": {
            "needs_background": "light"
          }
        }
      ]
    },
    {
      "cell_type": "markdown",
      "source": [
        "## Distribuição F"
      ],
      "metadata": {
        "id": "wjtNqWQWnjOI"
      }
    },
    {
      "cell_type": "markdown",
      "source": [
        "A distribuição F, também chamada de Distribuição F de Snedecor, é uma função contínua definida pela razão de duas distribuições $\\chi^2$ com graus de liberdade $d_1$ e $d_2$ (que são os parâmetros da distribuição F). Esta função é utilizada em testes associados à igualdade de variâncias.\n",
        "\n",
        "\n",
        "* Média: $\\frac  {d_{2}}{d_{2}-2}$, para $d_2 \\gt 2$\n",
        "* Variância: $\\frac  {2\\,d_{2}^{2}\\,(d_{1}+d_{2}-2)}{d_{1}(d_{2}-2)^{2}(d_{2}-4)}$, para $d_2 \\gt 4$\n",
        "* Distribuição de probabilidade: $f(x) = {\\frac {\\sqrt {\\frac {(d_{1}x)^{d_{1}}d_{2}^{d_{2}}}{(d_{1}x+d_{2})^{d_{1}+d_{2}}}}}{x\\,\\mathrm {B} \\!\\left({\\frac {d_{1}}{2}},{\\frac {d_{2}}{2}}\\right)}}$, onde ${B(\\alpha ,\\beta )=\\frac {\\Gamma (\\alpha )\\Gamma (\\beta )}{\\Gamma (\\alpha +\\beta )}} $ e ${\\Gamma (z)=\\int _{0}^{\\infty }t^{z-1}e^{-t}\\,dt}$\n",
        "* Distribuição acumulada de probabilidade: $F(x) = I_{{{\\frac  {d_{1}x}{d_{1}x+d_{2}}}}}\\left({\\tfrac  {d_{1}}{2}},{\\tfrac  {d_{2}}{2}}\\right)$, onde $I_{x}(a,b)={\\frac {\\mathrm {B} (x;\\,a,b)}{\\mathrm {B} (a,b)}}$ e $B (x;\\alpha,\\beta)=\\int _{0}^{x}t^{\\alpha-1}\\,(1-t)^{\\beta-1}\\,dt$"
      ],
      "metadata": {
        "id": "XpP4OTiSsDDK"
      }
    },
    {
      "cell_type": "code",
      "source": [
        "d1 = 5\n",
        "d2 = 2\n",
        "x = np.linspace(-1,5)\n",
        "f = st.f.pdf(x,d1,d2)\n",
        "F = st.f.cdf(x,d1,d2)\n",
        "plotDistribuicaoCont(x,f,F)\n",
        "dados = st.f.rvs(d1,d2,size=1000)\n",
        "histograma(dados)"
      ],
      "metadata": {
        "colab": {
          "base_uri": "https://localhost:8080/",
          "height": 541
        },
        "id": "wKpAHQPCtpnP",
        "outputId": "9c9f571d-4d9c-4026-c750-612bb58ce789"
      },
      "execution_count": null,
      "outputs": [
        {
          "output_type": "display_data",
          "data": {
            "image/png": "[encoded data removed]",
            "text/plain": [
              "<Figure size 864x288 with 2 Axes>"
            ]
          },
          "metadata": {
            "needs_background": "light"
          }
        },
        {
          "output_type": "display_data",
          "data": {
            "image/png": "[encoded data removed]",
            "text/plain": [
              "<Figure size 864x288 with 2 Axes>"
            ]
          },
          "metadata": {
            "needs_background": "light"
          }
        }
      ]
    }
  ]
}