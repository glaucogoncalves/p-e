{
  "nbformat": 4,
  "nbformat_minor": 0,
  "metadata": {
    "colab": {
      "provenance": []
    },
    "kernelspec": {
      "name": "python3",
      "display_name": "Python 3"
    },
    "language_info": {
      "name": "python"
    }
  },
  "cells": [
    {
      "cell_type": "markdown",
      "metadata": {
        "id": "4-SOoPfVtOAJ"
      },
      "source": [
        "#Pergunta fundamental de hoje\n",
        "\n",
        "Podemos escrever programas não-determinísticos?"
      ]
    },
    {
      "cell_type": "markdown",
      "source": [
        "![image.png](data:image/png;base64,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)"
      ],
      "metadata": {
        "id": "ObiVBFkswjAS"
      }
    },
    {
      "cell_type": "markdown",
      "metadata": {
        "id": "Z-PZRpvoWz2z"
      },
      "source": [
        "#Determinismo vs Não-determinismo"
      ]
    },
    {
      "cell_type": "markdown",
      "metadata": {
        "id": "7p1BF8nZXERf"
      },
      "source": [
        "* **Probabilidade epistêmica**: quando atribuímos uma probabilidade apenas por falta de informação\n",
        "* **Probabilidade ontológica**: quando há verdadeiro não-determinismo no universo\n",
        "\n",
        "Posições acerca do determinismo no nível microscópico\n",
        "* Determinismo\n",
        " * \"Todo efeito tem uma causa\"\n",
        " * Usamos probabilidade de forma epistêmica apenas\n",
        "* Não-determinismo causal\n",
        " * “Perda de causalidade”: há verdadeiros eventos sem causa, i.e., que ocorrem espontaneamente\n",
        " * Probabilidade é ontológica\n",
        " * Determinismo estatístico: na Física Quântica não fazemos previsões individuais, mas pode-se fazer previsões precisas sobre as frequências estatísticas dos diferentes resultados\n",
        "* Não-determinismo preditivo\n",
        " * Variáveis escondidas\n",
        " * Usamos probabilidade de forma epistêmica apenas\n",
        "* A questão permanece em aberto\n",
        "* [Um pouco mais sobre a questão](http://opessoa.fflch.usp.br/sites/opessoa.fflch.usp.br/files/FiFi-17-Cap14.pdf)"
      ]
    },
    {
      "cell_type": "markdown",
      "metadata": {
        "id": "7FhVdLqKsY68"
      },
      "source": [
        "# Programas estocásticos\n"
      ]
    },
    {
      "cell_type": "markdown",
      "metadata": {
        "id": "AYrORbxEtect"
      },
      "source": [
        "* No nível macroscópico, o determinismo parece funcionar bem\n",
        " * Mas são tantas as variáveis a controlar que sujeitamos as flutuações a uma probabilidade (um erro aleatório)\n",
        "* Os fenômenos são modelados como **processos estocásticos**\n",
        "  * do grego stokhastikos, \"capaz de adivinhar\"\n",
        "  * O próximo estado depende do estado anterior e algum elemento aleatório\n",
        "  * Ex: lançar uma moeda, número de pessoas na fila ao longo do dia, ciclo de chuvas...\n",
        "* Programas estocásticos\n",
        "  * Programas, em geral, são determinísticos (mesma saída, para mesma entrada)\n",
        "   * Nem todos os problemas podem ser solucionados por modelos determinísticos\n",
        "  * Programa estocástico modela um processo estocástico por meio do computador"
      ]
    },
    {
      "cell_type": "markdown",
      "metadata": {
        "id": "sIF-J45k6Knc"
      },
      "source": [
        "## Experimento #1"
      ]
    },
    {
      "cell_type": "markdown",
      "metadata": {
        "id": "OmEnw9ffwmKh"
      },
      "source": [
        "O código abaixo modela um processo estocástico onde lançamos um dado cinco vezes. A saída da função ```jogarDado()``` modela o resultado da rolagem de um dado, enquanto a função ```testeJogadas()``` modela a rolagem de um número específico de dados.\n",
        "\n"
      ]
    },
    {
      "cell_type": "code",
      "metadata": {
        "colab": {
          "base_uri": "https://localhost:8080/"
        },
        "id": "4P7FxJfHvFpF",
        "outputId": "8d27a46e-935b-4396-ca13-cce2992f1db2"
      },
      "source": [
        "import random\n",
        "\n",
        "def jogarDado():\n",
        "    \"\"\"retorna um inteiro aleatório entre 1 e 6\"\"\"\n",
        "    return random.choice([1,2,3,4,5,6])\n",
        "    #se eu quisesse simular uma moeda faria\n",
        "    #random.choice([\"H\",\"T\"])\n",
        "\n",
        "def testeJogadas(n = 10):\n",
        "    result = ''\n",
        "    for i in range(n):\n",
        "        result = result + str(jogarDado())\n",
        "    print(result)\n",
        "\n",
        "testeJogadas(5)\n",
        "testeJogadas(5)"
      ],
      "execution_count": null,
      "outputs": [
        {
          "output_type": "stream",
          "name": "stdout",
          "text": [
            "42432\n",
            "34611\n"
          ]
        }
      ]
    },
    {
      "cell_type": "markdown",
      "metadata": {
        "id": "imaa7ur1xNit"
      },
      "source": [
        "Considerando ```testeJogadas(5)``` qual resultado é mais surpreendente: 11111 ou 54424?\n"
      ]
    },
    {
      "cell_type": "markdown",
      "metadata": {
        "id": "nSCJsCz37Q6m"
      },
      "source": [
        "## Existe verdadeira aleatoriedade no computador?"
      ]
    },
    {
      "cell_type": "markdown",
      "metadata": {
        "id": "V2IdAeB17hby"
      },
      "source": [
        "* Do jeito que usamos, não!\n",
        "* O computador gera **números pseudo-aleatórios**\n",
        "* Resultados são obtidos a partir de um algoritmo determinístico que atua sobre uma <u>semente</u>\n",
        "* Se não for configurada, a semente é escolhida a partir do relógio, tornando-se aparentemente aleatório\n",
        "* Para verdadeira aleatoriedade procure outras alternativas\n",
        " * https://www.random.org/\n",
        " * https://qrng.anu.edu.au/"
      ]
    },
    {
      "cell_type": "markdown",
      "metadata": {
        "id": "dAxHwpqG-Uzu"
      },
      "source": [
        "### Experimento #1 (de novo, agora com semente)"
      ]
    },
    {
      "cell_type": "code",
      "metadata": {
        "colab": {
          "base_uri": "https://localhost:8080/"
        },
        "id": "sC7YLQho-Uz_",
        "outputId": "c4c8bacb-7492-4e0e-8aa2-bee6e6608de9"
      },
      "source": [
        "import random\n",
        "\n",
        "def jogarDado():\n",
        "    \"\"\"retorna um inteiro aleatório entre 1 e 6\"\"\"\n",
        "    return random.choice([1,2,3,4,5,6])\n",
        "    #se eu quisesse simular uma moeda faria\n",
        "    #random.choice([\"H\",\"T\"])\n",
        "\n",
        "def testeJogadas(n = 10):\n",
        "    result = ''\n",
        "    for i in range(n):\n",
        "        result = result + str(jogarDado())\n",
        "    print(result)\n",
        "\n",
        "#Adicionamos uma semente (um valor qualquer)\n",
        "random.seed(42415351)\n",
        "testeJogadas(5)\n",
        "testeJogadas(5)\n",
        "print(jogarDado())\n",
        "random.seed(42415351)\n",
        "testeJogadas(5)\n",
        "print(jogarDado())\n",
        "testeJogadas(5)"
      ],
      "execution_count": null,
      "outputs": [
        {
          "output_type": "stream",
          "name": "stdout",
          "text": [
            "42211\n",
            "56451\n",
            "1\n",
            "42211\n",
            "5\n",
            "64511\n"
          ]
        }
      ]
    },
    {
      "cell_type": "markdown",
      "metadata": {
        "id": "1DIhgYXeyECL"
      },
      "source": [
        "#Fatos sobre probabilidade"
      ]
    },
    {
      "cell_type": "markdown",
      "metadata": {
        "id": "-f47QmWmyHUt"
      },
      "source": [
        "* Probabilidades são sempre no intervalo entre 0 e 1. 0 é impossível e 1 é garantido.\n",
        "* Se a probabilidade de um **evento** ocorrer é $p$, a probabilidade dele não ocorrer é $1-p$\n",
        "* Quando eventos são **independentes**, a probabilidade de todos acontecerem é igual aos produtos das probabilidades de cada evento ocorrer\n",
        " * São independentes dois eventos cujos **resultados** não têm influência um sobre o outro"
      ]
    },
    {
      "cell_type": "markdown",
      "metadata": {
        "id": "TDX0Y7GfAcW_"
      },
      "source": [
        "$P(\\text{sair 1 em um dado}) = \\frac{1}{6}$\n",
        "\n",
        "$P(\\text{sair 11 em dois dados}) = ?$\n",
        "\n",
        "Como os eventos são independentes, podemos fazer:\n",
        "\n",
        "$P(\\text{sair 11 em dois dados}) = \\frac{1}{6} \\times \\frac{1}{6} = \\frac{1}{36}$\n",
        "\n",
        "$P(\\text{sair 54 em dois dados}) = \\frac{1}{6} \\times \\frac{1}{6} = \\frac{1}{36}$"
      ]
    },
    {
      "cell_type": "markdown",
      "source": [
        "## Como atribuir probabilidade aos eventos?"
      ],
      "metadata": {
        "id": "ASxnIjx-enAb"
      }
    },
    {
      "cell_type": "markdown",
      "source": [
        "* **Teoricamente**: assumimos certas condições (ex: experimento aleatório, resultados equiprováveis etc) dos resultados possíveis e vemos o número de resultados favoráveis ao evento de interesse. Ex: determinar a probabilidades com dados.\n",
        "* **Experimentalmente**: realizamos experimentos e observamos a frequência de ocorrência do evento sob estudo. É uma importante parte da estatística. Ex: Qual a probabilidade de um indivíduo infectado, infectar outro indivíduo?\n",
        "* **Subjetivamente**: usado quando não é viável determinar a probabilidade pela via experimental ou analítica. Ex: Qual a probabilidade de ocorrer uma Terceira Guerra Mundial?"
      ],
      "metadata": {
        "id": "1PMk179cern3"
      }
    },
    {
      "cell_type": "markdown",
      "metadata": {
        "id": "yexrbNI8y-Fb"
      },
      "source": [
        "# Simulando dados"
      ]
    },
    {
      "cell_type": "markdown",
      "metadata": {
        "id": "xoz9RcVv4oQb"
      },
      "source": [
        "##Experimento #2"
      ]
    },
    {
      "cell_type": "markdown",
      "metadata": {
        "id": "CNLwVlcezBNk"
      },
      "source": [
        "* Qual a probabilidade de obter o resultado 11111 em ```testeJogadas(5)```?\n",
        "  * Estimativa analítica (calculemos)\n",
        "  * Estimativa por simulação (função ```simularResultado()```)\n",
        "  * Por quê não conseguimos obter?"
      ]
    },
    {
      "cell_type": "markdown",
      "metadata": {
        "id": "RmpI5ziOBPTb"
      },
      "source": [
        "$P(\\text{sair 11111 em 5 dados}) = \\frac{1}{6} \\times \\frac{1}{6} \\times \\frac{1}{6} \\times \\frac{1}{6} \\times \\frac{1}{6} = \\frac{1}{7776}$"
      ]
    },
    {
      "cell_type": "code",
      "metadata": {
        "colab": {
          "base_uri": "https://localhost:8080/"
        },
        "id": "gwuy0Nm3BZR6",
        "outputId": "aa3f8c7d-e5ad-4db8-fbcf-8206e108c0be"
      },
      "source": [
        "1/(6**5)"
      ],
      "execution_count": null,
      "outputs": [
        {
          "output_type": "execute_result",
          "data": {
            "text/plain": [
              "0.0001286008230452675"
            ]
          },
          "metadata": {},
          "execution_count": 9
        }
      ]
    },
    {
      "cell_type": "code",
      "metadata": {
        "colab": {
          "base_uri": "https://localhost:8080/"
        },
        "id": "WbbaNs_2zhPC",
        "outputId": "24c2fb15-f497-4520-f3b6-7d22a642004e"
      },
      "source": [
        "random.seed(10)\n",
        "\n",
        "def simularResultado(resultado, numTentativas):\n",
        "    print(\"Resultado buscado: \"+resultado)\n",
        "    total = 0.0\n",
        "    for i in range(numTentativas):\n",
        "        dados = ''\n",
        "        for j in range(len(resultado)):\n",
        "            dados += str(jogarDado())\n",
        "        if dados == resultado:\n",
        "            total += 1\n",
        "    print('Probabilidade analítica =',\n",
        "          round(1/(6**len(resultado)), 8))\n",
        "    estProb = round(total/numTentativas, 8)\n",
        "    print('Probabilidade estimada  =',\n",
        "          round(estProb, 8))\n",
        "\n",
        "simularResultado('11111', 100000)\n",
        "simularResultado('54424', 100000)"
      ],
      "execution_count": null,
      "outputs": [
        {
          "output_type": "stream",
          "name": "stdout",
          "text": [
            "Resultado buscado: 11111\n",
            "Probabilidade analítica = 0.0001286\n",
            "Probabilidade estimada  = 0.00021\n",
            "Resultado buscado: 54424\n",
            "Probabilidade analítica = 0.0001286\n",
            "Probabilidade estimada  = 0.00011\n"
          ]
        }
      ]
    },
    {
      "cell_type": "markdown",
      "metadata": {
        "id": "R5bwBDB-6WfX"
      },
      "source": [
        "* Eventos raros\n",
        " * Uma pequena amostra pode nos enganar acerca da frequência real deste evento\n",
        " * Executemos o código com ```random.seed(10)```\n",
        "\n",
        "[2021.4]\n",
        "\n",
        " **Perguntas relacionadas**\n",
        " * Juntar dados para analise de eventos quase impossíveis - ELIAN RODRIGUES"
      ]
    },
    {
      "cell_type": "markdown",
      "metadata": {
        "id": "iS5kiLuV6Q3C"
      },
      "source": [
        "## Experimento #3"
      ]
    },
    {
      "cell_type": "markdown",
      "metadata": {
        "id": "w8GN_M1X2Ey_"
      },
      "source": [
        "* Qual a probabilidade de obtermos um duplo seis em dois dados?\n",
        " * Estimativa analítica (calculemos)\n",
        " * Estimativa por simulação (função ```prob66()```)"
      ]
    },
    {
      "cell_type": "markdown",
      "metadata": {
        "id": "CQjxzahiGUKz"
      },
      "source": [
        "Os resultados são independentes\n",
        "\n",
        "$P(\\text{obter duplo 6 em 2 dados}) = \\frac{1}{6} \\times \\frac{1}{6} = \\frac{1}{36}$"
      ]
    },
    {
      "cell_type": "code",
      "metadata": {
        "colab": {
          "base_uri": "https://localhost:8080/"
        },
        "id": "UVufkiUlGloi",
        "outputId": "3f5cc780-05cb-4d83-d17a-831695b3f038"
      },
      "source": [
        "1/36"
      ],
      "execution_count": null,
      "outputs": [
        {
          "output_type": "execute_result",
          "data": {
            "text/plain": [
              "0.027777777777777776"
            ]
          },
          "metadata": {},
          "execution_count": 20
        }
      ]
    },
    {
      "cell_type": "code",
      "metadata": {
        "colab": {
          "base_uri": "https://localhost:8080/"
        },
        "id": "62E6_-_12SL9",
        "outputId": "6154c433-7166-4080-9215-c46f009e21fa"
      },
      "source": [
        "def prob66(N):\n",
        "    num66 = 0.0\n",
        "    for i in range(N):\n",
        "        if jogarDado() == 6 and jogarDado() == 6:\n",
        "            num66 += 1\n",
        "    return num66/N\n",
        "\n",
        "print('Frequência de duplo seis =', str(prob66(100)*100) + '%')"
      ],
      "execution_count": null,
      "outputs": [
        {
          "output_type": "stream",
          "name": "stdout",
          "text": [
            "Frequência de duplo seis = 5.0%\n"
          ]
        }
      ]
    },
    {
      "cell_type": "markdown",
      "metadata": {
        "id": "ne12F6Vl3ql5"
      },
      "source": [
        "* Esta probabilidade é igual à probabilidade analítica?\n",
        "* A probabilidade que obtivemos é de uma amostra, que converge ao valor analítico quando $N \\rightarrow \\infty$"
      ]
    },
    {
      "cell_type": "markdown",
      "metadata": {
        "id": "ZM8WfCQ1HQcL"
      },
      "source": [
        "## Experimento #4"
      ]
    },
    {
      "cell_type": "markdown",
      "metadata": {
        "id": "AYZcqxmjHQcT"
      },
      "source": [
        "* Qual a probabilidade de obtermos duas caras em duas moedas?\n",
        " * Estimativa analítica (calculemos)\n",
        " * Estimativa por simulação (função ```probHH()```)"
      ]
    },
    {
      "cell_type": "markdown",
      "metadata": {
        "id": "cYplOA4UHQcT"
      },
      "source": [
        "Os resultados são independentes\n",
        "\n",
        "$P(\\text{obter duas caras em duas moedas}) = \\frac{1}{2} \\times \\frac{1}{2} = \\frac{1}{4}$"
      ]
    },
    {
      "cell_type": "code",
      "metadata": {
        "colab": {
          "base_uri": "https://localhost:8080/"
        },
        "id": "BtqjIB8qHQcU",
        "outputId": "bf2101f6-1903-4f66-d815-f94a310b3a74"
      },
      "source": [
        "1/4"
      ],
      "execution_count": null,
      "outputs": [
        {
          "output_type": "execute_result",
          "data": {
            "text/plain": [
              "0.25"
            ]
          },
          "metadata": {},
          "execution_count": 27
        }
      ]
    },
    {
      "cell_type": "code",
      "metadata": {
        "colab": {
          "base_uri": "https://localhost:8080/"
        },
        "id": "xF3jYBGcHQcV",
        "outputId": "d081326e-60f3-4da8-9292-577054211a47"
      },
      "source": [
        "def moeda():\n",
        "  return random.choice(['H','T'])\n",
        "\n",
        "def probHH(N):\n",
        "    numH = 0.0\n",
        "    for i in range(N):\n",
        "        if moeda() == 'H' and moeda() == 'H':\n",
        "            numH += 1\n",
        "    return numH/N\n",
        "\n",
        "print('Frequência de duas caras =', str(probHH(10000)*100) + '%')"
      ],
      "execution_count": null,
      "outputs": [
        {
          "output_type": "stream",
          "name": "stdout",
          "text": [
            "Frequência de duas caras = 24.82%\n"
          ]
        }
      ]
    },
    {
      "cell_type": "markdown",
      "metadata": {
        "id": "ovYWo4IRHQcV"
      },
      "source": [
        "* Esta probabilidade é igual à probabilidade analítica?\n",
        "* A probabilidade que obtivemos é de uma amostra, que converge ao valor analítico quando $N \\rightarrow \\infty$"
      ]
    },
    {
      "cell_type": "markdown",
      "metadata": {
        "id": "fVv4q0QK3WHf"
      },
      "source": [
        "#Lições\n"
      ]
    },
    {
      "cell_type": "markdown",
      "metadata": {
        "id": "hQ8vxNT33XuU"
      },
      "source": [
        "* **Lição 1**: Precisamos de muitas tentativas para termos uma boa estimativa da frequência de um evento raro.\n",
        "* **Lição 2**: Não se deve confundir a probabilidade de uma amostra com a probabilidade real\n",
        "* **Lição 3**: Nos casos mostrados temos uma boa solução analítica. Mas nem sempre isso é possível. Por isso simulações são úteis."
      ]
    }
  ]
}