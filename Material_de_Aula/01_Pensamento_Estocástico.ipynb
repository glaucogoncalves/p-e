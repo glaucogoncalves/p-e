{
  "nbformat": 4,
  "nbformat_minor": 0,
  "metadata": {
    "colab": {
      "provenance": []
    },
    "kernelspec": {
      "name": "python3",
      "display_name": "Python 3"
    },
    "language_info": {
      "name": "python"
    }
  },
  "cells": [
    {
      "cell_type": "markdown",
      "metadata": {
        "id": "4-SOoPfVtOAJ"
      },
      "source": [
        "#Pergunta fundamental de hoje\n",
        "\n",
        "Podemos escrever programas não-determinísticos?"
      ]
    },
    {
      "cell_type": "markdown",
      "metadata": {
        "id": "Z-PZRpvoWz2z"
      },
      "source": [
        "#Determinismo vs Não-determinismo"
      ]
    },
    {
      "cell_type": "markdown",
      "metadata": {
        "id": "7p1BF8nZXERf"
      },
      "source": [
        "* **Probabilidade epistêmica**: quando atribuímos uma probabilidade apenas por falta de informação\n",
        "* **Probabilidade ontológica**: quando há verdadeiro não-determinismo no universo\n",
        "\n",
        "Posições acerca do determinismo no nível microscópico\n",
        "* Determinismo\n",
        " * \"Todo efeito tem uma causa\"\n",
        " * Usamos probabilidade de forma epistêmica apenas\n",
        "* Não-determinismo causal\n",
        " * “Perda de causalidade”: há verdadeiros eventos sem causa, i.e., que ocorrem espontaneamente\n",
        " * Probabilidade é ontológica\n",
        " * Determinismo estatístico: na Física Quântica não fazemos previsões individuais, mas pode-se fazer previsões precisas sobre as frequências estatísticas dos diferentes resultados\n",
        "* Não-determinismo preditivo\n",
        " * Variáveis escondidas\n",
        " * Usamos probabilidade de forma epistêmica apenas\n",
        "* A questão permanece em aberto\n",
        "* [Um pouco mais sobre a questão](http://opessoa.fflch.usp.br/sites/opessoa.fflch.usp.br/files/FiFi-17-Cap14.pdf)"
      ]
    },
    {
      "cell_type": "markdown",
      "metadata": {
        "id": "7FhVdLqKsY68"
      },
      "source": [
        "# Programas estocásticos\n"
      ]
    },
    {
      "cell_type": "markdown",
      "metadata": {
        "id": "AYrORbxEtect"
      },
      "source": [
        "* No nível macroscópico, o determinismo parece funcionar bem\n",
        " * Mas são tantas as variáveis a controlar que sujeitamos as flutuações a uma probabilidade (um erro aleatório)\n",
        "* Os fenômenos são modelados como **processos estocásticos**\n",
        "  * do grego stokhastikos, \"capaz de adivinhar\"\n",
        "  * O próximo estado depende do estado anterior e algum elemento aleatório\n",
        "  * Ex: lançar uma moeda, número de pessoas na fila ao longo do dia, ciclo de chuvas...\n",
        "* Programas estocásticos\n",
        "  * Programas, em geral, são determinísticos (mesma saída, para mesma entrada)\n",
        "   * Nem todos os problemas podem ser solucionados por modelos determinísticos\n",
        "  * Programa estocástico modela um processo estocástico por meio do computador"
      ]
    },
    {
      "cell_type": "markdown",
      "metadata": {
        "id": "sIF-J45k6Knc"
      },
      "source": [
        "## Experimento #1"
      ]
    },
    {
      "cell_type": "markdown",
      "metadata": {
        "id": "OmEnw9ffwmKh"
      },
      "source": [
        "O código abaixo modela um processo estocástico onde lançamos um dado cinco vezes. A saída da função ```jogarDado()``` modela o resultado da rolagem de um dado, enquanto a função ```testeJogadas()``` modela a rolagem de um número específico de dados.\n",
        "\n"
      ]
    },
    {
      "cell_type": "code",
      "metadata": {
        "colab": {
          "base_uri": "https://localhost:8080/"
        },
        "id": "4P7FxJfHvFpF",
        "outputId": "674aae65-603c-4b0d-8d89-34a5399fb2c8"
      },
      "source": [
        "import random\n",
        "\n",
        "def jogarDado():\n",
        "    \"\"\"retorna um inteiro aleatório entre 1 e 6\"\"\"\n",
        "    return random.choice([1,2,3,4,5,6])\n",
        "    #se eu quisesse simular uma moeda faria\n",
        "    #random.choice([\"H\",\"T\"])\n",
        "\n",
        "def testeJogadas(n = 10):\n",
        "    result = ''\n",
        "    for i in range(n):\n",
        "        result = result + str(jogarDado())\n",
        "    print(result)\n",
        "\n",
        "testeJogadas(5)\n",
        "testeJogadas(5)"
      ],
      "execution_count": null,
      "outputs": [
        {
          "output_type": "stream",
          "name": "stdout",
          "text": [
            "64552\n",
            "55333\n"
          ]
        }
      ]
    },
    {
      "cell_type": "markdown",
      "metadata": {
        "id": "imaa7ur1xNit"
      },
      "source": [
        "Considerando ```testeJogadas(5)``` qual resultado é mais surpreendente: 11111 ou 54424?\n"
      ]
    },
    {
      "cell_type": "markdown",
      "metadata": {
        "id": "nSCJsCz37Q6m"
      },
      "source": [
        "## Existe verdadeira aleatoriedade no computador?"
      ]
    },
    {
      "cell_type": "markdown",
      "metadata": {
        "id": "V2IdAeB17hby"
      },
      "source": [
        "* Do jeito que usamos, não!\n",
        "* O computador gera **números pseudo-aleatórios**\n",
        "* Resultados são obtidos a partir de um algoritmo determinístico que atua sobre uma <u>semente</u>\n",
        "* Se não for configurada, a semente é escolhida a partir do relógio, tornando-se aparentemente aleatório\n",
        "* Para verdadeira aleatoriedade procure outras alternativas\n",
        " * https://www.random.org/\n",
        " * https://qrng.anu.edu.au/"
      ]
    },
    {
      "cell_type": "markdown",
      "metadata": {
        "id": "dAxHwpqG-Uzu"
      },
      "source": [
        "### Experimento #1 (de novo, agora com semente)"
      ]
    },
    {
      "cell_type": "code",
      "metadata": {
        "colab": {
          "base_uri": "https://localhost:8080/"
        },
        "id": "sC7YLQho-Uz_",
        "outputId": "c4c8bacb-7492-4e0e-8aa2-bee6e6608de9"
      },
      "source": [
        "import random\n",
        "\n",
        "def jogarDado():\n",
        "    \"\"\"retorna um inteiro aleatório entre 1 e 6\"\"\"\n",
        "    return random.choice([1,2,3,4,5,6])\n",
        "    #se eu quisesse simular uma moeda faria\n",
        "    #random.choice([\"H\",\"T\"])\n",
        "\n",
        "def testeJogadas(n = 10):\n",
        "    result = ''\n",
        "    for i in range(n):\n",
        "        result = result + str(jogarDado())\n",
        "    print(result)\n",
        "\n",
        "#Adicionamos uma semente (um valor qualquer)\n",
        "random.seed(42415351)\n",
        "testeJogadas(5)\n",
        "testeJogadas(5)\n",
        "print(jogarDado())\n",
        "random.seed(42415351)\n",
        "testeJogadas(5)\n",
        "print(jogarDado())\n",
        "testeJogadas(5)"
      ],
      "execution_count": null,
      "outputs": [
        {
          "output_type": "stream",
          "name": "stdout",
          "text": [
            "42211\n",
            "56451\n",
            "1\n",
            "42211\n",
            "5\n",
            "64511\n"
          ]
        }
      ]
    },
    {
      "cell_type": "markdown",
      "metadata": {
        "id": "1DIhgYXeyECL"
      },
      "source": [
        "#Fatos sobre probabilidade"
      ]
    },
    {
      "cell_type": "markdown",
      "metadata": {
        "id": "-f47QmWmyHUt"
      },
      "source": [
        "* Probabilidades são sempre no intervalo entre 0 e 1. 0 é impossível e 1 é garantido.\n",
        "* Se a probabilidade de um **evento** ocorrer é $p$, a probabilidade dele não ocorrer é $1-p$\n",
        "* Quando eventos são **independentes**, a probabilidade de todos acontecerem é igual aos produtos das probabilidades de cada evento ocorrer\n",
        " * São independentes dois eventos cujos **resultados** não têm influência um sobre o outro"
      ]
    },
    {
      "cell_type": "markdown",
      "metadata": {
        "id": "TDX0Y7GfAcW_"
      },
      "source": [
        "$P(\\text{sair 1 em um dado}) = \\frac{1}{6}$\n",
        "\n",
        "$P(\\text{sair 11 em dois dados}) = ?$\n",
        "\n",
        "Como os eventos são independentes, podemos fazer:\n",
        "\n",
        "$P(\\text{sair 11 em dois dados}) = \\frac{1}{6} \\times \\frac{1}{6} = \\frac{1}{36}$\n",
        "\n",
        "$P(\\text{sair 54 em dois dados}) = \\frac{1}{6} \\times \\frac{1}{6} = \\frac{1}{36}$"
      ]
    },
    {
      "cell_type": "markdown",
      "source": [
        "## Como atribuir probabilidade aos eventos?"
      ],
      "metadata": {
        "id": "ASxnIjx-enAb"
      }
    },
    {
      "cell_type": "markdown",
      "source": [
        "* **Teoricamente**: assumimos certas condições (ex: experimento aleatório, resultados equiprováveis etc) dos resultados possíveis e vemos o número de resultados favoráveis ao evento de interesse. Ex: determinar a probabilidades com dados.\n",
        "* **Experimentalmente**: realizamos experimentos e observamos a frequência de ocorrência do evento sob estudo. É uma importante parte da estatística. Ex: Qual a probabilidade de um indivíduo infectado, infectar outro indivíduo?\n",
        "* **Subjetivamente**: usado quando não é viável determinar a probabilidade pela via experimental ou analítica. Ex: Qual a probabilidade de ocorrer uma Terceira Guerra Mundial?"
      ],
      "metadata": {
        "id": "1PMk179cern3"
      }
    },
    {
      "cell_type": "markdown",
      "metadata": {
        "id": "yexrbNI8y-Fb"
      },
      "source": [
        "# Simulando dados"
      ]
    },
    {
      "cell_type": "markdown",
      "metadata": {
        "id": "xoz9RcVv4oQb"
      },
      "source": [
        "##Experimento #2"
      ]
    },
    {
      "cell_type": "markdown",
      "metadata": {
        "id": "CNLwVlcezBNk"
      },
      "source": [
        "* Qual a probabilidade de obter o resultado 11111 em ```testeJogadas(5)```?\n",
        "  * Estimativa analítica (calculemos)\n",
        "  * Estimativa por simulação (função ```simularResultado()```)\n",
        "  * Por quê não conseguimos obter?"
      ]
    },
    {
      "cell_type": "markdown",
      "metadata": {
        "id": "RmpI5ziOBPTb"
      },
      "source": [
        "$P(\\text{sair 11111 em 5 dados}) = \\frac{1}{6} \\times \\frac{1}{6} \\times \\frac{1}{6} \\times \\frac{1}{6} \\times \\frac{1}{6} = \\frac{1}{7776}$"
      ]
    },
    {
      "cell_type": "code",
      "metadata": {
        "colab": {
          "base_uri": "https://localhost:8080/"
        },
        "id": "gwuy0Nm3BZR6",
        "outputId": "aa3f8c7d-e5ad-4db8-fbcf-8206e108c0be"
      },
      "source": [
        "1/(6**5)"
      ],
      "execution_count": null,
      "outputs": [
        {
          "output_type": "execute_result",
          "data": {
            "text/plain": [
              "0.0001286008230452675"
            ]
          },
          "metadata": {},
          "execution_count": 9
        }
      ]
    },
    {
      "cell_type": "code",
      "metadata": {
        "colab": {
          "base_uri": "https://localhost:8080/"
        },
        "id": "WbbaNs_2zhPC",
        "outputId": "4df622e1-7c98-47b2-9300-724f7036a69c"
      },
      "source": [
        "random.seed(10)\n",
        "\n",
        "def simularResultado(resultado, numTentativas):\n",
        "    print(\"Resultado buscado: \"+resultado)\n",
        "    total = 0.0\n",
        "    for i in range(numTentativas):\n",
        "        dados = ''\n",
        "        for j in range(len(resultado)):\n",
        "            dados += str(jogarDado())\n",
        "        if dados == resultado:\n",
        "            total += 1\n",
        "    print('Probabilidade analítica =',\n",
        "          round(1/(6**len(resultado)), 8))\n",
        "    estProb = round(total/numTentativas, 8)\n",
        "    print('Probabilidade estimada  =',\n",
        "          round(estProb, 8))\n",
        "\n",
        "simularResultado('11111', 100000)\n",
        "simularResultado('54424', 100000)"
      ],
      "execution_count": null,
      "outputs": [
        {
          "output_type": "stream",
          "name": "stdout",
          "text": [
            "Resultado buscado: 11111\n",
            "Probabilidade analítica = 0.0001286\n",
            "Probabilidade estimada  = 0.0\n",
            "Resultado buscado: 54424\n",
            "Probabilidade analítica = 0.0001286\n",
            "Probabilidade estimada  = 0.001\n"
          ]
        }
      ]
    },
    {
      "cell_type": "markdown",
      "metadata": {
        "id": "R5bwBDB-6WfX"
      },
      "source": [
        "* Eventos raros\n",
        " * Uma pequena amostra pode nos enganar acerca da frequência real deste evento\n",
        " * Executemos o código com ```random.seed(10)```\n",
        "\n",
        "[2021.4]\n",
        "\n",
        " **Perguntas relacionadas**\n",
        " * Juntar dados para analise de eventos quase impossíveis - ELIAN RODRIGUES"
      ]
    },
    {
      "cell_type": "markdown",
      "metadata": {
        "id": "iS5kiLuV6Q3C"
      },
      "source": [
        "## Experimento #3"
      ]
    },
    {
      "cell_type": "markdown",
      "metadata": {
        "id": "w8GN_M1X2Ey_"
      },
      "source": [
        "* Qual a probabilidade de obtermos um duplo seis em dois dados?\n",
        " * Estimativa analítica (calculemos)\n",
        " * Estimativa por simulação (função ```prob66()```)"
      ]
    },
    {
      "cell_type": "markdown",
      "metadata": {
        "id": "CQjxzahiGUKz"
      },
      "source": [
        "Os resultados são independentes\n",
        "\n",
        "$P(\\text{obter duplo 6 em 2 dados}) = \\frac{1}{6} \\times \\frac{1}{6} = \\frac{1}{36}$"
      ]
    },
    {
      "cell_type": "code",
      "metadata": {
        "colab": {
          "base_uri": "https://localhost:8080/"
        },
        "id": "UVufkiUlGloi",
        "outputId": "3f5cc780-05cb-4d83-d17a-831695b3f038"
      },
      "source": [
        "1/36"
      ],
      "execution_count": null,
      "outputs": [
        {
          "output_type": "execute_result",
          "data": {
            "text/plain": [
              "0.027777777777777776"
            ]
          },
          "metadata": {},
          "execution_count": 20
        }
      ]
    },
    {
      "cell_type": "code",
      "metadata": {
        "colab": {
          "base_uri": "https://localhost:8080/"
        },
        "id": "62E6_-_12SL9",
        "outputId": "6154c433-7166-4080-9215-c46f009e21fa"
      },
      "source": [
        "def prob66(N):\n",
        "    num66 = 0.0\n",
        "    for i in range(N):\n",
        "        if jogarDado() == 6 and jogarDado() == 6:\n",
        "            num66 += 1\n",
        "    return num66/N\n",
        "\n",
        "print('Frequência de duplo seis =', str(prob66(100)*100) + '%')"
      ],
      "execution_count": null,
      "outputs": [
        {
          "output_type": "stream",
          "name": "stdout",
          "text": [
            "Frequência de duplo seis = 5.0%\n"
          ]
        }
      ]
    },
    {
      "cell_type": "markdown",
      "metadata": {
        "id": "ne12F6Vl3ql5"
      },
      "source": [
        "* Esta probabilidade é igual à probabilidade analítica?\n",
        "* A probabilidade que obtivemos é de uma amostra, que converge ao valor analítico quando $N \\rightarrow \\infty$"
      ]
    },
    {
      "cell_type": "markdown",
      "metadata": {
        "id": "ZM8WfCQ1HQcL"
      },
      "source": [
        "## Experimento #4"
      ]
    },
    {
      "cell_type": "markdown",
      "metadata": {
        "id": "AYZcqxmjHQcT"
      },
      "source": [
        "* Qual a probabilidade de obtermos duas caras em duas moedas?\n",
        " * Estimativa analítica (calculemos)\n",
        " * Estimativa por simulação (função ```probHH()```)"
      ]
    },
    {
      "cell_type": "markdown",
      "metadata": {
        "id": "cYplOA4UHQcT"
      },
      "source": [
        "Os resultados são independentes\n",
        "\n",
        "$P(\\text{obter duas caras em duas moedas}) = \\frac{1}{2} \\times \\frac{1}{2} = \\frac{1}{4}$"
      ]
    },
    {
      "cell_type": "code",
      "metadata": {
        "colab": {
          "base_uri": "https://localhost:8080/"
        },
        "id": "BtqjIB8qHQcU",
        "outputId": "bf2101f6-1903-4f66-d815-f94a310b3a74"
      },
      "source": [
        "1/4"
      ],
      "execution_count": null,
      "outputs": [
        {
          "output_type": "execute_result",
          "data": {
            "text/plain": [
              "0.25"
            ]
          },
          "metadata": {},
          "execution_count": 27
        }
      ]
    },
    {
      "cell_type": "code",
      "metadata": {
        "colab": {
          "base_uri": "https://localhost:8080/"
        },
        "id": "xF3jYBGcHQcV",
        "outputId": "d081326e-60f3-4da8-9292-577054211a47"
      },
      "source": [
        "def moeda():\n",
        "  return random.choice(['H','T'])\n",
        "\n",
        "def probHH(N):\n",
        "    numH = 0.0\n",
        "    for i in range(N):\n",
        "        if moeda() == 'H' and moeda() == 'H':\n",
        "            numH += 1\n",
        "    return numH/N\n",
        "\n",
        "print('Frequência de duas caras =', str(probHH(10000)*100) + '%')"
      ],
      "execution_count": null,
      "outputs": [
        {
          "output_type": "stream",
          "name": "stdout",
          "text": [
            "Frequência de duas caras = 24.82%\n"
          ]
        }
      ]
    },
    {
      "cell_type": "markdown",
      "metadata": {
        "id": "ovYWo4IRHQcV"
      },
      "source": [
        "* Esta probabilidade é igual à probabilidade analítica?\n",
        "* A probabilidade que obtivemos é de uma amostra, que converge ao valor analítico quando $N \\rightarrow \\infty$"
      ]
    },
    {
      "cell_type": "markdown",
      "metadata": {
        "id": "fVv4q0QK3WHf"
      },
      "source": [
        "#Lições\n"
      ]
    },
    {
      "cell_type": "markdown",
      "metadata": {
        "id": "hQ8vxNT33XuU"
      },
      "source": [
        "* **Lição 1**: Precisamos de muitas tentativas para termos uma boa estimativa da frequência de um evento raro.\n",
        "* **Lição 2**: Não se deve confundir a probabilidade de uma amostra com a probabilidade real\n",
        "* **Lição 3**: Nos casos mostrados temos uma boa solução analítica. Mas nem sempre isso é possível. Por isso simulações são úteis."
      ]
    }
  ]
}